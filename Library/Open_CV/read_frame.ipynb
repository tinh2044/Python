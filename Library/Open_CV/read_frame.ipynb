{
 "cells": [
  {
   "cell_type": "code",
   "execution_count": 2,
   "id": "initial_id",
   "metadata": {
    "collapsed": true,
    "ExecuteTime": {
     "end_time": "2023-09-16T08:22:50.300855100Z",
     "start_time": "2023-09-16T08:22:50.117525200Z"
    }
   },
   "outputs": [],
   "source": [
    "import cv2 as cv"
   ]
  },
  {
   "cell_type": "markdown",
   "source": [
    "## Reading Picture"
   ],
   "metadata": {
    "collapsed": false
   },
   "id": "f79361b5ccbe9b52"
  },
  {
   "cell_type": "code",
   "execution_count": 3,
   "outputs": [
    {
     "data": {
      "text/plain": "32"
     },
     "execution_count": 3,
     "metadata": {},
     "output_type": "execute_result"
    }
   ],
   "source": [
    "img = cv.imread('./Data/Photos/cat.jpg')\n",
    "cv.imshow('Cat', img) \n",
    "cv.waitKey(0) "
   ],
   "metadata": {
    "collapsed": false,
    "ExecuteTime": {
     "end_time": "2023-09-16T08:22:55.850383Z",
     "start_time": "2023-09-16T08:22:51.724749400Z"
    }
   },
   "id": "537215e85f6ed03"
  },
  {
   "cell_type": "markdown",
   "source": [
    " ## Read Video"
   ],
   "metadata": {
    "collapsed": false
   },
   "id": "291ba03f6d9de1cd"
  },
  {
   "cell_type": "code",
   "execution_count": 6,
   "outputs": [],
   "source": [
    "capture = cv.VideoCapture('./Data/Videos/dog.mp4')\n",
    "\n",
    "while True:\n",
    "     isTrue, frame = capture.read()\n",
    "     cv.imshow('Dog', frame)\n",
    "     if cv.waitKey(20) & 0xFF ==ord('d'):\n",
    "         break\n",
    "capture.release() \n",
    "cv.destroyAllWindows()"
   ],
   "metadata": {
    "collapsed": false,
    "ExecuteTime": {
     "end_time": "2023-09-16T08:24:00.851620400Z",
     "start_time": "2023-09-16T08:23:58.907685500Z"
    }
   },
   "id": "1a276fbebb84dc66"
  },
  {
   "cell_type": "markdown",
   "source": [
    "## Resize"
   ],
   "metadata": {
    "collapsed": false
   },
   "id": "e7aaa750e44f42f8"
  },
  {
   "cell_type": "code",
   "execution_count": 8,
   "outputs": [],
   "source": [
    "capture = cv.VideoCapture('./Data/Videos/dog.mp4')\n",
    "def resize(frame, scale=0.75):\n",
    "    width = int(frame.shape[1] * scale)\n",
    "    height = int(frame.shape[0] * scale)\n",
    "    dimensions = (width, height)\n",
    "    \n",
    "    return cv.resize(frame, dimensions, interpolation=cv.INTER_AREA)\n",
    "\n",
    "while True:\n",
    "     isTrue, frame = capture.read()\n",
    "     frame = resize(frame, scale=0.5)\n",
    "     cv.imshow('Dog', frame)\n",
    "     if cv.waitKey(20) & 0xFF ==ord('d') or not isTrue:\n",
    "         break\n",
    "capture.release() \n",
    "cv.destroyAllWindows()"
   ],
   "metadata": {
    "collapsed": false,
    "ExecuteTime": {
     "end_time": "2023-09-16T08:24:20.330881500Z",
     "start_time": "2023-09-16T08:24:18.180257600Z"
    }
   },
   "id": "50580853a872f7e3"
  },
  {
   "cell_type": "markdown",
   "source": [
    "## Draw shapes "
   ],
   "metadata": {
    "collapsed": false
   },
   "id": "a35239fdf6ce10d4"
  },
  {
   "cell_type": "code",
   "execution_count": 2,
   "outputs": [],
   "source": [
    "import cv2 as cv\n",
    "import numpy as np"
   ],
   "metadata": {
    "collapsed": false,
    "ExecuteTime": {
     "end_time": "2023-09-16T08:25:28.415297300Z",
     "start_time": "2023-09-16T08:25:28.225189200Z"
    }
   },
   "id": "5f3f1b137b063156"
  },
  {
   "cell_type": "code",
   "execution_count": 10,
   "outputs": [],
   "source": [
    "blank = np.zeros((500, 500, 3), dtype='uint8')\n",
    "blank[100:300, 100:300, 2] = 255"
   ],
   "metadata": {
    "collapsed": false,
    "ExecuteTime": {
     "end_time": "2023-09-16T08:27:23.157902600Z",
     "start_time": "2023-09-16T08:27:23.151894Z"
    }
   },
   "id": "cb0f5de49124b291"
  },
  {
   "cell_type": "code",
   "execution_count": 11,
   "outputs": [],
   "source": [
    "cv.imshow('Blank',blank)\n",
    "cv.waitKey(0)\n",
    "cv.destroyAllWindows()"
   ],
   "metadata": {
    "collapsed": false,
    "ExecuteTime": {
     "end_time": "2023-09-16T08:27:25.205412400Z",
     "start_time": "2023-09-16T08:27:23.567042400Z"
    }
   },
   "id": "18e4e455b59c3673"
  },
  {
   "cell_type": "code",
   "execution_count": 22,
   "outputs": [],
   "source": [
    "# Draw a Rectangle\n",
    "blank[:] = 0, 0 ,0\n",
    "cv.rectangle(blank, (0, 0), (250, 250), (0,255, 0), thickness=4)\n",
    "cv.rectangle(blank, (125,0), (125, 250), (0,255, 0), thickness=4)\n",
    "cv.rectangle(blank, (0, 125), (250, 125), (0,255, 0), thickness=4)\n",
    "cv.rectangle(blank, (250, 250), (500, 500), (0,255, 255), thickness=cv.FILLED)\n",
    "\n",
    "\n",
    "cv.imshow('Rectangle',blank)\n",
    "cv.waitKey(0)\n",
    "cv.destroyAllWindows()"
   ],
   "metadata": {
    "collapsed": false,
    "ExecuteTime": {
     "end_time": "2023-09-16T08:39:13.877608900Z",
     "start_time": "2023-09-16T08:39:09.973089500Z"
    }
   },
   "id": "e3e770177cabbb16"
  },
  {
   "cell_type": "code",
   "execution_count": 27,
   "outputs": [],
   "source": [
    " # Draw circle\n",
    "blank[:, :, :] = 0\n",
    "cv.circle(blank, (250, 250), 250, (255, 0, 255), thickness=1)\n",
    "cv.imshow('Circle',blank)\n",
    "cv.waitKey(0)\n",
    "cv.destroyAllWindows()"
   ],
   "metadata": {
    "collapsed": false,
    "ExecuteTime": {
     "end_time": "2023-09-16T08:42:22.124910700Z",
     "start_time": "2023-09-16T08:42:13.970960Z"
    }
   },
   "id": "8530a4c7caded363"
  },
  {
   "cell_type": "code",
   "execution_count": 28,
   "outputs": [],
   "source": [
    "# Draw line\n",
    "blank[:, :, :] = 0\n",
    "cv.line(blank, (0, 0),(250, 500) , (255, 0, 255), thickness=3)\n",
    "cv.imshow('Circle',blank)\n",
    "cv.waitKey(0)\n",
    "cv.destroyAllWindows()"
   ],
   "metadata": {
    "collapsed": false,
    "ExecuteTime": {
     "end_time": "2023-09-16T08:43:19.812172300Z",
     "start_time": "2023-09-16T08:43:16.899528800Z"
    }
   },
   "id": "c8b39c1d140af616"
  },
  {
   "cell_type": "code",
   "execution_count": 34,
   "outputs": [],
   "source": [
    "# Write Text \n",
    "blank[:] = 0, 0, 0\n",
    "cv.putText(img=blank,\n",
    "           text=\"Hello World\", \n",
    "           org=(225, 225), \n",
    "           fontFace=cv.FONT_ITALIC, \n",
    "           fontScale=3.0, \n",
    "           color=(225, 0,0), \n",
    "           thickness=3)\n",
    "\n",
    "cv.imshow('Text',blank)\n",
    "cv.waitKey(0)\n",
    "cv.destroyAllWindows()"
   ],
   "metadata": {
    "collapsed": false,
    "ExecuteTime": {
     "end_time": "2023-09-16T08:47:48.886334500Z",
     "start_time": "2023-09-16T08:47:47.175930900Z"
    }
   },
   "id": "23d75d12fa6ca3c7"
  },
  {
   "cell_type": "code",
   "execution_count": null,
   "outputs": [],
   "source": [],
   "metadata": {
    "collapsed": false
   },
   "id": "3c911be9cb3c1b29"
  }
 ],
 "metadata": {
  "kernelspec": {
   "display_name": "Python 3",
   "language": "python",
   "name": "python3"
  },
  "language_info": {
   "codemirror_mode": {
    "name": "ipython",
    "version": 2
   },
   "file_extension": ".py",
   "mimetype": "text/x-python",
   "name": "python",
   "nbconvert_exporter": "python",
   "pygments_lexer": "ipython2",
   "version": "2.7.6"
  }
 },
 "nbformat": 4,
 "nbformat_minor": 5
}
