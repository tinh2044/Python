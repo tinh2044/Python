{
 "cells": [
  {
   "cell_type": "code",
   "execution_count": 43,
   "id": "initial_id",
   "metadata": {
    "collapsed": true,
    "ExecuteTime": {
     "end_time": "2023-09-17T08:57:59.218146500Z",
     "start_time": "2023-09-17T08:57:59.191486800Z"
    }
   },
   "outputs": [],
   "source": [
    "import cv2 as cv"
   ]
  },
  {
   "cell_type": "code",
   "execution_count": 44,
   "outputs": [
    {
     "data": {
      "text/plain": "32"
     },
     "execution_count": 44,
     "metadata": {},
     "output_type": "execute_result"
    }
   ],
   "source": [
    "img = cv.imread('./Data/Photos/cats.jpg')\n",
    "cv.imshow(\"Cats\", img)\n",
    "cv.waitKey(0)"
   ],
   "metadata": {
    "collapsed": false,
    "ExecuteTime": {
     "end_time": "2023-09-17T08:58:03.649478700Z",
     "start_time": "2023-09-17T08:57:59.200478900Z"
    }
   },
   "id": "bff58402e4d15f19"
  },
  {
   "cell_type": "code",
   "execution_count": 45,
   "outputs": [
    {
     "data": {
      "text/plain": "32"
     },
     "execution_count": 45,
     "metadata": {},
     "output_type": "execute_result"
    }
   ],
   "source": [
    "gray = cv.cvtColor(img, cv.COLOR_BGRA2GRAY)\n",
    "cv.imshow(\"Gray\", gray)\n",
    "cv.waitKey(0)"
   ],
   "metadata": {
    "collapsed": false,
    "ExecuteTime": {
     "end_time": "2023-09-17T08:58:04.663765900Z",
     "start_time": "2023-09-17T08:58:03.652435Z"
    }
   },
   "id": "4487a99d113cd90d"
  },
  {
   "cell_type": "markdown",
   "source": [
    "## Simple Thresholding"
   ],
   "metadata": {
    "collapsed": false
   },
   "id": "e17867c3e94852a4"
  },
  {
   "cell_type": "code",
   "execution_count": 46,
   "outputs": [
    {
     "data": {
      "text/plain": "32"
     },
     "execution_count": 46,
     "metadata": {},
     "output_type": "execute_result"
    }
   ],
   "source": [
    "threshold, thresh = cv.threshold(gray, 150, 255, cv.THRESH_BINARY)\n",
    "cv.imshow(\"Simple Thresholding\", thresh)\n",
    "cv.waitKey(0)\n"
   ],
   "metadata": {
    "collapsed": false,
    "ExecuteTime": {
     "end_time": "2023-09-17T08:58:06.622274100Z",
     "start_time": "2023-09-17T08:58:04.660333300Z"
    }
   },
   "id": "7e084e48289e1a1e"
  },
  {
   "cell_type": "code",
   "execution_count": 47,
   "outputs": [
    {
     "data": {
      "text/plain": "32"
     },
     "execution_count": 47,
     "metadata": {},
     "output_type": "execute_result"
    }
   ],
   "source": [
    "_, thresh_inv = cv.threshold(gray, 150, 255, cv.THRESH_BINARY_INV )\n",
    "cv.imshow('Simple Threshold Inverse', thresh_inv)\n",
    "cv.waitKey(0)"
   ],
   "metadata": {
    "collapsed": false,
    "ExecuteTime": {
     "end_time": "2023-09-17T08:58:15.172546900Z",
     "start_time": "2023-09-17T08:58:06.624291400Z"
    }
   },
   "id": "630d3e4757430ce7"
  },
  {
   "cell_type": "markdown",
   "source": [
    "## Adaptive threshold"
   ],
   "metadata": {
    "collapsed": false
   },
   "id": "194ddc07a88387ec"
  },
  {
   "cell_type": "code",
   "execution_count": 48,
   "outputs": [
    {
     "data": {
      "text/plain": "32"
     },
     "execution_count": 48,
     "metadata": {},
     "output_type": "execute_result"
    }
   ],
   "source": [
    "adaptive_thresh = cv.adaptiveThreshold(gray, 150, cv.ADAPTIVE_THRESH_GAUSSIAN_C, cv.THRESH_BINARY_INV, 11, 9)\n",
    "cv.imshow('Adaptive Threshold Inverse', adaptive_thresh)\n",
    "cv.waitKey(0)"
   ],
   "metadata": {
    "collapsed": false,
    "ExecuteTime": {
     "end_time": "2023-09-17T08:58:20.648050200Z",
     "start_time": "2023-09-17T08:58:15.178527400Z"
    }
   },
   "id": "cc220fd681f11634"
  },
  {
   "cell_type": "code",
   "execution_count": 49,
   "outputs": [],
   "source": [
    "cv.destroyAllWindows()"
   ],
   "metadata": {
    "collapsed": false,
    "ExecuteTime": {
     "end_time": "2023-09-17T08:58:20.727866700Z",
     "start_time": "2023-09-17T08:58:20.648050200Z"
    }
   },
   "id": "d6d40171b72b73e5"
  },
  {
   "cell_type": "code",
   "execution_count": 49,
   "outputs": [],
   "source": [],
   "metadata": {
    "collapsed": false,
    "ExecuteTime": {
     "end_time": "2023-09-17T08:58:20.744037300Z",
     "start_time": "2023-09-17T08:58:20.680575900Z"
    }
   },
   "id": "b63f5a9cc11d1103"
  }
 ],
 "metadata": {
  "kernelspec": {
   "display_name": "Python 3",
   "language": "python",
   "name": "python3"
  },
  "language_info": {
   "codemirror_mode": {
    "name": "ipython",
    "version": 2
   },
   "file_extension": ".py",
   "mimetype": "text/x-python",
   "name": "python",
   "nbconvert_exporter": "python",
   "pygments_lexer": "ipython2",
   "version": "2.7.6"
  }
 },
 "nbformat": 4,
 "nbformat_minor": 5
}
