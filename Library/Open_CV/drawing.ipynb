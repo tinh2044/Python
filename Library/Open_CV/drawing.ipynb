{
 "cells": [
  {
   "cell_type": "code",
   "execution_count": 1,
   "id": "initial_id",
   "metadata": {
    "collapsed": true,
    "ExecuteTime": {
     "end_time": "2023-09-16T08:54:53.186539200Z",
     "start_time": "2023-09-16T08:54:52.925106600Z"
    }
   },
   "outputs": [],
   "source": [
    "import cv2 as cv\n",
    "import numpy as np\n"
   ]
  },
  {
   "cell_type": "markdown",
   "source": [
    "## Draw shapes "
   ],
   "metadata": {
    "collapsed": false
   },
   "id": "a35239fdf6ce10d4"
  },
  {
   "cell_type": "code",
   "execution_count": 2,
   "outputs": [],
   "source": [
    "blank = np.zeros((500, 500, 3), dtype='uint8')\n",
    "blank[100:300, 100:300, 2] = 255"
   ],
   "metadata": {
    "collapsed": false,
    "ExecuteTime": {
     "end_time": "2023-09-16T08:55:02.132849400Z",
     "start_time": "2023-09-16T08:55:02.119615400Z"
    }
   },
   "id": "cb0f5de49124b291"
  },
  {
   "cell_type": "code",
   "execution_count": 3,
   "outputs": [],
   "source": [
    "cv.imshow('Blank',blank)\n",
    "cv.waitKey(0)\n",
    "cv.destroyAllWindows()"
   ],
   "metadata": {
    "collapsed": false,
    "ExecuteTime": {
     "end_time": "2023-09-16T08:55:06.012060Z",
     "start_time": "2023-09-16T08:55:02.873373Z"
    }
   },
   "id": "18e4e455b59c3673"
  },
  {
   "cell_type": "code",
   "execution_count": 4,
   "outputs": [],
   "source": [
    "# Draw a Rectangle\n",
    "blank[:] = 0, 0 ,0\n",
    "cv.rectangle(blank, (0, 0), (250, 250), (0,255, 0), thickness=4)\n",
    "cv.rectangle(blank, (125,0), (125, 250), (0,255, 0), thickness=4)\n",
    "cv.rectangle(blank, (0, 125), (250, 125), (0,255, 0), thickness=4)\n",
    "cv.rectangle(blank, (250, 250), (500, 500), (0,255, 255), thickness=cv.FILLED)\n",
    "\n",
    "\n",
    "cv.imshow('Rectangle',blank)\n",
    "cv.waitKey(0)\n",
    "cv.destroyAllWindows()"
   ],
   "metadata": {
    "collapsed": false,
    "ExecuteTime": {
     "end_time": "2023-09-16T08:55:10.660642800Z",
     "start_time": "2023-09-16T08:55:09.294000100Z"
    }
   },
   "id": "e3e770177cabbb16"
  },
  {
   "cell_type": "code",
   "execution_count": 27,
   "outputs": [],
   "source": [
    " # Draw circle\n",
    "blank[:, :, :] = 0\n",
    "cv.circle(blank, (250, 250), 250, (255, 0, 255), thickness=1)\n",
    "cv.imshow('Circle',blank)\n",
    "cv.waitKey(0)\n",
    "cv.destroyAllWindows()"
   ],
   "metadata": {
    "collapsed": false,
    "ExecuteTime": {
     "end_time": "2023-09-16T08:42:22.124910700Z",
     "start_time": "2023-09-16T08:42:13.970960Z"
    }
   },
   "id": "8530a4c7caded363"
  },
  {
   "cell_type": "code",
   "execution_count": 5,
   "outputs": [],
   "source": [
    "# Draw line\n",
    "blank[:, :, :] = 0\n",
    "cv.line(blank, (0, 0),(250, 500) , (255, 0, 255), thickness=3)\n",
    "cv.imshow('Circle',blank)\n",
    "cv.waitKey(0)\n",
    "cv.destroyAllWindows()"
   ],
   "metadata": {
    "collapsed": false,
    "ExecuteTime": {
     "end_time": "2023-09-16T08:55:13.158614800Z",
     "start_time": "2023-09-16T08:55:12.296951700Z"
    }
   },
   "id": "c8b39c1d140af616"
  },
  {
   "cell_type": "code",
   "execution_count": 6,
   "outputs": [],
   "source": [
    "# Write Text \n",
    "blank[:] = 0, 0, 0\n",
    "cv.putText(img=blank,\n",
    "           text=\"Hello World\", \n",
    "           org=(225, 225), \n",
    "           fontFace=cv.FONT_ITALIC, \n",
    "           fontScale=3.0, \n",
    "           color=(225, 0,0), \n",
    "           thickness=3)\n",
    "\n",
    "cv.imshow('Text',blank)\n",
    "cv.waitKey(0)\n",
    "cv.destroyAllWindows()"
   ],
   "metadata": {
    "collapsed": false,
    "ExecuteTime": {
     "end_time": "2023-09-16T08:55:15.597814800Z",
     "start_time": "2023-09-16T08:55:14.506704700Z"
    }
   },
   "id": "23d75d12fa6ca3c7"
  },
  {
   "cell_type": "code",
   "execution_count": null,
   "outputs": [],
   "source": [],
   "metadata": {
    "collapsed": false
   },
   "id": "3c911be9cb3c1b29"
  }
 ],
 "metadata": {
  "kernelspec": {
   "display_name": "Python 3",
   "language": "python",
   "name": "python3"
  },
  "language_info": {
   "codemirror_mode": {
    "name": "ipython",
    "version": 2
   },
   "file_extension": ".py",
   "mimetype": "text/x-python",
   "name": "python",
   "nbconvert_exporter": "python",
   "pygments_lexer": "ipython2",
   "version": "2.7.6"
  }
 },
 "nbformat": 4,
 "nbformat_minor": 5
}
