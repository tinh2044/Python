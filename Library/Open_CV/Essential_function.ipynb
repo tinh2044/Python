{
 "cells": [
  {
   "cell_type": "code",
   "execution_count": 1,
   "id": "initial_id",
   "metadata": {
    "collapsed": true,
    "ExecuteTime": {
     "end_time": "2023-09-17T08:31:48.888572400Z",
     "start_time": "2023-09-17T08:31:48.429354500Z"
    }
   },
   "outputs": [],
   "source": [
    "import cv2 as cv\n",
    "import numpy as np\n",
    "from sphinx.addnodes import index"
   ]
  },
  {
   "cell_type": "code",
   "execution_count": 2,
   "outputs": [],
   "source": [
    "img = cv.imread('./Data/Photos/cat.jpg')\n"
   ],
   "metadata": {
    "collapsed": false,
    "ExecuteTime": {
     "end_time": "2023-09-17T08:31:48.938039400Z",
     "start_time": "2023-09-17T08:31:48.888572400Z"
    }
   },
   "id": "554c3dc4e509553d"
  },
  {
   "cell_type": "markdown",
   "source": [
    "## Convert to grayscale"
   ],
   "metadata": {
    "collapsed": false
   },
   "id": "66e40408c3a9c07b"
  },
  {
   "cell_type": "code",
   "execution_count": 3,
   "outputs": [],
   "source": [
    "gray = cv.cvtColor(img, cv.COLOR_BGRA2GRAY)\n",
    "cv.imshow('Grayscale', gray)\n",
    "cv.waitKey(0)\n",
    "cv.destroyAllWindows()"
   ],
   "metadata": {
    "collapsed": false,
    "ExecuteTime": {
     "end_time": "2023-09-17T08:31:50.930714900Z",
     "start_time": "2023-09-17T08:31:48.918782100Z"
    }
   },
   "id": "244a64ba1b3356fa"
  },
  {
   "cell_type": "markdown",
   "source": [
    "## Blur"
   ],
   "metadata": {
    "collapsed": false
   },
   "id": "eae9474cd17e9901"
  },
  {
   "cell_type": "code",
   "execution_count": 4,
   "outputs": [],
   "source": [
    "blur = cv.GaussianBlur(img, (5,5), cv.BORDER_DEFAULT)\n",
    "cv.imshow('Blur', blur)\n",
    "cv.waitKey(0)\n",
    "cv.destroyAllWindows()"
   ],
   "metadata": {
    "collapsed": false,
    "ExecuteTime": {
     "end_time": "2023-09-17T08:31:51.051076600Z",
     "start_time": "2023-09-17T08:31:50.856540500Z"
    }
   },
   "id": "3a7b4562a42fe42f"
  },
  {
   "cell_type": "markdown",
   "source": [
    "# Edge Cascade"
   ],
   "metadata": {
    "collapsed": false
   },
   "id": "3ef6c29fd92b07a6"
  },
  {
   "cell_type": "code",
   "execution_count": 5,
   "outputs": [],
   "source": [
    "img = cv.imread('./Data/Photos/park.jpg')\n",
    "blur = cv.GaussianBlur(img, (3,3), cv.BORDER_DEFAULT)\n",
    "canny = cv.Canny(blur, 125, 175)\n",
    "cv.imshow('Park',img)\n",
    "cv.imshow('Canny Edges', canny)\n",
    "cv.waitKey(0)\n",
    "cv.destroyAllWindows()"
   ],
   "metadata": {
    "collapsed": false,
    "ExecuteTime": {
     "end_time": "2023-09-17T08:31:51.278896300Z",
     "start_time": "2023-09-17T08:31:51.042539600Z"
    }
   },
   "id": "9a24a65c50800079"
  },
  {
   "cell_type": "markdown",
   "source": [
    "## Dilating the image"
   ],
   "metadata": {
    "collapsed": false
   },
   "id": "8e91e43c41705342"
  },
  {
   "cell_type": "code",
   "execution_count": 6,
   "outputs": [],
   "source": [
    "\n",
    "kernel = np.ones((3,3), dtype='uint8')\n",
    "dilated = cv.dilate(canny, kernel, iterations=1)\n",
    "cv.imshow('Dilated', dilated)\n",
    "cv.waitKey(0)\n",
    "cv.destroyAllWindows()"
   ],
   "metadata": {
    "collapsed": false,
    "ExecuteTime": {
     "end_time": "2023-09-17T08:31:51.990409400Z",
     "start_time": "2023-09-17T08:31:51.242539700Z"
    }
   },
   "id": "8d734829ef6dec85"
  },
  {
   "cell_type": "markdown",
   "source": [
    "## Eroding"
   ],
   "metadata": {
    "collapsed": false
   },
   "id": "851b82ec07f2426d"
  },
  {
   "cell_type": "code",
   "execution_count": 7,
   "outputs": [],
   "source": [
    "eroded = cv.erode(dilated, kernel, iterations=3)\n",
    "cv.imshow('Eroding ', eroded)\n",
    "cv.waitKey(0)\n",
    "cv.destroyAllWindows()"
   ],
   "metadata": {
    "collapsed": false,
    "ExecuteTime": {
     "end_time": "2023-09-17T08:31:52.649891900Z",
     "start_time": "2023-09-17T08:31:51.402634200Z"
    }
   },
   "id": "f5296db7f851b662"
  },
  {
   "cell_type": "markdown",
   "source": [
    "## Resized"
   ],
   "metadata": {
    "collapsed": false
   },
   "id": "3e8af9f09f13f043"
  },
  {
   "cell_type": "code",
   "execution_count": 27,
   "outputs": [],
   "source": [
    "img = cv.imread('./Data/Photos/cat.jpg')\n",
    "\n",
    "resized = cv.resize(img, (400, 400), interpolation=cv.INTER_LINEAR)\n",
    "cv.imshow('Resized ', resized)\n",
    "cv.waitKey()\n",
    "cv.destroyAllWindows()\n"
   ],
   "metadata": {
    "collapsed": false,
    "ExecuteTime": {
     "end_time": "2023-09-17T08:45:12.741276200Z",
     "start_time": "2023-09-17T08:45:12.679910300Z"
    }
   },
   "id": "21b3f79dafbafaf6"
  },
  {
   "cell_type": "markdown",
   "source": [
    "## Cropping"
   ],
   "metadata": {
    "collapsed": false
   },
   "id": "33ec10afa509f429"
  },
  {
   "cell_type": "code",
   "execution_count": 28,
   "outputs": [],
   "source": [
    "cropped = img[50:300, 20:400]\n",
    "cv.imshow('Cropped ', cropped)"
   ],
   "metadata": {
    "collapsed": false,
    "ExecuteTime": {
     "end_time": "2023-09-17T08:45:22.432373100Z",
     "start_time": "2023-09-17T08:45:22.391005600Z"
    }
   },
   "id": "af4b492d02f072d8"
  },
  {
   "cell_type": "code",
   "execution_count": 29,
   "outputs": [],
   "source": [
    "cv.waitKey()\n",
    "cv.destroyAllWindows()"
   ],
   "metadata": {
    "collapsed": false,
    "ExecuteTime": {
     "end_time": "2023-09-17T08:45:28.483120300Z",
     "start_time": "2023-09-17T08:45:24.876382600Z"
    }
   },
   "id": "8371706935a906e8"
  },
  {
   "cell_type": "code",
   "execution_count": null,
   "outputs": [],
   "source": [],
   "metadata": {
    "collapsed": false
   },
   "id": "a43d7563a1ba44f9"
  }
 ],
 "metadata": {
  "kernelspec": {
   "display_name": "Python 3",
   "language": "python",
   "name": "python3"
  },
  "language_info": {
   "codemirror_mode": {
    "name": "ipython",
    "version": 2
   },
   "file_extension": ".py",
   "mimetype": "text/x-python",
   "name": "python",
   "nbconvert_exporter": "python",
   "pygments_lexer": "ipython2",
   "version": "2.7.6"
  }
 },
 "nbformat": 4,
 "nbformat_minor": 5
}
