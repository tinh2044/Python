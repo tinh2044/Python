{
 "cells": [
  {
   "cell_type": "code",
   "execution_count": 1,
   "id": "initial_id",
   "metadata": {
    "collapsed": true,
    "ExecuteTime": {
     "end_time": "2023-10-26T12:23:25.523494800Z",
     "start_time": "2023-10-26T12:23:16.387534300Z"
    }
   },
   "outputs": [
    {
     "name": "stderr",
     "output_type": "stream",
     "text": [
      "C:\\Users\\DELL\\AppData\\Roaming\\Python\\Python39\\site-packages\\torchvision\\io\\image.py:13: UserWarning: Failed to load image Python extension: 'Could not find module 'C:\\Users\\DELL\\AppData\\Roaming\\Python\\Python39\\site-packages\\torchvision\\image.pyd' (or one of its dependencies). Try using the full path with constructor syntax.'If you don't plan on using image functionality from `torchvision.io`, you can ignore this warning. Otherwise, there might be something wrong with your environment. Did you have `libjpeg` or `libpng` installed before building `torchvision` from source?\n",
      "  warn(\n"
     ]
    },
    {
     "name": "stdout",
     "output_type": "stream",
     "text": [
      "PyTorch version: 2.1.0+cpu\n",
      "torchvision version: 0.15.2+cu118\n"
     ]
    }
   ],
   "source": [
    "# Import PyTorch\n",
    "import torch\n",
    "from odbc import dataError\n",
    "from torch import nn\n",
    "\n",
    "# Import torchvision \n",
    "import torchvision\n",
    "from torchvision import datasets\n",
    "from torchvision.transforms import ToTensor\n",
    "\n",
    "# Import matplotlib for visualization\n",
    "import matplotlib.pyplot as plt\n",
    "\n",
    "#Summary model\n",
    "from torchsummary import summary as summary_model\n",
    "from tqdm import tqdm\n",
    "\n",
    "# Check versions\n",
    "# Note: your PyTorch version shouldn't be lower than 1.10.0 and torchvision version shouldn't be lower than 0.11\n",
    "print(f\"PyTorch version: {torch.__version__}\\ntorchvision version: {torchvision.__version__}\")"
   ]
  },
  {
   "cell_type": "code",
   "execution_count": 2,
   "outputs": [],
   "source": [
    "device = 'cuda' if torch.cuda.is_available() else 'cpu'"
   ],
   "metadata": {
    "collapsed": false,
    "ExecuteTime": {
     "end_time": "2023-10-26T12:23:25.616690700Z",
     "start_time": "2023-10-26T12:23:25.524498300Z"
    }
   },
   "id": "cb1d5fa38946a7df"
  },
  {
   "cell_type": "code",
   "execution_count": 3,
   "outputs": [],
   "source": [
    "# Setup training data\n",
    "train_data = datasets.FashionMNIST(\n",
    "    root=\"data\", # where to download data to?\n",
    "    train=True, # get training data\n",
    "    download=True, # download data if it doesn't exist on disk\n",
    "    transform=ToTensor(), # images come as PIL format, we want to turn into Torch tensors\n",
    "    target_transform=None # you can transform labels as well\n",
    ")\n",
    "\n",
    "# Setup testing data\n",
    "test_data = datasets.FashionMNIST(\n",
    "    root=\"data\",\n",
    "    train=False, # get test data\n",
    "    download=True,\n",
    "    transform=ToTensor()\n",
    ")"
   ],
   "metadata": {
    "collapsed": false,
    "ExecuteTime": {
     "end_time": "2023-10-26T12:23:25.741921200Z",
     "start_time": "2023-10-26T12:23:25.536553600Z"
    }
   },
   "id": "de715eb113564a5b"
  },
  {
   "cell_type": "code",
   "execution_count": 4,
   "outputs": [
    {
     "data": {
      "text/plain": "(tensor([[[0.0000, 0.0000, 0.0000, 0.0000, 0.0000, 0.0000, 0.0000, 0.0000,\n           0.0000, 0.0000, 0.0000, 0.0000, 0.0000, 0.0000, 0.0000, 0.0000,\n           0.0000, 0.0000, 0.0000, 0.0000, 0.0000, 0.0000, 0.0000, 0.0000,\n           0.0000, 0.0000, 0.0000, 0.0000],\n          [0.0000, 0.0000, 0.0000, 0.0000, 0.0000, 0.0000, 0.0000, 0.0000,\n           0.0000, 0.0000, 0.0000, 0.0000, 0.0000, 0.0000, 0.0000, 0.0000,\n           0.0000, 0.0000, 0.0000, 0.0000, 0.0000, 0.0000, 0.0000, 0.0000,\n           0.0000, 0.0000, 0.0000, 0.0000],\n          [0.0000, 0.0000, 0.0000, 0.0000, 0.0000, 0.0000, 0.0000, 0.0000,\n           0.0000, 0.0000, 0.0000, 0.0000, 0.0000, 0.0000, 0.0000, 0.0000,\n           0.0000, 0.0000, 0.0000, 0.0000, 0.0000, 0.0000, 0.0000, 0.0000,\n           0.0000, 0.0000, 0.0000, 0.0000],\n          [0.0000, 0.0000, 0.0000, 0.0000, 0.0000, 0.0000, 0.0000, 0.0000,\n           0.0000, 0.0000, 0.0000, 0.0000, 0.0039, 0.0000, 0.0000, 0.0510,\n           0.2863, 0.0000, 0.0000, 0.0039, 0.0157, 0.0000, 0.0000, 0.0000,\n           0.0000, 0.0039, 0.0039, 0.0000],\n          [0.0000, 0.0000, 0.0000, 0.0000, 0.0000, 0.0000, 0.0000, 0.0000,\n           0.0000, 0.0000, 0.0000, 0.0000, 0.0118, 0.0000, 0.1412, 0.5333,\n           0.4980, 0.2431, 0.2118, 0.0000, 0.0000, 0.0000, 0.0039, 0.0118,\n           0.0157, 0.0000, 0.0000, 0.0118],\n          [0.0000, 0.0000, 0.0000, 0.0000, 0.0000, 0.0000, 0.0000, 0.0000,\n           0.0000, 0.0000, 0.0000, 0.0000, 0.0235, 0.0000, 0.4000, 0.8000,\n           0.6902, 0.5255, 0.5647, 0.4824, 0.0902, 0.0000, 0.0000, 0.0000,\n           0.0000, 0.0471, 0.0392, 0.0000],\n          [0.0000, 0.0000, 0.0000, 0.0000, 0.0000, 0.0000, 0.0000, 0.0000,\n           0.0000, 0.0000, 0.0000, 0.0000, 0.0000, 0.0000, 0.6078, 0.9255,\n           0.8118, 0.6980, 0.4196, 0.6118, 0.6314, 0.4275, 0.2510, 0.0902,\n           0.3020, 0.5098, 0.2824, 0.0588],\n          [0.0000, 0.0000, 0.0000, 0.0000, 0.0000, 0.0000, 0.0000, 0.0000,\n           0.0000, 0.0000, 0.0000, 0.0039, 0.0000, 0.2706, 0.8118, 0.8745,\n           0.8549, 0.8471, 0.8471, 0.6392, 0.4980, 0.4745, 0.4784, 0.5725,\n           0.5529, 0.3451, 0.6745, 0.2588],\n          [0.0000, 0.0000, 0.0000, 0.0000, 0.0000, 0.0000, 0.0000, 0.0000,\n           0.0000, 0.0039, 0.0039, 0.0039, 0.0000, 0.7843, 0.9098, 0.9098,\n           0.9137, 0.8980, 0.8745, 0.8745, 0.8431, 0.8353, 0.6431, 0.4980,\n           0.4824, 0.7686, 0.8980, 0.0000],\n          [0.0000, 0.0000, 0.0000, 0.0000, 0.0000, 0.0000, 0.0000, 0.0000,\n           0.0000, 0.0000, 0.0000, 0.0000, 0.0000, 0.7176, 0.8824, 0.8471,\n           0.8745, 0.8941, 0.9216, 0.8902, 0.8784, 0.8706, 0.8784, 0.8667,\n           0.8745, 0.9608, 0.6784, 0.0000],\n          [0.0000, 0.0000, 0.0000, 0.0000, 0.0000, 0.0000, 0.0000, 0.0000,\n           0.0000, 0.0000, 0.0000, 0.0000, 0.0000, 0.7569, 0.8941, 0.8549,\n           0.8353, 0.7765, 0.7059, 0.8314, 0.8235, 0.8275, 0.8353, 0.8745,\n           0.8627, 0.9529, 0.7922, 0.0000],\n          [0.0000, 0.0000, 0.0000, 0.0000, 0.0000, 0.0000, 0.0000, 0.0000,\n           0.0000, 0.0039, 0.0118, 0.0000, 0.0471, 0.8588, 0.8627, 0.8314,\n           0.8549, 0.7529, 0.6627, 0.8902, 0.8157, 0.8549, 0.8784, 0.8314,\n           0.8863, 0.7725, 0.8196, 0.2039],\n          [0.0000, 0.0000, 0.0000, 0.0000, 0.0000, 0.0000, 0.0000, 0.0000,\n           0.0000, 0.0000, 0.0235, 0.0000, 0.3882, 0.9569, 0.8706, 0.8627,\n           0.8549, 0.7961, 0.7765, 0.8667, 0.8431, 0.8353, 0.8706, 0.8627,\n           0.9608, 0.4667, 0.6549, 0.2196],\n          [0.0000, 0.0000, 0.0000, 0.0000, 0.0000, 0.0000, 0.0000, 0.0000,\n           0.0000, 0.0157, 0.0000, 0.0000, 0.2157, 0.9255, 0.8941, 0.9020,\n           0.8941, 0.9412, 0.9098, 0.8353, 0.8549, 0.8745, 0.9176, 0.8510,\n           0.8510, 0.8196, 0.3608, 0.0000],\n          [0.0000, 0.0000, 0.0039, 0.0157, 0.0235, 0.0275, 0.0078, 0.0000,\n           0.0000, 0.0000, 0.0000, 0.0000, 0.9294, 0.8863, 0.8510, 0.8745,\n           0.8706, 0.8588, 0.8706, 0.8667, 0.8471, 0.8745, 0.8980, 0.8431,\n           0.8549, 1.0000, 0.3020, 0.0000],\n          [0.0000, 0.0118, 0.0000, 0.0000, 0.0000, 0.0000, 0.0000, 0.0000,\n           0.0000, 0.2431, 0.5686, 0.8000, 0.8941, 0.8118, 0.8353, 0.8667,\n           0.8549, 0.8157, 0.8275, 0.8549, 0.8784, 0.8745, 0.8588, 0.8431,\n           0.8784, 0.9569, 0.6235, 0.0000],\n          [0.0000, 0.0000, 0.0000, 0.0000, 0.0706, 0.1725, 0.3216, 0.4196,\n           0.7412, 0.8941, 0.8627, 0.8706, 0.8510, 0.8863, 0.7843, 0.8039,\n           0.8275, 0.9020, 0.8784, 0.9176, 0.6902, 0.7373, 0.9804, 0.9725,\n           0.9137, 0.9333, 0.8431, 0.0000],\n          [0.0000, 0.2235, 0.7333, 0.8157, 0.8784, 0.8667, 0.8784, 0.8157,\n           0.8000, 0.8392, 0.8157, 0.8196, 0.7843, 0.6235, 0.9608, 0.7569,\n           0.8078, 0.8745, 1.0000, 1.0000, 0.8667, 0.9176, 0.8667, 0.8275,\n           0.8627, 0.9098, 0.9647, 0.0000],\n          [0.0118, 0.7922, 0.8941, 0.8784, 0.8667, 0.8275, 0.8275, 0.8392,\n           0.8039, 0.8039, 0.8039, 0.8627, 0.9412, 0.3137, 0.5882, 1.0000,\n           0.8980, 0.8667, 0.7373, 0.6039, 0.7490, 0.8235, 0.8000, 0.8196,\n           0.8706, 0.8941, 0.8824, 0.0000],\n          [0.3843, 0.9137, 0.7765, 0.8235, 0.8706, 0.8980, 0.8980, 0.9176,\n           0.9765, 0.8627, 0.7608, 0.8431, 0.8510, 0.9451, 0.2549, 0.2863,\n           0.4157, 0.4588, 0.6588, 0.8588, 0.8667, 0.8431, 0.8510, 0.8745,\n           0.8745, 0.8784, 0.8980, 0.1137],\n          [0.2941, 0.8000, 0.8314, 0.8000, 0.7569, 0.8039, 0.8275, 0.8824,\n           0.8471, 0.7255, 0.7725, 0.8078, 0.7765, 0.8353, 0.9412, 0.7647,\n           0.8902, 0.9608, 0.9373, 0.8745, 0.8549, 0.8314, 0.8196, 0.8706,\n           0.8627, 0.8667, 0.9020, 0.2627],\n          [0.1882, 0.7961, 0.7176, 0.7608, 0.8353, 0.7725, 0.7255, 0.7451,\n           0.7608, 0.7529, 0.7922, 0.8392, 0.8588, 0.8667, 0.8627, 0.9255,\n           0.8824, 0.8471, 0.7804, 0.8078, 0.7294, 0.7098, 0.6941, 0.6745,\n           0.7098, 0.8039, 0.8078, 0.4510],\n          [0.0000, 0.4784, 0.8588, 0.7569, 0.7020, 0.6706, 0.7176, 0.7686,\n           0.8000, 0.8235, 0.8353, 0.8118, 0.8275, 0.8235, 0.7843, 0.7686,\n           0.7608, 0.7490, 0.7647, 0.7490, 0.7765, 0.7529, 0.6902, 0.6118,\n           0.6549, 0.6941, 0.8235, 0.3608],\n          [0.0000, 0.0000, 0.2902, 0.7412, 0.8314, 0.7490, 0.6863, 0.6745,\n           0.6863, 0.7098, 0.7255, 0.7373, 0.7412, 0.7373, 0.7569, 0.7765,\n           0.8000, 0.8196, 0.8235, 0.8235, 0.8275, 0.7373, 0.7373, 0.7608,\n           0.7529, 0.8471, 0.6667, 0.0000],\n          [0.0078, 0.0000, 0.0000, 0.0000, 0.2588, 0.7843, 0.8706, 0.9294,\n           0.9373, 0.9490, 0.9647, 0.9529, 0.9569, 0.8667, 0.8627, 0.7569,\n           0.7490, 0.7020, 0.7137, 0.7137, 0.7098, 0.6902, 0.6510, 0.6588,\n           0.3882, 0.2275, 0.0000, 0.0000],\n          [0.0000, 0.0000, 0.0000, 0.0000, 0.0000, 0.0000, 0.0000, 0.1569,\n           0.2392, 0.1725, 0.2824, 0.1608, 0.1373, 0.0000, 0.0000, 0.0000,\n           0.0000, 0.0000, 0.0000, 0.0000, 0.0000, 0.0000, 0.0000, 0.0000,\n           0.0000, 0.0000, 0.0000, 0.0000],\n          [0.0000, 0.0000, 0.0000, 0.0000, 0.0000, 0.0000, 0.0000, 0.0000,\n           0.0000, 0.0000, 0.0000, 0.0000, 0.0000, 0.0000, 0.0000, 0.0000,\n           0.0000, 0.0000, 0.0000, 0.0000, 0.0000, 0.0000, 0.0000, 0.0000,\n           0.0000, 0.0000, 0.0000, 0.0000],\n          [0.0000, 0.0000, 0.0000, 0.0000, 0.0000, 0.0000, 0.0000, 0.0000,\n           0.0000, 0.0000, 0.0000, 0.0000, 0.0000, 0.0000, 0.0000, 0.0000,\n           0.0000, 0.0000, 0.0000, 0.0000, 0.0000, 0.0000, 0.0000, 0.0000,\n           0.0000, 0.0000, 0.0000, 0.0000]]]),\n 9)"
     },
     "execution_count": 4,
     "metadata": {},
     "output_type": "execute_result"
    }
   ],
   "source": [
    "# See first training sample\n",
    "image, label = train_data[0]\n",
    "image, label"
   ],
   "metadata": {
    "collapsed": false,
    "ExecuteTime": {
     "end_time": "2023-10-26T12:23:25.815712300Z",
     "start_time": "2023-10-26T12:23:25.724700800Z"
    }
   },
   "id": "6ba1901f38e51cd3"
  },
  {
   "cell_type": "code",
   "execution_count": 5,
   "outputs": [
    {
     "data": {
      "text/plain": "(60000, 60000, 10000, 10000)"
     },
     "execution_count": 5,
     "metadata": {},
     "output_type": "execute_result"
    }
   ],
   "source": [
    "# How many samples are there? \n",
    "len(train_data.data), len(train_data.targets), len(test_data.data), len(test_data.targets)"
   ],
   "metadata": {
    "collapsed": false,
    "ExecuteTime": {
     "end_time": "2023-10-26T12:23:25.832392700Z",
     "start_time": "2023-10-26T12:23:25.802138500Z"
    }
   },
   "id": "a3e1db685f8fa88f"
  },
  {
   "cell_type": "code",
   "execution_count": 6,
   "outputs": [
    {
     "data": {
      "text/plain": "['T-shirt/top',\n 'Trouser',\n 'Pullover',\n 'Dress',\n 'Coat',\n 'Sandal',\n 'Shirt',\n 'Sneaker',\n 'Bag',\n 'Ankle boot']"
     },
     "execution_count": 6,
     "metadata": {},
     "output_type": "execute_result"
    }
   ],
   "source": [
    "# See classes\n",
    "class_names = train_data.classes\n",
    "class_names"
   ],
   "metadata": {
    "collapsed": false,
    "ExecuteTime": {
     "end_time": "2023-10-26T12:23:25.868058400Z",
     "start_time": "2023-10-26T12:23:25.818134800Z"
    }
   },
   "id": "8f9f955bb1898061"
  },
  {
   "cell_type": "code",
   "execution_count": 7,
   "outputs": [
    {
     "name": "stdout",
     "output_type": "stream",
     "text": [
      "Image shape: torch.Size([1, 28, 28])\n"
     ]
    },
    {
     "data": {
      "text/plain": "<Figure size 432x288 with 1 Axes>",
      "image/png": "[encoded data removed]"
     },
     "metadata": {
      "needs_background": "light"
     },
     "output_type": "display_data"
    }
   ],
   "source": [
    "import matplotlib.pyplot as plt\n",
    "image, label = train_data[0]\n",
    "print(f\"Image shape: {image.shape}\")\n",
    "plt.imshow(image.squeeze()) # image shape is [1, 28, 28] (colour channels, height, width)\n",
    "plt.title(label);"
   ],
   "metadata": {
    "collapsed": false,
    "ExecuteTime": {
     "end_time": "2023-10-26T12:23:26.040767700Z",
     "start_time": "2023-10-26T12:23:25.834940600Z"
    }
   },
   "id": "18b05c5a5d42ef38"
  },
  {
   "cell_type": "code",
   "execution_count": 8,
   "outputs": [
    {
     "data": {
      "text/plain": "<Figure size 432x288 with 1 Axes>",
      "image/png": "[encoded data removed]"
     },
     "metadata": {
      "needs_background": "light"
     },
     "output_type": "display_data"
    }
   ],
   "source": [
    "plt.imshow(image.squeeze(), cmap=\"gray\")\n",
    "plt.title(class_names[label]);"
   ],
   "metadata": {
    "collapsed": false,
    "ExecuteTime": {
     "end_time": "2023-10-26T12:23:26.179852600Z",
     "start_time": "2023-10-26T12:23:26.039767900Z"
    }
   },
   "id": "6e1ac450318158c"
  },
  {
   "cell_type": "code",
   "execution_count": 9,
   "outputs": [
    {
     "data": {
      "text/plain": "<Figure size 648x648 with 16 Axes>",
      "image/png": "[encoded data removed]"
     },
     "metadata": {
      "needs_background": "light"
     },
     "output_type": "display_data"
    }
   ],
   "source": [
    "# plot more image\n",
    "torch.manual_seed(42)\n",
    "fig = plt.figure(figsize=[9, 9])\n",
    "rows = cols = 4\n",
    "for i in range(1, rows*cols+1):\n",
    "    rad_idx = torch.randint(0, len(train_data), [1]).item()\n",
    "    img, label = train_data[rad_idx]\n",
    "    fig.add_subplot(rows, cols, i)\n",
    "    plt.imshow(img.squeeze(), cmap='gray')\n",
    "    plt.title(class_names[label], color='#ffffff')\n",
    "    plt.axis(False)"
   ],
   "metadata": {
    "collapsed": false,
    "ExecuteTime": {
     "end_time": "2023-10-26T12:23:26.839460200Z",
     "start_time": "2023-10-26T12:23:26.173224300Z"
    }
   },
   "id": "adb9f33674937146"
  },
  {
   "cell_type": "markdown",
   "source": [
    "## Create DataLoader"
   ],
   "metadata": {
    "collapsed": false
   },
   "id": "7194f0709690ff77"
  },
  {
   "cell_type": "code",
   "execution_count": 10,
   "outputs": [],
   "source": [
    "from torch.utils.data import DataLoader"
   ],
   "metadata": {
    "collapsed": false,
    "ExecuteTime": {
     "end_time": "2023-10-26T12:23:26.850158500Z",
     "start_time": "2023-10-26T12:23:26.832922700Z"
    }
   },
   "id": "c2017fabffdc08d"
  },
  {
   "cell_type": "code",
   "execution_count": 11,
   "outputs": [
    {
     "name": "stdout",
     "output_type": "stream",
     "text": [
      "Dataloaders: (<torch.utils.data.dataloader.DataLoader object at 0x0000025510E1F2E0>, <torch.utils.data.dataloader.DataLoader object at 0x0000025510E1F7F0>)\n",
      "Length of train dataloader: 1875 batches of 32\n",
      "Length of test dataloader: 313 batches of 32\n"
     ]
    }
   ],
   "source": [
    "BATCH_SIZE = 32\n",
    "train_dataloader = DataLoader(train_data, batch_size=BATCH_SIZE, shuffle=True)\n",
    "test_dataloader = DataLoader(test_data, batch_size=BATCH_SIZE, shuffle=False)\n",
    "# Let's check out what we've created\n",
    "print(f\"Dataloaders: {train_dataloader, test_dataloader}\") \n",
    "print(f\"Length of train dataloader: {len(train_dataloader)} batches of {BATCH_SIZE}\")\n",
    "print(f\"Length of test dataloader: {len(test_dataloader)} batches of {BATCH_SIZE}\")"
   ],
   "metadata": {
    "collapsed": false,
    "ExecuteTime": {
     "end_time": "2023-10-26T12:23:26.961080200Z",
     "start_time": "2023-10-26T12:23:26.846939400Z"
    }
   },
   "id": "a5312b661e456ae"
  },
  {
   "cell_type": "code",
   "execution_count": 12,
   "outputs": [
    {
     "data": {
      "text/plain": "(torch.Size([32, 1, 28, 28]), torch.Size([32]))"
     },
     "execution_count": 12,
     "metadata": {},
     "output_type": "execute_result"
    }
   ],
   "source": [
    "train_features_batch, train_labels_batch = next(iter(train_dataloader))\n",
    "train_features_batch.shape, train_labels_batch.shape"
   ],
   "metadata": {
    "collapsed": false,
    "ExecuteTime": {
     "end_time": "2023-10-26T12:23:26.990443100Z",
     "start_time": "2023-10-26T12:23:26.862125100Z"
    }
   },
   "id": "5588a1aacd675e8"
  },
  {
   "cell_type": "code",
   "execution_count": 13,
   "outputs": [
    {
     "name": "stdout",
     "output_type": "stream",
     "text": [
      "Image size: torch.Size([1, 28, 28])\n",
      "Label: 6, label size: torch.Size([])\n"
     ]
    },
    {
     "data": {
      "text/plain": "<Figure size 432x288 with 1 Axes>",
      "image/png": "[encoded data removed]"
     },
     "metadata": {
      "needs_background": "light"
     },
     "output_type": "display_data"
    }
   ],
   "source": [
    "# Show a sample\n",
    "torch.manual_seed(42)\n",
    "random_idx = torch.randint(0, len(train_features_batch), size=[1]).item()\n",
    "img, label = train_features_batch[random_idx], train_labels_batch[random_idx]\n",
    "plt.imshow(img.squeeze(), cmap=\"gray\")\n",
    "plt.title(class_names[label])\n",
    "plt.axis(\"Off\")\n",
    "print(f\"Image size: {img.shape}\")\n",
    "print(f\"Label: {label}, label size: {label.shape}\")"
   ],
   "metadata": {
    "collapsed": false,
    "ExecuteTime": {
     "end_time": "2023-10-26T12:23:27.021827200Z",
     "start_time": "2023-10-26T12:23:26.897135700Z"
    }
   },
   "id": "57a2928b3233cb5"
  },
  {
   "cell_type": "code",
   "execution_count": 14,
   "outputs": [
    {
     "name": "stdout",
     "output_type": "stream",
     "text": [
      "Shape before flattening: torch.Size([1, 28, 28]) -> [color_channels, height, width]\n",
      "Shape after flattening: torch.Size([1, 784]) -> [color_channels, height*width]\n"
     ]
    }
   ],
   "source": [
    "# Create a flatten layer\n",
    "flatten_model = nn.Flatten() # all nn modules function as a model (can do a forward pass)\n",
    "\n",
    "# Get a single sample\n",
    "x = train_features_batch[0]\n",
    "\n",
    "# Flatten the sample\n",
    "output = flatten_model(x) # perform forward pass\n",
    "\n",
    "# Print out what happened\n",
    "print(f\"Shape before flattening: {x.shape} -> [color_channels, height, width]\")\n",
    "print(f\"Shape after flattening: {output.shape} -> [color_channels, height*width]\")\n",
    "\n",
    "# Try uncommenting below and see what happens\n",
    "#print(x)\n",
    "#print(output)"
   ],
   "metadata": {
    "collapsed": false,
    "ExecuteTime": {
     "end_time": "2023-10-26T12:23:27.145975Z",
     "start_time": "2023-10-26T12:23:26.972510Z"
    }
   },
   "id": "6ef2e3d370171813"
  },
  {
   "cell_type": "markdown",
   "source": [
    "## Build "
   ],
   "metadata": {
    "collapsed": false
   },
   "id": "b80dae3302dbeaca"
  },
  {
   "cell_type": "code",
   "execution_count": 15,
   "outputs": [],
   "source": [
    "from torch import nn"
   ],
   "metadata": {
    "collapsed": false,
    "ExecuteTime": {
     "end_time": "2023-10-26T12:23:27.186846300Z",
     "start_time": "2023-10-26T12:23:26.985589200Z"
    }
   },
   "id": "310c1dbeda2859ce"
  },
  {
   "cell_type": "code",
   "execution_count": 16,
   "outputs": [],
   "source": [
    "class ModelV0(nn.Module):\n",
    "    def __init__(self, input_shape:int, hidden_units:int, output_shape:int ):\n",
    "        super().__init__()\n",
    "        self.layer_stack = nn.Sequential(\n",
    "            nn.Flatten(),\n",
    "            nn.Linear(in_features=input_shape, out_features=hidden_units),\n",
    "            nn.Linear(in_features=hidden_units, out_features=output_shape)\n",
    "        )\n",
    "    \n",
    "    def forward(self,x):\n",
    "        return self.layer_stack(x)"
   ],
   "metadata": {
    "collapsed": false,
    "ExecuteTime": {
     "end_time": "2023-10-26T12:23:27.186846300Z",
     "start_time": "2023-10-26T12:23:27.000168600Z"
    }
   },
   "id": "20b516a1344fdc92"
  },
  {
   "cell_type": "code",
   "execution_count": 17,
   "outputs": [
    {
     "data": {
      "text/plain": "ModelV0(\n  (layer_stack): Sequential(\n    (0): Flatten(start_dim=1, end_dim=-1)\n    (1): Linear(in_features=784, out_features=16, bias=True)\n    (2): Linear(in_features=16, out_features=10, bias=True)\n  )\n)"
     },
     "execution_count": 17,
     "metadata": {},
     "output_type": "execute_result"
    }
   ],
   "source": [
    "torch.manual_seed(42)\n",
    "model_0 = ModelV0(input_shape=784, hidden_units=16, output_shape=10)\n",
    "model_0.to('cpu')"
   ],
   "metadata": {
    "collapsed": false,
    "ExecuteTime": {
     "end_time": "2023-10-26T12:23:27.221718800Z",
     "start_time": "2023-10-26T12:23:27.022846800Z"
    }
   },
   "id": "4c6ce0c3d8dc4931"
  },
  {
   "cell_type": "markdown",
   "source": [
    "## Setup loss, optimizer and evaluation metrics"
   ],
   "metadata": {
    "collapsed": false
   },
   "id": "9e8a922abb29d704"
  },
  {
   "cell_type": "code",
   "execution_count": 18,
   "outputs": [],
   "source": [
    "from helper_functions import *"
   ],
   "metadata": {
    "collapsed": false,
    "ExecuteTime": {
     "end_time": "2023-10-26T12:23:27.222738800Z",
     "start_time": "2023-10-26T12:23:27.052995200Z"
    }
   },
   "id": "5499f1713f15c49b"
  },
  {
   "cell_type": "code",
   "execution_count": 19,
   "outputs": [],
   "source": [
    "# Setup loss function and optimizer\n",
    "loss_fn = nn.CrossEntropyLoss() # this is also called \"criterion\"/\"cost function\" in some places\n",
    "optimizer = torch.optim.SGD(params=model_0.parameters(), lr=0.1)"
   ],
   "metadata": {
    "collapsed": false,
    "ExecuteTime": {
     "end_time": "2023-10-26T12:23:27.486238700Z",
     "start_time": "2023-10-26T12:23:27.064515800Z"
    }
   },
   "id": "3e8c76f8534249d3"
  },
  {
   "cell_type": "markdown",
   "source": [
    "### Create a function to time our experiments"
   ],
   "metadata": {
    "collapsed": false
   },
   "id": "1a45bd3e384a5df7"
  },
  {
   "cell_type": "code",
   "execution_count": 20,
   "outputs": [],
   "source": [
    "from timeit import default_timer as timer\n",
    "def print_train_time(start:float, end:float, device:torch.device):\n",
    "    total_time =  end - start\n",
    "    print(f'Train time on device: {device} : {total_time: .3f} seconds')\n",
    "    \n",
    "    return total_time\n",
    "\n",
    "    "
   ],
   "metadata": {
    "collapsed": false,
    "ExecuteTime": {
     "end_time": "2023-10-26T12:23:27.505976300Z",
     "start_time": "2023-10-26T12:23:27.488737700Z"
    }
   },
   "id": "113993276af5c345"
  },
  {
   "cell_type": "markdown",
   "source": [
    "### Creating a training loop and training a model on batchs of data"
   ],
   "metadata": {
    "collapsed": false
   },
   "id": "ecfaef815d0482ca"
  },
  {
   "cell_type": "code",
   "execution_count": 21,
   "outputs": [],
   "source": [
    "# Import tqdm for progress bar\n",
    "from tqdm.auto import tqdm"
   ],
   "metadata": {
    "collapsed": false,
    "ExecuteTime": {
     "end_time": "2023-10-26T12:23:27.553120300Z",
     "start_time": "2023-10-26T12:23:27.503571100Z"
    }
   },
   "id": "10005941ceba5125"
  },
  {
   "cell_type": "code",
   "execution_count": 22,
   "outputs": [
    {
     "data": {
      "text/plain": "  0%|          | 0/3 [00:00<?, ?it/s]",
      "application/vnd.jupyter.widget-view+json": {
       "version_major": 2,
       "version_minor": 0,
       "model_id": "b62345134935431bba820cd8aa33a478"
      }
     },
     "metadata": {},
     "output_type": "display_data"
    },
    {
     "name": "stdout",
     "output_type": "stream",
     "text": [
      "Epoch : 0\n",
      "-------\n",
      "Looked at 0/60000 samples\n",
      "Looked at 12800/60000 samples\n",
      "Looked at 25600/60000 samples\n",
      "Looked at 38400/60000 samples\n",
      "Looked at 51200/60000 samples\n",
      "\n",
      "Train loss: 0.58506 | Test loss: 0.50618, Test acc: 82.24%\n",
      "\n",
      "Epoch : 1\n",
      "-------\n",
      "Looked at 0/60000 samples\n",
      "Looked at 12800/60000 samples\n",
      "Looked at 25600/60000 samples\n",
      "Looked at 38400/60000 samples\n",
      "Looked at 51200/60000 samples\n",
      "\n",
      "Train loss: 0.47503 | Test loss: 0.48423, Test acc: 83.07%\n",
      "\n",
      "Epoch : 2\n",
      "-------\n",
      "Looked at 0/60000 samples\n",
      "Looked at 12800/60000 samples\n",
      "Looked at 25600/60000 samples\n",
      "Looked at 38400/60000 samples\n",
      "Looked at 51200/60000 samples\n",
      "\n",
      "Train loss: 0.45409 | Test loss: 0.47700, Test acc: 83.41%\n",
      "\n",
      "Train time on device: cpu :  36.203 seconds\n"
     ]
    }
   ],
   "source": [
    "torch.manual_seed(42)\n",
    "train_time_start_on_cpu = timer()\n",
    "epochs = 3\n",
    "for epoch in tqdm(range(epochs)):\n",
    "    print(f'Epoch : {epoch}\\n-------')\n",
    "    \n",
    "    # Training \n",
    "    train_loss = 0\n",
    "    \n",
    "    for batch, (X, y) in enumerate(train_dataloader):\n",
    "        model_0.train()\n",
    "        y_pred = model_0(X)\n",
    "        loss = loss_fn(y_pred, y)\n",
    "        train_loss += loss\n",
    "        \n",
    "        optimizer.zero_grad()\n",
    "        \n",
    "        loss.backward()\n",
    "        \n",
    "        optimizer.step()\n",
    "        \n",
    "        if batch % 400 == 0:\n",
    "            print(f\"Looked at {batch * len(X)}/{len(train_dataloader.dataset)} samples\")\n",
    "\n",
    "    # Divide total train loss by length of train dataloader (average loss per batch per epoch)\n",
    "    train_loss /= len(train_dataloader)\n",
    "    \n",
    "    test_loss, test_acc = 0, 0 \n",
    "    # Testing \n",
    "    model_0.eval()\n",
    "    with torch.inference_mode():\n",
    "        for X, y in test_dataloader:\n",
    "            test_pred = model_0(X)\n",
    "            \n",
    "            loss = loss_fn(test_pred, y)\n",
    "            test_loss += loss\n",
    "            test_acc += accuracy_fn(y_true=y, y_pred=test_pred.argmax(dim=1))\n",
    "            \n",
    "            # Divide total test loss by length of test dataloader (per batch)\n",
    "        test_loss /= len(test_dataloader)\n",
    "\n",
    "        # Divide total accuracy by length of test dataloader (per batch)\n",
    "        test_acc /= len(test_dataloader)\n",
    "        print(f\"\\nTrain loss: {train_loss:.5f} | Test loss: {test_loss:.5f}, Test acc: {test_acc:.2f}%\\n\")\n",
    "\n",
    "# Calculate training time      \n",
    "train_time_end_on_cpu = timer()\n",
    "total_train_time_model_0 = print_train_time(start=train_time_start_on_cpu,                                                                                        end=train_time_end_on_cpu,\n",
    "                                            device=device)"
   ],
   "metadata": {
    "collapsed": false,
    "ExecuteTime": {
     "end_time": "2023-10-26T12:24:03.752541200Z",
     "start_time": "2023-10-26T12:23:27.526230900Z"
    }
   },
   "id": "5b831aa9109cb9dc"
  },
  {
   "cell_type": "markdown",
   "source": [
    "### Making predictions with model version 0\n",
    "\n"
   ],
   "metadata": {
    "collapsed": false
   },
   "id": "50511cd066911ab8"
  },
  {
   "cell_type": "code",
   "execution_count": 23,
   "outputs": [
    {
     "data": {
      "text/plain": "{'model_name': 'ModelV0',\n 'model_loss': 0.001032336731441319,\n 'model_acc': 0.30028917735831345}"
     },
     "execution_count": 23,
     "metadata": {},
     "output_type": "execute_result"
    }
   ],
   "source": [
    "torch.manual_seed(42)\n",
    "def eval_model(\n",
    "        model: nn.Module,\n",
    "        data_loader: torch.utils.data.DataLoader,\n",
    "        loss_fn: nn.Module,\n",
    "        accuracy_fn):\n",
    "    loss = acc = 0\n",
    "    \n",
    "    model.eval()\n",
    "    with torch.inference_mode():\n",
    "        for X,y in data_loader:\n",
    "            y_pred = model(X)\n",
    "            \n",
    "            loss +=loss_fn(y_pred, y)\n",
    "            acc += accuracy_fn(y, y_pred.argmax(dim=1))\n",
    "            \n",
    "            loss /= len(data_loader)\n",
    "            acc /= len(data_loader)\n",
    "        \n",
    "    return {\"model_name\": model.__class__.__name__, # only works when model was created with a class\n",
    "            \"model_loss\": loss.item(),\n",
    "            \"model_acc\": acc}\n",
    "model_0_result = eval_model(model_0, test_dataloader, loss_fn, accuracy_fn)\n",
    "model_0_result"
   ],
   "metadata": {
    "collapsed": false,
    "ExecuteTime": {
     "end_time": "2023-10-26T12:24:04.857615200Z",
     "start_time": "2023-10-26T12:24:03.750540400Z"
    }
   },
   "id": "bda65f88d1f18cc8"
  },
  {
   "cell_type": "markdown",
   "source": [
    "## Build model with non-linear"
   ],
   "metadata": {
    "collapsed": false
   },
   "id": "502ef271d9104a72"
  },
  {
   "cell_type": "code",
   "execution_count": 24,
   "outputs": [],
   "source": [
    "# Create a model with non-linear and linear layers\n",
    "class FashionMNISTModelV1(nn.Module):\n",
    "    def __init__(self, input_shape: int, hidden_units: int, output_shape: int):\n",
    "        super().__init__()\n",
    "        self.layer_stack = nn.Sequential(\n",
    "            nn.Flatten(), # flatten inputs into single vector\n",
    "            nn.Linear(in_features=input_shape, out_features=hidden_units),\n",
    "            nn.ReLU(),\n",
    "            nn.Linear(in_features=hidden_units, out_features=output_shape),\n",
    "            nn.ReLU()\n",
    "        )\n",
    "    \n",
    "    def forward(self, x: torch.Tensor):\n",
    "        return self.layer_stack(x)"
   ],
   "metadata": {
    "collapsed": false,
    "ExecuteTime": {
     "end_time": "2023-10-26T12:24:04.873528400Z",
     "start_time": "2023-10-26T12:24:04.856456100Z"
    }
   },
   "id": "6a1e88bdc131ac1c"
  },
  {
   "cell_type": "markdown",
   "source": [
    "### Functionizing training and test loops"
   ],
   "metadata": {
    "collapsed": false
   },
   "id": "6439b644450255f1"
  },
  {
   "cell_type": "code",
   "execution_count": 25,
   "outputs": [],
   "source": [
    "def train_step(model: torch.nn.Module,\n",
    "               data_loader: torch.utils.data.DataLoader,\n",
    "               loss_fn: torch.nn.Module,\n",
    "               optimizer: torch.optim.Optimizer,\n",
    "               accuracy_fn,\n",
    "               device: torch.device):\n",
    "    train_loss, train_acc = 0, 0\n",
    "    model.to(device)\n",
    "    for X, y in data_loader:\n",
    "        # Send data to GPU\n",
    "        X, y = X.to(device), y.to(device)\n",
    "\n",
    "        # 1. Forward pass\n",
    "        y_pred = model(X)\n",
    "\n",
    "        # 2. Calculate loss\n",
    "        loss = loss_fn(y_pred, y)\n",
    "        train_loss += loss\n",
    "        train_acc += accuracy_fn(y_true=y,\n",
    "                                 y_pred=y_pred.argmax(dim=1)) # Go from logits -> pred labels\n",
    "\n",
    "        # 3. Optimizer zero grad\n",
    "        optimizer.zero_grad()\n",
    "\n",
    "        # 4. Loss backward\n",
    "        loss.backward()\n",
    "\n",
    "        # 5. Optimizer step\n",
    "        optimizer.step()\n",
    "\n",
    "    # Calculate loss and accuracy per epoch and print out what's happening\n",
    "    train_loss /= len(data_loader)\n",
    "    train_acc /= len(data_loader)\n",
    "    print(f\"Train loss: {train_loss:.5f} | Train accuracy: {train_acc:.2f}%\")\n",
    "\n",
    "def test_step(data_loader: torch.utils.data.DataLoader,\n",
    "              model: torch.nn.Module,\n",
    "              loss_fn: torch.nn.Module,\n",
    "              accuracy_fn,\n",
    "              device: torch.device):\n",
    "    test_loss, test_acc = 0, 0\n",
    "    model.to(device)\n",
    "    model.eval() # put model in eval mode\n",
    "    # Turn on inference context manager\n",
    "    with torch.inference_mode(): \n",
    "        for X, y in data_loader:\n",
    "            # Send data to GPU\n",
    "            X, y = X.to(device), y.to(device)\n",
    "            \n",
    "            # 1. Forward pass\n",
    "            test_pred = model(X)\n",
    "            \n",
    "            # 2. Calculate loss and accuracy\n",
    "            test_loss += loss_fn(test_pred, y)\n",
    "            test_acc += accuracy_fn(y_true=y,\n",
    "                y_pred=test_pred.argmax(dim=1) # Go from logits -> pred labels\n",
    "            )\n",
    "        \n",
    "        # Adjust metrics and print out\n",
    "        test_loss /= len(data_loader)\n",
    "        test_acc /= len(data_loader)\n",
    "        print(f\"Test loss: {test_loss:.5f} | Test accuracy: {test_acc:.2f}%\\n\")"
   ],
   "metadata": {
    "collapsed": false,
    "ExecuteTime": {
     "end_time": "2023-10-26T12:24:04.939568700Z",
     "start_time": "2023-10-26T12:24:04.877530400Z"
    }
   },
   "id": "4f188abdd120265c"
  },
  {
   "cell_type": "code",
   "execution_count": 26,
   "outputs": [
    {
     "data": {
      "text/plain": "device(type='cpu')"
     },
     "execution_count": 26,
     "metadata": {},
     "output_type": "execute_result"
    }
   ],
   "source": [
    "torch.manual_seed(42)\n",
    "model_1 = FashionMNISTModelV1(input_shape=784, # number of input features\n",
    "    hidden_units=10,\n",
    "    output_shape=len(class_names) # number of output classes desired\n",
    ").to('cpu') # send model to GPU if it's available\n",
    "next(model_1.parameters()).device # check model device"
   ],
   "metadata": {
    "collapsed": false,
    "ExecuteTime": {
     "end_time": "2023-10-26T12:24:04.962991700Z",
     "start_time": "2023-10-26T12:24:04.887614800Z"
    }
   },
   "id": "8d2d145f51d0f5ee"
  },
  {
   "cell_type": "code",
   "execution_count": 27,
   "outputs": [],
   "source": [
    "from helper_functions import accuracy_fn\n",
    "loss_fn = nn.CrossEntropyLoss()\n",
    "optimizer = torch.optim.SGD(params=model_1.parameters(), \n",
    "                            lr=0.1)"
   ],
   "metadata": {
    "collapsed": false,
    "ExecuteTime": {
     "end_time": "2023-10-26T12:24:04.962991700Z",
     "start_time": "2023-10-26T12:24:04.903332800Z"
    }
   },
   "id": "62a56c1d611c8344"
  },
  {
   "cell_type": "markdown",
   "source": [
    "#### Training Model_1(Model with non-linear)"
   ],
   "metadata": {
    "collapsed": false
   },
   "id": "e6b73cbb16da7b5b"
  },
  {
   "cell_type": "code",
   "execution_count": 28,
   "outputs": [
    {
     "name": "stdout",
     "output_type": "stream",
     "text": [
      "Epoch: 0\n",
      "---------\n",
      "Train loss: 1.09199 | Train accuracy: 61.34%\n",
      "Test loss: 0.95636 | Test accuracy: 65.00%\n",
      "\n",
      "Epoch: 1\n",
      "---------\n",
      "Train loss: 0.78101 | Train accuracy: 71.93%\n",
      "Test loss: 0.72227 | Test accuracy: 73.91%\n",
      "\n",
      "Epoch: 2\n",
      "---------\n",
      "Train loss: 0.67027 | Train accuracy: 75.94%\n",
      "Test loss: 0.68500 | Test accuracy: 75.02%\n",
      "\n",
      "Train time on device: cpu :  28.449 seconds\n"
     ]
    }
   ],
   "source": [
    "torch.manual_seed(42)\n",
    "from timeit import default_timer as timer\n",
    "train_time_start_on_cpu = timer()\n",
    "\n",
    "epochs = 3\n",
    "for epoch in range(epochs):\n",
    "    print(f\"Epoch: {epoch}\\n---------\")\n",
    "    train_step(\n",
    "        model=model_1,\n",
    "        loss_fn=loss_fn,\n",
    "        optimizer=optimizer,\n",
    "        accuracy_fn=accuracy_fn,\n",
    "        data_loader=train_dataloader,\n",
    "        device=torch.device('cpu'),\n",
    "    )\n",
    "    test_step(\n",
    "        data_loader=test_dataloader,\n",
    "        model=model_1,\n",
    "        loss_fn=loss_fn,\n",
    "        accuracy_fn=accuracy_fn,\n",
    "        device=torch.device('cpu'),\n",
    "        \n",
    "    )\n",
    "train_time_end_on_cpu = timer()\n",
    "total_train_time_model_1 = print_train_time(end=train_time_end_on_cpu,\n",
    "                                            start=train_time_start_on_cpu,\n",
    "                                            device=device)"
   ],
   "metadata": {
    "collapsed": false,
    "ExecuteTime": {
     "end_time": "2023-10-26T12:24:33.394263800Z",
     "start_time": "2023-10-26T12:24:04.920290800Z"
    }
   },
   "id": "4655483beb78129b"
  },
  {
   "cell_type": "code",
   "execution_count": 29,
   "outputs": [
    {
     "data": {
      "text/plain": "{'model_name': 'FashionMNISTModelV1',\n 'model_loss': 0.0012777420924976468,\n 'model_acc': 0.28032041221337156}"
     },
     "execution_count": 29,
     "metadata": {},
     "output_type": "execute_result"
    }
   ],
   "source": [
    "torch.manual_seed(42)\n",
    "\n",
    "# Note: This will error due to `eval_model()` not using device agnostic code \n",
    "model_1_results = eval_model(model=model_1, \n",
    "    data_loader=test_dataloader,\n",
    "    loss_fn=loss_fn, \n",
    "    accuracy_fn=accuracy_fn) \n",
    "model_1_results "
   ],
   "metadata": {
    "collapsed": false,
    "ExecuteTime": {
     "end_time": "2023-10-26T12:24:34.304450400Z",
     "start_time": "2023-10-26T12:24:33.388264700Z"
    }
   },
   "id": "2c3e2374a5d1de64"
  },
  {
   "cell_type": "markdown",
   "source": [
    "### Make a Evaluation Func for many devices"
   ],
   "metadata": {
    "collapsed": false
   },
   "id": "2c80a884e0425565"
  },
  {
   "cell_type": "code",
   "execution_count": 30,
   "outputs": [],
   "source": [
    "torch.manual_seed(42)\n",
    "def eval_model(\n",
    "        model: nn.Module,\n",
    "        data_loader:  torch.utils.data.DataLoader,\n",
    "        loss_fn: nn.Module,\n",
    "        accuracy_fn,\n",
    "        device: torch.device = device,):\n",
    "    \n",
    "    loss = acc = 0\n",
    "    model.eval()\n",
    "    with torch.inference_mode():\n",
    "        for X, y in data_loader:\n",
    "            X, y = X.to(device), y.to(device)\n",
    "            \n",
    "            y_pred = model(X)\n",
    "            loss += loss_fn(y_pred, y)\n",
    "            acc += accuracy_fn(y, y_pred.argmax(dim=1))\n",
    "        loss /= len(data_loader)\n",
    "        acc /= len(data_loader)\n",
    "    return {\"model_name\": model.__class__.__name__, # only works when model was created with a class\n",
    "            \"model_loss\": loss.item(),\n",
    "            \"model_acc\": acc}"
   ],
   "metadata": {
    "collapsed": false,
    "ExecuteTime": {
     "end_time": "2023-10-26T12:24:34.333960900Z",
     "start_time": "2023-10-26T12:24:34.303450500Z"
    }
   },
   "id": "1c8e644ba87639b7"
  },
  {
   "cell_type": "code",
   "execution_count": 31,
   "outputs": [
    {
     "data": {
      "text/plain": "{'model_name': 'FashionMNISTModelV1',\n 'model_loss': 0.6850009560585022,\n 'model_acc': 75.01996805111821}"
     },
     "execution_count": 31,
     "metadata": {},
     "output_type": "execute_result"
    }
   ],
   "source": [
    " \n",
    "model_1_results = eval_model(model=model_1, data_loader=test_dataloader,\n",
    "    loss_fn=loss_fn, accuracy_fn=accuracy_fn,\n",
    "    device=device\n",
    ")\n",
    "model_1_results"
   ],
   "metadata": {
    "collapsed": false,
    "ExecuteTime": {
     "end_time": "2023-10-26T12:24:35.290086600Z",
     "start_time": "2023-10-26T12:24:34.320962200Z"
    }
   },
   "id": "8456aecb72520be9"
  },
  {
   "cell_type": "code",
   "execution_count": 32,
   "outputs": [
    {
     "data": {
      "text/plain": "{'model_name': 'ModelV0',\n 'model_loss': 0.001032336731441319,\n 'model_acc': 0.30028917735831345}"
     },
     "execution_count": 32,
     "metadata": {},
     "output_type": "execute_result"
    }
   ],
   "source": [
    "model_0_result"
   ],
   "metadata": {
    "collapsed": false,
    "ExecuteTime": {
     "end_time": "2023-10-26T12:24:35.370760300Z",
     "start_time": "2023-10-26T12:24:35.290086600Z"
    }
   },
   "id": "4cf28501fa0f6bf7"
  },
  {
   "cell_type": "markdown",
   "source": [
    "## Build a convolutional neural network"
   ],
   "metadata": {
    "collapsed": false
   },
   "id": "d102fa6409914a80"
  },
  {
   "cell_type": "code",
   "execution_count": 33,
   "outputs": [
    {
     "data": {
      "text/plain": "FashionModelV2(\n  (block_2): Sequential(\n    (0): Conv2d(10, 10, kernel_size=(3, 3), stride=(1, 1), padding=(1, 1))\n    (1): ReLU()\n    (2): Conv2d(10, 10, kernel_size=(3, 3), stride=(1, 1), padding=(1, 1))\n    (3): ReLU()\n    (4): MaxPool2d(kernel_size=2, stride=2, padding=0, dilation=1, ceil_mode=False)\n  )\n  (classifier): Sequential(\n    (0): Flatten(start_dim=1, end_dim=-1)\n    (1): Linear(in_features=490, out_features=10, bias=True)\n  )\n)"
     },
     "execution_count": 33,
     "metadata": {},
     "output_type": "execute_result"
    }
   ],
   "source": [
    "class FashionModelV2(nn.Module):\n",
    "    def __init__(self, input_shape, output_shape, hidden_units):\n",
    "        super().__init__()\n",
    "        self.block_1 = nn.Sequential(\n",
    "            nn.Conv2d(\n",
    "                in_channels=input_shape,\n",
    "                out_channels=hidden_units,\n",
    "                padding=1,\n",
    "                kernel_size=3,\n",
    "                stride=1\n",
    "            ),\n",
    "            nn.ReLU(),\n",
    "            nn.Conv2d(\n",
    "                in_channels=hidden_units,\n",
    "                out_channels=hidden_units,\n",
    "                padding=1,\n",
    "                stride=1,\n",
    "                kernel_size=3\n",
    "            ),\n",
    "            nn.ReLU(),\n",
    "            nn.MaxPool2d(kernel_size=2, stride=2)\n",
    "\n",
    "        ),\n",
    "        self.block_2 = nn.Sequential(\n",
    "            nn.Conv2d(hidden_units, hidden_units, 3, 1, 1),\n",
    "            nn.ReLU(),\n",
    "            nn.Conv2d(hidden_units, hidden_units, 3, 1, 1),\n",
    "            nn.ReLU(),\n",
    "            nn.MaxPool2d(2)\n",
    "        )\n",
    "        \n",
    "        self.classifier = nn.Sequential(\n",
    "            nn.Flatten(),\n",
    "            nn.Linear(in_features=hidden_units*7*7,\n",
    "                      out_features=output_shape\n",
    "                      )\n",
    "        )\n",
    "    \n",
    "    def forward(self, x):\n",
    "        \n",
    "        for i in range(len(self.block_1)):\n",
    "            x = self.block_1[i](x)\n",
    "        \n",
    "        \n",
    "        for i in range(len(self.block_2)):\n",
    "            x = self.block_2[i](x)\n",
    "        x = self.classifier(x)\n",
    "        \n",
    "        return x\n",
    "torch.manual_seed(42)\n",
    "model_2 = FashionModelV2(input_shape=1, \n",
    "    hidden_units=10, \n",
    "    output_shape=len(class_names)).to(device)\n",
    "model_2"
   ],
   "metadata": {
    "collapsed": false,
    "ExecuteTime": {
     "end_time": "2023-10-26T12:24:35.415731800Z",
     "start_time": "2023-10-26T12:24:35.311514Z"
    }
   },
   "id": "72afa17517bad535"
  },
  {
   "cell_type": "code",
   "execution_count": 34,
   "outputs": [
    {
     "name": "stdout",
     "output_type": "stream",
     "text": [
      "Image batch shape: torch.Size([32, 3, 64, 64]) -> [batch_size, color_channels, height, width]\n",
      "Single image shape: torch.Size([3, 64, 64]) -> [color_channels, height, width]\n",
      "Single image pixel values:\n",
      "tensor([[[ 1.9269,  1.4873,  0.9007,  ...,  1.8446, -1.1845,  1.3835],\n",
      "         [ 1.4451,  0.8564,  2.2181,  ...,  0.3399,  0.7200,  0.4114],\n",
      "         [ 1.9312,  1.0119, -1.4364,  ..., -0.5558,  0.7043,  0.7099],\n",
      "         ...,\n",
      "         [-0.5610, -0.4830,  0.4770,  ..., -0.2713, -0.9537, -0.6737],\n",
      "         [ 0.3076, -0.1277,  0.0366,  ..., -2.0060,  0.2824, -0.8111],\n",
      "         [-1.5486,  0.0485, -0.7712,  ..., -0.1403,  0.9416, -0.0118]],\n",
      "\n",
      "        [[-0.5197,  1.8524,  1.8365,  ...,  0.8935, -1.5114, -0.8515],\n",
      "         [ 2.0818,  1.0677, -1.4277,  ...,  1.6612, -2.6223, -0.4319],\n",
      "         [-0.1010, -0.4388, -1.9775,  ...,  0.2106,  0.2536, -0.7318],\n",
      "         ...,\n",
      "         [ 0.2779,  0.7342, -0.3736,  ..., -0.4601,  0.1815,  0.1850],\n",
      "         [ 0.7205, -0.2833,  0.0937,  ..., -0.1002, -2.3609,  2.2465],\n",
      "         [-1.3242, -0.1973,  0.2920,  ...,  0.5409,  0.6940,  1.8563]],\n",
      "\n",
      "        [[-0.7978,  1.0261,  1.1465,  ...,  1.2134,  0.9354, -0.0780],\n",
      "         [-1.4647, -1.9571,  0.1017,  ..., -1.9986, -0.7409,  0.7011],\n",
      "         [-1.3938,  0.8466, -1.7191,  ..., -1.1867,  0.1320,  0.3407],\n",
      "         ...,\n",
      "         [ 0.8206, -0.3745,  1.2499,  ..., -0.0676,  0.0385,  0.6335],\n",
      "         [-0.5589, -0.3393,  0.2347,  ...,  2.1181,  2.4569,  1.3083],\n",
      "         [-0.4092,  1.5199,  0.2401,  ..., -0.2558,  0.7870,  0.9924]]])\n"
     ]
    }
   ],
   "source": [
    "torch.manual_seed(42)\n",
    "\n",
    "# Create sample batch of random numbers with same size as image batch\n",
    "images = torch.randn(size=(32, 3, 64, 64)) # [batch_size, color_channels, height, width]\n",
    "test_image = images[0] # get a single image for testing\n",
    "print(f\"Image batch shape: {images.shape} -> [batch_size, color_channels, height, width]\")\n",
    "print(f\"Single image shape: {test_image.shape} -> [color_channels, height, width]\") \n",
    "print(f\"Single image pixel values:\\n{test_image}\")"
   ],
   "metadata": {
    "collapsed": false,
    "ExecuteTime": {
     "end_time": "2023-10-26T12:24:35.416731700Z",
     "start_time": "2023-10-26T12:24:35.340989800Z"
    }
   },
   "id": "265dc5d74ac9a295"
  },
  {
   "cell_type": "code",
   "execution_count": 35,
   "outputs": [
    {
     "data": {
      "text/plain": "tensor([[[ 1.5396,  0.0516,  0.6454,  ..., -0.3673,  0.8711,  0.4256],\n         [ 0.3662,  1.0114, -0.5997,  ...,  0.8983,  0.2809, -0.2741],\n         [ 1.2664, -1.4054,  0.3727,  ..., -0.3409,  1.2191, -0.0463],\n         ...,\n         [-0.1541,  0.5132, -0.3624,  ..., -0.2360, -0.4609, -0.0035],\n         [ 0.2981, -0.2432,  1.5012,  ..., -0.6289, -0.7283, -0.5767],\n         [-0.0386, -0.0781, -0.0388,  ...,  0.2842,  0.4228, -0.1802]],\n\n        [[-0.2840, -0.0319, -0.4455,  ..., -0.7956,  1.5599, -1.2449],\n         [ 0.2753, -0.1262, -0.6541,  ..., -0.2211,  0.1999, -0.8856],\n         [-0.5404, -1.5489,  0.0249,  ..., -0.5932, -1.0913, -0.3849],\n         ...,\n         [ 0.3870, -0.4064, -0.8236,  ...,  0.1734, -0.4330, -0.4951],\n         [-0.1984, -0.6386,  1.0263,  ..., -0.9401, -0.0585, -0.7833],\n         [-0.6306, -0.2052, -0.3694,  ..., -1.3248,  0.2456, -0.7134]],\n\n        [[ 0.4414,  0.5100,  0.4846,  ..., -0.8484,  0.2638,  1.1258],\n         [ 0.8117,  0.3191, -0.0157,  ...,  1.2686,  0.2319,  0.5003],\n         [ 0.3212,  0.0485, -0.2581,  ...,  0.2258,  0.2587, -0.8804],\n         ...,\n         [-0.1144, -0.1869,  0.0160,  ..., -0.8346,  0.0974,  0.8421],\n         [ 0.2941,  0.4417,  0.5866,  ..., -0.1224,  0.4814, -0.4799],\n         [ 0.6059, -0.0415, -0.2028,  ...,  0.1170,  0.2521, -0.4372]],\n\n        ...,\n\n        [[-0.2560, -0.0477,  0.6380,  ...,  0.6436,  0.7553, -0.7055],\n         [ 1.5595, -0.2209, -0.9486,  ..., -0.4876,  0.7754,  0.0750],\n         [-0.0797,  0.2471,  1.1300,  ...,  0.1505,  0.2354,  0.9576],\n         ...,\n         [ 1.1065,  0.6839,  1.2183,  ...,  0.3015, -0.1910, -0.1902],\n         [-0.3486, -0.7173, -0.3582,  ...,  0.4917,  0.7219,  0.1513],\n         [ 0.0119,  0.1017,  0.7839,  ..., -0.3752, -0.8127, -0.1257]],\n\n        [[ 0.3841,  1.1322,  0.1620,  ...,  0.7010,  0.0109,  0.6058],\n         [ 0.1664,  0.1873,  1.5924,  ...,  0.3733,  0.9096, -0.5399],\n         [ 0.4094, -0.0861, -0.7935,  ..., -0.1285, -0.9932, -0.3013],\n         ...,\n         [ 0.2688, -0.5630, -1.1902,  ...,  0.4493,  0.5404, -0.0103],\n         [ 0.0535,  0.4411,  0.5313,  ...,  0.0148, -1.0056,  0.3759],\n         [ 0.3031, -0.1590, -0.1316,  ..., -0.5384, -0.4271, -0.4876]],\n\n        [[-1.1865, -0.7280, -1.2331,  ..., -0.9013, -0.0542, -1.5949],\n         [-0.6345, -0.5920,  0.5326,  ..., -1.0395, -0.7963, -0.0647],\n         [-0.1132,  0.5166,  0.2569,  ...,  0.5595, -1.6881,  0.9485],\n         ...,\n         [-0.0254, -0.2669,  0.1927,  ..., -0.2917,  0.1088, -0.4807],\n         [-0.2609, -0.2328,  0.1404,  ..., -0.1325, -0.8436, -0.7524],\n         [-1.1399, -0.1751, -0.8705,  ...,  0.1589,  0.3377,  0.3493]]],\n       grad_fn=<SqueezeBackward1>)"
     },
     "execution_count": 35,
     "metadata": {},
     "output_type": "execute_result"
    }
   ],
   "source": [
    "torch.manual_seed(42)\n",
    "\n",
    "# Create a convolutional layer with same dimensions as TinyVGG \n",
    "# (try changing any of the parameters and see what happens)\n",
    "conv_layer = nn.Conv2d(in_channels=3,\n",
    "                       out_channels=10,\n",
    "                       kernel_size=3,\n",
    "                       stride=1,\n",
    "                       padding=0) # also try using \"valid\" or \"same\" here \n",
    "\n",
    "# Pass the data through the convolutional layer\n",
    "conv_layer(test_image) # Note: If running PyTorch <1.11.0, this will error because of shape issues (nn.Conv.2d() expects a 4d tensor as input) "
   ],
   "metadata": {
    "collapsed": false,
    "ExecuteTime": {
     "end_time": "2023-10-26T12:24:35.517725900Z",
     "start_time": "2023-10-26T12:24:35.370760300Z"
    }
   },
   "id": "62b16a421ce63a9e"
  },
  {
   "cell_type": "code",
   "execution_count": 36,
   "outputs": [
    {
     "data": {
      "text/plain": "torch.Size([1, 10, 30, 30])"
     },
     "execution_count": 36,
     "metadata": {},
     "output_type": "execute_result"
    }
   ],
   "source": [
    "torch.manual_seed(42)\n",
    "# Create a new conv_layer with different values (try setting these to whatever you like)\n",
    "conv_layer_2 = nn.Conv2d(in_channels=3, # same number of color channels as our input image\n",
    "                         out_channels=10,\n",
    "                         kernel_size=(5, 5), # kernel is usually a square so a tuple also works\n",
    "                         stride=2,\n",
    "                         padding=0)\n",
    "\n",
    "# Pass single image through new conv_layer_2 (this calls nn.Conv2d()'s forward() method on the input)\n",
    "conv_layer_2(test_image.unsqueeze(dim=0)).shape"
   ],
   "metadata": {
    "collapsed": false,
    "ExecuteTime": {
     "end_time": "2023-10-26T12:24:35.582312500Z",
     "start_time": "2023-10-26T12:24:35.404023Z"
    }
   },
   "id": "a83cce009f0a9afc"
  },
  {
   "cell_type": "code",
   "execution_count": 37,
   "outputs": [],
   "source": [
    "# Setup loss and optimizer\n",
    "loss_fn = nn.CrossEntropyLoss()\n",
    "optimizer = torch.optim.SGD(params=model_2.parameters(), \n",
    "                             lr=0.1)"
   ],
   "metadata": {
    "collapsed": false,
    "ExecuteTime": {
     "end_time": "2023-10-26T12:24:35.583312900Z",
     "start_time": "2023-10-26T12:24:35.447103100Z"
    }
   },
   "id": "f80ecc2d462cf859"
  },
  {
   "cell_type": "code",
   "execution_count": 38,
   "outputs": [
    {
     "data": {
      "text/plain": "  0%|          | 0/5 [00:00<?, ?it/s]",
      "application/vnd.jupyter.widget-view+json": {
       "version_major": 2,
       "version_minor": 0,
       "model_id": "a2c29db21af748afb9b42e62265887fc"
      }
     },
     "metadata": {},
     "output_type": "display_data"
    },
    {
     "name": "stdout",
     "output_type": "stream",
     "text": [
      "Epoch: 0\n",
      "---------\n",
      "Train loss: 0.75681 | Train accuracy: 72.45%\n",
      "Test loss: 0.55202 | Test accuracy: 80.15%\n",
      "\n",
      "Epoch: 1\n",
      "---------\n",
      "Train loss: 0.47253 | Train accuracy: 83.03%\n",
      "Test loss: 0.46389 | Test accuracy: 83.38%\n",
      "\n",
      "Epoch: 2\n",
      "---------\n",
      "Train loss: 0.42215 | Train accuracy: 84.87%\n",
      "Test loss: 0.42700 | Test accuracy: 84.56%\n",
      "\n",
      "Epoch: 3\n",
      "---------\n",
      "Train loss: 0.38926 | Train accuracy: 86.02%\n",
      "Test loss: 0.41004 | Test accuracy: 85.21%\n",
      "\n",
      "Epoch: 4\n",
      "---------\n",
      "Train loss: 0.36804 | Train accuracy: 86.73%\n",
      "Test loss: 0.39710 | Test accuracy: 85.79%\n",
      "\n",
      "Train time on device: cpu :  130.009 seconds\n"
     ]
    }
   ],
   "source": [
    "from timeit import default_timer\n",
    "epochs = 5\n",
    "start_time = default_timer()\n",
    "\n",
    "for epoch in tqdm(range(epochs)):\n",
    "    print(f\"Epoch: {epoch}\\n---------\")\n",
    "    train_step(\n",
    "        data_loader=train_dataloader,\n",
    "        model=model_2,\n",
    "        loss_fn=loss_fn,\n",
    "        optimizer=optimizer,\n",
    "        accuracy_fn=accuracy_fn,\n",
    "        device=device\n",
    "    )\n",
    "    test_step(\n",
    "        data_loader=test_dataloader,\n",
    "        model=model_2,\n",
    "        loss_fn=loss_fn,\n",
    "        accuracy_fn=accuracy_fn,\n",
    "        device=device\n",
    "    )\n",
    "time_end = default_timer()\n",
    "total_train_time_model_2 = print_train_time(start=start_time, end=time_end, device=device)"
   ],
   "metadata": {
    "collapsed": false,
    "ExecuteTime": {
     "end_time": "2023-10-26T12:26:45.485724300Z",
     "start_time": "2023-10-26T12:24:35.465124Z"
    }
   },
   "id": "2068ea0ca0d7bcb1"
  },
  {
   "cell_type": "code",
   "execution_count": 39,
   "outputs": [
    {
     "data": {
      "text/plain": "{'model_name': 'FashionModelV2',\n 'model_loss': 0.39709925651550293,\n 'model_acc': 85.79273162939297}"
     },
     "execution_count": 39,
     "metadata": {},
     "output_type": "execute_result"
    }
   ],
   "source": [
    "# Get the result of mode 2\n",
    "model_2_result = eval_model(model=model_2,\n",
    "                            accuracy_fn=accuracy_fn,\n",
    "                            loss_fn=loss_fn,\n",
    "                            data_loader=test_dataloader,\n",
    "                            device=device\n",
    "                            )\n",
    "model_2_result"
   ],
   "metadata": {
    "collapsed": false,
    "ExecuteTime": {
     "end_time": "2023-10-26T12:26:47.293592200Z",
     "start_time": "2023-10-26T12:26:45.485724300Z"
    }
   },
   "id": "4b6b71a67cc77529"
  },
  {
   "cell_type": "markdown",
   "source": [
    "### Compare model results and training time"
   ],
   "metadata": {
    "collapsed": false
   },
   "id": "ba396a713d818d76"
  },
  {
   "cell_type": "code",
   "execution_count": 40,
   "outputs": [
    {
     "data": {
      "text/plain": "            model_name  model_loss  model_acc\n0              ModelV0    0.001032   0.300289\n1  FashionMNISTModelV1    0.685001  75.019968\n2       FashionModelV2    0.397099  85.792732",
      "text/html": "<div>\n<style scoped>\n    .dataframe tbody tr th:only-of-type {\n        vertical-align: middle;\n    }\n\n    .dataframe tbody tr th {\n        vertical-align: top;\n    }\n\n    .dataframe thead th {\n        text-align: right;\n    }\n</style>\n<table border=\"1\" class=\"dataframe\">\n  <thead>\n    <tr style=\"text-align: right;\">\n      <th></th>\n      <th>model_name</th>\n      <th>model_loss</th>\n      <th>model_acc</th>\n    </tr>\n  </thead>\n  <tbody>\n    <tr>\n      <th>0</th>\n      <td>ModelV0</td>\n      <td>0.001032</td>\n      <td>0.300289</td>\n    </tr>\n    <tr>\n      <th>1</th>\n      <td>FashionMNISTModelV1</td>\n      <td>0.685001</td>\n      <td>75.019968</td>\n    </tr>\n    <tr>\n      <th>2</th>\n      <td>FashionModelV2</td>\n      <td>0.397099</td>\n      <td>85.792732</td>\n    </tr>\n  </tbody>\n</table>\n</div>"
     },
     "execution_count": 40,
     "metadata": {},
     "output_type": "execute_result"
    }
   ],
   "source": [
    "import pandas as pd\n",
    "\n",
    "data_frame = pd.DataFrame([model_0_result, model_1_results, model_2_result])\n",
    "data_frame"
   ],
   "metadata": {
    "collapsed": false,
    "ExecuteTime": {
     "end_time": "2023-10-26T12:26:47.835814Z",
     "start_time": "2023-10-26T12:26:47.290592Z"
    }
   },
   "id": "e46db37a0907cbf7"
  },
  {
   "cell_type": "code",
   "execution_count": 44,
   "outputs": [
    {
     "data": {
      "text/plain": "            model_name  model_loss  model_acc  training_time\n0              ModelV0    0.001032   0.300289      36.203125\n1  FashionMNISTModelV1    0.685001  75.019968      28.448924\n2       FashionModelV2    0.397099  85.792732     130.009097",
      "text/html": "<div>\n<style scoped>\n    .dataframe tbody tr th:only-of-type {\n        vertical-align: middle;\n    }\n\n    .dataframe tbody tr th {\n        vertical-align: top;\n    }\n\n    .dataframe thead th {\n        text-align: right;\n    }\n</style>\n<table border=\"1\" class=\"dataframe\">\n  <thead>\n    <tr style=\"text-align: right;\">\n      <th></th>\n      <th>model_name</th>\n      <th>model_loss</th>\n      <th>model_acc</th>\n      <th>training_time</th>\n    </tr>\n  </thead>\n  <tbody>\n    <tr>\n      <th>0</th>\n      <td>ModelV0</td>\n      <td>0.001032</td>\n      <td>0.300289</td>\n      <td>36.203125</td>\n    </tr>\n    <tr>\n      <th>1</th>\n      <td>FashionMNISTModelV1</td>\n      <td>0.685001</td>\n      <td>75.019968</td>\n      <td>28.448924</td>\n    </tr>\n    <tr>\n      <th>2</th>\n      <td>FashionModelV2</td>\n      <td>0.397099</td>\n      <td>85.792732</td>\n      <td>130.009097</td>\n    </tr>\n  </tbody>\n</table>\n</div>"
     },
     "execution_count": 44,
     "metadata": {},
     "output_type": "execute_result"
    }
   ],
   "source": [
    "data_frame['training_time'] = [\n",
    "    total_train_time_model_0,\n",
    "    total_train_time_model_1,\n",
    "    total_train_time_model_2\n",
    "]\n",
    "data_frame"
   ],
   "metadata": {
    "collapsed": false,
    "ExecuteTime": {
     "end_time": "2023-10-26T12:28:34.701760600Z",
     "start_time": "2023-10-26T12:28:34.646200300Z"
    }
   },
   "id": "e6d5428e7cda2774"
  },
  {
   "cell_type": "code",
   "execution_count": 45,
   "outputs": [
    {
     "data": {
      "text/plain": "<Figure size 432x288 with 1 Axes>",
      "image/png": "[encoded data removed]"
     },
     "metadata": {
      "needs_background": "light"
     },
     "output_type": "display_data"
    }
   ],
   "source": [
    "data_frame.set_index('model_name')['training_time'].plot(kind='barh')\n",
    "plt.xlabel(\"time (s)\")\n",
    "plt.ylabel(\"model\");"
   ],
   "metadata": {
    "collapsed": false,
    "ExecuteTime": {
     "end_time": "2023-10-26T12:28:35.711926700Z",
     "start_time": "2023-10-26T12:28:35.601564200Z"
    }
   },
   "id": "bb7956e3dd43f005"
  },
  {
   "cell_type": "code",
   "execution_count": 46,
   "outputs": [
    {
     "data": {
      "text/plain": "<Figure size 432x288 with 1 Axes>",
      "image/png": "[encoded data removed]"
     },
     "metadata": {
      "needs_background": "light"
     },
     "output_type": "display_data"
    }
   ],
   "source": [
    "data_frame.set_index('model_name')['model_acc'].plot(kind='barh')\n",
    "plt.xlabel(\"accuracy (%)\")\n",
    "plt.ylabel(\"model\");"
   ],
   "metadata": {
    "collapsed": false,
    "ExecuteTime": {
     "end_time": "2023-10-26T12:28:36.074330700Z",
     "start_time": "2023-10-26T12:28:35.968253600Z"
    }
   },
   "id": "2cc096ec88227d08"
  },
  {
   "cell_type": "markdown",
   "source": [
    "## Make and evaluate random predictions with best model"
   ],
   "metadata": {
    "collapsed": false
   },
   "id": "f0863ed33ec8d4b6"
  },
  {
   "cell_type": "code",
   "execution_count": 47,
   "outputs": [],
   "source": [
    "def make_predictions(\n",
    "        model: nn.Module,\n",
    "        data: list,\n",
    "        device: torch.device = device\n",
    "):\n",
    "    pred_probs = []\n",
    "    model.eval()\n",
    "    with torch.inference_mode():\n",
    "        for sample in data:\n",
    "            sample = torch.unsqueeze(sample, dim=1).to(device)\n",
    "            \n",
    "            pred_logistic = model(sample)\n",
    "            pred_prob = torch.softmax(pred_logistic.squeeze(), dim=0)\n",
    "            \n",
    "            pred_probs.append(pred_prob.cpu())\n",
    "    return torch.stack(pred_probs)"
   ],
   "metadata": {
    "collapsed": false,
    "ExecuteTime": {
     "end_time": "2023-10-26T12:28:36.423201100Z",
     "start_time": "2023-10-26T12:28:36.393974300Z"
    }
   },
   "id": "cad6465bdfa76d2e"
  },
  {
   "cell_type": "code",
   "execution_count": 48,
   "outputs": [
    {
     "name": "stdout",
     "output_type": "stream",
     "text": [
      "Test sample image shape: torch.Size([1, 28, 28])\n",
      "Test sample label: 5 (Sandal)\n"
     ]
    }
   ],
   "source": [
    "import random\n",
    "random.seed(42)\n",
    "test_samples = []\n",
    "test_labels = []\n",
    "\n",
    "for sample, label in random.sample(list(test_data), k=21):\n",
    "    test_samples.append(sample)\n",
    "    test_labels.append(label)\n",
    "    \n",
    "print(f\"Test sample image shape: {test_samples[0].shape}\\nTest sample label: {test_labels[0]} ({class_names[test_labels[0]]})\")"
   ],
   "metadata": {
    "collapsed": false,
    "ExecuteTime": {
     "end_time": "2023-10-26T12:28:39.670968400Z",
     "start_time": "2023-10-26T12:28:36.597856800Z"
    }
   },
   "id": "a4fc06ba73c0b1d0"
  },
  {
   "cell_type": "code",
   "execution_count": 49,
   "outputs": [
    {
     "data": {
      "text/plain": "tensor([[1.4820e-05, 3.8358e-07, 1.9494e-06, 2.5906e-07, 1.2526e-07, 9.9549e-01,\n         4.4195e-06, 2.5099e-04, 1.0497e-04, 4.1355e-03],\n        [1.0973e-01, 2.8295e-01, 9.9585e-04, 5.0051e-01, 4.9567e-03, 3.1283e-03,\n         9.6510e-02, 5.5261e-04, 5.6052e-04, 9.9582e-05]])"
     },
     "execution_count": 49,
     "metadata": {},
     "output_type": "execute_result"
    }
   ],
   "source": [
    "# Make predictions on test samples with model 2\n",
    "pred_probs= make_predictions(model=model_2, \n",
    "                             data=test_samples)\n",
    "\n",
    "# View first two prediction probabilities list\n",
    "pred_probs[:2]"
   ],
   "metadata": {
    "collapsed": false,
    "ExecuteTime": {
     "end_time": "2023-10-26T12:28:39.746341Z",
     "start_time": "2023-10-26T12:28:38.197725300Z"
    }
   },
   "id": "9474ca194015ca87"
  },
  {
   "cell_type": "code",
   "execution_count": 50,
   "outputs": [
    {
     "data": {
      "text/plain": "tensor([5, 3, 7, 4, 3, 0, 4, 7, 1, 9, 7, 2, 0, 1, 0, 3, 5, 4, 2, 4, 6])"
     },
     "execution_count": 50,
     "metadata": {},
     "output_type": "execute_result"
    }
   ],
   "source": [
    "# Turn the prediction probabilities into prediction labels by taking the argmax()\n",
    "pred_classes = pred_probs.argmax(dim=1)\n",
    "pred_classes"
   ],
   "metadata": {
    "collapsed": false,
    "ExecuteTime": {
     "end_time": "2023-10-26T12:28:39.746341Z",
     "start_time": "2023-10-26T12:28:38.302951600Z"
    }
   },
   "id": "7d62684dae48132d"
  },
  {
   "cell_type": "code",
   "execution_count": 51,
   "outputs": [
    {
     "data": {
      "text/plain": "[5, 1, 7, 4, 3, 0, 4, 7, 1, 9, 7, 2, 0, 1, 0, 4, 5, 4, 2, 4, 6]"
     },
     "execution_count": 51,
     "metadata": {},
     "output_type": "execute_result"
    }
   ],
   "source": [
    "test_labels"
   ],
   "metadata": {
    "collapsed": false,
    "ExecuteTime": {
     "end_time": "2023-10-26T12:28:39.746341Z",
     "start_time": "2023-10-26T12:28:38.321632100Z"
    }
   },
   "id": "6263b2fa7360d89f"
  },
  {
   "cell_type": "code",
   "execution_count": 52,
   "outputs": [
    {
     "data": {
      "text/plain": "<Figure size 1080x648 with 21 Axes>",
      "image/png": "[encoded data removed]"
     },
     "metadata": {
      "needs_background": "light"
     },
     "output_type": "display_data"
    }
   ],
   "source": [
    "def plot_predictions(test_samples:list[torch.Tensor], pred_labels, truth_labels):\n",
    "    plt.figure(figsize=[15, 9])\n",
    "    n_r = 3\n",
    "    n_c = 7\n",
    "    # test_samples = test_samples[:9]\n",
    "    # pred_labels = pred_labels[:9]\n",
    "    # truth_labels = truth_labels[:9]\n",
    "    \n",
    "    for i, sample in enumerate(test_samples):\n",
    "        plt.subplot(n_r, n_c, i+1)\n",
    "        \n",
    "        plt.imshow(sample.squeeze(), cmap='gray')\n",
    "        \n",
    "        pred_label = class_names[pred_labels[i]]\n",
    "        truth_label = class_names[truth_labels[i]]\n",
    "        \n",
    "        title_text = f\"Pred: {pred_label}\\nTruth: {truth_label}\"\n",
    "        \n",
    "        # Check for equality and change title colour accordingly\n",
    "        if pred_label == truth_label:\n",
    "            plt.title(title_text, fontsize=10, c=\"g\") # green text if correct\n",
    "        else:\n",
    "            plt.title(title_text, fontsize=10, c=\"r\") # red text if wrong\n",
    "        plt.axis(False)\n",
    "        \n",
    "plot_predictions(test_samples, pred_labels=pred_classes, truth_labels=test_labels)"
   ],
   "metadata": {
    "collapsed": false,
    "ExecuteTime": {
     "end_time": "2023-10-26T12:28:40.280724200Z",
     "start_time": "2023-10-26T12:28:38.341586700Z"
    }
   },
   "id": "f66a6b1a41447b8a"
  },
  {
   "cell_type": "markdown",
   "source": [
    "## Evaluate using confusion matrix"
   ],
   "metadata": {
    "collapsed": false
   },
   "id": "e6a3b96c4e378f8"
  },
  {
   "cell_type": "code",
   "execution_count": 53,
   "outputs": [],
   "source": [
    "from tqdm.auto import  tqdm"
   ],
   "metadata": {
    "collapsed": false,
    "ExecuteTime": {
     "end_time": "2023-10-26T12:28:40.281730700Z",
     "start_time": "2023-10-26T12:28:39.574723Z"
    }
   },
   "id": "7862d19378e4c24c"
  },
  {
   "cell_type": "code",
   "execution_count": 59,
   "outputs": [
    {
     "data": {
      "text/plain": "Makeing predictions:   0%|          | 0/313 [00:00<?, ?it/s]",
      "application/vnd.jupyter.widget-view+json": {
       "version_major": 2,
       "version_minor": 0,
       "model_id": "67e0b97196a04c6da229c57c06d3215a"
      }
     },
     "metadata": {},
     "output_type": "display_data"
    }
   ],
   "source": [
    "# Make full predictions\n",
    "y_preds = []\n",
    "model_2.eval()\n",
    "with torch.inference_mode():\n",
    "    for X, y in tqdm(test_dataloader, desc='Makeing predictions'):\n",
    "        X, y = X.to(device), y.to(device)\n",
    "        \n",
    "        y_logistic = model_2(X)\n",
    "        y_probs = torch.softmax(y_logistic, dim=1)\n",
    "        y_pred = y_probs.argmax(dim=1)\n",
    "        \n",
    "        y_preds.append(y_pred.cpu())\n",
    "        \n",
    "y_preds = torch.cat(y_preds)\n",
    "        "
   ],
   "metadata": {
    "collapsed": false,
    "ExecuteTime": {
     "end_time": "2023-10-26T12:28:54.740145800Z",
     "start_time": "2023-10-26T12:28:51.735280700Z"
    }
   },
   "id": "e831a11970669bd1"
  },
  {
   "cell_type": "code",
   "execution_count": 60,
   "outputs": [],
   "source": [
    "# from sklearn.metrics import confusion_matrix, ConfusionMatrixDisplay"
   ],
   "metadata": {
    "collapsed": false,
    "ExecuteTime": {
     "end_time": "2023-10-26T12:28:55.451826900Z",
     "start_time": "2023-10-26T12:28:55.411507100Z"
    }
   },
   "id": "ff81b346f7518e2a"
  },
  {
   "cell_type": "code",
   "execution_count": 61,
   "outputs": [],
   "source": [
    "from torchmetrics import ConfusionMatrix\n",
    "from mlxtend.plotting import plot_confusion_matrix"
   ],
   "metadata": {
    "collapsed": false,
    "ExecuteTime": {
     "end_time": "2023-10-26T12:28:55.898322500Z",
     "start_time": "2023-10-26T12:28:55.856860900Z"
    }
   },
   "id": "a3ff55bdf877afdf"
  },
  {
   "cell_type": "code",
   "execution_count": 62,
   "outputs": [
    {
     "data": {
      "text/plain": "<Figure size 648x648 with 1 Axes>",
      "image/png": "[encoded data removed]"
     },
     "metadata": {
      "needs_background": "light"
     },
     "output_type": "display_data"
    }
   ],
   "source": [
    "confmat = ConfusionMatrix(num_classes=len(class_names),\n",
    "                          task='multiclass',)\n",
    "confmat_tensor = confmat(preds=y_preds, target=test_data.targets)\n",
    "\n",
    "fix, ax = plot_confusion_matrix(\n",
    "    conf_mat=confmat_tensor.numpy(),\n",
    "    class_names=class_names,\n",
    "    figsize=(9, 9)\n",
    ")"
   ],
   "metadata": {
    "collapsed": false,
    "ExecuteTime": {
     "end_time": "2023-10-26T12:28:56.841538300Z",
     "start_time": "2023-10-26T12:28:56.381361500Z"
    }
   },
   "id": "9aebd715daf96b57"
  },
  {
   "cell_type": "code",
   "execution_count": 63,
   "outputs": [],
   "source": [
    "## Save parameters of model\n",
    "torch.save(model_2.state_dict(), './Parameter/parameter_cnn_model.pth' )"
   ],
   "metadata": {
    "collapsed": false,
    "ExecuteTime": {
     "end_time": "2023-10-26T12:32:17.726746600Z",
     "start_time": "2023-10-26T12:32:17.589456400Z"
    }
   },
   "id": "e0c5f759dac551d9"
  },
  {
   "cell_type": "code",
   "execution_count": 70,
   "outputs": [],
   "source": [
    "# Create a new instance of FashionMNISTModelV2 (the same class as our saved state_dict())\n",
    "# Note: loading model will error if the shapes here aren't the same as the saved version\n",
    "loaded_model_2 = FashionModelV2(input_shape=1, \n",
    "                                    hidden_units=10, # try changing this to 128 and seeing what happens \n",
    "                                    output_shape=10) \n",
    "\n",
    "# Load in the saved state_dict()\n",
    "loaded_model_2.load_state_dict(torch.load(f='./Parameter/parameter_cnn_model.pth'))\n",
    "\n",
    "# Send model to GPU\n",
    "loaded_model_2 = loaded_model_2.to(device)"
   ],
   "metadata": {
    "collapsed": false,
    "ExecuteTime": {
     "end_time": "2023-10-26T12:34:35.201928400Z",
     "start_time": "2023-10-26T12:34:35.115275200Z"
    }
   },
   "id": "c575a07a5a88171f"
  },
  {
   "cell_type": "code",
   "execution_count": 73,
   "outputs": [
    {
     "data": {
      "text/plain": "{'model_name': 'FashionModelV2',\n 'model_loss': 3.7354109287261963,\n 'model_acc': 11.082268370607029}"
     },
     "execution_count": 73,
     "metadata": {},
     "output_type": "execute_result"
    }
   ],
   "source": [
    "# Evaluate loaded model\n",
    "torch.manual_seed(42)\n",
    "\n",
    "loaded_model_2_results = eval_model(\n",
    "    model=loaded_model_2,\n",
    "    data_loader=test_dataloader,\n",
    "    loss_fn=loss_fn, \n",
    "    accuracy_fn=accuracy_fn,\n",
    "    device=device\n",
    ")\n",
    "\n",
    "loaded_model_2_results"
   ],
   "metadata": {
    "collapsed": false,
    "ExecuteTime": {
     "end_time": "2023-10-26T12:34:50.571099600Z",
     "start_time": "2023-10-26T12:34:47.875906400Z"
    }
   },
   "id": "64f6d1c4e5a7843"
  },
  {
   "cell_type": "code",
   "execution_count": 74,
   "outputs": [
    {
     "data": {
      "text/plain": "tensor(False)"
     },
     "execution_count": 74,
     "metadata": {},
     "output_type": "execute_result"
    }
   ],
   "source": [
    "# Check to see if results are close to each other (if they are very far away, there may be an error)\n",
    "torch.isclose(torch.tensor(model_2_result[\"model_loss\"]), \n",
    "              torch.tensor(loaded_model_2_results[\"model_loss\"]),\n",
    "              atol=1e-08, # absolute tolerance\n",
    "              rtol=0.0001) # relative tolerance"
   ],
   "metadata": {
    "collapsed": false,
    "ExecuteTime": {
     "end_time": "2023-10-26T12:34:51.880632600Z",
     "start_time": "2023-10-26T12:34:51.816570700Z"
    }
   },
   "id": "e2cb3fabc9b2390"
  },
  {
   "cell_type": "code",
   "execution_count": 75,
   "outputs": [
    {
     "data": {
      "text/plain": "OrderedDict([('block_2.0.weight',\n              tensor([[[[ 2.7365e-02, -8.5292e-02, -6.3809e-02],\n                        [ 1.5266e-03,  1.4660e-02,  5.8183e-02],\n                        [-7.4064e-02,  3.3593e-02,  5.9883e-02]],\n              \n                       [[ 5.8535e-02, -9.8185e-02, -4.0226e-02],\n                        [-9.0606e-02, -6.6709e-02,  5.8727e-02],\n                        [-1.5740e-02,  4.4771e-02, -6.1871e-02]],\n              \n                       [[ 1.6022e-02, -6.3758e-02,  5.2697e-02],\n                        [-4.6104e-02, -2.6432e-02, -9.1456e-02],\n                        [ 3.4390e-04,  1.0008e-01,  5.1163e-02]],\n              \n                       [[-5.7276e-02,  5.4240e-04, -1.2333e-02],\n                        [-8.5234e-02,  8.1853e-02,  9.7106e-04],\n                        [ 2.1467e-02, -4.3209e-02, -5.0307e-02]],\n              \n                       [[ 1.6754e-02,  3.8150e-02,  2.2599e-02],\n                        [-5.1641e-02,  1.0129e-01, -1.6313e-02],\n                        [-6.5012e-02, -4.9898e-02,  1.0288e-01]],\n              \n                       [[ 6.9943e-05, -1.4310e-02, -4.3904e-02],\n                        [-2.7730e-02, -8.8858e-02, -8.3837e-02],\n                        [ 6.1587e-02,  9.0112e-02,  1.0055e-01]],\n              \n                       [[-7.6613e-02,  5.6062e-02, -6.6068e-02],\n                        [ 6.1912e-02,  7.4938e-02,  8.0349e-02],\n                        [ 7.4702e-02,  6.4888e-02,  7.0261e-04]],\n              \n                       [[ 4.7943e-02, -3.7999e-02,  4.5111e-02],\n                        [-3.4288e-02, -2.7577e-03, -9.2282e-02],\n                        [-2.7816e-02, -5.5816e-02, -3.6198e-02]],\n              \n                       [[-6.7650e-02, -9.5358e-02,  5.9010e-03],\n                        [ 6.7723e-02,  9.5157e-02,  6.0422e-02],\n                        [-5.5105e-02, -1.0479e-01,  3.8936e-02]],\n              \n                       [[ 5.8427e-02, -9.1515e-02,  3.6719e-02],\n                        [ 8.8033e-02,  5.3671e-03, -6.4457e-02],\n                        [ 8.5443e-02,  4.3814e-02,  6.8726e-02]]],\n              \n              \n                      [[[-6.4468e-01, -4.6723e-01,  3.2968e-02],\n                        [-5.3510e-01, -6.0134e-01, -4.1342e-02],\n                        [-4.6277e-01, -2.7409e-01, -1.5904e-01]],\n              \n                       [[ 4.0197e-02, -4.8792e-02, -1.0229e-01],\n                        [-4.2294e-02,  8.2080e-02, -3.2361e-02],\n                        [ 3.0451e-02, -3.9990e-02,  7.9214e-02]],\n              \n                       [[ 6.2327e-02,  3.3889e-02, -6.1814e-02],\n                        [-8.0148e-02,  5.0705e-03, -6.4256e-02],\n                        [ 8.6577e-02, -1.0151e-01,  4.7104e-02]],\n              \n                       [[ 3.7802e-01,  1.0349e+00,  5.7838e-01],\n                        [-3.3608e-01,  6.1107e-01,  9.0150e-01],\n                        [-3.5965e-01, -7.4766e-02, -2.2284e-01]],\n              \n                       [[-6.6897e-02, -5.5714e-01, -6.6949e-01],\n                        [-2.9893e-01, -2.1637e-01, -7.6862e-01],\n                        [-3.4271e-01, -3.5481e-01, -8.4461e-01]],\n              \n                       [[-2.4434e-01, -6.7843e-02,  3.9813e-01],\n                        [-1.5495e-02, -1.6170e-01,  2.4938e-02],\n                        [ 2.0299e-01,  2.9765e-02,  1.6896e-02]],\n              \n                       [[-8.0799e-01, -8.2667e-03,  3.2937e-01],\n                        [-3.4340e-01, -2.2533e-01,  5.1949e-01],\n                        [-2.2669e-02, -2.3548e-01, -1.5386e-01]],\n              \n                       [[-1.5766e-01, -1.1788e-01, -4.7512e-02],\n                        [-1.5832e-01,  2.4412e-01, -7.9438e-02],\n                        [-5.5345e-02, -2.0404e-01, -1.4926e-01]],\n              \n                       [[-1.7109e-01,  2.3364e-01, -1.4575e-01],\n                        [-1.8062e-01,  5.6856e-01,  2.3180e-01],\n                        [-1.6117e-01, -3.7616e-02, -1.4737e-01]],\n              \n                       [[ 2.1656e-01, -7.1952e-02, -7.1194e-01],\n                        [ 7.5491e-01,  4.1232e-01, -2.2951e-01],\n                        [ 4.1115e-01,  1.7743e-01, -4.4865e-01]]],\n              \n              \n                      [[[-7.1770e-01, -6.7958e-01, -1.3675e-01],\n                        [-8.1557e-01, -7.2920e-01, -3.1407e-01],\n                        [-6.1677e-01, -5.0308e-01, -1.3533e-01]],\n              \n                       [[-2.4617e-02, -5.6504e-02, -3.8447e-02],\n                        [-3.5199e-02,  1.0656e-01, -4.1462e-02],\n                        [-7.8319e-02,  4.1599e-02, -6.4756e-03]],\n              \n                       [[ 8.1285e-02,  6.6821e-02,  9.5611e-02],\n                        [-7.2132e-02,  7.0113e-02,  9.1047e-02],\n                        [-5.2339e-02,  9.6604e-02,  7.8902e-02]],\n              \n                       [[ 2.5818e-01,  9.0882e-01,  5.5057e-01],\n                        [-2.5891e-01,  1.4289e-01,  7.6401e-01],\n                        [-3.8633e-01, -4.0249e-01, -4.7003e-01]],\n              \n                       [[ 6.7050e-01, -8.1944e-02, -3.8326e-01],\n                        [-5.9428e-02, -9.5344e-02, -3.4565e-01],\n                        [ 1.6959e-02, -1.0002e-01, -1.4989e-01]],\n              \n                       [[-1.5252e-01, -3.2582e-01,  7.5222e-02],\n                        [ 1.1958e-01, -1.1229e-01, -3.1826e-01],\n                        [ 1.6686e-01,  1.5328e-01, -7.5256e-02]],\n              \n                       [[-1.2043e+00, -1.0302e+00,  4.3129e-02],\n                        [-1.0987e+00, -7.1682e-01,  5.2915e-01],\n                        [-9.0333e-01, -2.4319e-01,  4.0726e-01]],\n              \n                       [[-4.6493e-01, -3.4008e-01, -1.1288e-01],\n                        [-3.3140e-01, -1.1231e-01,  8.8127e-02],\n                        [ 6.4448e-02,  8.2284e-02, -1.4801e-01]],\n              \n                       [[-6.1257e-01, -2.2020e-01, -1.9609e-01],\n                        [-5.0102e-01,  1.3149e-02,  4.4817e-01],\n                        [-2.8387e-01, -2.0198e-01,  1.4329e-01]],\n              \n                       [[-1.5309e-01,  1.6141e-01,  2.0137e-01],\n                        [ 5.0132e-01,  1.0659e+00,  6.1026e-01],\n                        [ 6.4534e-02,  4.5381e-01,  1.0807e-02]]],\n              \n              \n                      [[[-7.6269e-02, -2.6339e-02, -1.0063e-02],\n                        [-5.8659e-02, -7.7857e-02,  7.0900e-02],\n                        [ 7.1535e-02, -9.5731e-02,  3.3542e-02]],\n              \n                       [[ 4.2881e-02,  1.0014e-01,  6.0985e-02],\n                        [ 9.6907e-02, -3.4510e-02,  7.3827e-02],\n                        [ 8.5740e-02, -9.9541e-02, -8.4613e-02]],\n              \n                       [[ 2.1335e-02,  5.7557e-02, -5.2369e-02],\n                        [ 1.1609e-02, -1.5303e-04,  2.6680e-02],\n                        [-5.6642e-02,  5.9455e-02,  7.0098e-02]],\n              \n                       [[-7.3139e-02,  1.0211e-03,  2.9247e-04],\n                        [ 3.3849e-02,  9.8198e-02,  3.0913e-02],\n                        [-2.3951e-02,  9.4672e-02, -4.0112e-02]],\n              \n                       [[-3.0608e-02,  7.1969e-03, -8.0270e-02],\n                        [ 1.1470e-02, -7.1518e-02,  1.0838e-02],\n                        [ 1.0099e-02,  1.4591e-02, -8.8891e-02]],\n              \n                       [[-1.0012e-01,  4.8501e-02,  9.0399e-02],\n                        [-9.3537e-02,  3.9043e-02, -7.7594e-02],\n                        [ 6.6082e-03,  9.8068e-02,  7.9965e-02]],\n              \n                       [[-7.7069e-02,  6.5203e-02,  5.5057e-02],\n                        [-1.6169e-04,  1.0211e-01, -4.1866e-02],\n                        [-2.4530e-02, -5.3275e-02,  1.5168e-02]],\n              \n                       [[ 2.7911e-02,  8.3990e-03, -5.9307e-02],\n                        [-4.7452e-02,  3.5855e-02, -9.2426e-02],\n                        [-1.6416e-02, -2.3350e-03, -4.2708e-02]],\n              \n                       [[ 3.8360e-02,  6.7940e-03,  7.4004e-02],\n                        [-9.3616e-03, -6.6528e-02,  7.4477e-02],\n                        [ 1.4720e-02, -3.0189e-02, -6.9476e-02]],\n              \n                       [[ 2.4707e-02, -1.0053e-01,  2.7762e-02],\n                        [ 5.2119e-02, -9.2465e-02, -6.9009e-02],\n                        [-7.5781e-02,  8.8597e-02,  8.9611e-02]]],\n              \n              \n                      [[[ 6.5987e-03,  9.8959e-02, -3.5239e-02],\n                        [-1.0233e-01,  3.6819e-02,  3.7343e-02],\n                        [ 1.0334e-01, -3.0510e-05,  8.0785e-02]],\n              \n                       [[ 6.4612e-02,  7.6292e-02, -1.0460e-01],\n                        [ 8.6800e-02, -8.9856e-02,  9.4501e-02],\n                        [-4.3682e-03, -9.3415e-02,  2.9314e-02]],\n              \n                       [[-2.1456e-02, -9.4678e-02, -3.8215e-02],\n                        [ 1.0868e-02,  8.2098e-02, -3.2406e-02],\n                        [ 6.2610e-02,  1.3200e-02,  3.5531e-03]],\n              \n                       [[ 2.0170e-02, -6.9177e-02, -8.7616e-02],\n                        [-3.3121e-02, -9.8226e-02, -4.9158e-02],\n                        [ 4.8494e-03, -6.9424e-02, -4.3723e-02]],\n              \n                       [[-1.8941e-02, -1.2144e-02, -5.8187e-02],\n                        [ 5.0650e-03, -1.4795e-02,  3.0147e-02],\n                        [ 4.7611e-03, -5.2638e-02, -3.6291e-02]],\n              \n                       [[-1.2149e-03, -6.5774e-02,  8.2520e-03],\n                        [-7.4425e-03,  4.0897e-02,  2.4947e-02],\n                        [ 7.8887e-02, -3.4749e-03, -7.7887e-02]],\n              \n                       [[ 4.7119e-02, -7.1240e-02, -1.4489e-02],\n                        [-3.4132e-02, -3.9997e-02, -3.9000e-02],\n                        [ 9.6863e-02,  6.0342e-02,  2.9213e-02]],\n              \n                       [[ 9.8975e-02, -9.5524e-02,  1.7010e-02],\n                        [ 6.7481e-02,  7.0022e-02, -8.3890e-02],\n                        [ 3.7514e-02, -6.0050e-02, -4.1187e-03]],\n              \n                       [[-2.1996e-02, -8.8013e-02, -1.0055e-01],\n                        [-6.9349e-02,  4.7832e-02,  4.8218e-02],\n                        [-9.1681e-02, -3.9586e-02,  1.7218e-03]],\n              \n                       [[-9.1135e-02,  5.9393e-02,  9.5473e-02],\n                        [ 1.8643e-02, -7.8321e-02,  2.4580e-02],\n                        [ 3.8265e-02,  8.3468e-02, -5.6085e-02]]],\n              \n              \n                      [[[-4.4370e-02, -5.2808e-02, -1.3539e-01],\n                        [ 9.5883e-02, -6.2279e-02, -1.9465e-01],\n                        [ 2.5719e-01,  6.5125e-02,  2.0382e-02]],\n              \n                       [[ 9.6932e-02,  1.4776e-02,  2.1122e-02],\n                        [-6.6103e-03,  7.2324e-02, -9.2672e-02],\n                        [ 4.2441e-02, -1.9049e-02,  4.4899e-02]],\n              \n                       [[ 1.4270e-03, -3.6392e-02, -4.8903e-03],\n                        [ 5.6989e-02, -7.2737e-02, -6.7559e-02],\n                        [-2.3693e-02, -3.8195e-02,  4.1329e-02]],\n              \n                       [[ 6.4777e-02, -1.3058e-01,  3.6605e-01],\n                        [-2.3955e-02, -5.4091e-01, -8.3617e-02],\n                        [-1.1410e-01, -6.0203e-01, -1.5412e-01]],\n              \n                       [[ 1.1140e-01,  2.4056e-01,  3.5117e-01],\n                        [ 5.4747e-02,  2.7228e-02,  2.8286e-01],\n                        [-4.8957e-02, -3.4671e-01,  3.8936e-01]],\n              \n                       [[-7.4729e-02, -1.1466e-01, -2.3104e-01],\n                        [ 7.0608e-02,  2.8692e-02, -1.7553e-01],\n                        [ 1.2256e-01,  8.5365e-02,  2.9380e-02]],\n              \n                       [[ 2.4721e-01, -1.2749e-01,  2.1367e-01],\n                        [ 1.6080e-01, -1.2358e-01,  5.7565e-02],\n                        [ 1.8101e-01, -9.6966e-02,  1.3636e-01]],\n              \n                       [[ 1.9771e-01, -1.6583e-01,  2.5628e-02],\n                        [ 1.7909e-01,  7.4997e-02,  3.9186e-02],\n                        [-4.9946e-02, -1.9114e-01,  1.0054e-01]],\n              \n                       [[-6.3819e-02, -3.3386e-01,  1.7498e-01],\n                        [-3.2723e-03, -5.9689e-01,  8.2468e-03],\n                        [ 1.8771e-01, -6.1387e-01, -2.8105e-02]],\n              \n                       [[-9.8534e-02,  4.6431e-01,  6.9342e-01],\n                        [-2.4882e-01,  3.9230e-01,  5.9776e-01],\n                        [-5.2729e-01, -9.7816e-02,  2.0775e-01]]],\n              \n              \n                      [[[ 4.8855e-02,  1.8209e-01,  5.3255e-02],\n                        [ 4.0991e-02,  2.0074e-01,  7.4027e-02],\n                        [-1.0319e-02, -5.0856e-02, -1.0181e-01]],\n              \n                       [[-6.4865e-02,  3.1005e-02,  5.7897e-02],\n                        [ 9.2808e-02, -3.5562e-02, -9.7729e-03],\n                        [-2.9332e-02,  1.5978e-03,  3.3341e-02]],\n              \n                       [[-7.4903e-03,  2.3400e-03,  1.3390e-02],\n                        [ 4.0026e-02, -2.8733e-02, -6.1476e-02],\n                        [ 2.4816e-02, -1.2273e-02, -4.7677e-02]],\n              \n                       [[ 8.1319e-03, -1.8590e-01, -1.8428e-01],\n                        [-1.3943e-02,  1.6634e-01, -1.0474e-01],\n                        [ 1.3297e-01,  4.5627e-01,  4.3398e-01]],\n              \n                       [[-2.7736e-01,  1.2877e-01,  2.4667e-01],\n                        [ 1.8299e-01,  2.0928e-01,  4.4858e-01],\n                        [-7.8948e-02,  1.2692e-01,  3.4694e-01]],\n              \n                       [[-5.8921e-02,  1.1351e-01,  7.6944e-02],\n                        [-1.2740e-01,  1.5058e-01,  4.1506e-02],\n                        [-1.1085e-01, -2.5298e-01, -8.6548e-02]],\n              \n                       [[ 3.6939e-01,  4.7237e-01, -2.9619e-04],\n                        [ 5.4187e-01,  6.6686e-01,  2.6332e-01],\n                        [ 3.4443e-01,  4.7264e-01,  1.3809e-01]],\n              \n                       [[ 7.3796e-02,  4.5132e-01,  1.5868e-01],\n                        [ 5.2071e-01,  5.3084e-01,  3.9072e-01],\n                        [ 1.3947e-01,  9.9473e-02,  3.3114e-01]],\n              \n                       [[ 1.4368e-01,  5.1538e-02,  1.5610e-01],\n                        [ 3.5447e-01,  3.5965e-01,  1.0357e-02],\n                        [ 2.9150e-02,  3.2312e-01,  3.0472e-01]],\n              \n                       [[-3.0179e-01, -2.2794e-01, -4.4965e-02],\n                        [-1.2987e-01, -1.7925e-01, -1.2643e-01],\n                        [ 3.2698e-01,  3.6986e-01,  4.4576e-01]]],\n              \n              \n                      [[[-6.7913e-02,  2.4067e-03,  4.2073e-02],\n                        [-7.9973e-02, -6.7955e-02,  8.2714e-02],\n                        [ 2.0711e-03, -1.7282e-01,  5.5580e-02]],\n              \n                       [[-9.4084e-02, -4.2103e-03, -4.6663e-02],\n                        [ 3.4465e-02, -5.9652e-02,  6.5637e-02],\n                        [-8.5281e-02,  6.4654e-02, -7.8820e-02]],\n              \n                       [[ 5.4982e-02, -4.3957e-02, -1.1419e-03],\n                        [-1.8972e-02,  6.8256e-02,  3.4560e-02],\n                        [-9.2895e-02,  9.8018e-03, -7.2665e-02]],\n              \n                       [[ 2.6544e-01, -5.1574e-02, -1.2437e-01],\n                        [-1.5405e-01,  1.8103e-01,  2.7836e-01],\n                        [-1.6338e-01, -3.0656e-02,  2.3764e-01]],\n              \n                       [[ 4.9441e-02, -3.7215e-01,  2.1639e-01],\n                        [-1.0772e-01, -1.4860e-01,  1.6156e-01],\n                        [ 1.2225e-01,  2.4576e-01,  2.4161e-01]],\n              \n                       [[ 3.5378e-02, -5.2904e-02,  1.1598e-01],\n                        [-1.0191e-01,  1.2911e-02, -4.3746e-02],\n                        [-9.7978e-02,  6.1539e-04,  7.1016e-02]],\n              \n                       [[-2.2888e-01, -6.7916e-02,  9.1229e-02],\n                        [ 6.1490e-03,  1.3253e-01,  2.8224e-01],\n                        [-1.5663e-01,  9.9301e-02,  4.3618e-01]],\n              \n                       [[ 2.1339e-02,  1.3053e-01, -4.2204e-02],\n                        [ 8.0468e-04,  4.2600e-02,  8.2212e-02],\n                        [ 2.6651e-01,  4.7172e-01,  4.7959e-01]],\n              \n                       [[ 1.1261e-01, -4.7897e-03,  1.4107e-01],\n                        [ 4.6301e-02,  2.0206e-01,  2.6324e-01],\n                        [ 1.1011e-01,  1.2812e-01,  4.3841e-01]],\n              \n                       [[-1.4077e-01, -1.7137e-01, -1.5801e-01],\n                        [-7.5917e-02,  1.1230e-01, -2.2542e-02],\n                        [-1.2022e-01,  1.4411e-01, -5.5541e-02]]],\n              \n              \n                      [[[ 6.6255e-01,  3.4389e-01, -1.0148e-01],\n                        [ 8.0728e-01,  5.1941e-01, -1.2149e-01],\n                        [ 4.7295e-01,  2.4323e-01, -1.6012e-01]],\n              \n                       [[ 7.1278e-02,  1.5677e-02,  4.6181e-02],\n                        [-4.0792e-02,  4.8443e-02,  7.6088e-02],\n                        [ 6.6899e-02,  2.8580e-02,  1.0456e-01]],\n              \n                       [[ 6.0137e-04,  2.1605e-02,  9.8672e-02],\n                        [ 1.0127e-01, -4.4310e-02,  9.3875e-02],\n                        [ 3.8654e-02, -1.1718e-02,  9.1871e-02]],\n              \n                       [[-5.6430e-01, -9.1907e-01, -3.6924e-01],\n                        [-3.1507e-01, -1.4487e+00, -1.3147e+00],\n                        [ 4.2456e-01, -3.3405e-01, -4.7923e-01]],\n              \n                       [[ 1.9338e-02,  4.3828e-01, -7.4384e-04],\n                        [-2.9065e-01, -3.4776e-01,  7.8532e-02],\n                        [ 3.6658e-02, -3.2741e-01,  5.1908e-01]],\n              \n                       [[-2.6923e-02, -1.9601e-01, -4.1023e-01],\n                        [-1.4068e-02, -1.3088e-01, -5.6990e-02],\n                        [-8.8131e-03, -6.6181e-02,  4.2276e-02]],\n              \n                       [[ 4.4570e-01,  1.4010e-02,  1.8244e-01],\n                        [ 8.1758e-01, -1.5923e-01, -4.0849e-01],\n                        [ 3.8830e-01, -5.2266e-02, -8.8800e-02]],\n              \n                       [[ 1.7859e-01,  2.5646e-01,  3.3175e-01],\n                        [-2.8135e-01, -5.1172e-01,  2.1088e-01],\n                        [ 9.7506e-02, -4.2306e-01, -1.2096e-01]],\n              \n                       [[ 1.2309e-01, -3.0497e-01, -1.4513e-01],\n                        [-1.3280e-01, -8.0054e-01, -3.9317e-01],\n                        [ 3.0225e-01, -4.3975e-01, -3.1577e-01]],\n              \n                       [[ 4.5527e-02,  1.3704e-01,  5.3377e-01],\n                        [-4.6291e-01, -4.1118e-01,  6.4775e-02],\n                        [-4.4649e-01, -6.1869e-01,  1.8548e-01]]],\n              \n              \n                      [[[-8.1118e-02,  5.5094e-02,  2.6031e-02],\n                        [ 3.1098e-02,  6.0332e-02, -2.8291e-02],\n                        [ 6.5221e-02, -8.3981e-02, -3.7199e-02]],\n              \n                       [[ 7.7159e-02,  3.1284e-02, -1.4037e-02],\n                        [-2.4592e-02, -6.4371e-02,  6.4107e-02],\n                        [-3.3646e-03, -3.5727e-03,  2.4935e-02]],\n              \n                       [[ 7.7778e-02, -5.3781e-02, -3.6302e-02],\n                        [ 7.1398e-02,  5.9471e-02, -5.1877e-02],\n                        [-1.0428e-01,  1.9555e-02,  5.5434e-02]],\n              \n                       [[ 2.4798e-02,  7.4564e-02, -8.3837e-02],\n                        [ 4.6558e-02, -7.3389e-02,  5.5635e-02],\n                        [ 7.6295e-02,  2.8148e-02,  7.8580e-02]],\n              \n                       [[-6.9268e-02, -9.4186e-02, -1.0134e-01],\n                        [ 6.1452e-02,  3.3580e-02, -7.7190e-02],\n                        [ 4.8380e-02,  9.2719e-02, -1.0520e-01]],\n              \n                       [[ 7.6474e-02,  1.6214e-02,  9.8297e-03],\n                        [ 9.5485e-02,  9.6042e-02,  4.2856e-02],\n                        [ 8.3259e-02,  4.3947e-02,  1.7325e-02]],\n              \n                       [[-9.3221e-02,  1.9181e-02, -7.5458e-02],\n                        [ 3.0979e-02,  1.3933e-02, -4.6415e-03],\n                        [-7.4004e-02, -6.5071e-02,  7.2724e-02]],\n              \n                       [[ 5.1287e-02,  5.5588e-02, -3.1390e-02],\n                        [-2.0780e-02, -2.9829e-02,  7.1886e-02],\n                        [-4.8181e-02,  6.2464e-02,  6.8562e-02]],\n              \n                       [[-9.6473e-02,  7.1142e-04, -2.0177e-02],\n                        [-6.1177e-02,  4.3898e-02, -1.4458e-02],\n                        [ 8.8470e-02, -7.0265e-02,  4.2864e-02]],\n              \n                       [[-9.0193e-02, -5.2819e-02,  7.1996e-03],\n                        [ 7.7532e-02,  4.9938e-02, -8.8416e-02],\n                        [ 5.8901e-03, -6.6482e-02,  1.4682e-03]]]])),\n             ('block_2.0.bias',\n              tensor([-0.0948,  0.2099,  0.4925, -0.0967, -0.1005,  0.0971, -0.2218, -0.0203,\n                       0.3293, -0.0938])),\n             ('block_2.2.weight',\n              tensor([[[[-6.4281e-02, -7.8892e-02, -1.9810e-02],\n                        [-2.7014e-02,  6.4887e-02, -6.5433e-03],\n                        [ 3.3495e-02, -4.3973e-02,  8.4998e-02]],\n              \n                       [[-3.1352e-01, -4.9793e-01,  2.8752e-02],\n                        [ 2.0347e-01,  1.5662e-01, -6.9368e-01],\n                        [ 1.9584e-01,  8.5362e-01, -2.7800e-01]],\n              \n                       [[-9.2829e-02,  9.7705e-02,  5.3020e-01],\n                        [ 4.6700e-01, -1.2020e-01, -8.7219e-01],\n                        [ 2.9520e-01,  1.7314e-01, -7.7880e-01]],\n              \n                       [[-8.4902e-02,  1.0180e-01, -6.3298e-02],\n                        [-7.5980e-02, -5.1539e-03, -3.3742e-02],\n                        [-1.4421e-02, -7.0623e-02,  3.8034e-02]],\n              \n                       [[-9.0703e-02,  8.5374e-03,  6.1510e-02],\n                        [ 2.0253e-02,  1.4006e-02,  1.5418e-02],\n                        [-3.0880e-02, -2.0080e-02, -4.4450e-02]],\n              \n                       [[ 5.6372e-02, -4.0994e-01,  5.1258e-01],\n                        [ 5.5031e-02, -4.5329e-01,  5.2182e-01],\n                        [ 4.3194e-01, -4.0397e-01,  1.6786e-01]],\n              \n                       [[-2.6061e-01, -1.3753e-01, -3.4483e-01],\n                        [-1.8986e-01,  1.4704e-01,  3.5250e-01],\n                        [-1.7920e-01,  4.0287e-02,  2.7630e-01]],\n              \n                       [[ 6.8475e-02, -7.3636e-02,  1.4563e-01],\n                        [ 2.1263e-01,  5.1700e-02,  5.2951e-02],\n                        [-9.9751e-02, -6.7396e-02,  1.3728e-01]],\n              \n                       [[ 2.6100e-01,  2.5306e-02,  1.3062e-01],\n                        [-1.4847e-01, -5.6761e-01,  4.8280e-01],\n                        [-7.0792e-03, -8.0735e-01,  1.9856e-01]],\n              \n                       [[-6.4248e-02,  4.7904e-02, -4.3889e-02],\n                        [-4.2380e-03, -7.4134e-02, -1.0289e-02],\n                        [ 1.5065e-02, -4.3094e-03, -3.9384e-02]]],\n              \n              \n                      [[[ 3.1344e-02, -2.7297e-02, -5.8386e-02],\n                        [-7.7733e-02, -2.2301e-02, -9.9514e-02],\n                        [ 8.7440e-02, -5.0447e-02, -4.3704e-02]],\n              \n                       [[-3.4644e-02,  2.0393e-01,  1.5210e-01],\n                        [-4.7091e-02, -5.5929e-02,  5.7081e-02],\n                        [-1.5465e-01, -3.8038e-01, -1.3376e-01]],\n              \n                       [[ 4.3646e-01,  3.7882e-01,  1.9967e-01],\n                        [-1.3835e-03, -2.4011e-01, -2.3334e-01],\n                        [-5.7572e-01, -6.0197e-01, -2.9789e-01]],\n              \n                       [[-8.6258e-02,  4.0092e-02,  7.4583e-02],\n                        [ 8.3459e-03, -7.5460e-02, -7.9827e-02],\n                        [-4.1036e-02,  3.0659e-02,  2.5711e-03]],\n              \n                       [[ 1.9166e-02,  9.9346e-02,  4.8956e-02],\n                        [ 2.2665e-02, -2.1327e-02,  4.9864e-02],\n                        [ 3.8563e-02, -9.4879e-02, -6.2266e-02]],\n              \n                       [[ 5.7794e-02,  3.2381e-02,  3.3354e-02],\n                        [ 6.9349e-02,  5.7164e-02,  1.1051e-01],\n                        [-9.4054e-02,  7.8622e-02,  7.0777e-02]],\n              \n                       [[ 1.3702e-01,  1.7881e-01,  3.2526e-01],\n                        [ 4.5184e-03,  1.7859e-01,  1.6476e-01],\n                        [ 3.7789e-02,  1.0479e-01, -8.3813e-02]],\n              \n                       [[ 2.5521e-01,  1.9485e-01,  1.3857e-01],\n                        [ 1.2063e-02, -6.6950e-02,  6.4571e-02],\n                        [-4.6860e-02, -2.6824e-01,  5.0635e-02]],\n              \n                       [[-2.8727e-01, -4.6367e-01, -2.5016e-01],\n                        [ 8.9376e-02, -7.2606e-02, -1.0173e-01],\n                        [ 2.5734e-01,  3.4412e-01,  2.8340e-01]],\n              \n                       [[-1.5536e-02,  2.9044e-02,  8.0492e-02],\n                        [-5.3423e-02, -5.1152e-02,  5.1715e-02],\n                        [ 5.7706e-03, -1.1601e-02, -9.2591e-02]]],\n              \n              \n                      [[[ 8.9209e-02, -3.9376e-03, -1.9541e-02],\n                        [-4.3382e-02, -2.0683e-02,  5.1239e-02],\n                        [-2.0778e-03,  8.9977e-02, -6.1835e-03]],\n              \n                       [[-2.5547e-01,  2.9301e-01,  8.3192e-02],\n                        [-4.8505e-01,  7.2193e-02,  3.6941e-01],\n                        [-3.3400e-01, -1.7997e-02,  1.7242e-01]],\n              \n                       [[ 5.4318e-01,  1.6844e-01, -7.2303e-01],\n                        [ 1.1217e-01,  2.2266e-01,  5.1156e-02],\n                        [-5.6093e-03, -1.5477e-01,  2.0905e-01]],\n              \n                       [[-8.2042e-02,  7.7453e-02,  5.5849e-02],\n                        [ 6.7687e-02, -8.0992e-03, -7.8646e-02],\n                        [ 7.5193e-02, -4.6091e-02,  2.7734e-02]],\n              \n                       [[ 5.9719e-02, -9.8508e-02,  6.9954e-03],\n                        [-3.7444e-02,  7.4815e-02, -6.7114e-02],\n                        [ 6.4001e-02,  6.5730e-02,  5.8156e-02]],\n              \n                       [[-5.8747e-02, -1.1409e-01, -9.2576e-01],\n                        [ 3.7222e-01,  1.6230e-01, -6.3579e-01],\n                        [ 2.9363e-01,  3.7248e-01, -2.6952e-01]],\n              \n                       [[ 2.7623e-01,  1.3292e-01,  3.4400e-01],\n                        [ 1.4887e-01, -8.8647e-02, -2.3246e-02],\n                        [-3.2538e-02, -9.1498e-02, -1.4808e-01]],\n              \n                       [[-1.3340e-01,  5.5806e-02, -7.8468e-02],\n                        [-7.6162e-02,  1.7113e-01,  2.5806e-01],\n                        [ 1.1401e-01, -2.7608e-01, -4.1711e-01]],\n              \n                       [[ 1.5998e-01, -2.1671e-01,  6.7228e-01],\n                        [-1.9130e-01, -6.5283e-01, -5.2286e-01],\n                        [ 2.9388e-01,  1.6742e-01, -1.0740e-01]],\n              \n                       [[-6.5619e-03, -3.6653e-02, -9.6561e-02],\n                        [ 1.7017e-02,  3.1024e-02, -5.2631e-02],\n                        [ 6.4630e-02, -9.4588e-02, -1.0155e-01]]],\n              \n              \n                      [[[-6.5120e-02, -3.6428e-02, -1.1696e-02],\n                        [-2.0384e-02,  4.8141e-02, -9.2479e-02],\n                        [ 1.5514e-02,  1.8217e-03,  2.7839e-02]],\n              \n                       [[ 4.6893e-01,  7.4839e-02, -3.9757e-01],\n                        [ 3.7795e-01,  3.8349e-01, -1.0820e-02],\n                        [ 2.4502e-01,  3.9761e-01,  3.9274e-01]],\n              \n                       [[ 4.2136e-01,  3.2794e-02, -2.1644e-01],\n                        [ 3.7306e-01,  1.5339e-01, -1.1420e-01],\n                        [ 1.8541e-01,  5.1039e-01,  1.8902e-01]],\n              \n                       [[-9.2347e-02, -2.1640e-02,  5.1366e-02],\n                        [ 7.4478e-02,  2.6452e-02, -9.1104e-03],\n                        [-5.9092e-03, -4.2731e-02, -9.4592e-03]],\n              \n                       [[-7.2831e-03,  8.9699e-02,  6.1690e-02],\n                        [-8.4351e-02,  4.3605e-04, -6.4834e-02],\n                        [-1.6733e-02, -8.3776e-02,  2.7402e-02]],\n              \n                       [[-2.4146e-01,  1.2324e-02,  4.9043e-02],\n                        [-2.6008e-01, -2.9596e-01, -2.2358e-01],\n                        [ 7.6856e-02,  7.3240e-02, -1.1091e-01]],\n              \n                       [[-1.5539e-01, -1.5800e-01,  9.2668e-02],\n                        [-4.6070e-01, -2.4432e-01, -4.1802e-02],\n                        [-5.7618e-01, -5.9791e-01, -3.6817e-01]],\n              \n                       [[-1.8750e-01,  4.5426e-02,  8.9179e-02],\n                        [-2.1889e-01, -1.0573e-01, -1.0129e-01],\n                        [-3.2243e-01, -1.7596e-01, -5.1368e-02]],\n              \n                       [[ 1.2812e-01,  4.7646e-02,  3.4848e-01],\n                        [-2.4207e-01, -2.4865e-01, -2.8182e-01],\n                        [ 7.9334e-02, -2.9190e-02, -2.4058e-01]],\n              \n                       [[ 6.6607e-02,  8.6846e-02,  5.2718e-02],\n                        [ 5.4374e-02, -9.9873e-02, -9.9016e-02],\n                        [-8.0918e-02,  3.2984e-02, -9.1151e-02]]],\n              \n              \n                      [[[-8.0464e-02, -5.1092e-02, -9.7154e-02],\n                        [ 1.4203e-04,  1.5207e-02, -6.1686e-02],\n                        [ 6.9018e-02, -4.0018e-02, -2.9676e-02]],\n              \n                       [[ 9.4539e-02,  8.3563e-02, -1.6993e-02],\n                        [-6.3154e-02, -5.4721e-02,  8.8031e-03],\n                        [ 4.8266e-02,  4.8646e-02, -4.9966e-02]],\n              \n                       [[-9.9667e-02, -9.2052e-02, -3.5486e-02],\n                        [-3.0649e-03, -4.7504e-02, -8.5128e-02],\n                        [-1.0360e-02, -8.3412e-02, -8.1992e-02]],\n              \n                       [[-8.5692e-02, -2.8563e-02,  9.3104e-02],\n                        [ 4.1207e-02, -1.2498e-02,  2.1694e-02],\n                        [ 4.1975e-02,  6.1414e-04, -8.5020e-02]],\n              \n                       [[-6.4944e-02, -7.1610e-02, -2.6766e-03],\n                        [-9.6492e-02, -1.9166e-02, -3.8545e-02],\n                        [ 1.0345e-01,  8.5679e-02,  6.1227e-02]],\n              \n                       [[ 1.0651e-03, -4.2627e-02,  1.9037e-02],\n                        [-7.7101e-02, -5.2132e-02, -2.9071e-02],\n                        [-2.8229e-02, -1.0606e-01,  3.4094e-02]],\n              \n                       [[ 9.3814e-02, -5.8814e-02,  1.5165e-02],\n                        [-1.0509e-02, -1.1184e-02, -5.4588e-03],\n                        [ 9.4022e-02, -8.0718e-04, -7.9103e-02]],\n              \n                       [[-3.6564e-02,  4.9321e-02,  3.0933e-02],\n                        [-3.4014e-03, -1.6167e-02, -4.2883e-02],\n                        [-4.9505e-02, -6.0226e-02,  1.5835e-02]],\n              \n                       [[ 7.0816e-03,  7.2891e-02, -6.9048e-02],\n                        [-2.1553e-03,  5.8893e-02, -9.4593e-04],\n                        [ 1.8134e-02,  3.9467e-02, -4.4001e-02]],\n              \n                       [[-9.0419e-02,  4.0636e-03, -2.3040e-02],\n                        [ 9.5121e-02,  9.5145e-02,  2.0912e-02],\n                        [ 9.4215e-02, -5.4288e-02,  9.1619e-02]]],\n              \n              \n                      [[[ 9.0752e-02, -4.0140e-03, -8.4588e-02],\n                        [-3.4015e-02, -2.8189e-02,  1.7412e-03],\n                        [-9.5569e-02,  1.9535e-02, -4.3839e-02]],\n              \n                       [[-3.6573e-02, -5.5309e-02, -2.1535e-02],\n                        [-1.0909e-01, -5.7785e-02,  9.9928e-03],\n                        [ 5.8679e-02,  9.0293e-02, -7.9585e-02]],\n              \n                       [[ 4.3131e-02, -5.7536e-02, -8.2800e-02],\n                        [-9.7844e-03, -6.0338e-02, -9.3785e-02],\n                        [-1.0251e-01, -7.0574e-02,  8.4514e-02]],\n              \n                       [[ 5.8788e-02, -4.1726e-02, -7.0553e-02],\n                        [-8.1085e-02, -6.2246e-02, -4.3376e-02],\n                        [ 6.3308e-02,  3.4496e-02, -4.0622e-02]],\n              \n                       [[ 7.2567e-02, -6.5484e-02, -8.5876e-02],\n                        [ 2.3006e-02, -5.8123e-02,  2.9987e-02],\n                        [ 8.9306e-02, -4.9849e-02, -7.3556e-02]],\n              \n                       [[ 4.3226e-02, -9.4501e-02,  9.8615e-02],\n                        [-4.6481e-02,  5.2851e-02, -7.9467e-02],\n                        [-7.0937e-02,  1.1242e-02,  3.7373e-02]],\n              \n                       [[ 8.2195e-02,  9.5026e-02,  8.6149e-03],\n                        [-1.9629e-02,  1.4986e-02, -2.0827e-02],\n                        [-4.2270e-03, -1.0184e-01, -8.6724e-02]],\n              \n                       [[ 7.2148e-02, -5.7672e-02,  8.9429e-02],\n                        [ 6.7081e-03,  2.5861e-02,  9.6697e-02],\n                        [-6.1629e-02, -1.7476e-02,  1.7462e-02]],\n              \n                       [[ 3.4104e-02, -1.1466e-01,  2.2433e-02],\n                        [-6.1974e-02,  5.0648e-03,  6.0143e-02],\n                        [-1.2095e-02, -1.4695e-02, -1.9645e-02]],\n              \n                       [[ 8.8016e-02,  5.9907e-02,  1.7727e-02],\n                        [-6.3390e-02, -5.7251e-02,  8.3934e-02],\n                        [ 7.5832e-02,  6.1037e-02, -8.2204e-02]]],\n              \n              \n                      [[[ 8.2076e-02, -1.0081e-02,  7.7665e-02],\n                        [ 9.1553e-02,  1.1552e-02, -4.3880e-02],\n                        [ 9.9153e-02, -5.4938e-02,  6.8873e-02]],\n              \n                       [[-7.0807e-01, -2.7885e-01, -2.5562e-01],\n                        [-5.1029e-01, -3.2454e-01, -2.5744e-01],\n                        [-1.0351e-02,  1.1380e-01,  2.3605e-01]],\n              \n                       [[-4.9527e-01, -6.4902e-01,  1.3697e-02],\n                        [-5.1367e-01, -5.3472e-01,  2.2157e-01],\n                        [-3.9661e-02, -1.3308e-01,  6.2404e-01]],\n              \n                       [[ 5.7074e-02,  6.7914e-02,  1.5315e-02],\n                        [-3.9549e-02,  1.0124e-01,  2.0806e-02],\n                        [-4.0688e-02, -3.6535e-02, -1.4752e-02]],\n              \n                       [[ 4.9974e-02,  3.8555e-02,  7.6418e-02],\n                        [-4.7494e-03,  8.7183e-02, -4.2816e-02],\n                        [-4.8547e-02, -3.8927e-02, -9.8896e-02]],\n              \n                       [[-9.4423e-02, -8.7102e-02,  1.4648e-01],\n                        [-1.6909e-01, -1.4086e-01,  4.7717e-02],\n                        [-9.1297e-02, -2.4944e-01,  1.7437e-01]],\n              \n                       [[-1.8908e-01, -3.6362e-01, -1.3354e-01],\n                        [ 8.3791e-02,  2.8374e-02, -1.1683e-02],\n                        [ 1.4543e-01, -2.1254e-02,  9.4417e-04]],\n              \n                       [[-1.7351e-01, -2.1481e-01,  7.8505e-02],\n                        [-4.6130e-02, -1.2860e-01,  2.6012e-01],\n                        [ 1.7749e-01,  2.7053e-02,  6.5920e-02]],\n              \n                       [[ 7.3519e-01,  3.5835e-01,  4.1902e-01],\n                        [ 3.5162e-01,  2.6470e-01,  1.4475e-01],\n                        [ 7.7674e-03, -1.7974e-01, -4.6158e-03]],\n              \n                       [[ 6.4692e-02, -6.5052e-02,  7.9712e-02],\n                        [ 2.9825e-02, -2.0614e-02, -7.5225e-02],\n                        [-1.7478e-02, -1.0331e-01,  6.0222e-02]]],\n              \n              \n                      [[[ 7.6328e-02, -3.0321e-02,  9.7742e-02],\n                        [-3.9110e-02,  1.8090e-02, -7.3332e-02],\n                        [-4.3383e-03,  4.2719e-02,  4.5458e-02]],\n              \n                       [[-2.7620e-01, -2.2987e-01,  4.5538e-01],\n                        [ 3.5996e-01,  2.2344e-01,  2.0885e-02],\n                        [ 6.7565e-02,  3.6523e-01, -2.2045e-01]],\n              \n                       [[-2.4891e-01,  7.4119e-02,  4.1241e-01],\n                        [ 8.4626e-01,  3.8274e-01,  3.7184e-01],\n                        [ 1.6279e-01, -3.6599e-01, -6.1222e-01]],\n              \n                       [[-8.9472e-02, -8.0934e-02,  2.0480e-02],\n                        [ 2.3687e-02, -9.2246e-03,  1.0019e-01],\n                        [-5.6627e-02, -4.4176e-02, -1.6881e-02]],\n              \n                       [[ 6.3911e-04, -8.9284e-03,  9.4909e-02],\n                        [-4.4519e-02, -5.5137e-02,  9.0599e-03],\n                        [ 7.9171e-02,  2.5019e-02,  5.6787e-02]],\n              \n                       [[-1.2806e-01,  3.9392e-02, -1.2536e-01],\n                        [ 2.1704e-01,  2.1555e-01, -3.0784e-02],\n                        [ 2.7063e-01,  1.3366e-01,  9.5439e-02]],\n              \n                       [[ 3.7700e-02,  8.5244e-02,  8.9423e-02],\n                        [-2.2561e-01, -1.4895e-01, -1.2508e-01],\n                        [-8.6692e-02, -2.8357e-01, -1.9448e-01]],\n              \n                       [[-1.0847e-01, -1.0326e-01,  4.8131e-02],\n                        [ 2.2808e-01,  1.1765e-01, -1.3124e-01],\n                        [-2.3981e-01, -2.4541e-01, -4.3661e-01]],\n              \n                       [[-2.5844e-01, -3.4444e-01, -4.1245e-01],\n                        [-1.0333e-01, -3.7641e-01,  4.6448e-02],\n                        [ 2.2596e-01,  1.9219e-02,  6.6664e-01]],\n              \n                       [[-1.4703e-02,  5.5960e-02,  1.0184e-01],\n                        [-4.6061e-02, -4.5495e-02,  8.3851e-02],\n                        [ 1.1714e-02, -1.0397e-02,  7.9982e-02]]],\n              \n              \n                      [[[-5.0962e-02, -5.2482e-03,  7.2404e-02],\n                        [ 4.1187e-02, -6.8236e-02,  2.7382e-02],\n                        [-8.0365e-02, -5.7250e-02,  6.7731e-02]],\n              \n                       [[-4.1329e-01, -1.8527e-01,  1.1663e-01],\n                        [-3.4242e-01, -7.7173e-01, -5.5745e-01],\n                        [ 2.3812e-01, -4.1776e-01, -6.8019e-01]],\n              \n                       [[-3.3259e-01, -3.4814e-01, -1.6290e-01],\n                        [-5.0034e-01, -7.1506e-01, -3.9089e-01],\n                        [ 3.0411e-01, -8.0692e-01, -3.2255e-01]],\n              \n                       [[ 7.8958e-02,  9.9188e-03, -4.6618e-02],\n                        [-3.5047e-03,  7.8168e-02, -8.7939e-02],\n                        [-5.5886e-02, -7.6226e-02, -7.6634e-03]],\n              \n                       [[-3.6274e-03, -8.2146e-02,  7.3163e-02],\n                        [-8.0946e-02,  9.8414e-02, -7.2560e-02],\n                        [-1.4446e-02,  1.9710e-02, -4.6852e-02]],\n              \n                       [[ 1.6969e-01,  1.8491e-01,  7.8009e-02],\n                        [-4.4985e-02,  1.0678e-01,  1.9786e-01],\n                        [ 5.4370e-02, -2.2560e-01, -7.4589e-02]],\n              \n                       [[ 2.7069e-02, -2.8911e-01, -9.8871e-02],\n                        [-1.6711e-02, -1.7448e-01, -1.9434e-01],\n                        [ 2.4834e-02,  2.2938e-01,  3.1593e-02]],\n              \n                       [[-8.9533e-02, -3.1418e-01, -2.7625e-01],\n                        [ 7.0981e-02, -3.0364e-01, -1.9851e-01],\n                        [ 2.3005e-01,  5.1757e-02, -1.7394e-01]],\n              \n                       [[ 2.6365e-01,  4.0967e-01,  5.3176e-01],\n                        [ 1.6553e-01,  6.1159e-01,  1.0411e+00],\n                        [-9.4884e-02, -1.3536e-01,  6.4030e-01]],\n              \n                       [[ 9.3347e-02,  9.0531e-02, -4.9620e-02],\n                        [-5.2620e-03, -5.3353e-02,  3.7561e-02],\n                        [-1.0231e-01,  3.7259e-02, -2.8997e-02]]],\n              \n              \n                      [[[ 3.8203e-02,  3.2887e-02, -5.2446e-02],\n                        [ 5.4647e-02,  4.4731e-02, -8.9621e-02],\n                        [ 1.0522e-01,  9.0741e-02,  6.5611e-02]],\n              \n                       [[-6.1435e-02,  8.6279e-02,  1.9638e-01],\n                        [-1.2436e-01, -1.0595e-01,  8.6012e-02],\n                        [-1.0635e-01, -1.0401e-01,  2.4582e-01]],\n              \n                       [[ 2.2935e-01,  5.3850e-01,  4.0091e-01],\n                        [ 4.3887e-01,  4.8322e-01,  1.5058e-01],\n                        [ 1.8636e-01,  1.7418e-01,  9.4788e-03]],\n              \n                       [[ 2.7627e-02,  6.2280e-02, -2.3834e-02],\n                        [ 7.6340e-02,  9.3509e-02, -8.0770e-02],\n                        [ 8.6415e-02, -6.9664e-02, -7.2571e-02]],\n              \n                       [[-8.8089e-02,  3.0459e-02, -7.9144e-02],\n                        [-3.9680e-02, -5.2988e-02,  2.8172e-02],\n                        [-1.0349e-01, -4.8324e-02,  7.7112e-04]],\n              \n                       [[-1.3861e-01, -1.6492e-01,  2.8060e-02],\n                        [-4.0449e-02, -5.4603e-02, -4.5277e-02],\n                        [ 1.5813e-01,  1.1911e-01, -1.3537e-01]],\n              \n                       [[-2.7619e-01, -2.6187e-01, -1.4333e-01],\n                        [-2.4470e-01, -3.4224e-01, -7.3629e-02],\n                        [-3.7536e-01, -3.9695e-01, -1.3723e-01]],\n              \n                       [[-3.5278e-01, -1.0557e-01,  1.9134e-02],\n                        [-1.3010e-02,  1.4159e-01,  2.1906e-01],\n                        [-1.1999e-01,  1.0033e-01,  1.9134e-01]],\n              \n                       [[-1.9519e-01, -2.6118e-01, -1.5081e-01],\n                        [-3.5823e-01, -2.2176e-01, -2.2450e-01],\n                        [-4.2603e-02, -2.7718e-01, -2.4398e-01]],\n              \n                       [[-7.6174e-02, -8.3002e-02,  1.4900e-02],\n                        [-5.2378e-02, -4.8416e-02,  7.3920e-02],\n                        [-5.4953e-02, -4.6917e-02,  8.0936e-02]]]])),\n             ('block_2.2.bias',\n              tensor([ 0.1702, -0.0145,  0.0913, -0.1020, -0.1330, -0.0117,  0.1226, -0.1977,\n                       0.0968, -0.7091])),\n             ('classifier.1.weight',\n              tensor([[ 2.5455e-02,  4.9279e-02,  1.2489e-01,  ...,  2.3965e-01,\n                        7.4868e-02, -1.6444e-02],\n                      [-2.5550e-02,  1.1584e-01, -8.6827e-02,  ..., -1.1300e-01,\n                        1.8865e-01,  3.3878e-02],\n                      [ 3.9628e-02, -7.0442e-02, -4.6339e-01,  ..., -2.7640e-01,\n                       -8.3519e-02, -3.4568e-02],\n                      ...,\n                      [ 2.8120e-02, -2.1272e-02, -3.8942e-02,  ..., -2.2031e-03,\n                       -8.3904e-03, -1.7234e-02],\n                      [ 2.5467e-01,  1.2549e-01, -1.5501e-01,  ...,  1.0465e-01,\n                        4.1530e-02, -4.6564e-02],\n                      [-6.7629e-02, -6.6771e-02, -8.9495e-02,  ..., -5.1695e-02,\n                       -4.5096e-02, -2.6545e-04]])),\n             ('classifier.1.bias',\n              tensor([ 0.1946, -0.1351,  0.6076, -0.2183, -0.7087,  0.1135,  0.2121,  0.0203,\n                       0.1511, -0.2740]))])"
     },
     "execution_count": 75,
     "metadata": {},
     "output_type": "execute_result"
    }
   ],
   "source": [
    "model_2.state_dict()"
   ],
   "metadata": {
    "collapsed": false,
    "ExecuteTime": {
     "end_time": "2023-10-26T12:35:04.808597200Z",
     "start_time": "2023-10-26T12:35:04.684288800Z"
    }
   },
   "id": "2d93e37cb775f846"
  }
 ],
 "metadata": {
  "kernelspec": {
   "display_name": "Python 3",
   "language": "python",
   "name": "python3"
  },
  "language_info": {
   "codemirror_mode": {
    "name": "ipython",
    "version": 2
   },
   "file_extension": ".py",
   "mimetype": "text/x-python",
   "name": "python",
   "nbconvert_exporter": "python",
   "pygments_lexer": "ipython2",
   "version": "2.7.6"
  }
 },
 "nbformat": 4,
 "nbformat_minor": 5
}
