{
 "cells": [
  {
   "cell_type": "code",
   "execution_count": 32,
   "id": "initial_id",
   "metadata": {
    "collapsed": true,
    "ExecuteTime": {
     "end_time": "2023-10-12T18:53:54.096609900Z",
     "start_time": "2023-10-12T18:53:53.596685900Z"
    }
   },
   "outputs": [
    {
     "name": "stdout",
     "output_type": "stream",
     "text": [
      "2.0.1+cpu\n"
     ]
    }
   ],
   "source": [
    "import torch\n",
    "import pandas as pd\n",
    "import numpy as np\n",
    "import matplotlib.pyplot as plt\n",
    "print(torch.__version__)"
   ]
  },
  {
   "cell_type": "markdown",
   "source": [
    "## Introduction Tensors\n",
    "### Creating Tensors"
   ],
   "metadata": {
    "collapsed": false
   },
   "id": "b0daf03aecaf6874"
  },
  {
   "cell_type": "code",
   "execution_count": 33,
   "outputs": [
    {
     "data": {
      "text/plain": "tensor(7)"
     },
     "execution_count": 33,
     "metadata": {},
     "output_type": "execute_result"
    }
   ],
   "source": [
    "# scalar\n",
    "scalar = torch.tensor(7)\n",
    "scalar"
   ],
   "metadata": {
    "collapsed": false,
    "ExecuteTime": {
     "end_time": "2023-10-12T18:53:54.186166100Z",
     "start_time": "2023-10-12T18:53:53.615713100Z"
    }
   },
   "id": "36436b4164759bad"
  },
  {
   "cell_type": "code",
   "execution_count": 34,
   "outputs": [
    {
     "data": {
      "text/plain": "0"
     },
     "execution_count": 34,
     "metadata": {},
     "output_type": "execute_result"
    }
   ],
   "source": [
    "scalar.ndim"
   ],
   "metadata": {
    "collapsed": false,
    "ExecuteTime": {
     "end_time": "2023-10-12T18:53:54.239380400Z",
     "start_time": "2023-10-12T18:53:53.630712500Z"
    }
   },
   "id": "22f68a16fd2f7ad2"
  },
  {
   "cell_type": "code",
   "execution_count": 35,
   "outputs": [
    {
     "data": {
      "text/plain": "7"
     },
     "execution_count": 35,
     "metadata": {},
     "output_type": "execute_result"
    }
   ],
   "source": [
    "scalar.item()"
   ],
   "metadata": {
    "collapsed": false,
    "ExecuteTime": {
     "end_time": "2023-10-12T18:53:54.252669100Z",
     "start_time": "2023-10-12T18:53:53.646711800Z"
    }
   },
   "id": "5f93a5ec601aeba1"
  },
  {
   "cell_type": "code",
   "execution_count": 36,
   "outputs": [
    {
     "data": {
      "text/plain": "tensor([7, 7])"
     },
     "execution_count": 36,
     "metadata": {},
     "output_type": "execute_result"
    }
   ],
   "source": [
    "vector = torch.tensor([7, 7])\n",
    "vector"
   ],
   "metadata": {
    "collapsed": false,
    "ExecuteTime": {
     "end_time": "2023-10-12T18:53:54.326428Z",
     "start_time": "2023-10-12T18:53:53.661711900Z"
    }
   },
   "id": "17cc0c09a3b3a82b"
  },
  {
   "cell_type": "code",
   "execution_count": 37,
   "outputs": [
    {
     "data": {
      "text/plain": "1"
     },
     "execution_count": 37,
     "metadata": {},
     "output_type": "execute_result"
    }
   ],
   "source": [
    "vector.ndim"
   ],
   "metadata": {
    "collapsed": false,
    "ExecuteTime": {
     "end_time": "2023-10-12T18:53:54.393321300Z",
     "start_time": "2023-10-12T18:53:53.678712500Z"
    }
   },
   "id": "d02d19d5eb7cbfbd"
  },
  {
   "cell_type": "code",
   "execution_count": 38,
   "outputs": [
    {
     "data": {
      "text/plain": "torch.Size([2])"
     },
     "execution_count": 38,
     "metadata": {},
     "output_type": "execute_result"
    }
   ],
   "source": [
    "vector.shape"
   ],
   "metadata": {
    "collapsed": false,
    "ExecuteTime": {
     "end_time": "2023-10-12T18:53:54.397246500Z",
     "start_time": "2023-10-12T18:53:53.694712600Z"
    }
   },
   "id": "5e00aec6d7d93e9f"
  },
  {
   "cell_type": "code",
   "execution_count": 39,
   "outputs": [
    {
     "data": {
      "text/plain": "tensor([[ 7,  7],\n        [ 6,  6],\n        [12, 12]])"
     },
     "execution_count": 39,
     "metadata": {},
     "output_type": "execute_result"
    }
   ],
   "source": [
    "# matrix\n",
    "matrix = torch.tensor([[7, 7], \n",
    "                       [6, 6],\n",
    "                       [12, 12]])\n",
    "matrix"
   ],
   "metadata": {
    "collapsed": false,
    "ExecuteTime": {
     "end_time": "2023-10-12T18:53:54.398245500Z",
     "start_time": "2023-10-12T18:53:53.712096700Z"
    }
   },
   "id": "dd5634a9c3a46304"
  },
  {
   "cell_type": "code",
   "execution_count": 40,
   "outputs": [
    {
     "data": {
      "text/plain": "2"
     },
     "execution_count": 40,
     "metadata": {},
     "output_type": "execute_result"
    }
   ],
   "source": [
    "matrix.ndim"
   ],
   "metadata": {
    "collapsed": false,
    "ExecuteTime": {
     "end_time": "2023-10-12T18:53:54.398245500Z",
     "start_time": "2023-10-12T18:53:53.727094800Z"
    }
   },
   "id": "6cfb6fbcd4f9393b"
  },
  {
   "cell_type": "code",
   "execution_count": 41,
   "outputs": [
    {
     "data": {
      "text/plain": "tensor([[7, 7],\n        [6, 6]])"
     },
     "execution_count": 41,
     "metadata": {},
     "output_type": "execute_result"
    }
   ],
   "source": [
    "matrix[0:2]"
   ],
   "metadata": {
    "collapsed": false,
    "ExecuteTime": {
     "end_time": "2023-10-12T18:53:54.398245500Z",
     "start_time": "2023-10-12T18:53:53.744094900Z"
    }
   },
   "id": "4dc504990bf88bff"
  },
  {
   "cell_type": "code",
   "execution_count": 42,
   "outputs": [
    {
     "data": {
      "text/plain": "torch.Size([3, 2])"
     },
     "execution_count": 42,
     "metadata": {},
     "output_type": "execute_result"
    }
   ],
   "source": [
    "matrix.shape"
   ],
   "metadata": {
    "collapsed": false,
    "ExecuteTime": {
     "end_time": "2023-10-12T18:53:54.411246400Z",
     "start_time": "2023-10-12T18:53:53.760095Z"
    }
   },
   "id": "d1550c8ea8c5d2d3"
  },
  {
   "cell_type": "code",
   "execution_count": 43,
   "outputs": [],
   "source": [
    "# Tensor\n",
    "tensor = torch.tensor([[[1, 2, 3],\n",
    "                        [1,2,3]\n",
    "                        ],\n",
    "                       [[4, 5, 6],\n",
    "                        [7,8,8]\n",
    "                        ]\n",
    "                       ])"
   ],
   "metadata": {
    "collapsed": false,
    "ExecuteTime": {
     "end_time": "2023-10-12T18:53:54.411246400Z",
     "start_time": "2023-10-12T18:53:53.775104200Z"
    }
   },
   "id": "13493a24615285e3"
  },
  {
   "cell_type": "code",
   "execution_count": 44,
   "outputs": [
    {
     "data": {
      "text/plain": "tensor([[[1, 2, 3],\n         [1, 2, 3]],\n\n        [[4, 5, 6],\n         [7, 8, 8]]])"
     },
     "execution_count": 44,
     "metadata": {},
     "output_type": "execute_result"
    }
   ],
   "source": [
    "tensor"
   ],
   "metadata": {
    "collapsed": false,
    "ExecuteTime": {
     "end_time": "2023-10-12T18:53:54.412245600Z",
     "start_time": "2023-10-12T18:53:53.790101600Z"
    }
   },
   "id": "1e569ce552ff4f66"
  },
  {
   "cell_type": "code",
   "execution_count": 45,
   "outputs": [
    {
     "data": {
      "text/plain": "3"
     },
     "execution_count": 45,
     "metadata": {},
     "output_type": "execute_result"
    }
   ],
   "source": [
    "tensor.ndim"
   ],
   "metadata": {
    "collapsed": false,
    "ExecuteTime": {
     "end_time": "2023-10-12T18:53:54.412245600Z",
     "start_time": "2023-10-12T18:53:53.806639100Z"
    }
   },
   "id": "6edffac428eb066a"
  },
  {
   "cell_type": "code",
   "execution_count": 46,
   "outputs": [
    {
     "data": {
      "text/plain": "torch.Size([2, 2, 3])"
     },
     "execution_count": 46,
     "metadata": {},
     "output_type": "execute_result"
    }
   ],
   "source": [
    "tensor.shape"
   ],
   "metadata": {
    "collapsed": false,
    "ExecuteTime": {
     "end_time": "2023-10-12T18:53:54.412245600Z",
     "start_time": "2023-10-12T18:53:53.825224400Z"
    }
   },
   "id": "4f2b323232842ff4"
  },
  {
   "cell_type": "markdown",
   "source": [
    "## Random tensors"
   ],
   "metadata": {
    "collapsed": false
   },
   "id": "5c60a5d5348e05a1"
  },
  {
   "cell_type": "code",
   "execution_count": 47,
   "outputs": [
    {
     "data": {
      "text/plain": "tensor([[[0.7955, 0.5781, 0.6106, 0.8657],\n         [0.1846, 0.8559, 0.3011, 0.4298],\n         [0.3113, 0.8054, 0.3197, 0.5436]],\n\n        [[0.2870, 0.1701, 0.5133, 0.4922],\n         [0.2098, 0.9061, 0.1981, 0.8570],\n         [0.2332, 0.9671, 0.2946, 0.5936]],\n\n        [[0.0575, 0.6582, 0.0025, 0.6142],\n         [0.3528, 0.3757, 0.3840, 0.7216],\n         [0.6270, 0.8679, 0.4059, 0.8430]],\n\n        [[0.2605, 0.9842, 0.3785, 0.9071],\n         [0.8175, 0.7125, 0.3653, 0.4424],\n         [0.7794, 0.9184, 0.7495, 0.3315]]])"
     },
     "execution_count": 47,
     "metadata": {},
     "output_type": "execute_result"
    }
   ],
   "source": [
    "# Create a random tensor of size (3, 4)\n",
    "random_tensor = torch.rand((4, 3, 4))\n",
    "random_tensor"
   ],
   "metadata": {
    "collapsed": false,
    "ExecuteTime": {
     "end_time": "2023-10-12T18:53:54.413334500Z",
     "start_time": "2023-10-12T18:53:53.837889100Z"
    }
   },
   "id": "d83d610fb6b032bc"
  },
  {
   "cell_type": "code",
   "execution_count": 48,
   "outputs": [
    {
     "data": {
      "text/plain": "3"
     },
     "execution_count": 48,
     "metadata": {},
     "output_type": "execute_result"
    }
   ],
   "source": [
    "random_tensor.ndim"
   ],
   "metadata": {
    "collapsed": false,
    "ExecuteTime": {
     "end_time": "2023-10-12T18:53:54.413334500Z",
     "start_time": "2023-10-12T18:53:53.865110Z"
    }
   },
   "id": "986cbdabc809786d"
  },
  {
   "cell_type": "code",
   "execution_count": 49,
   "outputs": [
    {
     "data": {
      "text/plain": "<matplotlib.image.AxesImage at 0x2b9e2a44610>"
     },
     "execution_count": 49,
     "metadata": {},
     "output_type": "execute_result"
    },
    {
     "data": {
      "text/plain": "<Figure size 432x288 with 1 Axes>",
      "image/png": "[encoded data removed]"
     },
     "metadata": {
      "needs_background": "light"
     },
     "output_type": "display_data"
    }
   ],
   "source": [
    "# Create a random tensor with similar shape to an image tensor\n",
    "rand_img_size_tensor = torch.rand(size=(244, 244, 3), )\n",
    "plt.imshow(rand_img_size_tensor)"
   ],
   "metadata": {
    "collapsed": false,
    "ExecuteTime": {
     "end_time": "2023-10-12T18:53:54.415246Z",
     "start_time": "2023-10-12T18:53:53.868848400Z"
    }
   },
   "id": "174d63b1bc7fc471"
  },
  {
   "cell_type": "markdown",
   "source": [
    "### Zeros an one"
   ],
   "metadata": {
    "collapsed": false
   },
   "id": "e479edbc205b3b7"
  },
  {
   "cell_type": "code",
   "execution_count": 50,
   "outputs": [
    {
     "data": {
      "text/plain": "tensor([[0., 0., 0.],\n        [0., 0., 0.],\n        [0., 0., 0.]])"
     },
     "execution_count": 50,
     "metadata": {},
     "output_type": "execute_result"
    }
   ],
   "source": [
    "torch.zeros((3, 3))\n"
   ],
   "metadata": {
    "collapsed": false,
    "ExecuteTime": {
     "end_time": "2023-10-12T18:53:54.415246Z",
     "start_time": "2023-10-12T18:53:53.992363700Z"
    }
   },
   "id": "5b46c9adadef19ab"
  },
  {
   "cell_type": "code",
   "execution_count": 51,
   "outputs": [
    {
     "data": {
      "text/plain": "tensor([[1., 1., 1., 1.],\n        [1., 1., 1., 1.],\n        [1., 1., 1., 1.]])"
     },
     "execution_count": 51,
     "metadata": {},
     "output_type": "execute_result"
    }
   ],
   "source": [
    "torch.ones((3,4))"
   ],
   "metadata": {
    "collapsed": false,
    "ExecuteTime": {
     "end_time": "2023-10-12T18:53:54.418246500Z",
     "start_time": "2023-10-12T18:53:54.007982400Z"
    }
   },
   "id": "4dd4304444672f19"
  },
  {
   "cell_type": "markdown",
   "source": [
    "### Create a range of tensor and tensors-like"
   ],
   "metadata": {
    "collapsed": false
   },
   "id": "699b9c0fbd18c3fd"
  },
  {
   "cell_type": "code",
   "execution_count": 52,
   "outputs": [
    {
     "name": "stderr",
     "output_type": "stream",
     "text": [
      "C:\\Users\\DELL\\AppData\\Local\\Temp\\ipykernel_15440\\3896863621.py:2: UserWarning: torch.range is deprecated and will be removed in a future release because its behavior is inconsistent with Python's range builtin. Instead, use torch.arange, which produces values in [start, end).\n",
      "  torch.range(1, 12)\n"
     ]
    },
    {
     "data": {
      "text/plain": "tensor([ 1.,  2.,  3.,  4.,  5.,  6.,  7.,  8.,  9., 10., 11., 12.])"
     },
     "execution_count": 52,
     "metadata": {},
     "output_type": "execute_result"
    }
   ],
   "source": [
    "# Use torch.range()\n",
    "torch.range(1, 12)"
   ],
   "metadata": {
    "collapsed": false,
    "ExecuteTime": {
     "end_time": "2023-10-12T18:53:54.418246500Z",
     "start_time": "2023-10-12T18:53:54.024269700Z"
    }
   },
   "id": "2b2d9bd85f031afc"
  },
  {
   "cell_type": "code",
   "execution_count": 53,
   "outputs": [
    {
     "data": {
      "text/plain": "tensor([ 1,  2,  3,  4,  5,  6,  7,  8,  9, 10, 11])"
     },
     "execution_count": 53,
     "metadata": {},
     "output_type": "execute_result"
    }
   ],
   "source": [
    "# Use torch.arange()\n",
    "torch.arange(1, 12)"
   ],
   "metadata": {
    "collapsed": false,
    "ExecuteTime": {
     "end_time": "2023-10-12T18:53:54.419245700Z",
     "start_time": "2023-10-12T18:53:54.040037300Z"
    }
   },
   "id": "3bee51a745545952"
  },
  {
   "cell_type": "markdown",
   "source": [
    "## Tensor datatypes"
   ],
   "metadata": {
    "collapsed": false
   },
   "id": "52d6b1e539adabdf"
  },
  {
   "cell_type": "code",
   "execution_count": 54,
   "outputs": [
    {
     "data": {
      "text/plain": "tensor([1., 2., 3.])"
     },
     "execution_count": 54,
     "metadata": {},
     "output_type": "execute_result"
    }
   ],
   "source": [
    "#  Float 32 tensor\n",
    "float_32_tensor = torch.tensor([1,2,3], dtype=torch.float32)\n",
    "float_32_tensor"
   ],
   "metadata": {
    "collapsed": false,
    "ExecuteTime": {
     "end_time": "2023-10-12T18:53:54.419245700Z",
     "start_time": "2023-10-12T18:53:54.056325400Z"
    }
   },
   "id": "6bf1512dad6c72bd"
  },
  {
   "cell_type": "code",
   "execution_count": 55,
   "outputs": [
    {
     "name": "stdout",
     "output_type": "stream",
     "text": [
      "tensor([[1, 2, 3],\n",
      "        [1, 2, 3]])\n",
      "tensor([[4, 5, 6],\n",
      "        [7, 8, 8]])\n",
      "CPU times: total: 0 ns\n",
      "Wall time: 1.37 ms\n"
     ]
    }
   ],
   "source": [
    "%%time\n",
    "for i in tensor:\n",
    "    print(i)"
   ],
   "metadata": {
    "collapsed": false,
    "ExecuteTime": {
     "end_time": "2023-10-12T18:53:54.419245700Z",
     "start_time": "2023-10-12T18:53:54.070367700Z"
    }
   },
   "id": "ffa3a221e7dbfdd6"
  },
  {
   "cell_type": "code",
   "execution_count": 56,
   "outputs": [],
   "source": [
    "tensor = torch.tensor([[12, 2, 3]])"
   ],
   "metadata": {
    "collapsed": false,
    "ExecuteTime": {
     "end_time": "2023-10-12T18:53:54.421334500Z",
     "start_time": "2023-10-12T18:53:54.085199600Z"
    }
   },
   "id": "2e38f20175007a4c"
  },
  {
   "cell_type": "code",
   "execution_count": 57,
   "outputs": [
    {
     "name": "stdout",
     "output_type": "stream",
     "text": [
      "CPU times: total: 0 ns\n",
      "Wall time: 0 ns\n"
     ]
    },
    {
     "data": {
      "text/plain": "tensor([[157]])"
     },
     "execution_count": 57,
     "metadata": {},
     "output_type": "execute_result"
    }
   ],
   "source": [
    "%%time\n",
    "tensor@tensor.T"
   ],
   "metadata": {
    "collapsed": false,
    "ExecuteTime": {
     "end_time": "2023-10-12T18:53:54.422333100Z",
     "start_time": "2023-10-12T18:53:54.100918300Z"
    }
   },
   "id": "b7bbdcf2b92d0ad8"
  },
  {
   "cell_type": "code",
   "execution_count": 58,
   "outputs": [
    {
     "name": "stdout",
     "output_type": "stream",
     "text": [
      "CPU times: total: 0 ns\n",
      "Wall time: 0 ns\n"
     ]
    },
    {
     "data": {
      "text/plain": "tensor([[157]])"
     },
     "execution_count": 58,
     "metadata": {},
     "output_type": "execute_result"
    }
   ],
   "source": [
    "%%time\n",
    "torch.matmul(tensor,tensor.T)"
   ],
   "metadata": {
    "collapsed": false,
    "ExecuteTime": {
     "end_time": "2023-10-12T18:53:54.835273900Z",
     "start_time": "2023-10-12T18:53:54.119392Z"
    }
   },
   "id": "8b5b28e7cc81fd26"
  },
  {
   "cell_type": "markdown",
   "source": [
    "**Note :** Using build-in function in pytorch is faster than using @ operator"
   ],
   "metadata": {
    "collapsed": false
   },
   "id": "2f642fb8a4476748"
  },
  {
   "cell_type": "markdown",
   "source": [
    "## Matrix multiplication"
   ],
   "metadata": {
    "collapsed": false
   },
   "id": "500349a5f3efbe07"
  },
  {
   "cell_type": "code",
   "execution_count": 59,
   "outputs": [
    {
     "ename": "RuntimeError",
     "evalue": "mat1 and mat2 shapes cannot be multiplied (3x2 and 3x2)",
     "output_type": "error",
     "traceback": [
      "\u001B[1;31m---------------------------------------------------------------------------\u001B[0m",
      "\u001B[1;31mRuntimeError\u001B[0m                              Traceback (most recent call last)",
      "Input \u001B[1;32mIn [59]\u001B[0m, in \u001B[0;36m<cell line: 9>\u001B[1;34m()\u001B[0m\n\u001B[0;32m      1\u001B[0m tensor_A \u001B[38;5;241m=\u001B[39m torch\u001B[38;5;241m.\u001B[39mtensor([[\u001B[38;5;241m1\u001B[39m,\u001B[38;5;241m2\u001B[39m], \n\u001B[0;32m      2\u001B[0m                          [\u001B[38;5;241m3\u001B[39m,\u001B[38;5;241m4\u001B[39m],\n\u001B[0;32m      3\u001B[0m                          [\u001B[38;5;241m5\u001B[39m,\u001B[38;5;241m6\u001B[39m]\n\u001B[0;32m      4\u001B[0m                          ])\n\u001B[0;32m      5\u001B[0m tensor_B \u001B[38;5;241m=\u001B[39m torch\u001B[38;5;241m.\u001B[39mtensor([[\u001B[38;5;241m7\u001B[39m, \u001B[38;5;241m10\u001B[39m],\n\u001B[0;32m      6\u001B[0m                          [\u001B[38;5;241m8\u001B[39m, \u001B[38;5;241m11\u001B[39m],\n\u001B[0;32m      7\u001B[0m                          [\u001B[38;5;241m9\u001B[39m, \u001B[38;5;241m12\u001B[39m]\n\u001B[0;32m      8\u001B[0m                          ])\n\u001B[1;32m----> 9\u001B[0m \u001B[43mtorch\u001B[49m\u001B[38;5;241;43m.\u001B[39;49m\u001B[43mmatmul\u001B[49m\u001B[43m(\u001B[49m\u001B[43mtensor_A\u001B[49m\u001B[43m,\u001B[49m\u001B[43mtensor_B\u001B[49m\u001B[43m)\u001B[49m\n",
      "\u001B[1;31mRuntimeError\u001B[0m: mat1 and mat2 shapes cannot be multiplied (3x2 and 3x2)"
     ]
    }
   ],
   "source": [
    "tensor_A = torch.tensor([[1,2], \n",
    "                         [3,4],\n",
    "                         [5,6]\n",
    "                         ])\n",
    "tensor_B = torch.tensor([[7, 10],\n",
    "                         [8, 11],\n",
    "                         [9, 12]\n",
    "                         ])\n",
    "torch.matmul(tensor_A,tensor_B)"
   ],
   "metadata": {
    "collapsed": false,
    "ExecuteTime": {
     "end_time": "2023-10-12T18:53:54.867346200Z",
     "start_time": "2023-10-12T18:53:54.136326300Z"
    }
   },
   "id": "9f08b8feaf89b909"
  },
  {
   "cell_type": "markdown",
   "source": [
    "#### Can not use matrix multiplication on tensor_A and tensor_B because\n",
    "#### the shape of tenser_A and tensor_B are the same (3x2)\n",
    "#### We cant use matrix multiplication on tensor_A and tensor_B if columns of tenser_A equals with rows of tenser_B\n",
    "**Example** : **(3x2)@(2x3)**"
   ],
   "metadata": {
    "collapsed": false
   },
   "id": "74c4ac1a12c78cb5"
  },
  {
   "cell_type": "code",
   "execution_count": 60,
   "outputs": [
    {
     "data": {
      "text/plain": "tensor([[ 27,  30,  33],\n        [ 61,  68,  75],\n        [ 95, 106, 117]])"
     },
     "execution_count": 60,
     "metadata": {},
     "output_type": "execute_result"
    }
   ],
   "source": [
    "torch.matmul(tensor_A,tensor_B.T)"
   ],
   "metadata": {
    "collapsed": false,
    "ExecuteTime": {
     "end_time": "2023-10-12T18:54:04.384901800Z",
     "start_time": "2023-10-12T18:54:04.366352Z"
    }
   },
   "id": "3eec3136f1901a13"
  },
  {
   "cell_type": "markdown",
   "source": [
    "## Finding min, max, mean, sum, ..."
   ],
   "metadata": {
    "collapsed": false
   },
   "id": "9c8ba24f85283d68"
  },
  {
   "cell_type": "code",
   "execution_count": 61,
   "outputs": [
    {
     "data": {
      "text/plain": "tensor([ 0,  5, 10, 15, 20, 25, 30, 35, 40, 45, 50, 55, 60, 65, 70, 75, 80, 85,\n        90, 95])"
     },
     "execution_count": 61,
     "metadata": {},
     "output_type": "execute_result"
    }
   ],
   "source": [
    "x = torch.arange(0, 100, 5)\n",
    "x"
   ],
   "metadata": {
    "collapsed": false,
    "ExecuteTime": {
     "end_time": "2023-10-12T18:54:05.345117600Z",
     "start_time": "2023-10-12T18:54:05.292017500Z"
    }
   },
   "id": "9d42e900a639b8e3"
  },
  {
   "cell_type": "code",
   "execution_count": 62,
   "outputs": [
    {
     "data": {
      "text/plain": "(tensor(95), tensor(0))"
     },
     "execution_count": 62,
     "metadata": {},
     "output_type": "execute_result"
    }
   ],
   "source": [
    "x.max(), x.min()"
   ],
   "metadata": {
    "collapsed": false,
    "ExecuteTime": {
     "end_time": "2023-10-12T18:54:06.747261900Z",
     "start_time": "2023-10-12T18:54:06.723157200Z"
    }
   },
   "id": "f0495899f2aed144"
  },
  {
   "cell_type": "code",
   "execution_count": 62,
   "outputs": [],
   "source": [],
   "metadata": {
    "collapsed": false,
    "ExecuteTime": {
     "end_time": "2023-10-12T18:54:06.890780500Z",
     "start_time": "2023-10-12T18:54:06.869343100Z"
    }
   },
   "id": "b851ba52b338179b"
  },
  {
   "cell_type": "code",
   "execution_count": 63,
   "outputs": [
    {
     "data": {
      "text/plain": "tensor(29.5804)"
     },
     "execution_count": 63,
     "metadata": {},
     "output_type": "execute_result"
    }
   ],
   "source": [
    "torch.std(x.type(torch.float32))"
   ],
   "metadata": {
    "collapsed": false,
    "ExecuteTime": {
     "end_time": "2023-10-12T18:54:07.073939Z",
     "start_time": "2023-10-12T18:54:07.032008500Z"
    }
   },
   "id": "dc466ce687b67951"
  },
  {
   "cell_type": "code",
   "execution_count": 64,
   "outputs": [
    {
     "data": {
      "text/plain": "tensor(45.)"
     },
     "execution_count": 64,
     "metadata": {},
     "output_type": "execute_result"
    }
   ],
   "source": [
    "torch.median(x.type(torch.float32))"
   ],
   "metadata": {
    "collapsed": false,
    "ExecuteTime": {
     "end_time": "2023-10-12T18:54:07.209455900Z",
     "start_time": "2023-10-12T18:54:07.156260100Z"
    }
   },
   "id": "ba3e916fe58e0745"
  },
  {
   "cell_type": "code",
   "execution_count": 65,
   "outputs": [
    {
     "data": {
      "text/plain": "tensor(875.)"
     },
     "execution_count": 65,
     "metadata": {},
     "output_type": "execute_result"
    }
   ],
   "source": [
    "torch.var(x.type(torch.float32))"
   ],
   "metadata": {
    "collapsed": false,
    "ExecuteTime": {
     "end_time": "2023-10-12T18:54:07.339820700Z",
     "start_time": "2023-10-12T18:54:07.305722800Z"
    }
   },
   "id": "6741ca040e7f4d1d"
  },
  {
   "cell_type": "code",
   "execution_count": 66,
   "outputs": [
    {
     "data": {
      "text/plain": "tensor(950)"
     },
     "execution_count": 66,
     "metadata": {},
     "output_type": "execute_result"
    }
   ],
   "source": [
    "torch.sum(x)"
   ],
   "metadata": {
    "collapsed": false,
    "ExecuteTime": {
     "end_time": "2023-10-12T18:54:07.480484100Z",
     "start_time": "2023-10-12T18:54:07.421565900Z"
    }
   },
   "id": "c328ad5cd5a41e8b"
  },
  {
   "cell_type": "code",
   "execution_count": 67,
   "outputs": [
    {
     "data": {
      "text/plain": "tensor(19)"
     },
     "execution_count": 67,
     "metadata": {},
     "output_type": "execute_result"
    }
   ],
   "source": [
    "torch.argmax(x)"
   ],
   "metadata": {
    "collapsed": false,
    "ExecuteTime": {
     "end_time": "2023-10-12T18:54:07.576671400Z",
     "start_time": "2023-10-12T18:54:07.529021700Z"
    }
   },
   "id": "7286d5ec556192c7"
  },
  {
   "cell_type": "code",
   "execution_count": 68,
   "outputs": [
    {
     "data": {
      "text/plain": "tensor(0)"
     },
     "execution_count": 68,
     "metadata": {},
     "output_type": "execute_result"
    }
   ],
   "source": [
    "torch.argmin(x)"
   ],
   "metadata": {
    "collapsed": false,
    "ExecuteTime": {
     "end_time": "2023-10-12T18:54:07.724856100Z",
     "start_time": "2023-10-12T18:54:07.659107800Z"
    }
   },
   "id": "2c1acd37fd5a0c8b"
  },
  {
   "cell_type": "markdown",
   "source": [
    "## Reshaping, Stacking, Squeezing and Un_squeezing"
   ],
   "metadata": {
    "collapsed": false
   },
   "id": "1e7f8c61caa15b17"
  },
  {
   "cell_type": "code",
   "execution_count": 69,
   "outputs": [
    {
     "data": {
      "text/plain": "(tensor([1., 2., 3., 4., 5., 6., 7., 8., 9.]), torch.Size([9]))"
     },
     "execution_count": 69,
     "metadata": {},
     "output_type": "execute_result"
    }
   ],
   "source": [
    "x = torch.arange(1., 10.)\n",
    "x, x.shape"
   ],
   "metadata": {
    "collapsed": false,
    "ExecuteTime": {
     "end_time": "2023-10-12T18:54:07.963800300Z",
     "start_time": "2023-10-12T18:54:07.889724500Z"
    }
   },
   "id": "54ff5726cce9c948"
  },
  {
   "cell_type": "code",
   "execution_count": 70,
   "outputs": [
    {
     "ename": "RuntimeError",
     "evalue": "shape '[1, 3]' is invalid for input of size 9",
     "output_type": "error",
     "traceback": [
      "\u001B[1;31m---------------------------------------------------------------------------\u001B[0m",
      "\u001B[1;31mRuntimeError\u001B[0m                              Traceback (most recent call last)",
      "Input \u001B[1;32mIn [70]\u001B[0m, in \u001B[0;36m<cell line: 2>\u001B[1;34m()\u001B[0m\n\u001B[0;32m      1\u001B[0m \u001B[38;5;66;03m# Add an extra dimension\u001B[39;00m\n\u001B[1;32m----> 2\u001B[0m x_reshaped \u001B[38;5;241m=\u001B[39m \u001B[43mx\u001B[49m\u001B[38;5;241;43m.\u001B[39;49m\u001B[43mreshape\u001B[49m\u001B[43m(\u001B[49m\u001B[38;5;241;43m1\u001B[39;49m\u001B[43m,\u001B[49m\u001B[43m \u001B[49m\u001B[38;5;241;43m3\u001B[39;49m\u001B[43m)\u001B[49m\n",
      "\u001B[1;31mRuntimeError\u001B[0m: shape '[1, 3]' is invalid for input of size 9"
     ]
    }
   ],
   "source": [
    "# Add an extra dimension\n",
    "x_reshaped = x.reshape(1, 3)"
   ],
   "metadata": {
    "collapsed": false,
    "ExecuteTime": {
     "end_time": "2023-10-12T18:54:08.107614Z",
     "start_time": "2023-10-12T18:54:08.073223200Z"
    }
   },
   "id": "baec4cc7a44f2fd3"
  },
  {
   "cell_type": "code",
   "execution_count": 81,
   "outputs": [
    {
     "data": {
      "text/plain": "tensor([[5., 2., 3., 4., 5., 6., 7., 8., 9.]])"
     },
     "execution_count": 81,
     "metadata": {},
     "output_type": "execute_result"
    }
   ],
   "source": [
    "x_reshaped = x.reshape(1, 9)\n",
    "x_reshaped"
   ],
   "metadata": {
    "collapsed": false,
    "ExecuteTime": {
     "end_time": "2023-10-12T18:55:54.038212600Z",
     "start_time": "2023-10-12T18:55:53.998261500Z"
    }
   },
   "id": "5a6bd1697c8c1067"
  },
  {
   "cell_type": "code",
   "execution_count": 82,
   "outputs": [
    {
     "data": {
      "text/plain": "tensor([[5., 5., 5., 5.],\n        [2., 2., 2., 2.],\n        [3., 3., 3., 3.],\n        [4., 4., 4., 4.],\n        [5., 5., 5., 5.],\n        [6., 6., 6., 6.],\n        [7., 7., 7., 7.],\n        [8., 8., 8., 8.],\n        [9., 9., 9., 9.]])"
     },
     "execution_count": 82,
     "metadata": {},
     "output_type": "execute_result"
    }
   ],
   "source": [
    "# Stack tensors on top\n",
    "torch.stack([x, x, x,x], dim=1)"
   ],
   "metadata": {
    "collapsed": false,
    "ExecuteTime": {
     "end_time": "2023-10-12T18:55:54.330909800Z",
     "start_time": "2023-10-12T18:55:54.311858300Z"
    }
   },
   "id": "7b6ecda55c80b92"
  },
  {
   "cell_type": "code",
   "execution_count": 83,
   "outputs": [
    {
     "name": "stdout",
     "output_type": "stream",
     "text": [
      "Previous tensor: tensor([[5., 2., 3., 4., 5., 6., 7., 8., 9.]])\n",
      "Previous shape: torch.Size([1, 9])\n",
      "\n",
      "New tensor: tensor([5., 2., 3., 4., 5., 6., 7., 8., 9.])\n",
      "New shape: torch.Size([9])\n"
     ]
    }
   ],
   "source": [
    "print(f\"Previous tensor: {x_reshaped}\")\n",
    "print(f\"Previous shape: {x_reshaped.shape}\")\n",
    "\n",
    "# Remove extra dimension from x_reshaped\n",
    "x_squeezed = x_reshaped.squeeze()\n",
    "print(f\"\\nNew tensor: {x_squeezed}\")\n",
    "print(f\"New shape: {x_squeezed.shape}\")"
   ],
   "metadata": {
    "collapsed": false,
    "ExecuteTime": {
     "end_time": "2023-10-12T18:55:55.197071300Z",
     "start_time": "2023-10-12T18:55:55.143357700Z"
    }
   },
   "id": "b258a0fbd499cfc3"
  },
  {
   "cell_type": "code",
   "execution_count": 84,
   "outputs": [
    {
     "data": {
      "text/plain": "(tensor([[5., 2., 3., 4., 5., 6., 7., 8., 9.]]), torch.Size([1, 9]))"
     },
     "execution_count": 84,
     "metadata": {},
     "output_type": "execute_result"
    }
   ],
   "source": [
    "# Change view (keeps same data as original but changes view)\n",
    "z = x.view(1, 9)\n",
    "z, z.shape"
   ],
   "metadata": {
    "collapsed": false,
    "ExecuteTime": {
     "end_time": "2023-10-12T18:55:55.602391500Z",
     "start_time": "2023-10-12T18:55:55.575699300Z"
    }
   },
   "id": "a96b600b19e30dbe"
  },
  {
   "cell_type": "code",
   "execution_count": 85,
   "outputs": [
    {
     "data": {
      "text/plain": "(tensor([[5., 2., 3., 4., 5., 6., 7., 8., 9.]]),\n tensor([5., 2., 3., 4., 5., 6., 7., 8., 9.]))"
     },
     "execution_count": 85,
     "metadata": {},
     "output_type": "execute_result"
    }
   ],
   "source": [
    "# Changing z changes x\n",
    "z[:, 0] = 5\n",
    "z, x"
   ],
   "metadata": {
    "collapsed": false,
    "ExecuteTime": {
     "end_time": "2023-10-12T18:55:56.124519200Z",
     "start_time": "2023-10-12T18:55:56.092328300Z"
    }
   },
   "id": "2a443ed4d39e265d"
  },
  {
   "cell_type": "code",
   "execution_count": 86,
   "outputs": [
    {
     "name": "stdout",
     "output_type": "stream",
     "text": [
      "Previous tensor: tensor([[5., 2., 3., 4., 5., 6., 7., 8., 9.]])\n",
      "Previous shape: torch.Size([1, 9])\n",
      "\n",
      "New tensor: tensor([5., 2., 3., 4., 5., 6., 7., 8., 9.])\n",
      "New shape: torch.Size([9])\n"
     ]
    }
   ],
   "source": [
    "print(f\"Previous tensor: {x_reshaped}\")\n",
    "print(f\"Previous shape: {x_reshaped.shape}\")\n",
    "\n",
    "# Remove extra dimension from x_reshaped\n",
    "x_squeezed = x_reshaped.squeeze()\n",
    "print(f\"\\nNew tensor: {x_squeezed}\")\n",
    "print(f\"New shape: {x_squeezed.shape}\")"
   ],
   "metadata": {
    "collapsed": false,
    "ExecuteTime": {
     "end_time": "2023-10-12T18:55:56.568398700Z",
     "start_time": "2023-10-12T18:55:56.529914100Z"
    }
   },
   "id": "863ec022198e44eb"
  },
  {
   "cell_type": "code",
   "execution_count": 90,
   "outputs": [
    {
     "name": "stdout",
     "output_type": "stream",
     "text": [
      "Previous tensor: tensor([5., 2., 3., 4., 5., 6., 7., 8., 9.])\n",
      "Previous shape: torch.Size([9])\n",
      "\n",
      "New tensor: tensor([[5.],\n",
      "        [2.],\n",
      "        [3.],\n",
      "        [4.],\n",
      "        [5.],\n",
      "        [6.],\n",
      "        [7.],\n",
      "        [8.],\n",
      "        [9.]])\n",
      "New shape: torch.Size([9, 1])\n"
     ]
    }
   ],
   "source": [
    "print(f\"Previous tensor: {x_squeezed}\")\n",
    "print(f\"Previous shape: {x_squeezed.shape}\")\n",
    "\n",
    "## Add an extra dimension with unsqueeze\n",
    "x_unsqueezed = x_squeezed.unsqueeze(dim=1)\n",
    "print(f\"\\nNew tensor: {x_unsqueezed}\")\n",
    "print(f\"New shape: {x_unsqueezed.shape}\")"
   ],
   "metadata": {
    "collapsed": false,
    "ExecuteTime": {
     "end_time": "2023-10-12T18:56:28.217709400Z",
     "start_time": "2023-10-12T18:56:28.177725200Z"
    }
   },
   "id": "a0f3f864023e5c22"
  },
  {
   "cell_type": "code",
   "execution_count": 94,
   "outputs": [
    {
     "name": "stdout",
     "output_type": "stream",
     "text": [
      "Previous shape : torch.Size([2, 5, 4])\n",
      "New shape : torch.Size([4, 2, 5])\n"
     ]
    }
   ],
   "source": [
    "# Permute is rearranged the dimensions of a target tensor in a specific order\n",
    "x = torch.rand(2, 5, 4)\n",
    "x_permuted = torch.permute(x, [2, 0, 1])\n",
    "print(f'Previous shape : {x.shape}')\n",
    "print(f'New shape : {x_permuted.shape}')"
   ],
   "metadata": {
    "collapsed": false,
    "ExecuteTime": {
     "end_time": "2023-10-12T19:01:12.988420300Z",
     "start_time": "2023-10-12T19:01:12.950724500Z"
    }
   },
   "id": "7e624cf988a5065"
  },
  {
   "cell_type": "code",
   "execution_count": 96,
   "outputs": [
    {
     "data": {
      "text/plain": "torch.Size([2, 2, 3])"
     },
     "execution_count": 96,
     "metadata": {},
     "output_type": "execute_result"
    }
   ],
   "source": [
    "tensor = torch.tensor([[[1, 2, 3],\n",
    "                        [1,2,3]\n",
    "                        ],\n",
    "                       [[4, 5, 6],\n",
    "                        [7,8,8]\n",
    "                        ]\n",
    "                       ])\n",
    "tensor.shape"
   ],
   "metadata": {
    "collapsed": false,
    "ExecuteTime": {
     "end_time": "2023-10-12T19:04:08.504468700Z",
     "start_time": "2023-10-12T19:04:08.467480100Z"
    }
   },
   "id": "2fa26f3b174d2994"
  },
  {
   "cell_type": "code",
   "execution_count": 98,
   "outputs": [
    {
     "data": {
      "text/plain": "tensor([[[1, 4],\n         [1, 7]],\n\n        [[2, 5],\n         [2, 8]],\n\n        [[3, 6],\n         [3, 8]]])"
     },
     "execution_count": 98,
     "metadata": {},
     "output_type": "execute_result"
    }
   ],
   "source": [
    "torch.permute(tensor, [2, 1, 0])"
   ],
   "metadata": {
    "collapsed": false,
    "ExecuteTime": {
     "end_time": "2023-10-12T19:13:19.790874200Z",
     "start_time": "2023-10-12T19:13:19.754089900Z"
    }
   },
   "id": "77d938010bec5df3"
  },
  {
   "cell_type": "code",
   "execution_count": 100,
   "outputs": [
    {
     "data": {
      "text/plain": "tensor([[[16,  8, 13,  2, 14],\n         [ 6, 10, 19,  3, 16]],\n\n        [[12, 13,  5,  2, 19],\n         [10, 16,  1, 16,  6]],\n\n        [[ 5, 14, 14,  8,  2],\n         [10, 11,  3, 19,  4]]])"
     },
     "execution_count": 100,
     "metadata": {},
     "output_type": "execute_result"
    }
   ],
   "source": [
    "tensor = torch.randint(1, 20, size=[3, 2, 5])\n",
    "tensor"
   ],
   "metadata": {
    "collapsed": false,
    "ExecuteTime": {
     "end_time": "2023-10-12T19:16:31.736036200Z",
     "start_time": "2023-10-12T19:16:31.700759200Z"
    }
   },
   "id": "f69cd1670488d5be"
  },
  {
   "cell_type": "code",
   "execution_count": 103,
   "outputs": [
    {
     "data": {
      "text/plain": "tensor([[[16,  8, 13,  2, 14],\n         [12, 13,  5,  2, 19],\n         [ 5, 14, 14,  8,  2]],\n\n        [[ 6, 10, 19,  3, 16],\n         [10, 16,  1, 16,  6],\n         [10, 11,  3, 19,  4]]])"
     },
     "execution_count": 103,
     "metadata": {},
     "output_type": "execute_result"
    }
   ],
   "source": [
    "torch.permute(tensor, [1, 0, 2])"
   ],
   "metadata": {
    "collapsed": false,
    "ExecuteTime": {
     "end_time": "2023-10-12T19:22:14.759433700Z",
     "start_time": "2023-10-12T19:22:14.736075300Z"
    }
   },
   "id": "f217c36f111e3ce2"
  },
  {
   "cell_type": "code",
   "execution_count": 105,
   "outputs": [
    {
     "ename": "TypeError",
     "evalue": "rand() received an invalid combination of arguments - got (int, int, random_seed=int), but expected one of:\n * (tuple of ints size, *, torch.Generator generator, tuple of names names, torch.dtype dtype, torch.layout layout, torch.device device, bool pin_memory, bool requires_grad)\n * (tuple of ints size, *, torch.Generator generator, Tensor out, torch.dtype dtype, torch.layout layout, torch.device device, bool pin_memory, bool requires_grad)\n * (tuple of ints size, *, Tensor out, torch.dtype dtype, torch.layout layout, torch.device device, bool pin_memory, bool requires_grad)\n * (tuple of ints size, *, tuple of names names, torch.dtype dtype, torch.layout layout, torch.device device, bool pin_memory, bool requires_grad)\n",
     "output_type": "error",
     "traceback": [
      "\u001B[1;31m---------------------------------------------------------------------------\u001B[0m",
      "\u001B[1;31mTypeError\u001B[0m                                 Traceback (most recent call last)",
      "Input \u001B[1;32mIn [105]\u001B[0m, in \u001B[0;36m<cell line: 1>\u001B[1;34m()\u001B[0m\n\u001B[1;32m----> 1\u001B[0m \u001B[43mtorch\u001B[49m\u001B[38;5;241;43m.\u001B[39;49m\u001B[43mrand\u001B[49m\u001B[43m(\u001B[49m\u001B[38;5;241;43m1\u001B[39;49m\u001B[43m,\u001B[49m\u001B[38;5;241;43m3\u001B[39;49m\u001B[43m,\u001B[49m\u001B[43mrandom_seed\u001B[49m\u001B[38;5;241;43m=\u001B[39;49m\u001B[38;5;241;43m1\u001B[39;49m\u001B[43m)\u001B[49m\n",
      "\u001B[1;31mTypeError\u001B[0m: rand() received an invalid combination of arguments - got (int, int, random_seed=int), but expected one of:\n * (tuple of ints size, *, torch.Generator generator, tuple of names names, torch.dtype dtype, torch.layout layout, torch.device device, bool pin_memory, bool requires_grad)\n * (tuple of ints size, *, torch.Generator generator, Tensor out, torch.dtype dtype, torch.layout layout, torch.device device, bool pin_memory, bool requires_grad)\n * (tuple of ints size, *, Tensor out, torch.dtype dtype, torch.layout layout, torch.device device, bool pin_memory, bool requires_grad)\n * (tuple of ints size, *, tuple of names names, torch.dtype dtype, torch.layout layout, torch.device device, bool pin_memory, bool requires_grad)\n"
     ]
    }
   ],
   "source": [],
   "metadata": {
    "collapsed": false,
    "ExecuteTime": {
     "end_time": "2023-10-12T19:36:01.627145300Z",
     "start_time": "2023-10-12T19:36:01.570590100Z"
    }
   },
   "id": "162c202fb84d521a"
  },
  {
   "cell_type": "code",
   "execution_count": null,
   "outputs": [],
   "source": [],
   "metadata": {
    "collapsed": false
   },
   "id": "8e33bfb8b2264bdc"
  }
 ],
 "metadata": {
  "kernelspec": {
   "display_name": "Python 3",
   "language": "python",
   "name": "python3"
  },
  "language_info": {
   "codemirror_mode": {
    "name": "ipython",
    "version": 2
   },
   "file_extension": ".py",
   "mimetype": "text/x-python",
   "name": "python",
   "nbconvert_exporter": "python",
   "pygments_lexer": "ipython2",
   "version": "2.7.6"
  }
 },
 "nbformat": 4,
 "nbformat_minor": 5
}
