{
 "cells": [
  {
   "cell_type": "code",
   "execution_count": 1,
   "id": "initial_id",
   "metadata": {
    "collapsed": true,
    "ExecuteTime": {
     "end_time": "2023-10-18T00:44:11.461795600Z",
     "start_time": "2023-10-18T00:44:04.621765500Z"
    }
   },
   "outputs": [],
   "source": [
    "import torch\n",
    "from bokeh.colors.groups import yellow\n",
    "from torch import nn #nn contains all of Pytorch's building for neural networks\n",
    "import matplotlib.pyplot as plt"
   ]
  },
  {
   "cell_type": "markdown",
   "source": [
    "## Linear Regression"
   ],
   "metadata": {
    "collapsed": false
   },
   "id": "33eb35ea9d5699fe"
  },
  {
   "cell_type": "code",
   "execution_count": 2,
   "outputs": [],
   "source": [
    "weight = 0.7\n",
    "bias = 0.3\n",
    "# Create data\n",
    "start = 0\n",
    "end = 1\n",
    "step = 0.02\n",
    "X = torch.arange(start, end, step).unsqueeze(dim=1)\n",
    "y = weight*X + bias"
   ],
   "metadata": {
    "collapsed": false,
    "ExecuteTime": {
     "end_time": "2023-10-18T00:44:11.524973600Z",
     "start_time": "2023-10-18T00:44:11.463476300Z"
    }
   },
   "id": "f3ccc20efd5cfd18"
  },
  {
   "cell_type": "markdown",
   "source": [
    "## Create a train/test data"
   ],
   "metadata": {
    "collapsed": false
   },
   "id": "52811c22cf66654c"
  },
  {
   "cell_type": "code",
   "execution_count": 3,
   "outputs": [],
   "source": [
    "train_split = int(0.8*len(X))\n",
    "X_train, y_train = X[:train_split], y[:train_split]\n",
    "X_test, y_test = X[train_split:], y[train_split:]\n"
   ],
   "metadata": {
    "collapsed": false,
    "ExecuteTime": {
     "end_time": "2023-10-18T00:44:11.599133500Z",
     "start_time": "2023-10-18T00:44:11.530819200Z"
    }
   },
   "id": "3322e012c391b03e"
  },
  {
   "cell_type": "code",
   "execution_count": 4,
   "outputs": [],
   "source": [
    "def plot_predictions(train_data=X_train, train_labels=y_train, test_data=X_test, test_labels=y_test, predictions=None):\n",
    "    plt.scatter(train_data, train_labels, c='r', label='Training data')\n",
    "    plt.scatter(test_data, test_labels, label='Testing data')\n",
    "    \n",
    "    if predictions is not None:\n",
    "        plt.scatter(X_test, predictions, c='y', label='Prediction values')\n",
    "    plt.legend()"
   ],
   "metadata": {
    "collapsed": false,
    "ExecuteTime": {
     "end_time": "2023-10-18T00:44:11.615968Z",
     "start_time": "2023-10-18T00:44:11.574105Z"
    }
   },
   "id": "66ac525946617d42"
  },
  {
   "cell_type": "code",
   "execution_count": 5,
   "outputs": [
    {
     "data": {
      "text/plain": "<Figure size 432x288 with 1 Axes>",
      "image/png": "[encoded data removed]"
     },
     "metadata": {
      "needs_background": "light"
     },
     "output_type": "display_data"
    }
   ],
   "source": [
    "plot_predictions(predictions=torch.arange(0.4, 0.8, 0.4/10))"
   ],
   "metadata": {
    "collapsed": false,
    "ExecuteTime": {
     "end_time": "2023-10-18T00:44:12.157003700Z",
     "start_time": "2023-10-18T00:44:11.620004200Z"
    }
   },
   "id": "6b61c468a913d2a2"
  },
  {
   "cell_type": "code",
   "execution_count": 6,
   "outputs": [],
   "source": [
    "class LinearRegression(nn.Module):\n",
    "    def __init__(self):\n",
    "        super().__init__()\n",
    "        self.weights = nn.Parameter(torch.rand(1, requires_grad=True, dtype=torch.float))\n",
    "        self.bias = nn.Parameter(torch.rand(1, requires_grad=True, dtype=torch.float))\n",
    "        \n",
    "        #Forward method to define the computation in the model \n",
    "    def forward(self, x:torch.Tensor) -> torch.Tensor:\n",
    "         return self.weights*x + bias"
   ],
   "metadata": {
    "collapsed": false,
    "ExecuteTime": {
     "end_time": "2023-10-18T00:44:12.256213Z",
     "start_time": "2023-10-18T00:44:12.155491600Z"
    }
   },
   "id": "2c67b889dae0aebd"
  },
  {
   "cell_type": "markdown",
   "source": [
    "## Pytorch model building essentials\n",
    "- torch.nn - contains of the building for computational graphs(a neural network can be considered a computational graph)\n",
    "- torch.nn.Parameter - what parameter should our model try and learn, often in Pytorch layer for torch.nn with set these for us \n",
    "- torch.optim - this where the optimizer in Pytorch live, they will help with gradient descent\n",
    "- def forward() - All nn.Module subclasses require you to overwrite forward() , this method defines what happens in the forward computation"
   ],
   "metadata": {
    "collapsed": false
   },
   "id": "5dcb5823ed4d7a33"
  },
  {
   "cell_type": "markdown",
   "source": [
    "## Checking content of our Pytorch model"
   ],
   "metadata": {
    "collapsed": false
   },
   "id": "564e53891d5c664d"
  },
  {
   "cell_type": "code",
   "execution_count": 7,
   "outputs": [
    {
     "data": {
      "text/plain": "LinearRegression()"
     },
     "execution_count": 7,
     "metadata": {},
     "output_type": "execute_result"
    }
   ],
   "source": [
    "#Create random seed\n",
    "torch.manual_seed(42)\n",
    "model_0 = LinearRegression()\n",
    "model_0"
   ],
   "metadata": {
    "collapsed": false,
    "ExecuteTime": {
     "end_time": "2023-10-18T00:44:12.281371800Z",
     "start_time": "2023-10-18T00:44:12.176197Z"
    }
   },
   "id": "8c370b6437ce886a"
  },
  {
   "cell_type": "code",
   "execution_count": 8,
   "outputs": [
    {
     "data": {
      "text/plain": "[Parameter containing:\n tensor([0.8823], requires_grad=True),\n Parameter containing:\n tensor([0.9150], requires_grad=True)]"
     },
     "execution_count": 8,
     "metadata": {},
     "output_type": "execute_result"
    }
   ],
   "source": [
    "list(model_0.parameters())"
   ],
   "metadata": {
    "collapsed": false,
    "ExecuteTime": {
     "end_time": "2023-10-18T00:44:12.298305Z",
     "start_time": "2023-10-18T00:44:12.222080400Z"
    }
   },
   "id": "7348cc54c5f8c1f5"
  },
  {
   "cell_type": "code",
   "execution_count": 9,
   "outputs": [
    {
     "data": {
      "text/plain": "OrderedDict([('weights', tensor([0.8823])), ('bias', tensor([0.9150]))])"
     },
     "execution_count": 9,
     "metadata": {},
     "output_type": "execute_result"
    }
   ],
   "source": [
    "# Dictionary parameters\n",
    "model_0.state_dict()"
   ],
   "metadata": {
    "collapsed": false,
    "ExecuteTime": {
     "end_time": "2023-10-18T00:44:12.509853800Z",
     "start_time": "2023-10-18T00:44:12.281371800Z"
    }
   },
   "id": "847d64d0b9b9942f"
  },
  {
   "cell_type": "code",
   "execution_count": 10,
   "outputs": [],
   "source": [
    "## Making a prediction using `torch.inference_mode()`\n",
    "\n",
    "with torch.inference_mode():\n",
    "    y_pred = model_0(X_test)"
   ],
   "metadata": {
    "collapsed": false,
    "ExecuteTime": {
     "end_time": "2023-10-18T00:44:12.542421600Z",
     "start_time": "2023-10-18T00:44:12.305815900Z"
    }
   },
   "id": "d106cf247ef5f23"
  },
  {
   "cell_type": "code",
   "execution_count": 11,
   "outputs": [
    {
     "data": {
      "text/plain": "tensor([[1.0058],\n        [1.0235],\n        [1.0411],\n        [1.0588],\n        [1.0764],\n        [1.0940],\n        [1.1117],\n        [1.1293],\n        [1.1470],\n        [1.1646]])"
     },
     "execution_count": 11,
     "metadata": {},
     "output_type": "execute_result"
    }
   ],
   "source": [
    "## Making a prediction using `torch.inference_mode()`\n",
    "with torch.no_grad():\n",
    "    y_pred = model_0(X_test)\n",
    "y_pred"
   ],
   "metadata": {
    "collapsed": false,
    "ExecuteTime": {
     "end_time": "2023-10-18T00:44:12.558673800Z",
     "start_time": "2023-10-18T00:44:12.314036200Z"
    }
   },
   "id": "7dc19bacce39b06f"
  },
  {
   "cell_type": "code",
   "execution_count": 12,
   "outputs": [
    {
     "data": {
      "text/plain": "<Figure size 432x288 with 1 Axes>",
      "image/png": "[encoded data removed]"
     },
     "metadata": {
      "needs_background": "light"
     },
     "output_type": "display_data"
    }
   ],
   "source": [
    "plot_predictions(predictions=y_pred)"
   ],
   "metadata": {
    "collapsed": false,
    "ExecuteTime": {
     "end_time": "2023-10-18T00:44:12.746581Z",
     "start_time": "2023-10-18T00:44:12.346357300Z"
    }
   },
   "id": "af37a13f0585a07"
  },
  {
   "cell_type": "code",
   "execution_count": 22,
   "outputs": [],
   "source": [
    "#Setup a loss function\n",
    "loss_fn = nn.MSELoss()\n",
    "#Set up the optimizer\n",
    "optimizer = torch.optim.SGD(params=model_0.parameters(), lr=0.01)"
   ],
   "metadata": {
    "collapsed": false,
    "ExecuteTime": {
     "end_time": "2023-10-18T01:04:34.303933900Z",
     "start_time": "2023-10-18T01:04:34.248646Z"
    }
   },
   "id": "19507188303071bb"
  },
  {
   "cell_type": "markdown",
   "source": [
    "## Training and Testing Model"
   ],
   "metadata": {
    "collapsed": false
   },
   "id": "2c23d6569d77a1bc"
  },
  {
   "cell_type": "code",
   "execution_count": 49,
   "outputs": [
    {
     "name": "stdout",
     "output_type": "stream",
     "text": [
      "Epoch: 0 | MSE Train Loss: 4.5432119177846175e-10 | MAE Test Loss: 1.7455714651504195e-09 \n",
      "Epoch: 10 | MSE Train Loss: 4.203997983065477e-10 | MAE Test Loss: 1.6153404169827468e-09 \n",
      "Epoch: 20 | MSE Train Loss: 3.8795996970542035e-10 | MAE Test Loss: 1.489723899794626e-09 \n",
      "Epoch: 30 | MSE Train Loss: 3.56843610216373e-10 | MAE Test Loss: 1.3686871636053866e-09 \n",
      "Epoch: 40 | MSE Train Loss: 3.266203696394854e-10 | MAE Test Loss: 1.2540741778366282e-09 \n",
      "Epoch: 50 | MSE Train Loss: 2.9795643730068377e-10 | MAE Test Loss: 1.1428632484822288e-09 \n",
      "Epoch: 60 | MSE Train Loss: 2.706801172092099e-10 | MAE Test Loss: 1.0379685999595267e-09 \n",
      "Epoch: 70 | MSE Train Loss: 2.5242502532663025e-10 | MAE Test Loss: 9.70218794194011e-10 \n",
      "Epoch: 80 | MSE Train Loss: 2.354214601041349e-10 | MAE Test Loss: 9.058329086819583e-10 \n",
      "Epoch: 90 | MSE Train Loss: 2.1895134316718412e-10 | MAE Test Loss: 8.422763042581494e-10 \n",
      "Epoch: 100 | MSE Train Loss: 2.03535521769993e-10 | MAE Test Loss: 7.820545877557095e-10 \n",
      "Epoch: 110 | MSE Train Loss: 1.8841031512728534e-10 | MAE Test Loss: 7.236998778026305e-10 \n",
      "Epoch: 120 | MSE Train Loss: 1.7388501749593388e-10 | MAE Test Loss: 6.673172014970419e-10 \n",
      "Epoch: 130 | MSE Train Loss: 1.5982290491045603e-10 | MAE Test Loss: 6.141082087296468e-10 \n",
      "Epoch: 140 | MSE Train Loss: 1.4630510691837628e-10 | MAE Test Loss: 5.61981405855505e-10 \n",
      "Epoch: 150 | MSE Train Loss: 1.3375489604783297e-10 | MAE Test Loss: 5.129948132953643e-10 \n",
      "Epoch: 160 | MSE Train Loss: 1.2154895145943811e-10 | MAE Test Loss: 4.659476138257901e-10 \n",
      "Epoch: 170 | MSE Train Loss: 1.0993954357996216e-10 | MAE Test Loss: 4.2093226126915795e-10 \n",
      "Epoch: 180 | MSE Train Loss: 9.881891138707743e-11 | MAE Test Loss: 3.789001057352692e-10 \n",
      "Epoch: 190 | MSE Train Loss: 9.260401473420998e-11 | MAE Test Loss: 3.5625902228275663e-10 \n",
      "Epoch: 200 | MSE Train Loss: 8.748068935915398e-11 | MAE Test Loss: 3.3644517727360324e-10 \n",
      "Epoch: 210 | MSE Train Loss: 8.246261312683245e-11 | MAE Test Loss: 3.172459517308823e-10 \n",
      "Epoch: 220 | MSE Train Loss: 7.768437282340557e-11 | MAE Test Loss: 2.985917346709499e-10 \n",
      "Epoch: 230 | MSE Train Loss: 7.29056398585115e-11 | MAE Test Loss: 2.8049385036865715e-10 \n",
      "Epoch: 240 | MSE Train Loss: 6.841669591972632e-11 | MAE Test Loss: 2.629878537163677e-10 \n",
      "Epoch: 250 | MSE Train Loss: 6.400106833392982e-11 | MAE Test Loss: 2.460041059748619e-10 \n",
      "Epoch: 260 | MSE Train Loss: 5.972080469041074e-11 | MAE Test Loss: 2.2962787227243098e-10 \n",
      "Epoch: 270 | MSE Train Loss: 5.5613937066656405e-11 | MAE Test Loss: 2.1379946424371354e-10 \n",
      "Epoch: 280 | MSE Train Loss: 5.1712099879974716e-11 | MAE Test Loss: 1.985288322625678e-10 \n",
      "Epoch: 290 | MSE Train Loss: 4.791087665489968e-11 | MAE Test Loss: 1.8384582745056832e-10 \n",
      "Epoch: 300 | MSE Train Loss: 4.424611718678584e-11 | MAE Test Loss: 1.6969217697671013e-10 \n",
      "Epoch: 310 | MSE Train Loss: 4.0698867886934664e-11 | MAE Test Loss: 1.5613892123678141e-10 \n",
      "Epoch: 320 | MSE Train Loss: 3.736320280944838e-11 | MAE Test Loss: 1.4313634999485458e-10 \n",
      "Epoch: 330 | MSE Train Loss: 3.407234563934658e-11 | MAE Test Loss: 1.3069297033485583e-10 \n",
      "Epoch: 340 | MSE Train Loss: 3.102616080719045e-11 | MAE Test Loss: 1.1883294348535856e-10 \n",
      "Epoch: 350 | MSE Train Loss: 2.8076563643453234e-11 | MAE Test Loss: 1.0750937640136016e-10 \n",
      "Epoch: 360 | MSE Train Loss: 2.5266766109921512e-11 | MAE Test Loss: 9.677911944061535e-11 \n",
      "Epoch: 370 | MSE Train Loss: 2.2620950251850402e-11 | MAE Test Loss: 8.660237110769131e-11 \n",
      "Epoch: 380 | MSE Train Loss: 2.0158319458118967e-11 | MAE Test Loss: 7.698623682994565e-11 \n",
      "Epoch: 390 | MSE Train Loss: 1.781228463337836e-11 | MAE Test Loss: 6.794920182073838e-11 \n",
      "Epoch: 400 | MSE Train Loss: 1.5606094541653626e-11 | MAE Test Loss: 5.945573200438758e-11 \n",
      "Epoch: 410 | MSE Train Loss: 1.3529666102740645e-11 | MAE Test Loss: 5.154845300614497e-11 \n",
      "Epoch: 420 | MSE Train Loss: 1.1636580588003653e-11 | MAE Test Loss: 4.419753452111763e-11 \n",
      "Epoch: 430 | MSE Train Loss: 1.0715562118179811e-11 | MAE Test Loss: 4.1382362814257334e-11 \n",
      "Epoch: 440 | MSE Train Loss: 1.0715562118179811e-11 | MAE Test Loss: 4.1382362814257334e-11 \n",
      "Epoch: 450 | MSE Train Loss: 1.0715562118179811e-11 | MAE Test Loss: 4.1382362814257334e-11 \n",
      "Epoch: 460 | MSE Train Loss: 1.0715562118179811e-11 | MAE Test Loss: 4.1382362814257334e-11 \n",
      "Epoch: 470 | MSE Train Loss: 1.0715562118179811e-11 | MAE Test Loss: 4.1382362814257334e-11 \n",
      "Epoch: 480 | MSE Train Loss: 1.0715562118179811e-11 | MAE Test Loss: 4.1382362814257334e-11 \n",
      "Epoch: 490 | MSE Train Loss: 1.0715562118179811e-11 | MAE Test Loss: 4.1382362814257334e-11 \n",
      "Epoch: 500 | MSE Train Loss: 1.0715562118179811e-11 | MAE Test Loss: 4.1382362814257334e-11 \n",
      "Epoch: 510 | MSE Train Loss: 1.0715562118179811e-11 | MAE Test Loss: 4.1382362814257334e-11 \n",
      "Epoch: 520 | MSE Train Loss: 1.0715562118179811e-11 | MAE Test Loss: 4.1382362814257334e-11 \n",
      "Epoch: 530 | MSE Train Loss: 1.0715562118179811e-11 | MAE Test Loss: 4.1382362814257334e-11 \n",
      "Epoch: 540 | MSE Train Loss: 1.0715562118179811e-11 | MAE Test Loss: 4.1382362814257334e-11 \n",
      "Epoch: 550 | MSE Train Loss: 1.0715562118179811e-11 | MAE Test Loss: 4.1382362814257334e-11 \n",
      "Epoch: 560 | MSE Train Loss: 1.0715562118179811e-11 | MAE Test Loss: 4.1382362814257334e-11 \n",
      "Epoch: 570 | MSE Train Loss: 1.0715562118179811e-11 | MAE Test Loss: 4.1382362814257334e-11 \n",
      "Epoch: 580 | MSE Train Loss: 1.0715562118179811e-11 | MAE Test Loss: 4.1382362814257334e-11 \n",
      "Epoch: 590 | MSE Train Loss: 1.0715562118179811e-11 | MAE Test Loss: 4.1382362814257334e-11 \n",
      "Epoch: 600 | MSE Train Loss: 1.0715562118179811e-11 | MAE Test Loss: 4.1382362814257334e-11 \n",
      "Epoch: 610 | MSE Train Loss: 1.0715562118179811e-11 | MAE Test Loss: 4.1382362814257334e-11 \n",
      "Epoch: 620 | MSE Train Loss: 1.0715562118179811e-11 | MAE Test Loss: 4.1382362814257334e-11 \n",
      "Epoch: 630 | MSE Train Loss: 1.0715562118179811e-11 | MAE Test Loss: 4.1382362814257334e-11 \n",
      "Epoch: 640 | MSE Train Loss: 1.0715562118179811e-11 | MAE Test Loss: 4.1382362814257334e-11 \n",
      "Epoch: 650 | MSE Train Loss: 1.0715562118179811e-11 | MAE Test Loss: 4.1382362814257334e-11 \n",
      "Epoch: 660 | MSE Train Loss: 1.0715562118179811e-11 | MAE Test Loss: 4.1382362814257334e-11 \n",
      "Epoch: 670 | MSE Train Loss: 1.0715562118179811e-11 | MAE Test Loss: 4.1382362814257334e-11 \n",
      "Epoch: 680 | MSE Train Loss: 1.0715562118179811e-11 | MAE Test Loss: 4.1382362814257334e-11 \n",
      "Epoch: 690 | MSE Train Loss: 1.0715562118179811e-11 | MAE Test Loss: 4.1382362814257334e-11 \n",
      "Epoch: 700 | MSE Train Loss: 1.0715562118179811e-11 | MAE Test Loss: 4.1382362814257334e-11 \n",
      "Epoch: 710 | MSE Train Loss: 1.0715562118179811e-11 | MAE Test Loss: 4.1382362814257334e-11 \n",
      "Epoch: 720 | MSE Train Loss: 1.0715562118179811e-11 | MAE Test Loss: 4.1382362814257334e-11 \n",
      "Epoch: 730 | MSE Train Loss: 1.0715562118179811e-11 | MAE Test Loss: 4.1382362814257334e-11 \n",
      "Epoch: 740 | MSE Train Loss: 1.0715562118179811e-11 | MAE Test Loss: 4.1382362814257334e-11 \n",
      "Epoch: 750 | MSE Train Loss: 1.0715562118179811e-11 | MAE Test Loss: 4.1382362814257334e-11 \n",
      "Epoch: 760 | MSE Train Loss: 1.0715562118179811e-11 | MAE Test Loss: 4.1382362814257334e-11 \n",
      "Epoch: 770 | MSE Train Loss: 1.0715562118179811e-11 | MAE Test Loss: 4.1382362814257334e-11 \n",
      "Epoch: 780 | MSE Train Loss: 1.0715562118179811e-11 | MAE Test Loss: 4.1382362814257334e-11 \n",
      "Epoch: 790 | MSE Train Loss: 1.0715562118179811e-11 | MAE Test Loss: 4.1382362814257334e-11 \n",
      "Epoch: 800 | MSE Train Loss: 1.0715562118179811e-11 | MAE Test Loss: 4.1382362814257334e-11 \n",
      "Epoch: 810 | MSE Train Loss: 1.0715562118179811e-11 | MAE Test Loss: 4.1382362814257334e-11 \n",
      "Epoch: 820 | MSE Train Loss: 1.0715562118179811e-11 | MAE Test Loss: 4.1382362814257334e-11 \n",
      "Epoch: 830 | MSE Train Loss: 1.0715562118179811e-11 | MAE Test Loss: 4.1382362814257334e-11 \n",
      "Epoch: 840 | MSE Train Loss: 1.0715562118179811e-11 | MAE Test Loss: 4.1382362814257334e-11 \n",
      "Epoch: 850 | MSE Train Loss: 1.0715562118179811e-11 | MAE Test Loss: 4.1382362814257334e-11 \n",
      "Epoch: 860 | MSE Train Loss: 1.0715562118179811e-11 | MAE Test Loss: 4.1382362814257334e-11 \n",
      "Epoch: 870 | MSE Train Loss: 1.0715562118179811e-11 | MAE Test Loss: 4.1382362814257334e-11 \n",
      "Epoch: 880 | MSE Train Loss: 1.0715562118179811e-11 | MAE Test Loss: 4.1382362814257334e-11 \n",
      "Epoch: 890 | MSE Train Loss: 1.0715562118179811e-11 | MAE Test Loss: 4.1382362814257334e-11 \n",
      "Epoch: 900 | MSE Train Loss: 1.0715562118179811e-11 | MAE Test Loss: 4.1382362814257334e-11 \n",
      "Epoch: 910 | MSE Train Loss: 1.0715562118179811e-11 | MAE Test Loss: 4.1382362814257334e-11 \n",
      "Epoch: 920 | MSE Train Loss: 1.0715562118179811e-11 | MAE Test Loss: 4.1382362814257334e-11 \n",
      "Epoch: 930 | MSE Train Loss: 1.0715562118179811e-11 | MAE Test Loss: 4.1382362814257334e-11 \n",
      "Epoch: 940 | MSE Train Loss: 1.0715562118179811e-11 | MAE Test Loss: 4.1382362814257334e-11 \n",
      "Epoch: 950 | MSE Train Loss: 1.0715562118179811e-11 | MAE Test Loss: 4.1382362814257334e-11 \n",
      "Epoch: 960 | MSE Train Loss: 1.0715562118179811e-11 | MAE Test Loss: 4.1382362814257334e-11 \n",
      "Epoch: 970 | MSE Train Loss: 1.0715562118179811e-11 | MAE Test Loss: 4.1382362814257334e-11 \n",
      "Epoch: 980 | MSE Train Loss: 1.0715562118179811e-11 | MAE Test Loss: 4.1382362814257334e-11 \n",
      "Epoch: 990 | MSE Train Loss: 1.0715562118179811e-11 | MAE Test Loss: 4.1382362814257334e-11 \n"
     ]
    }
   ],
   "source": [
    "# Setup empty lists to keep track of model progress\n",
    "epochs_count = []\n",
    "train_loss_values = []\n",
    "test_loss_values = []\n",
    "\n",
    "epochs = 1000\n",
    "# Pass the data through the model for a number of epochs\n",
    "for epoch in range(epochs):\n",
    "    \n",
    "    # Training\n",
    "    model_0.train()\n",
    "    \n",
    "    # 1.Forward\n",
    "    train_pred = model_0(X_train)\n",
    "    \n",
    "    #2. Calculate loss\n",
    "    loss = loss_fn(y_train, train_pred)\n",
    "    \n",
    "    #3. Zero the gradients of the optimizer \n",
    "    optimizer.zero_grad()\n",
    "    \n",
    "    #4. Perform backpropagation on the loss\n",
    "    loss.backward()\n",
    "    optimizer.step()\n",
    "    \n",
    "    #Evaluate\n",
    "    model_0.eval()\n",
    "    \n",
    "    #Testing\n",
    "    with torch.inference_mode():\n",
    "        test_pred = model_0(X_test)\n",
    "        test_loss = loss_fn(y_test.type(torch.float), test_pred)\n",
    "        \n",
    "        if epoch % 10 == 0:\n",
    "            epochs_count.append(epoch)\n",
    "            train_loss_values.append(loss.detach().numpy())\n",
    "            test_loss_values.append(test_loss.detach().numpy())\n",
    "            print(f\"Epoch: {epoch} | MSE Train Loss: {loss} | MAE Test Loss: {test_loss} \")"
   ],
   "metadata": {
    "collapsed": false,
    "ExecuteTime": {
     "end_time": "2023-10-18T01:32:41.481297700Z",
     "start_time": "2023-10-18T01:32:41.131626900Z"
    }
   },
   "id": "b3c728d50e065e01"
  },
  {
   "cell_type": "code",
   "execution_count": 50,
   "outputs": [
    {
     "data": {
      "text/plain": "<Figure size 432x288 with 1 Axes>",
      "image/png": "[encoded data removed]"
     },
     "metadata": {
      "needs_background": "light"
     },
     "output_type": "display_data"
    }
   ],
   "source": [
    "# Plot the loss curves\n",
    "plt.plot(epochs_count, train_loss_values, label=\"Train loss\")\n",
    "plt.plot(epochs_count, test_loss_values, label=\"Test loss\")\n",
    "plt.title(\"Training and test loss curves\")\n",
    "plt.ylabel(\"Loss\")\n",
    "plt.xlabel(\"Epochs\")\n",
    "plt.legend();"
   ],
   "metadata": {
    "collapsed": false,
    "ExecuteTime": {
     "end_time": "2023-10-18T01:32:42.924604200Z",
     "start_time": "2023-10-18T01:32:42.764165300Z"
    }
   },
   "id": "63cb4e703cd1b1de"
  },
  {
   "cell_type": "code",
   "execution_count": 51,
   "outputs": [
    {
     "name": "stdout",
     "output_type": "stream",
     "text": [
      "The model learned the following values for weights and bias:\n",
      "OrderedDict([('weights', tensor([0.7000])), ('bias', tensor([0.9150]))])\n",
      "\n",
      "And the original values for weights and bias are:\n",
      "weights: 0.7, bias: 0.3\n"
     ]
    }
   ],
   "source": [
    "# Find our model's learned parameters\n",
    "print(\"The model learned the following values for weights and bias:\")\n",
    "print(model_0.state_dict())\n",
    "print(\"\\nAnd the original values for weights and bias are:\")\n",
    "print(f\"weights: {weight}, bias: {bias}\")"
   ],
   "metadata": {
    "collapsed": false,
    "ExecuteTime": {
     "end_time": "2023-10-18T01:32:43.084722700Z",
     "start_time": "2023-10-18T01:32:43.053999900Z"
    }
   },
   "id": "c4bfbf24a8c0847a"
  },
  {
   "cell_type": "markdown",
   "source": [
    "## Prediction "
   ],
   "metadata": {
    "collapsed": false
   },
   "id": "b71ed70f56fe5410"
  },
  {
   "cell_type": "code",
   "execution_count": 52,
   "outputs": [],
   "source": [
    "model_0.eval()\n",
    "with torch.inference_mode():\n",
    "    test_pred = model_0(X_test)"
   ],
   "metadata": {
    "collapsed": false,
    "ExecuteTime": {
     "end_time": "2023-10-18T01:32:43.743959400Z",
     "start_time": "2023-10-18T01:32:43.726576200Z"
    }
   },
   "id": "e6e0472f3d102891"
  },
  {
   "cell_type": "code",
   "execution_count": 53,
   "outputs": [
    {
     "data": {
      "text/plain": "<Figure size 432x288 with 1 Axes>",
      "image/png": "[encoded data removed]"
     },
     "metadata": {
      "needs_background": "light"
     },
     "output_type": "display_data"
    }
   ],
   "source": [
    "# Plot prediction\n",
    "plot_predictions(predictions=test_pred)"
   ],
   "metadata": {
    "collapsed": false,
    "ExecuteTime": {
     "end_time": "2023-10-18T01:32:44.235886900Z",
     "start_time": "2023-10-18T01:32:44.010951800Z"
    }
   },
   "id": "b5da217250c1ebc6"
  },
  {
   "cell_type": "code",
   "execution_count": 54,
   "outputs": [
    {
     "name": "stdout",
     "output_type": "stream",
     "text": [
      "Saving model to: Parameter\\parameter_linear_model.pth\n"
     ]
    }
   ],
   "source": [
    "from pathlib import Path\n",
    "\n",
    "#1. Create models directory\n",
    "MODEL_PATH = Path('Parameter')\n",
    "MODEL_PATH.mkdir(parents=True, exist_ok=True)\n",
    "\n",
    "#2. Create model save path\n",
    "MODEL_NAME = 'parameter_linear_model.pth'\n",
    "MODEL_SAVE_PATH = MODEL_PATH / MODEL_NAME\n",
    "\n",
    "# 3. Save the model state dict\n",
    "print(f\"Saving model to: {MODEL_SAVE_PATH}\")\n",
    "torch.save(obj=model_0.state_dict(), f=MODEL_SAVE_PATH)"
   ],
   "metadata": {
    "collapsed": false,
    "ExecuteTime": {
     "end_time": "2023-10-18T01:32:44.845772600Z",
     "start_time": "2023-10-18T01:32:44.816327100Z"
    }
   },
   "id": "d202642567a8a236"
  },
  {
   "cell_type": "markdown",
   "source": [
    "# Loading Model"
   ],
   "metadata": {
    "collapsed": false
   },
   "id": "3fef08324bfc00fa"
  },
  {
   "cell_type": "code",
   "execution_count": 55,
   "outputs": [
    {
     "data": {
      "text/plain": "<All keys matched successfully>"
     },
     "execution_count": 55,
     "metadata": {},
     "output_type": "execute_result"
    }
   ],
   "source": [
    "load_model = LinearRegression()\n",
    "load_model.load_state_dict(torch.load(f=MODEL_SAVE_PATH))"
   ],
   "metadata": {
    "collapsed": false,
    "ExecuteTime": {
     "end_time": "2023-10-18T01:32:45.311684500Z",
     "start_time": "2023-10-18T01:32:45.257979700Z"
    }
   },
   "id": "9b81b67bf26e7cbf"
  },
  {
   "cell_type": "markdown",
   "source": [
    "## Prediction with loading model"
   ],
   "metadata": {
    "collapsed": false
   },
   "id": "a59eb5412383721e"
  },
  {
   "cell_type": "code",
   "execution_count": 56,
   "outputs": [
    {
     "data": {
      "text/plain": "<Figure size 432x288 with 1 Axes>",
      "image/png": "[encoded data removed]"
     },
     "metadata": {
      "needs_background": "light"
     },
     "output_type": "display_data"
    }
   ],
   "source": [
    "load_model.eval()\n",
    "with torch.inference_mode():\n",
    "    load_pred = load_model(y_test)\n",
    "plot_predictions(predictions=load_pred)"
   ],
   "metadata": {
    "collapsed": false,
    "ExecuteTime": {
     "end_time": "2023-10-18T01:32:45.885355600Z",
     "start_time": "2023-10-18T01:32:45.628309300Z"
    }
   },
   "id": "5d3c53acf340550d"
  },
  {
   "cell_type": "code",
   "execution_count": 57,
   "outputs": [
    {
     "data": {
      "text/plain": "<Figure size 432x288 with 1 Axes>",
      "image/png": "[encoded data removed]"
     },
     "metadata": {
      "needs_background": "light"
     },
     "output_type": "display_data"
    }
   ],
   "source": [
    "plot_predictions(predictions=test_pred)"
   ],
   "metadata": {
    "collapsed": false,
    "ExecuteTime": {
     "end_time": "2023-10-18T01:32:46.274658300Z",
     "start_time": "2023-10-18T01:32:45.828402Z"
    }
   },
   "id": "79a740fa7c310475"
  },
  {
   "cell_type": "code",
   "execution_count": 58,
   "outputs": [
    {
     "data": {
      "text/plain": "OrderedDict([('weights', tensor([0.7000])), ('bias', tensor([0.9150]))])"
     },
     "execution_count": 58,
     "metadata": {},
     "output_type": "execute_result"
    }
   ],
   "source": [
    "model_0.state_dict()"
   ],
   "metadata": {
    "collapsed": false,
    "ExecuteTime": {
     "end_time": "2023-10-18T01:32:46.322221900Z",
     "start_time": "2023-10-18T01:32:46.265003700Z"
    }
   },
   "id": "d0184c997d8730f"
  },
  {
   "cell_type": "code",
   "execution_count": 59,
   "outputs": [
    {
     "data": {
      "text/plain": "OrderedDict([('weights', tensor([0.7000])), ('bias', tensor([0.9150]))])"
     },
     "execution_count": 59,
     "metadata": {},
     "output_type": "execute_result"
    }
   ],
   "source": [
    "load_model.state_dict()"
   ],
   "metadata": {
    "collapsed": false,
    "ExecuteTime": {
     "end_time": "2023-10-18T01:32:47.435058900Z",
     "start_time": "2023-10-18T01:32:47.401229400Z"
    }
   },
   "id": "53332601a64a00e5"
  },
  {
   "cell_type": "code",
   "execution_count": 60,
   "outputs": [
    {
     "data": {
      "text/plain": "tensor([[-0.0420],\n        [-0.0378],\n        [-0.0336],\n        [-0.0294],\n        [-0.0252],\n        [-0.0210],\n        [-0.0168],\n        [-0.0126],\n        [-0.0084],\n        [-0.0042]])"
     },
     "execution_count": 60,
     "metadata": {},
     "output_type": "execute_result"
    }
   ],
   "source": [
    "test_pred - load_pred"
   ],
   "metadata": {
    "collapsed": false,
    "ExecuteTime": {
     "end_time": "2023-10-18T01:32:48.271864600Z",
     "start_time": "2023-10-18T01:32:48.227400600Z"
    }
   },
   "id": "114e413ea5a8c4ff"
  },
  {
   "cell_type": "code",
   "execution_count": null,
   "outputs": [],
   "source": [],
   "metadata": {
    "collapsed": false
   },
   "id": "ae76abf194b90728"
  }
 ],
 "metadata": {
  "kernelspec": {
   "display_name": "Python 3",
   "language": "python",
   "name": "python3"
  },
  "language_info": {
   "codemirror_mode": {
    "name": "ipython",
    "version": 2
   },
   "file_extension": ".py",
   "mimetype": "text/x-python",
   "name": "python",
   "nbconvert_exporter": "python",
   "pygments_lexer": "ipython2",
   "version": "2.7.6"
  }
 },
 "nbformat": 4,
 "nbformat_minor": 5
}
