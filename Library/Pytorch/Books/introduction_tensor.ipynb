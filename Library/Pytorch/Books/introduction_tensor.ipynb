{
 "cells": [
  {
   "cell_type": "code",
   "execution_count": 6,
   "id": "initial_id",
   "metadata": {
    "ExecuteTime": {
     "end_time": "2023-10-19T02:13:31.614856400Z",
     "start_time": "2023-10-19T02:13:28.080572600Z"
    }
   },
   "outputs": [],
   "source": [
    "import torch"
   ]
  },
  {
   "cell_type": "code",
   "execution_count": 33,
   "id": "ce9711816f29832e",
   "metadata": {
    "ExecuteTime": {
     "end_time": "2023-10-19T02:25:10.574012100Z",
     "start_time": "2023-10-19T02:25:10.524808900Z"
    }
   },
   "outputs": [],
   "source": [
    "img_t = torch.randint(1, 10, (3, 5, 5)) # shape [channels, rows, columns]\n",
    "weights = torch.tensor([2, 4, 6])"
   ]
  },
  {
   "cell_type": "code",
   "execution_count": 34,
   "id": "7b3e701377ba45ae",
   "metadata": {
    "ExecuteTime": {
     "end_time": "2023-10-19T02:25:30.122016400Z",
     "start_time": "2023-10-19T02:25:30.093118Z"
    }
   },
   "outputs": [],
   "source": [
    "batch_t = torch.randint(1, 10, (2, 3, 5, 5)) # shape [batch, channels, rows, columns]"
   ]
  },
  {
   "cell_type": "code",
   "execution_count": 55,
   "id": "758dee49367c7764",
   "metadata": {
    "ExecuteTime": {
     "end_time": "2023-10-19T02:30:08.646178400Z",
     "start_time": "2023-10-19T02:30:08.610774100Z"
    }
   },
   "outputs": [
    {
     "data": {
      "text/plain": "(torch.Size([5, 5]), torch.Size([2, 5, 5]))"
     },
     "execution_count": 55,
     "metadata": {},
     "output_type": "execute_result"
    }
   ],
   "source": [
    "img_gray_naive = img_t.type(torch.float32).mean(-3)\n",
    "batch_gray_naive = batch_t.type(torch.float32).mean(-3)\n",
    "img_gray_naive.shape, batch_gray_naive.shape"
   ]
  },
  {
   "cell_type": "code",
   "execution_count": 56,
   "outputs": [
    {
     "data": {
      "text/plain": "tensor([[[8, 4, 8, 2, 9],\n         [4, 9, 7, 3, 2],\n         [3, 8, 1, 7, 4],\n         [9, 8, 8, 3, 6],\n         [1, 7, 7, 5, 5]],\n\n        [[6, 8, 5, 3, 1],\n         [1, 5, 1, 9, 1],\n         [5, 3, 4, 3, 2],\n         [2, 2, 1, 5, 3],\n         [2, 9, 2, 5, 4]],\n\n        [[7, 9, 3, 9, 6],\n         [6, 3, 1, 4, 3],\n         [4, 8, 2, 4, 5],\n         [9, 5, 9, 7, 6],\n         [4, 5, 7, 1, 2]]])"
     },
     "execution_count": 56,
     "metadata": {},
     "output_type": "execute_result"
    }
   ],
   "source": [
    "img_t"
   ],
   "metadata": {
    "collapsed": false,
    "ExecuteTime": {
     "end_time": "2023-10-19T02:30:09.982430400Z",
     "start_time": "2023-10-19T02:30:09.954929Z"
    }
   },
   "id": "25743bec3544d8b0"
  },
  {
   "cell_type": "code",
   "execution_count": 57,
   "id": "e30827e05fbde13",
   "metadata": {
    "ExecuteTime": {
     "end_time": "2023-10-19T02:30:12.052052500Z",
     "start_time": "2023-10-19T02:30:12.025032200Z"
    }
   },
   "outputs": [
    {
     "data": {
      "text/plain": "tensor([[7.0000, 7.0000, 5.3333, 4.6667, 5.3333],\n        [3.6667, 5.6667, 3.0000, 5.3333, 2.0000],\n        [4.0000, 6.3333, 2.3333, 4.6667, 3.6667],\n        [6.6667, 5.0000, 6.0000, 5.0000, 5.0000],\n        [2.3333, 7.0000, 5.3333, 3.6667, 3.6667]])"
     },
     "execution_count": 57,
     "metadata": {},
     "output_type": "execute_result"
    }
   ],
   "source": [
    "img_gray_naive"
   ]
  },
  {
   "cell_type": "code",
   "execution_count": 58,
   "id": "d674e1cf2abb6288",
   "metadata": {
    "ExecuteTime": {
     "end_time": "2023-10-19T02:30:48.041355400Z",
     "start_time": "2023-10-19T02:30:48.013267200Z"
    }
   },
   "outputs": [
    {
     "data": {
      "text/plain": "(torch.Size([2, 3, 5, 5]), torch.Size([2, 3, 5, 5]), torch.Size([3, 1, 1]))"
     },
     "execution_count": 58,
     "metadata": {},
     "output_type": "execute_result"
    }
   ],
   "source": [
    "unsqueezed_weights = weights.unsqueeze(-1).unsqueeze_(-1)\n",
    "img_weights = (img_t * unsqueezed_weights)\n",
    "batch_weights = (batch_t * unsqueezed_weights)\n",
    "img_gray_weighted = img_weights.sum(-3)\n",
    "batch_gray_weighted = batch_weights.sum(-3)\n",
    "batch_weights.shape, batch_t.shape, unsqueezed_weights.shape"
   ]
  },
  {
   "cell_type": "code",
   "execution_count": 62,
   "id": "079bd290",
   "metadata": {
    "ExecuteTime": {
     "end_time": "2023-10-19T02:31:34.586569200Z",
     "start_time": "2023-10-19T02:31:34.557484200Z"
    }
   },
   "outputs": [
    {
     "name": "stdout",
     "output_type": "stream",
     "text": [
      "tensor([[[2]],\n",
      "\n",
      "        [[4]],\n",
      "\n",
      "        [[6]]])\n",
      "tensor([[[8, 4, 8, 2, 9],\n",
      "         [4, 9, 7, 3, 2],\n",
      "         [3, 8, 1, 7, 4],\n",
      "         [9, 8, 8, 3, 6],\n",
      "         [1, 7, 7, 5, 5]],\n",
      "\n",
      "        [[6, 8, 5, 3, 1],\n",
      "         [1, 5, 1, 9, 1],\n",
      "         [5, 3, 4, 3, 2],\n",
      "         [2, 2, 1, 5, 3],\n",
      "         [2, 9, 2, 5, 4]],\n",
      "\n",
      "        [[7, 9, 3, 9, 6],\n",
      "         [6, 3, 1, 4, 3],\n",
      "         [4, 8, 2, 4, 5],\n",
      "         [9, 5, 9, 7, 6],\n",
      "         [4, 5, 7, 1, 2]]])\n"
     ]
    }
   ],
   "source": [
    "print(unsqueezed_weights)\n",
    "print(img_t)"
   ]
  },
  {
   "cell_type": "code",
   "execution_count": 67,
   "outputs": [
    {
     "data": {
      "text/plain": "tensor([[[16,  8, 16,  4, 18],\n         [ 8, 18, 14,  6,  4],\n         [ 6, 16,  2, 14,  8],\n         [18, 16, 16,  6, 12],\n         [ 2, 14, 14, 10, 10]],\n\n        [[24, 32, 20, 12,  4],\n         [ 4, 20,  4, 36,  4],\n         [20, 12, 16, 12,  8],\n         [ 8,  8,  4, 20, 12],\n         [ 8, 36,  8, 20, 16]],\n\n        [[42, 54, 18, 54, 36],\n         [36, 18,  6, 24, 18],\n         [24, 48, 12, 24, 30],\n         [54, 30, 54, 42, 36],\n         [24, 30, 42,  6, 12]]])"
     },
     "execution_count": 67,
     "metadata": {},
     "output_type": "execute_result"
    }
   ],
   "source": [
    "img_weights"
   ],
   "metadata": {
    "collapsed": false,
    "ExecuteTime": {
     "end_time": "2023-10-19T02:35:02.746837500Z",
     "start_time": "2023-10-19T02:35:02.709325400Z"
    }
   },
   "id": "79e51c959fdc3b85"
  },
  {
   "cell_type": "code",
   "execution_count": 68,
   "outputs": [],
   "source": [
    "batch_weights = (batch_t * unsqueezed_weights)"
   ],
   "metadata": {
    "collapsed": false,
    "ExecuteTime": {
     "end_time": "2023-10-19T02:35:37.988045400Z",
     "start_time": "2023-10-19T02:35:37.966642Z"
    }
   },
   "id": "bd4044f2239847a0"
  },
  {
   "cell_type": "code",
   "execution_count": 71,
   "outputs": [
    {
     "data": {
      "text/plain": "tensor([ 8, 18])"
     },
     "execution_count": 71,
     "metadata": {},
     "output_type": "execute_result"
    }
   ],
   "source": [
    "import torch\n",
    "\n",
    "A = torch.tensor([[1, 2], [3, 4]])\n",
    "B = torch.tensor([2, 3])\n",
    "\n",
    "result = torch.einsum('ij,j->i', A, B)\n",
    "result"
   ],
   "metadata": {
    "collapsed": false,
    "ExecuteTime": {
     "end_time": "2023-10-19T02:41:47.045563Z",
     "start_time": "2023-10-19T02:41:47.002061500Z"
    }
   },
   "id": "2fcd0c10fffcc69"
  },
  {
   "cell_type": "code",
   "execution_count": 79,
   "outputs": [
    {
     "data": {
      "text/plain": "tensor([24, 30, 36])"
     },
     "execution_count": 79,
     "metadata": {},
     "output_type": "execute_result"
    }
   ],
   "source": [
    "X = torch.tensor([1, 2, 3])\n",
    "Y = torch.tensor([4, 5, 6])\n",
    "\n",
    "torch.einsum('i,j ->j', X, Y)"
   ],
   "metadata": {
    "collapsed": false,
    "ExecuteTime": {
     "end_time": "2023-10-19T02:43:48.382326100Z",
     "start_time": "2023-10-19T02:43:48.337258600Z"
    }
   },
   "id": "72302de3409188f3"
  },
  {
   "cell_type": "code",
   "execution_count": 80,
   "outputs": [
    {
     "name": "stderr",
     "output_type": "stream",
     "text": [
      "C:\\Users\\DELL\\AppData\\Local\\Temp\\ipykernel_10636\\2338252810.py:1: UserWarning: Named tensors and all their associated APIs are an experimental feature and subject to change. Please do not use them for anything important until they are released as stable. (Triggered internally at C:\\actions-runner\\_work\\pytorch\\pytorch\\builder\\windows\\pytorch\\c10/core/TensorImpl.h:1791.)\n",
      "  weights_named = torch.tensor([0.2126, 0.7152, 0.0722], names=['channels'])\n"
     ]
    },
    {
     "data": {
      "text/plain": "tensor([0.2126, 0.7152, 0.0722], names=('channels',))"
     },
     "execution_count": 80,
     "metadata": {},
     "output_type": "execute_result"
    }
   ],
   "source": [
    "weights_named = torch.tensor([0.2126, 0.7152, 0.0722], names=['channels'])\n",
    "weights_named"
   ],
   "metadata": {
    "collapsed": false,
    "ExecuteTime": {
     "end_time": "2023-10-19T02:46:16.669130200Z",
     "start_time": "2023-10-19T02:46:16.595883Z"
    }
   },
   "id": "d21a2705abd38083"
  },
  {
   "cell_type": "code",
   "execution_count": 84,
   "outputs": [
    {
     "name": "stdout",
     "output_type": "stream",
     "text": [
      "img named: torch.Size([3, 5, 5]) ('channels', 'rows', 'columns')\n",
      "batch named: torch.Size([2, 3, 5, 5]) (None, 'channels', 'rows', 'columns')\n"
     ]
    }
   ],
   "source": [
    "img_named = img_t.refine_names(..., 'channels', 'rows', 'columns')\n",
    "batch_named = batch_t.refine_names(..., 'channels', 'rows', 'columns')\n",
    "print(\"img named:\", img_named.shape, img_named.names)\n",
    "print(\"batch named:\", batch_named.shape, batch_named.names)"
   ],
   "metadata": {
    "collapsed": false,
    "ExecuteTime": {
     "end_time": "2023-10-19T02:47:43.537511700Z",
     "start_time": "2023-10-19T02:47:43.464936Z"
    }
   },
   "id": "de72454535bb804c"
  },
  {
   "cell_type": "code",
   "execution_count": null,
   "outputs": [],
   "source": [],
   "metadata": {
    "collapsed": false
   },
   "id": "35b23dff0ae89dc9"
  }
 ],
 "metadata": {
  "kernelspec": {
   "display_name": "Python 3 (ipykernel)",
   "language": "python",
   "name": "python3"
  },
  "language_info": {
   "codemirror_mode": {
    "name": "ipython",
    "version": 3
   },
   "file_extension": ".py",
   "mimetype": "text/x-python",
   "name": "python",
   "nbconvert_exporter": "python",
   "pygments_lexer": "ipython3",
   "version": "3.9.12"
  }
 },
 "nbformat": 4,
 "nbformat_minor": 5
}
