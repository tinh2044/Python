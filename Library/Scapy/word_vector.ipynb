{
 "cells": [
  {
   "cell_type": "code",
   "execution_count": 1,
   "id": "initial_id",
   "metadata": {
    "collapsed": true,
    "ExecuteTime": {
     "end_time": "2023-08-13T13:24:27.465756600Z",
     "start_time": "2023-08-13T13:24:04.077059900Z"
    }
   },
   "outputs": [
    {
     "name": "stderr",
     "output_type": "stream",
     "text": [
      "C:\\ProgramData\\Anaconda3\\lib\\site-packages\\scipy\\__init__.py:146: UserWarning: A NumPy version >=1.16.5 and <1.23.0 is required for this version of SciPy (detected version 1.24.3\n",
      "  warnings.warn(f\"A NumPy version >={np_minversion} and <{np_maxversion}\"\n"
     ]
    },
    {
     "name": "stdout",
     "output_type": "stream",
     "text": [
      "Defaulting to user installation because normal site-packages is not writeable\n",
      "Collecting en-core-web-md==3.6.0\n",
      "  Downloading https://github.com/explosion/spacy-models/releases/download/en_core_web_md-3.6.0/en_core_web_md-3.6.0-py3-none-any.whl (42.8 MB)\n",
      "Requirement already satisfied: spacy<3.7.0,>=3.6.0 in c:\\users\\dell\\appdata\\roaming\\python\\python39\\site-packages (from en-core-web-md==3.6.0) (3.6.1)\n",
      "Requirement already satisfied: murmurhash<1.1.0,>=0.28.0 in c:\\users\\dell\\appdata\\roaming\\python\\python39\\site-packages (from spacy<3.7.0,>=3.6.0->en-core-web-md==3.6.0) (1.0.9)\n",
      "Requirement already satisfied: spacy-legacy<3.1.0,>=3.0.11 in c:\\users\\dell\\appdata\\roaming\\python\\python39\\site-packages (from spacy<3.7.0,>=3.6.0->en-core-web-md==3.6.0) (3.0.12)\n",
      "Requirement already satisfied: smart-open<7.0.0,>=5.2.1 in c:\\users\\dell\\appdata\\roaming\\python\\python39\\site-packages (from spacy<3.7.0,>=3.6.0->en-core-web-md==3.6.0) (6.3.0)\n",
      "Requirement already satisfied: pydantic!=1.8,!=1.8.1,<3.0.0,>=1.7.4 in c:\\users\\dell\\appdata\\roaming\\python\\python39\\site-packages (from spacy<3.7.0,>=3.6.0->en-core-web-md==3.6.0) (2.1.1)\n",
      "Requirement already satisfied: numpy>=1.15.0 in c:\\users\\dell\\appdata\\roaming\\python\\python39\\site-packages (from spacy<3.7.0,>=3.6.0->en-core-web-md==3.6.0) (1.24.3)\n",
      "Requirement already satisfied: tqdm<5.0.0,>=4.38.0 in c:\\programdata\\anaconda3\\lib\\site-packages (from spacy<3.7.0,>=3.6.0->en-core-web-md==3.6.0) (4.64.0)\n",
      "Requirement already satisfied: typer<0.10.0,>=0.3.0 in c:\\users\\dell\\appdata\\roaming\\python\\python39\\site-packages (from spacy<3.7.0,>=3.6.0->en-core-web-md==3.6.0) (0.9.0)\n",
      "Requirement already satisfied: preshed<3.1.0,>=3.0.2 in c:\\users\\dell\\appdata\\roaming\\python\\python39\\site-packages (from spacy<3.7.0,>=3.6.0->en-core-web-md==3.6.0) (3.0.8)\n",
      "Requirement already satisfied: pathy>=0.10.0 in c:\\users\\dell\\appdata\\roaming\\python\\python39\\site-packages (from spacy<3.7.0,>=3.6.0->en-core-web-md==3.6.0) (0.10.2)\n",
      "Requirement already satisfied: requests<3.0.0,>=2.13.0 in c:\\programdata\\anaconda3\\lib\\site-packages (from spacy<3.7.0,>=3.6.0->en-core-web-md==3.6.0) (2.27.1)\n",
      "Requirement already satisfied: langcodes<4.0.0,>=3.2.0 in c:\\users\\dell\\appdata\\roaming\\python\\python39\\site-packages (from spacy<3.7.0,>=3.6.0->en-core-web-md==3.6.0) (3.3.0)\n",
      "Requirement already satisfied: jinja2 in c:\\users\\dell\\appdata\\roaming\\python\\python39\\site-packages (from spacy<3.7.0,>=3.6.0->en-core-web-md==3.6.0) (3.1.2)\n",
      "Requirement already satisfied: spacy-loggers<2.0.0,>=1.0.0 in c:\\users\\dell\\appdata\\roaming\\python\\python39\\site-packages (from spacy<3.7.0,>=3.6.0->en-core-web-md==3.6.0) (1.0.4)\n",
      "Requirement already satisfied: setuptools in c:\\programdata\\anaconda3\\lib\\site-packages (from spacy<3.7.0,>=3.6.0->en-core-web-md==3.6.0) (61.2.0)\n",
      "Requirement already satisfied: cymem<2.1.0,>=2.0.2 in c:\\users\\dell\\appdata\\roaming\\python\\python39\\site-packages (from spacy<3.7.0,>=3.6.0->en-core-web-md==3.6.0) (2.0.7)\n",
      "Requirement already satisfied: packaging>=20.0 in c:\\programdata\\anaconda3\\lib\\site-packages (from spacy<3.7.0,>=3.6.0->en-core-web-md==3.6.0) (21.3)\n",
      "Requirement already satisfied: thinc<8.2.0,>=8.1.8 in c:\\users\\dell\\appdata\\roaming\\python\\python39\\site-packages (from spacy<3.7.0,>=3.6.0->en-core-web-md==3.6.0) (8.1.12)\n",
      "Requirement already satisfied: catalogue<2.1.0,>=2.0.6 in c:\\users\\dell\\appdata\\roaming\\python\\python39\\site-packages (from spacy<3.7.0,>=3.6.0->en-core-web-md==3.6.0) (2.0.9)\n",
      "Requirement already satisfied: wasabi<1.2.0,>=0.9.1 in c:\\users\\dell\\appdata\\roaming\\python\\python39\\site-packages (from spacy<3.7.0,>=3.6.0->en-core-web-md==3.6.0) (1.1.2)\n",
      "Requirement already satisfied: srsly<3.0.0,>=2.4.3 in c:\\users\\dell\\appdata\\roaming\\python\\python39\\site-packages (from spacy<3.7.0,>=3.6.0->en-core-web-md==3.6.0) (2.4.7)\n",
      "Requirement already satisfied: pyparsing!=3.0.5,>=2.0.2 in c:\\programdata\\anaconda3\\lib\\site-packages (from packaging>=20.0->spacy<3.7.0,>=3.6.0->en-core-web-md==3.6.0) (3.0.4)\n",
      "Requirement already satisfied: pydantic-core==2.4.0 in c:\\users\\dell\\appdata\\roaming\\python\\python39\\site-packages (from pydantic!=1.8,!=1.8.1,<3.0.0,>=1.7.4->spacy<3.7.0,>=3.6.0->en-core-web-md==3.6.0) (2.4.0)\n",
      "Requirement already satisfied: typing-extensions>=4.6.1 in c:\\users\\dell\\appdata\\roaming\\python\\python39\\site-packages (from pydantic!=1.8,!=1.8.1,<3.0.0,>=1.7.4->spacy<3.7.0,>=3.6.0->en-core-web-md==3.6.0) (4.7.1)\n",
      "Requirement already satisfied: annotated-types>=0.4.0 in c:\\users\\dell\\appdata\\roaming\\python\\python39\\site-packages (from pydantic!=1.8,!=1.8.1,<3.0.0,>=1.7.4->spacy<3.7.0,>=3.6.0->en-core-web-md==3.6.0) (0.5.0)\n",
      "Requirement already satisfied: charset-normalizer~=2.0.0 in c:\\programdata\\anaconda3\\lib\\site-packages (from requests<3.0.0,>=2.13.0->spacy<3.7.0,>=3.6.0->en-core-web-md==3.6.0) (2.0.4)\n",
      "Requirement already satisfied: idna<4,>=2.5 in c:\\programdata\\anaconda3\\lib\\site-packages (from requests<3.0.0,>=2.13.0->spacy<3.7.0,>=3.6.0->en-core-web-md==3.6.0) (3.3)\n",
      "Requirement already satisfied: certifi>=2017.4.17 in c:\\programdata\\anaconda3\\lib\\site-packages (from requests<3.0.0,>=2.13.0->spacy<3.7.0,>=3.6.0->en-core-web-md==3.6.0) (2021.10.8)\n",
      "Requirement already satisfied: urllib3<1.27,>=1.21.1 in c:\\programdata\\anaconda3\\lib\\site-packages (from requests<3.0.0,>=2.13.0->spacy<3.7.0,>=3.6.0->en-core-web-md==3.6.0) (1.26.9)\n",
      "Requirement already satisfied: confection<1.0.0,>=0.0.1 in c:\\users\\dell\\appdata\\roaming\\python\\python39\\site-packages (from thinc<8.2.0,>=8.1.8->spacy<3.7.0,>=3.6.0->en-core-web-md==3.6.0) (0.1.1)\n",
      "Requirement already satisfied: blis<0.8.0,>=0.7.8 in c:\\users\\dell\\appdata\\roaming\\python\\python39\\site-packages (from thinc<8.2.0,>=8.1.8->spacy<3.7.0,>=3.6.0->en-core-web-md==3.6.0) (0.7.10)\n",
      "Requirement already satisfied: colorama in c:\\users\\dell\\appdata\\roaming\\python\\python39\\site-packages (from tqdm<5.0.0,>=4.38.0->spacy<3.7.0,>=3.6.0->en-core-web-md==3.6.0) (0.4.6)\n",
      "Requirement already satisfied: click<9.0.0,>=7.1.1 in c:\\users\\dell\\appdata\\roaming\\python\\python39\\site-packages (from typer<0.10.0,>=0.3.0->spacy<3.7.0,>=3.6.0->en-core-web-md==3.6.0) (8.1.6)\n",
      "Requirement already satisfied: MarkupSafe>=2.0 in c:\\users\\dell\\appdata\\roaming\\python\\python39\\site-packages (from jinja2->spacy<3.7.0,>=3.6.0->en-core-web-md==3.6.0) (2.1.3)\n",
      "\u001B[38;5;2m[+] Download and installation successful\u001B[0m\n",
      "You can now load the package via spacy.load('en_core_web_md')\n"
     ]
    },
    {
     "name": "stderr",
     "output_type": "stream",
     "text": [
      "C:\\ProgramData\\Anaconda3\\lib\\site-packages\\scipy\\__init__.py:146: UserWarning: A NumPy version >=1.16.5 and <1.23.0 is required for this version of SciPy (detected version 1.24.3\n",
      "  warnings.warn(f\"A NumPy version >={np_minversion} and <{np_maxversion}\"\n"
     ]
    }
   ],
   "source": [
    "import spacy\n",
    "from pygments.lexer import words\n",
    "!python -m spacy download en_core_web_md"
   ]
  },
  {
   "cell_type": "code",
   "execution_count": 5,
   "outputs": [],
   "source": [
    "nlp = spacy.load('en_core_web_md')"
   ],
   "metadata": {
    "collapsed": false,
    "ExecuteTime": {
     "end_time": "2023-08-13T13:24:50.726071600Z",
     "start_time": "2023-08-13T13:24:49.542959800Z"
    }
   },
   "id": "4496f50ad5b604e8"
  },
  {
   "cell_type": "code",
   "execution_count": 6,
   "outputs": [],
   "source": [
    "with open('data/wiki_us.txt', 'r') as file:\n",
    "    text = file.read()"
   ],
   "metadata": {
    "collapsed": false,
    "ExecuteTime": {
     "end_time": "2023-08-13T13:24:51.303866800Z",
     "start_time": "2023-08-13T13:24:51.285565600Z"
    }
   },
   "id": "87dad2e23497c7a0"
  },
  {
   "cell_type": "code",
   "execution_count": 7,
   "outputs": [],
   "source": [
    "document = nlp(text)"
   ],
   "metadata": {
    "collapsed": false,
    "ExecuteTime": {
     "end_time": "2023-08-13T13:24:52.011822400Z",
     "start_time": "2023-08-13T13:24:51.884002900Z"
    }
   },
   "id": "8986b8d011ec8427"
  },
  {
   "cell_type": "code",
   "execution_count": 8,
   "outputs": [],
   "source": [
    "sentence = list(document.sents)[0]"
   ],
   "metadata": {
    "collapsed": false,
    "ExecuteTime": {
     "end_time": "2023-08-13T13:24:52.363559600Z",
     "start_time": "2023-08-13T13:24:52.351993900Z"
    }
   },
   "id": "7e26e60c07d756f5"
  },
  {
   "cell_type": "code",
   "execution_count": 9,
   "outputs": [
    {
     "name": "stdout",
     "output_type": "stream",
     "text": [
      "like has no Synonyms in the API\n"
     ]
    },
    {
     "ename": "TypeError",
     "evalue": "'NoneType' object is not subscriptable",
     "output_type": "error",
     "traceback": [
      "\u001B[1;31m---------------------------------------------------------------------------\u001B[0m",
      "\u001B[1;31mTypeError\u001B[0m                                 Traceback (most recent call last)",
      "Input \u001B[1;32mIn [9]\u001B[0m, in \u001B[0;36m<cell line: 6>\u001B[1;34m()\u001B[0m\n\u001B[0;32m      6\u001B[0m \u001B[38;5;28;01mfor\u001B[39;00m word \u001B[38;5;129;01min\u001B[39;00m words:\n\u001B[0;32m      7\u001B[0m     syns \u001B[38;5;241m=\u001B[39m dictionary\u001B[38;5;241m.\u001B[39msynonym(word)\n\u001B[1;32m----> 8\u001B[0m     \u001B[38;5;28mprint\u001B[39m (\u001B[38;5;124mf\u001B[39m\u001B[38;5;124m\"\u001B[39m\u001B[38;5;132;01m{\u001B[39;00mword\u001B[38;5;132;01m}\u001B[39;00m\u001B[38;5;124m: \u001B[39m\u001B[38;5;132;01m{\u001B[39;00msyns[\u001B[38;5;241m0\u001B[39m:\u001B[38;5;241m5\u001B[39m]\u001B[38;5;132;01m}\u001B[39;00m\u001B[38;5;130;01m\\n\u001B[39;00m\u001B[38;5;124m\"\u001B[39m)\n",
      "\u001B[1;31mTypeError\u001B[0m: 'NoneType' object is not subscriptable"
     ]
    }
   ],
   "source": [
    "from PyDictionary import PyDictionary\n",
    "\n",
    "dictionary=PyDictionary()\n",
    "\n",
    "words  = [\"like\", \"love\"]\n",
    "for word in words:\n",
    "    syns = dictionary.synonym(word)\n",
    "    print (f\"{word}: {syns[0:5]}\\n\")"
   ],
   "metadata": {
    "collapsed": false,
    "ExecuteTime": {
     "end_time": "2023-08-13T13:24:53.028960200Z",
     "start_time": "2023-08-13T13:24:52.801772400Z"
    }
   },
   "id": "d3b56d7ffe03ba65"
  },
  {
   "cell_type": "code",
   "execution_count": 12,
   "outputs": [
    {
     "data": {
      "text/plain": "array([-4.027637  , -1.3026294 , -0.2781941 ,  2.0594873 ,  6.0170302 ,\n       -0.08175199, -0.11235202,  0.8837014 ,  2.563658  , -2.758028  ,\n        6.6160507 ,  1.346154  , -1.6630094 ,  1.5930657 , -0.8227061 ,\n        3.9117258 , -0.25638437,  4.5746174 , -0.8876056 , -4.0403757 ,\n        0.18477502, -1.661304  , -4.408809  ,  3.338869  ,  1.6343212 ,\n       -1.7847955 , -1.37701   , -2.1039028 ,  0.12374973, -1.7991323 ,\n       -0.77667576,  0.61342263, -2.276551  , -0.17765899, -4.983436  ,\n       -0.9012372 , -0.2532391 ,  0.14819527, -1.0962433 , -1.5416864 ,\n        0.8260357 , -0.785282  , -0.72377604,  2.4843237 , -1.8458848 ,\n        1.9493299 ,  0.00873733,  1.4303114 , -0.31169796, -1.7525452 ,\n       -1.773963  ,  2.0376918 ,  0.26388973, -2.5224395 ,  0.1784055 ,\n        2.104084  , -0.21009296,  0.03062047, -1.1003472 ,  0.48895955,\n       -0.9144515 , -3.2816818 , -1.1192304 ,  0.8974213 ,  3.6872    ,\n        0.944662  , -1.2556393 , -1.8996325 ,  0.9479642 ,  0.9267576 ,\n       -0.59638745, -2.4400108 , -2.6817768 ,  2.2768605 ,  1.1972209 ,\n        1.2334495 , -4.379217  ,  1.8100827 , -1.2302446 ,  2.7670221 ,\n       -1.5494436 ,  0.50601494, -0.49824798,  3.3807135 ,  1.513089  ,\n       -1.960272  , -3.0806563 , -3.2850997 ,  1.7676389 ,  0.19253492,\n        1.5983899 , -0.59738404,  0.6637903 , -1.3172249 , -0.87066334,\n       -1.4948834 , -0.47841206,  0.79311234, -1.2837962 ,  2.5462892 ,\n        2.5481594 ,  0.75574833,  1.173465  ,  3.5765    ,  0.85520947,\n        4.5327277 ,  3.1696498 , -2.7503035 ,  0.30922374, -3.0135915 ,\n        2.8130014 ,  0.07208141, -1.6768472 ,  0.8675361 , -0.07153   ,\n       -0.72297406,  1.2320777 ,  2.0473638 ,  0.05854434, -3.1940184 ,\n        2.242601  , -3.1005251 ,  2.8782167 ,  0.90646136, -2.4048872 ,\n       -5.4257903 , -0.71864724, -5.1605806 ,  5.183388  , -1.9535464 ,\n       -1.8738999 ,  0.09448621,  3.6440604 ,  0.5615559 ,  2.2842135 ,\n        0.06238667, -1.4392354 ,  0.4409809 , -1.401644  , -1.803578  ,\n       -1.0415776 ,  0.23931481,  0.46186438,  1.7991687 ,  0.8433639 ,\n        0.53565043, -3.7142973 , -0.9568531 ,  1.4532119 ,  0.4140856 ,\n       -1.5636023 ,  1.6597761 , -0.53611046,  2.5832176 , -0.630107  ,\n       -0.71606535,  1.612792  ,  1.4550165 ,  1.7835562 ,  0.01313564,\n        0.7551937 , -0.650618  ,  1.5700488 ,  3.9252603 , -2.9749167 ,\n       -2.006214  , -3.299329  ,  2.628225  ,  1.4635404 ,  1.1598089 ,\n        0.4601238 , -1.2250909 ,  1.210806  ,  0.2997115 ,  0.0843806 ,\n        1.9017812 ,  0.48440495, -0.8380168 , -3.7706513 ,  0.11377706,\n       -1.6039883 , -1.8053327 , -2.1347682 , -1.1738442 , -1.2363669 ,\n        1.870999  , -1.0571265 ,  2.9955986 , -0.8787782 ,  0.9485921 ,\n        0.27803287, -4.8149085 ,  0.24630463, -1.8826227 ,  2.944273  ,\n        3.6437259 , -5.8248925 , -2.8403106 ,  1.6839985 , -2.5544844 ,\n        2.0473416 , -0.34774002,  0.45497918,  0.12032903,  5.7503033 ,\n        0.94782776, -4.8768625 ,  1.9549491 , -0.43733788, -0.772645  ,\n        2.4860134 ,  1.1169791 , -2.4220138 , -0.24523993,  2.4553814 ,\n        0.20744298,  0.3372685 , -5.200365  ,  0.90124375,  0.8829774 ,\n       -0.6121268 ,  0.7870248 , -0.8947056 , -0.78008276, -2.464697  ,\n       -0.24589758,  0.2572514 ,  1.0458548 ,  2.4333563 ,  0.31987348,\n        3.3279161 , -1.5730971 , -0.26007158,  1.0928699 ,  1.3398259 ,\n        0.8783041 ,  2.02874   , -0.33798987, -0.47549438, -1.3818715 ,\n        0.3828692 ,  0.26382294,  2.128372  ,  2.5246186 , -1.0263755 ,\n       -0.05870475, -2.242809  , -0.07310911, -3.313034  ,  3.221643  ,\n        2.8987906 , -4.4306817 , -4.6721315 , -0.03341851,  1.6217276 ,\n       -1.7908937 ,  1.9199018 , -2.9250276 ,  2.1744938 , -0.04540499,\n       -1.8260009 ,  5.1214986 ,  1.3917719 ,  1.5722642 , -1.4982871 ,\n        0.0166382 ,  1.6882787 ,  0.14555307, -2.4490569 ,  0.3505087 ,\n        1.5317487 ,  2.0554888 ,  3.130987  , -0.37880036,  0.78455704,\n        0.8198804 ,  0.15660644, -1.9917842 ,  1.3065898 ,  1.3198344 ,\n        4.0062265 , -0.36959887,  2.2111504 ,  0.34412047, -0.8258745 ,\n       -0.90041506,  1.0451168 ,  3.342414  ,  0.7353282 ,  2.0737743 ,\n       -0.32040203,  0.03274616, -0.6173663 , -0.40958607,  0.33468273,\n        1.9727722 ,  1.571036  , -3.2585914 , -0.3228874 ,  0.62857   ],\n      dtype=float32)"
     },
     "execution_count": 12,
     "metadata": {},
     "output_type": "execute_result"
    }
   ],
   "source": [
    "sentence.vector"
   ],
   "metadata": {
    "collapsed": false,
    "ExecuteTime": {
     "end_time": "2023-08-13T13:26:04.871312500Z",
     "start_time": "2023-08-13T13:26:04.838940800Z"
    }
   },
   "id": "502f1b881bbe746f"
  },
  {
   "cell_type": "code",
   "execution_count": 43,
   "outputs": [],
   "source": [
    "import numpy as np\n",
    "your_word = 'dog'\n",
    "ms = nlp.vocab.vectors.most_similar(\n",
    "    np.asarray([nlp.vocab.vectors[nlp.vocab.strings[your_word]]]), n=20)\n",
    "words = [nlp.vocab.strings[w] for w in ms[0][0]]\n",
    "distances = ms[2]\n"
   ],
   "metadata": {
    "collapsed": false,
    "ExecuteTime": {
     "end_time": "2023-08-13T13:32:42.306301100Z",
     "start_time": "2023-08-13T13:32:42.221543300Z"
    }
   },
   "id": "c71f79771921491"
  },
  {
   "cell_type": "code",
   "execution_count": 44,
   "outputs": [
    {
     "name": "stdout",
     "output_type": "stream",
     "text": [
      "['dogsbody', 'wolfdogs', 'Baeg', 'duppy', 'pet(s', 'postcanine', 'Kebira', 'uppies', 'Toropets', 'moggie', 'Yowls', 'Sniglet', 'Tonderai', 'Deerhounds', 'Canid', 'Finnhorse', 'animalic', 'Leash', 'noddle', 'bristlebird']\n"
     ]
    }
   ],
   "source": [
    "print(words)"
   ],
   "metadata": {
    "collapsed": false,
    "ExecuteTime": {
     "end_time": "2023-08-13T13:32:42.688462500Z",
     "start_time": "2023-08-13T13:32:42.684391500Z"
    }
   },
   "id": "33d4de13638121ed"
  },
  {
   "cell_type": "markdown",
   "source": [
    "## Document Similarity"
   ],
   "metadata": {
    "collapsed": false
   },
   "id": "55782c717d7ebb09"
  },
  {
   "cell_type": "code",
   "execution_count": 45,
   "outputs": [],
   "source": [
    "nlp = spacy.load('en_core_web_md')"
   ],
   "metadata": {
    "collapsed": false,
    "ExecuteTime": {
     "end_time": "2023-08-13T13:34:38.167490300Z",
     "start_time": "2023-08-13T13:34:37.038331700Z"
    }
   },
   "id": "9740e53fce05826a"
  },
  {
   "cell_type": "code",
   "execution_count": 52,
   "outputs": [
    {
     "name": "stdout",
     "output_type": "stream",
     "text": [
      "He is Tinh <-> She is Hoang My 0.7305626949050479\n"
     ]
    }
   ],
   "source": [
    "doc_1 = nlp('He is Tinh')\n",
    "doc_2 = nlp('She is Hoang My')\n",
    "print(doc_1, '<->',doc_2 ,doc_1.similarity(doc_2))"
   ],
   "metadata": {
    "collapsed": false,
    "ExecuteTime": {
     "end_time": "2023-08-13T13:37:24.236450600Z",
     "start_time": "2023-08-13T13:37:24.191382100Z"
    }
   },
   "id": "c51c6bccd381cfa2"
  },
  {
   "cell_type": "markdown",
   "source": [
    "## Word Similarity "
   ],
   "metadata": {
    "collapsed": false
   },
   "id": "b79ac2ecece46775"
  },
  {
   "cell_type": "code",
   "execution_count": 58,
   "outputs": [
    {
     "name": "stdout",
     "output_type": "stream",
     "text": [
      "like <-> love 0.5212638958164352\n"
     ]
    }
   ],
   "source": [
    "word_1 = nlp('like')\n",
    "word_2 = nlp('love')\n",
    "print(word_1, '<->',word_2 ,word_1.similarity(word_2))"
   ],
   "metadata": {
    "collapsed": false,
    "ExecuteTime": {
     "end_time": "2023-08-13T13:40:16.385225600Z",
     "start_time": "2023-08-13T13:40:16.357687200Z"
    }
   },
   "id": "ac29111200f9fc39"
  },
  {
   "cell_type": "code",
   "execution_count": null,
   "outputs": [],
   "source": [],
   "metadata": {
    "collapsed": false
   },
   "id": "6923321b3cc3d1e8"
  }
 ],
 "metadata": {
  "kernelspec": {
   "display_name": "Python 3",
   "language": "python",
   "name": "python3"
  },
  "language_info": {
   "codemirror_mode": {
    "name": "ipython",
    "version": 2
   },
   "file_extension": ".py",
   "mimetype": "text/x-python",
   "name": "python",
   "nbconvert_exporter": "python",
   "pygments_lexer": "ipython2",
   "version": "2.7.6"
  }
 },
 "nbformat": 4,
 "nbformat_minor": 5
}
