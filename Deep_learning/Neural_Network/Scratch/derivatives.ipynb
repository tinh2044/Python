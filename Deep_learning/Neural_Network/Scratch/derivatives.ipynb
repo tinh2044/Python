{
 "cells": [
  {
   "cell_type": "code",
   "execution_count": 1,
   "outputs": [],
   "source": [
    "import matplotlib.pyplot as plt\n",
    "import numpy as np"
   ],
   "metadata": {
    "collapsed": false,
    "ExecuteTime": {
     "end_time": "2023-08-30T07:31:41.366701400Z",
     "start_time": "2023-08-30T07:31:40.589255800Z"
    }
   },
   "id": "1eeeb8abd2db301"
  },
  {
   "cell_type": "code",
   "execution_count": 2,
   "id": "initial_id",
   "metadata": {
    "collapsed": true,
    "ExecuteTime": {
     "end_time": "2023-08-30T07:31:49.012583400Z",
     "start_time": "2023-08-30T07:31:48.993639800Z"
    }
   },
   "outputs": [],
   "source": [
    "def f(x):\n",
    "    return 2*x"
   ]
  },
  {
   "cell_type": "code",
   "execution_count": 4,
   "outputs": [],
   "source": [
    "x = np.arange(0,5)\n",
    "y = f(x)"
   ],
   "metadata": {
    "collapsed": false,
    "ExecuteTime": {
     "end_time": "2023-08-30T07:32:27.507905Z",
     "start_time": "2023-08-30T07:32:27.493581900Z"
    }
   },
   "id": "204dfb3e89a653c8"
  },
  {
   "cell_type": "code",
   "execution_count": 5,
   "outputs": [
    {
     "name": "stdout",
     "output_type": "stream",
     "text": [
      "[0 1 2 3 4]\n",
      "[0 2 4 6 8]\n"
     ]
    }
   ],
   "source": [
    "print(x)\n",
    "print(y)"
   ],
   "metadata": {
    "collapsed": false,
    "ExecuteTime": {
     "end_time": "2023-08-30T07:32:32.212766800Z",
     "start_time": "2023-08-30T07:32:32.201833700Z"
    }
   },
   "id": "4b8b5d9b853036e3"
  },
  {
   "cell_type": "code",
   "execution_count": 6,
   "outputs": [
    {
     "data": {
      "text/plain": "[<matplotlib.lines.Line2D at 0x2ad49a503d0>]"
     },
     "execution_count": 6,
     "metadata": {},
     "output_type": "execute_result"
    },
    {
     "data": {
      "text/plain": "<Figure size 432x288 with 1 Axes>",
      "image/png": "[encoded data removed]"
     },
     "metadata": {
      "needs_background": "light"
     },
     "output_type": "display_data"
    }
   ],
   "source": [
    "plt.plot(x, y)"
   ],
   "metadata": {
    "collapsed": false,
    "ExecuteTime": {
     "end_time": "2023-08-30T07:32:47.698725100Z",
     "start_time": "2023-08-30T07:32:47.598708400Z"
    }
   },
   "id": "ce5c0e55aa7d2873"
  },
  {
   "cell_type": "markdown",
   "source": [
    "## The Slope"
   ],
   "metadata": {
    "collapsed": false
   },
   "id": "3854f4460ad88cf3"
  },
  {
   "cell_type": "code",
   "execution_count": 7,
   "outputs": [
    {
     "name": "stdout",
     "output_type": "stream",
     "text": [
      "2.0\n"
     ]
    }
   ],
   "source": [
    "print((y[1]-y[0]) / (x[1]-x[0]))"
   ],
   "metadata": {
    "collapsed": false,
    "ExecuteTime": {
     "end_time": "2023-08-30T07:34:12.164564700Z",
     "start_time": "2023-08-30T07:34:12.149581900Z"
    }
   },
   "id": "6b02911ed19d0eef"
  },
  {
   "cell_type": "code",
   "execution_count": 8,
   "outputs": [],
   "source": [
    "def f(x): \n",
    "    return 2*x**2"
   ],
   "metadata": {
    "collapsed": false,
    "ExecuteTime": {
     "end_time": "2023-08-30T07:34:23.846688400Z",
     "start_time": "2023-08-30T07:34:23.839584800Z"
    }
   },
   "id": "4cb524b73d15bc5c"
  },
  {
   "cell_type": "code",
   "execution_count": 10,
   "outputs": [
    {
     "name": "stdout",
     "output_type": "stream",
     "text": [
      "[0 1 2 3 4]\n",
      "[ 0  2  8 18 32]\n"
     ]
    }
   ],
   "source": [
    "y = f(x) # Calculate function outputs for new function \n",
    "print(x) \n",
    "print(y)"
   ],
   "metadata": {
    "collapsed": false,
    "ExecuteTime": {
     "end_time": "2023-08-30T07:34:43.810230300Z",
     "start_time": "2023-08-30T07:34:43.796104800Z"
    }
   },
   "id": "e50535e90609a10a"
  },
  {
   "cell_type": "code",
   "execution_count": 11,
   "outputs": [
    {
     "name": "stdout",
     "output_type": "stream",
     "text": [
      "2.0\n"
     ]
    }
   ],
   "source": [
    "print((y[1]-y[0]) / (x[1]-x[0]))"
   ],
   "metadata": {
    "collapsed": false,
    "ExecuteTime": {
     "end_time": "2023-08-30T07:34:51.294245900Z",
     "start_time": "2023-08-30T07:34:51.278546400Z"
    }
   },
   "id": "43b64e0e90da8da1"
  },
  {
   "cell_type": "code",
   "execution_count": 12,
   "outputs": [
    {
     "name": "stdout",
     "output_type": "stream",
     "text": [
      "10.0\n"
     ]
    }
   ],
   "source": [
    "print((y[3]-y[2]) / (x[3]-x[2]))"
   ],
   "metadata": {
    "collapsed": false,
    "ExecuteTime": {
     "end_time": "2023-08-30T07:35:00.645634500Z",
     "start_time": "2023-08-30T07:35:00.632082600Z"
    }
   },
   "id": "ec04388a5cfe79f0"
  },
  {
   "cell_type": "code",
   "execution_count": 13,
   "outputs": [
    {
     "name": "stdout",
     "output_type": "stream",
     "text": [
      "4.0001999999987845\n"
     ]
    }
   ],
   "source": [
    "p2_delta = 0.0001\n",
    "x1= 1\n",
    "x2 = x1 + p2_delta\n",
    "y1= f(x1)\n",
    "y2 =f(x2)\n",
    "approximate_derivative = (y2-y1)/(x2-x1)\n",
    "print(approximate_derivative)"
   ],
   "metadata": {
    "collapsed": false,
    "ExecuteTime": {
     "end_time": "2023-08-30T07:37:33.466718100Z",
     "start_time": "2023-08-30T07:37:33.456679600Z"
    }
   },
   "id": "309c8ba054643909"
  },
  {
   "cell_type": "markdown",
   "source": [
    "## The Numerical Derivative"
   ],
   "metadata": {
    "collapsed": false
   },
   "id": "7b629e7070660394"
  },
  {
   "cell_type": "code",
   "execution_count": 15,
   "outputs": [
    {
     "data": {
      "text/plain": "[<matplotlib.lines.Line2D at 0x2ad4bbc78e0>]"
     },
     "execution_count": 15,
     "metadata": {},
     "output_type": "execute_result"
    },
    {
     "data": {
      "text/plain": "<Figure size 432x288 with 1 Axes>",
      "image/png": "[encoded data removed]"
     },
     "metadata": {
      "needs_background": "light"
     },
     "output_type": "display_data"
    }
   ],
   "source": [
    "def f(x):\n",
    "    return 2*x**2\n",
    "\n",
    "x = np.arange(0, 5, 0.001)\n",
    "y = f(x)\n",
    "plt.plot(x, y)\n",
    "plt.plot(x, x*4)"
   ],
   "metadata": {
    "collapsed": false,
    "ExecuteTime": {
     "end_time": "2023-08-30T07:40:01.107961300Z",
     "start_time": "2023-08-30T07:40:01.027627300Z"
    }
   },
   "id": "cbdc85eac7b16dc8"
  },
  {
   "cell_type": "code",
   "execution_count": 19,
   "outputs": [],
   "source": [
    "p2_delta = 0.0001\n",
    "x1= 1\n",
    "x2 = x1 + p2_delta\n",
    "y1= f(x1)\n",
    "y2 =f(x2)\n",
    "approximate_derivative = (y2-y1)/(x2-x1)\n",
    "b = y2 - approximate_derivative*x2"
   ],
   "metadata": {
    "collapsed": false,
    "ExecuteTime": {
     "end_time": "2023-08-30T07:42:15.406801100Z",
     "start_time": "2023-08-30T07:42:15.396493300Z"
    }
   },
   "id": "5513e95cc7827e84"
  },
  {
   "cell_type": "code",
   "execution_count": 20,
   "outputs": [],
   "source": [
    "def tangent_line(x): \n",
    "    return approximate_derivative*x + b"
   ],
   "metadata": {
    "collapsed": false,
    "ExecuteTime": {
     "end_time": "2023-08-30T07:42:15.966027900Z",
     "start_time": "2023-08-30T07:42:15.953662800Z"
    }
   },
   "id": "e0026ebb70961215"
  },
  {
   "cell_type": "code",
   "execution_count": 23,
   "outputs": [
    {
     "name": "stdout",
     "output_type": "stream",
     "text": [
      "Approximate derivative for f(x) where x = 1 is 4.0001999999987845\n"
     ]
    },
    {
     "data": {
      "text/plain": "<Figure size 432x288 with 1 Axes>",
      "image/png": "[encoded data removed]"
     },
     "metadata": {
      "needs_background": "light"
     },
     "output_type": "display_data"
    }
   ],
   "source": [
    "to_plot = [x1-0.9, x1, x1+0.9] \n",
    "plt.plot(x, y)\n",
    "plt.plot(to_plot, [tangent_line(i) for i in to_plot])\n",
    "print('Approximate derivative for f(x)', f'where x = {x1} is {approximate_derivative}')"
   ],
   "metadata": {
    "collapsed": false,
    "ExecuteTime": {
     "end_time": "2023-08-30T07:43:34.191063800Z",
     "start_time": "2023-08-30T07:43:34.115858100Z"
    }
   },
   "id": "93d7b5887cea3a79"
  },
  {
   "cell_type": "code",
   "execution_count": 23,
   "outputs": [],
   "source": [
    "    "
   ],
   "metadata": {
    "collapsed": false,
    "ExecuteTime": {
     "end_time": "2023-08-30T07:43:38.889572100Z",
     "start_time": "2023-08-30T07:43:38.868563300Z"
    }
   },
   "id": "8d782c557168c8d1"
  },
  {
   "cell_type": "code",
   "execution_count": 27,
   "outputs": [
    {
     "name": "stdout",
     "output_type": "stream",
     "text": [
      "(0, 0) (0.0001, 2e-08)\n",
      "Approximate derivative for f(x) where x = 0 is 0.00019999999999999998\n",
      "(1, 2) (1.0001, 2.00040002)\n",
      "Approximate derivative for f(x) where x = 1 is 4.0001999999987845\n",
      "(2, 8) (2.0001, 8.000800020000002)\n",
      "Approximate derivative for f(x) where x = 2 is 8.000199999998785\n",
      "(3, 18) (3.0001, 18.001200020000002)\n",
      "Approximate derivative for f(x) where x = 3 is 12.000199999998785\n",
      "(4, 32) (4.0001, 32.00160002)\n",
      "Approximate derivative for f(x) where x = 4 is 16.000200000016548\n"
     ]
    },
    {
     "data": {
      "text/plain": "<Figure size 432x288 with 1 Axes>",
      "image/png": "[encoded data removed]"
     },
     "metadata": {
      "needs_background": "light"
     },
     "output_type": "display_data"
    }
   ],
   "source": [
    "def f(x):\n",
    "    return 2*x**2\n",
    "\n",
    "x = np.arange(0, 5 ,0.01)\n",
    "y = f(x)\n",
    "plt.plot(x, y)\n",
    "\n",
    "colors = ['k', 'g', 'r', 'b', 'c']\n",
    "\n",
    "def approximate_tangent_line(x, approximate_derivative,b):\n",
    "    return approximate_derivative*x +b\n",
    "    \n",
    "for i in range(5):\n",
    "    p2_delta = 0.0001\n",
    "    x1 = i\n",
    "    x2 = x1 + p2_delta\n",
    "    \n",
    "    y1 = f(x1)\n",
    "    y2 = f(x2)\n",
    "    \n",
    "    print((x1, y1), (x2, y2))\n",
    "    \n",
    "    approximate_derivative = (y2-y1) / (x2 -x1)\n",
    "    \n",
    "    b = y2 - approximate_derivative*x2\n",
    "    to_plot = [x1-0.9, x1, x1+0.9]\n",
    "    \n",
    "    plt.scatter(x1, y1, c=colors[i])\n",
    "    plt.plot([point for point in to_plot],\n",
    "             [approximate_tangent_line(point, approximate_derivative, b) for point in to_plot],\n",
    "             c=colors[i]\n",
    "             )\n",
    "    print('Approximate derivative for f(x)', f'where x = {x1} is {approximate_derivative}')"
   ],
   "metadata": {
    "collapsed": false,
    "ExecuteTime": {
     "end_time": "2023-08-30T07:51:49.887244500Z",
     "start_time": "2023-08-30T07:51:49.774540300Z"
    }
   },
   "id": "6f9a4168890d222c"
  },
  {
   "cell_type": "code",
   "execution_count": null,
   "outputs": [],
   "source": [
    "    "
   ],
   "metadata": {
    "collapsed": false
   },
   "id": "bc85fe2c6263b6ac"
  }
 ],
 "metadata": {
  "kernelspec": {
   "display_name": "Python 3",
   "language": "python",
   "name": "python3"
  },
  "language_info": {
   "codemirror_mode": {
    "name": "ipython",
    "version": 2
   },
   "file_extension": ".py",
   "mimetype": "text/x-python",
   "name": "python",
   "nbconvert_exporter": "python",
   "pygments_lexer": "ipython2",
   "version": "2.7.6"
  }
 },
 "nbformat": 4,
 "nbformat_minor": 5
}
