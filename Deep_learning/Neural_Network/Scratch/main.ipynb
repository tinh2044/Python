{
 "cells": [
  {
   "cell_type": "code",
   "execution_count": 2,
   "id": "initial_id",
   "metadata": {
    "collapsed": true,
    "ExecuteTime": {
     "end_time": "2023-08-30T06:39:02.584714Z",
     "start_time": "2023-08-30T06:39:02.448060100Z"
    }
   },
   "outputs": [],
   "source": [
    "from nnfs.datasets import spiral_data\n",
    "import numpy as np"
   ]
  },
  {
   "cell_type": "markdown",
   "source": [
    "## Dense Layer"
   ],
   "metadata": {
    "collapsed": false
   },
   "id": "b6bc4c8f7f970885"
  },
  {
   "cell_type": "code",
   "execution_count": 23,
   "outputs": [],
   "source": [
    "# Dense Layer\n",
    "class DenseLayer:\n",
    "    \n",
    "    # Layer initialization\n",
    "    def __init__(self, n_input :int, n_neurons :int):\n",
    "        # Initialization weights and bias\n",
    "        self.output = None\n",
    "        self.weights : np.array = 0.01*np.random.rand(n_input, n_neurons)\n",
    "        self.biases : np.array = np.zeros((1, n_neurons))\n",
    "        \n",
    "    # Forward \n",
    "    def forward(self, inputs):\n",
    "        \n",
    "        # Calculate output values from inputs, weights and bias\n",
    "        self.output = np.dot(inputs, self.weights) + self.biases\n",
    "    \n",
    "    #Backward\n",
    "    def backward(self, d_values):\n",
    "        #Gradients on parameters\n",
    "        self.d_weights = np.dot(self.inputs.T, d_values)\n",
    "        self.d_biases = np.sum(d_values, axis=0, keepdims=True)\n",
    "        \n",
    "        # Gradient on values \n",
    "        self.d_inputs = np.dot(d_values, self.weights.T)\n",
    "    \n",
    "# Relu Activation\n",
    "class ActivationRelU:\n",
    "    \n",
    "\n",
    "    def __init__(self):\n",
    "        self.output = None\n",
    "    #Forward pass\n",
    "    def forward(self, inputs):\n",
    "        self.inputs = inputs\n",
    "        self.output = np.maximum(0, inputs)\n",
    "    #Backward\n",
    "    def backward(self, d_values):\n",
    "        self.d_inputs = d_values.copy()\n",
    "        \n",
    "        self.d_inputs[self.inputs <=0] = 0\n",
    "#Softmax activation \n",
    "class ActivationSoftmax:\n",
    "    \n",
    "    def __init__(self):\n",
    "        self.output = None\n",
    "    \n",
    "    # Forward pass\n",
    "    def forward(self, inputs):\n",
    "        \n",
    "        #Get un_normalized probabilities\n",
    "        exp_values = np.exp(inputs - np.max(inputs, axis=1, keepdims=True))\n",
    "        \n",
    "        #Normalize them for each sample\n",
    "        probabilities = exp_values/np.sum(exp_values, axis=1, keepdims=True)\n",
    "        \n",
    "        self.output = probabilities\n",
    "    "
   ],
   "metadata": {
    "collapsed": false,
    "ExecuteTime": {
     "end_time": "2023-08-30T07:16:41.480988900Z",
     "start_time": "2023-08-30T07:16:41.466693500Z"
    }
   },
   "id": "e626407316a12cd4"
  },
  {
   "cell_type": "code",
   "execution_count": 24,
   "outputs": [
    {
     "name": "stdout",
     "output_type": "stream",
     "text": [
      "[[0.33333334 0.33333334 0.33333334]\n",
      " [0.3333335  0.33333316 0.33333334]\n",
      " [0.3333335  0.33333316 0.33333334]\n",
      " [0.3333336  0.33333302 0.3333333 ]\n",
      " [0.33333388 0.33333275 0.3333333 ]]\n"
     ]
    }
   ],
   "source": [
    "# Create dataset \n",
    "X, y = spiral_data(samples=100, classes=3) \n",
    "# Create Dense layer with 2 input features and 3 output values \n",
    "dense1 = DenseLayer(2, 3) \n",
    "# Create ReLU activation (to be used with Dense layer): \n",
    "activation1 = ActivationRelU()\n",
    "# Create second Dense layer with 3 input features (as we take output # of previous layer here) and 3 output values (output values) \n",
    "dense2 = DenseLayer(3, 3)\n",
    "# Create Softmax activation (to be used with Dense layer):\n",
    "activation2 = ActivationSoftmax() \n",
    "# Make a forward pass of our training data through this layer \n",
    "dense1.forward(X) \n",
    "# Make a forward pass through activation function \n",
    "# it takes the output of first dense layer here \n",
    "activation1.forward(dense1.output) \n",
    "# Make a forward pass through second Dense layer \n",
    "# it takes output of activation function of first layer as inputs\n",
    "dense2.forward(activation1.output) \n",
    "# Make a forward pass through activation function # it takes the output of second dense layer here \n",
    "activation2.forward(dense2.output)\n",
    "# Let's see output of the first few samples:\n",
    "print(activation2.output[:5])"
   ],
   "metadata": {
    "collapsed": false,
    "ExecuteTime": {
     "end_time": "2023-08-30T07:16:41.868258200Z",
     "start_time": "2023-08-30T07:16:41.822553300Z"
    }
   },
   "id": "ba6a4af8971309d0"
  },
  {
   "cell_type": "markdown",
   "source": [
    "## Loss Function"
   ],
   "metadata": {
    "collapsed": false
   },
   "id": "5cfec8e7daeee050"
  },
  {
   "cell_type": "code",
   "execution_count": 25,
   "outputs": [
    {
     "data": {
      "text/plain": "0.38506088005216804"
     },
     "execution_count": 25,
     "metadata": {},
     "output_type": "execute_result"
    }
   ],
   "source": [
    "#Common loss class\n",
    "class Loss:\n",
    "    \n",
    "    \n",
    "    def forward(self, output, y):\n",
    "        pass\n",
    "    \n",
    "    def calculate(self, output, y):\n",
    "        \n",
    "        #Calculate the sample losses\n",
    "        sample_losses = self.forward(output, y)\n",
    "        \n",
    "        data_loss = np.mean(sample_losses)\n",
    "        \n",
    "        return data_loss\n",
    "    \n",
    "#Cross-entropy loss\n",
    "class CategoricalCrossEntropy(Loss):\n",
    "        \n",
    "        def forward(self, y_pred, y):\n",
    "            \n",
    "            n_samples = len(y)\n",
    "            \n",
    "            y_pred_clipped = np.clip(y_pred, 1e-7, 1-1e-7)\n",
    "            correct_confidences = 0\n",
    "            \n",
    "            if len(y.shape) == 1:\n",
    "                correct_confidences = y_pred_clipped[\n",
    "                    range(n_samples), y\n",
    "                ]\n",
    "            elif len(y.shape) == 2:\n",
    "                correct_confidences = np.sum(\n",
    "                    y_pred_clipped*y,axis=1\n",
    "                )\n",
    "            return -np.log(correct_confidences)\n",
    "        \n",
    "        #Backward\n",
    "        def backward(self, d_values, y_true):\n",
    "            n_samples = len(y_true)\n",
    "            labels = len(value[0])\n",
    "            \n",
    "            if len(y_true.shape) == 1:\n",
    "                y_true = np.eye(labels)[y_true]\n",
    "            self.d_inputs = -y_true / d_values\n",
    "            \n",
    "            self.d_inputs = self.d_inputs / sample\n",
    "        \n",
    "softmax_outputs = np.array([[0.7, 0.1, 0.2], [0.1, 0.5, 0.4], [0.02, 0.9, 0.08]])\n",
    "                           \n",
    "class_targets = np.array([[1, 0, 0], [0, 1, 0], [0, 1, 0]])\n",
    "loss = CategoricalCrossEntropy()\n",
    "loss.calculate(softmax_outputs, class_targets)"
   ],
   "metadata": {
    "collapsed": false,
    "ExecuteTime": {
     "end_time": "2023-08-30T07:16:42.730923500Z",
     "start_time": "2023-08-30T07:16:42.723299300Z"
    }
   },
   "id": "481152bc6d86aa68"
  },
  {
   "cell_type": "code",
   "execution_count": 26,
   "outputs": [],
   "source": [
    "import matplotlib.pyplot as plt \n",
    "import nnfs \n",
    "from nnfs.datasets import vertical_data \n",
    "nnfs.init()"
   ],
   "metadata": {
    "collapsed": false,
    "ExecuteTime": {
     "end_time": "2023-08-30T07:16:42.984642700Z",
     "start_time": "2023-08-30T07:16:42.964870700Z"
    }
   },
   "id": "f53e147f90ea14a9"
  },
  {
   "cell_type": "code",
   "execution_count": 27,
   "outputs": [
    {
     "data": {
      "text/plain": "<Figure size 432x288 with 1 Axes>",
      "image/png": "[encoded data removed]"
     },
     "metadata": {
      "needs_background": "light"
     },
     "output_type": "display_data"
    }
   ],
   "source": [
    "X, y = vertical_data(samples=100, classes=3) \n",
    "plt.scatter(X[:, 0], X[:, 1], c=y, s=40, cmap='brg') \n",
    "plt.show()"
   ],
   "metadata": {
    "collapsed": false,
    "ExecuteTime": {
     "end_time": "2023-08-30T07:16:44.527829100Z",
     "start_time": "2023-08-30T07:16:44.421883400Z"
    }
   },
   "id": "9f25cb3e8dab28c5"
  },
  {
   "cell_type": "code",
   "execution_count": 33,
   "outputs": [
    {
     "name": "stdout",
     "output_type": "stream",
     "text": [
      "New set of weights found, iteration: 0 loss: 1.0986863 acc: 0.3333333333333333\n",
      "New set of weights found, iteration: 3 loss: 1.0983028 acc: 0.3333333333333333\n",
      "New set of weights found, iteration: 5 loss: 1.0976565 acc: 0.3333333333333333\n",
      "New set of weights found, iteration: 8 loss: 1.0971993 acc: 0.3333333333333333\n",
      "New set of weights found, iteration: 12 loss: 1.0963291 acc: 0.3333333333333333\n",
      "New set of weights found, iteration: 14 loss: 1.0961597 acc: 0.3333333333333333\n",
      "New set of weights found, iteration: 15 loss: 1.0954252 acc: 0.3333333333333333\n",
      "New set of weights found, iteration: 18 loss: 1.0951042 acc: 0.3333333333333333\n",
      "New set of weights found, iteration: 20 loss: 1.0936978 acc: 0.3333333333333333\n",
      "New set of weights found, iteration: 21 loss: 1.0927979 acc: 0.5666666666666667\n",
      "New set of weights found, iteration: 22 loss: 1.0923805 acc: 0.3333333333333333\n",
      "New set of weights found, iteration: 23 loss: 1.0896355 acc: 0.3333333333333333\n",
      "New set of weights found, iteration: 24 loss: 1.0882744 acc: 0.3333333333333333\n",
      "New set of weights found, iteration: 26 loss: 1.0881987 acc: 0.3333333333333333\n",
      "New set of weights found, iteration: 32 loss: 1.0881615 acc: 0.3333333333333333\n",
      "New set of weights found, iteration: 33 loss: 1.0881095 acc: 0.3333333333333333\n",
      "New set of weights found, iteration: 34 loss: 1.0874672 acc: 0.3333333333333333\n",
      "New set of weights found, iteration: 35 loss: 1.0864158 acc: 0.3333333333333333\n",
      "New set of weights found, iteration: 36 loss: 1.0848423 acc: 0.3333333333333333\n",
      "New set of weights found, iteration: 39 loss: 1.0845728 acc: 0.3333333333333333\n",
      "New set of weights found, iteration: 41 loss: 1.0826052 acc: 0.3333333333333333\n",
      "New set of weights found, iteration: 42 loss: 1.0825667 acc: 0.3333333333333333\n",
      "New set of weights found, iteration: 45 loss: 1.0823655 acc: 0.3333333333333333\n",
      "New set of weights found, iteration: 48 loss: 1.081412 acc: 0.3333333333333333\n",
      "New set of weights found, iteration: 49 loss: 1.0788614 acc: 0.3333333333333333\n",
      "New set of weights found, iteration: 53 loss: 1.0786726 acc: 0.3333333333333333\n",
      "New set of weights found, iteration: 55 loss: 1.0786232 acc: 0.3333333333333333\n",
      "New set of weights found, iteration: 57 loss: 1.07603 acc: 0.3333333333333333\n",
      "New set of weights found, iteration: 58 loss: 1.075505 acc: 0.3333333333333333\n",
      "New set of weights found, iteration: 62 loss: 1.0752594 acc: 0.3333333333333333\n",
      "New set of weights found, iteration: 66 loss: 1.074475 acc: 0.3333333333333333\n",
      "New set of weights found, iteration: 71 loss: 1.0738667 acc: 0.3333333333333333\n",
      "New set of weights found, iteration: 72 loss: 1.0703816 acc: 0.3333333333333333\n",
      "New set of weights found, iteration: 73 loss: 1.0688877 acc: 0.3333333333333333\n",
      "New set of weights found, iteration: 74 loss: 1.0676544 acc: 0.3333333333333333\n",
      "New set of weights found, iteration: 78 loss: 1.0664382 acc: 0.3333333333333333\n",
      "New set of weights found, iteration: 79 loss: 1.0662994 acc: 0.3333333333333333\n",
      "New set of weights found, iteration: 82 loss: 1.0651302 acc: 0.3333333333333333\n",
      "New set of weights found, iteration: 90 loss: 1.0636628 acc: 0.3333333333333333\n",
      "New set of weights found, iteration: 91 loss: 1.0631309 acc: 0.3333333333333333\n",
      "New set of weights found, iteration: 92 loss: 1.0619895 acc: 0.3433333333333333\n",
      "New set of weights found, iteration: 96 loss: 1.0616508 acc: 0.33666666666666667\n",
      "New set of weights found, iteration: 100 loss: 1.0606215 acc: 0.34\n",
      "New set of weights found, iteration: 101 loss: 1.0603354 acc: 0.3333333333333333\n",
      "New set of weights found, iteration: 102 loss: 1.059332 acc: 0.37666666666666665\n",
      "New set of weights found, iteration: 103 loss: 1.0581297 acc: 0.3333333333333333\n",
      "New set of weights found, iteration: 106 loss: 1.0572969 acc: 0.3333333333333333\n",
      "New set of weights found, iteration: 110 loss: 1.0570215 acc: 0.3333333333333333\n",
      "New set of weights found, iteration: 112 loss: 1.05615 acc: 0.3433333333333333\n",
      "New set of weights found, iteration: 114 loss: 1.0551609 acc: 0.35\n",
      "New set of weights found, iteration: 115 loss: 1.0531532 acc: 0.3466666666666667\n",
      "New set of weights found, iteration: 117 loss: 1.0509937 acc: 0.3433333333333333\n",
      "New set of weights found, iteration: 118 loss: 1.0509628 acc: 0.36333333333333334\n",
      "New set of weights found, iteration: 119 loss: 1.0494823 acc: 0.33666666666666667\n",
      "New set of weights found, iteration: 122 loss: 1.0484782 acc: 0.3466666666666667\n",
      "New set of weights found, iteration: 125 loss: 1.047042 acc: 0.35333333333333333\n",
      "New set of weights found, iteration: 132 loss: 1.0463387 acc: 0.36\n",
      "New set of weights found, iteration: 134 loss: 1.0444154 acc: 0.3433333333333333\n",
      "New set of weights found, iteration: 146 loss: 1.0440017 acc: 0.3433333333333333\n",
      "New set of weights found, iteration: 151 loss: 1.0437046 acc: 0.3466666666666667\n",
      "New set of weights found, iteration: 152 loss: 1.0402532 acc: 0.4066666666666667\n",
      "New set of weights found, iteration: 157 loss: 1.0397794 acc: 0.3466666666666667\n",
      "New set of weights found, iteration: 158 loss: 1.0383013 acc: 0.35333333333333333\n",
      "New set of weights found, iteration: 164 loss: 1.038265 acc: 0.3933333333333333\n",
      "New set of weights found, iteration: 169 loss: 1.0345349 acc: 0.35\n",
      "New set of weights found, iteration: 172 loss: 1.0337391 acc: 0.3433333333333333\n",
      "New set of weights found, iteration: 173 loss: 1.033322 acc: 0.3933333333333333\n",
      "New set of weights found, iteration: 177 loss: 1.0332094 acc: 0.4066666666666667\n",
      "New set of weights found, iteration: 179 loss: 1.0318356 acc: 0.3933333333333333\n",
      "New set of weights found, iteration: 184 loss: 1.031306 acc: 0.37\n",
      "New set of weights found, iteration: 188 loss: 1.0304888 acc: 0.42333333333333334\n",
      "New set of weights found, iteration: 197 loss: 1.0301669 acc: 0.35333333333333333\n",
      "New set of weights found, iteration: 201 loss: 1.0276402 acc: 0.38333333333333336\n",
      "New set of weights found, iteration: 204 loss: 1.026744 acc: 0.3466666666666667\n",
      "New set of weights found, iteration: 219 loss: 1.025443 acc: 0.4633333333333333\n",
      "New set of weights found, iteration: 221 loss: 1.0249943 acc: 0.44\n",
      "New set of weights found, iteration: 225 loss: 1.0243475 acc: 0.3933333333333333\n",
      "New set of weights found, iteration: 246 loss: 1.0224698 acc: 0.45\n",
      "New set of weights found, iteration: 258 loss: 1.0215181 acc: 0.5433333333333333\n",
      "New set of weights found, iteration: 270 loss: 1.0199286 acc: 0.44\n",
      "New set of weights found, iteration: 283 loss: 1.0197935 acc: 0.3433333333333333\n",
      "New set of weights found, iteration: 290 loss: 1.0189614 acc: 0.34\n",
      "New set of weights found, iteration: 295 loss: 1.0188515 acc: 0.43666666666666665\n",
      "New set of weights found, iteration: 296 loss: 1.0170035 acc: 0.44333333333333336\n",
      "New set of weights found, iteration: 297 loss: 1.0151451 acc: 0.42333333333333334\n",
      "New set of weights found, iteration: 298 loss: 1.0122465 acc: 0.45666666666666667\n",
      "New set of weights found, iteration: 325 loss: 1.0121875 acc: 0.4166666666666667\n",
      "New set of weights found, iteration: 330 loss: 1.0111158 acc: 0.4\n",
      "New set of weights found, iteration: 332 loss: 1.011105 acc: 0.41333333333333333\n",
      "New set of weights found, iteration: 339 loss: 1.0094131 acc: 0.5366666666666666\n",
      "New set of weights found, iteration: 368 loss: 1.0077581 acc: 0.4533333333333333\n",
      "New set of weights found, iteration: 369 loss: 1.0066868 acc: 0.43\n",
      "New set of weights found, iteration: 371 loss: 1.0064433 acc: 0.5433333333333333\n",
      "New set of weights found, iteration: 374 loss: 1.0055401 acc: 0.5833333333333334\n",
      "New set of weights found, iteration: 375 loss: 1.005032 acc: 0.5033333333333333\n",
      "New set of weights found, iteration: 380 loss: 1.0027237 acc: 0.4633333333333333\n",
      "New set of weights found, iteration: 382 loss: 1.0011433 acc: 0.5166666666666667\n",
      "New set of weights found, iteration: 388 loss: 1.0008793 acc: 0.4666666666666667\n",
      "New set of weights found, iteration: 389 loss: 1.0008382 acc: 0.4666666666666667\n",
      "New set of weights found, iteration: 393 loss: 1.0001054 acc: 0.45\n",
      "New set of weights found, iteration: 395 loss: 0.9997563 acc: 0.44333333333333336\n",
      "New set of weights found, iteration: 404 loss: 0.9995457 acc: 0.5566666666666666\n",
      "New set of weights found, iteration: 421 loss: 0.9982249 acc: 0.51\n",
      "New set of weights found, iteration: 427 loss: 0.99810874 acc: 0.5266666666666666\n",
      "New set of weights found, iteration: 428 loss: 0.99720836 acc: 0.4266666666666667\n",
      "New set of weights found, iteration: 429 loss: 0.99716306 acc: 0.51\n",
      "New set of weights found, iteration: 430 loss: 0.99709004 acc: 0.55\n",
      "New set of weights found, iteration: 432 loss: 0.99608195 acc: 0.5766666666666667\n",
      "New set of weights found, iteration: 434 loss: 0.9957346 acc: 0.43666666666666665\n",
      "New set of weights found, iteration: 435 loss: 0.9932203 acc: 0.52\n",
      "New set of weights found, iteration: 453 loss: 0.99197924 acc: 0.5666666666666667\n",
      "New set of weights found, iteration: 459 loss: 0.9919501 acc: 0.57\n",
      "New set of weights found, iteration: 481 loss: 0.99158937 acc: 0.5666666666666667\n",
      "New set of weights found, iteration: 483 loss: 0.99103314 acc: 0.5566666666666666\n",
      "New set of weights found, iteration: 489 loss: 0.98995614 acc: 0.48333333333333334\n",
      "New set of weights found, iteration: 499 loss: 0.98916686 acc: 0.5066666666666667\n",
      "New set of weights found, iteration: 521 loss: 0.988775 acc: 0.4866666666666667\n",
      "New set of weights found, iteration: 523 loss: 0.98651165 acc: 0.5666666666666667\n",
      "New set of weights found, iteration: 531 loss: 0.9836289 acc: 0.5066666666666667\n",
      "New set of weights found, iteration: 536 loss: 0.9835613 acc: 0.5333333333333333\n",
      "New set of weights found, iteration: 550 loss: 0.98311096 acc: 0.5566666666666666\n",
      "New set of weights found, iteration: 583 loss: 0.982817 acc: 0.63\n",
      "New set of weights found, iteration: 585 loss: 0.9808735 acc: 0.65\n",
      "New set of weights found, iteration: 587 loss: 0.9807807 acc: 0.67\n",
      "New set of weights found, iteration: 589 loss: 0.97941846 acc: 0.5066666666666667\n",
      "New set of weights found, iteration: 590 loss: 0.9774917 acc: 0.62\n",
      "New set of weights found, iteration: 601 loss: 0.97640973 acc: 0.57\n",
      "New set of weights found, iteration: 602 loss: 0.9760997 acc: 0.55\n",
      "New set of weights found, iteration: 610 loss: 0.97402626 acc: 0.6066666666666667\n",
      "New set of weights found, iteration: 611 loss: 0.97304726 acc: 0.52\n",
      "New set of weights found, iteration: 658 loss: 0.97165316 acc: 0.5733333333333334\n",
      "New set of weights found, iteration: 662 loss: 0.9714174 acc: 0.6133333333333333\n",
      "New set of weights found, iteration: 668 loss: 0.9713739 acc: 0.6033333333333334\n",
      "New set of weights found, iteration: 686 loss: 0.9691168 acc: 0.5966666666666667\n",
      "New set of weights found, iteration: 689 loss: 0.96860635 acc: 0.58\n",
      "New set of weights found, iteration: 748 loss: 0.9666507 acc: 0.5333333333333333\n",
      "New set of weights found, iteration: 749 loss: 0.96567565 acc: 0.54\n",
      "New set of weights found, iteration: 755 loss: 0.9641329 acc: 0.5233333333333333\n",
      "New set of weights found, iteration: 756 loss: 0.9627295 acc: 0.6133333333333333\n",
      "New set of weights found, iteration: 758 loss: 0.96247673 acc: 0.6433333333333333\n",
      "New set of weights found, iteration: 774 loss: 0.9615143 acc: 0.5333333333333333\n",
      "New set of weights found, iteration: 788 loss: 0.96114767 acc: 0.5833333333333334\n",
      "New set of weights found, iteration: 796 loss: 0.96015424 acc: 0.6466666666666666\n",
      "New set of weights found, iteration: 818 loss: 0.9591558 acc: 0.6133333333333333\n",
      "New set of weights found, iteration: 835 loss: 0.95739734 acc: 0.5933333333333334\n",
      "New set of weights found, iteration: 858 loss: 0.95696473 acc: 0.5733333333333334\n",
      "New set of weights found, iteration: 887 loss: 0.9566336 acc: 0.54\n",
      "New set of weights found, iteration: 891 loss: 0.9557112 acc: 0.5666666666666667\n",
      "New set of weights found, iteration: 907 loss: 0.9554831 acc: 0.6033333333333334\n",
      "New set of weights found, iteration: 914 loss: 0.9551192 acc: 0.63\n",
      "New set of weights found, iteration: 941 loss: 0.9541642 acc: 0.58\n",
      "New set of weights found, iteration: 951 loss: 0.95366824 acc: 0.5733333333333334\n",
      "New set of weights found, iteration: 995 loss: 0.95349914 acc: 0.5833333333333334\n",
      "New set of weights found, iteration: 998 loss: 0.95306826 acc: 0.5633333333333334\n"
     ]
    }
   ],
   "source": [
    "#Create Model\n",
    "dense1 = DenseLayer(2, 3)\n",
    "activation1 = ActivationRelU()\n",
    "dense2 = DenseLayer(3, 3)\n",
    "activation2 = ActivationSoftmax()\n",
    "\n",
    "#Create loss function \n",
    "loss_function = CategoricalCrossEntropy()\n",
    "\n",
    "#Hepler variables\n",
    "lowest_loss = 999999\n",
    "best_dense1_weights = dense1.weights.copy()\n",
    "best_dense1_biases = dense1.biases.copy()\n",
    "best_dense2_weights = dense2.weights.copy()\n",
    "best_dense2_biases = dense2.biases.copy()\n",
    "\n",
    "for i in range(1000):\n",
    "    #update weight with some small random values\n",
    "\n",
    "    dense1.weights += 0.05 *np.random.rand(2, 3)\n",
    "    dense1.biases += 0.05 *np.random.rand(1, 3)\n",
    "    dense2.weights += 0.05 *np.random.rand(3, 3)\n",
    "    dense2.biases += 0.05 *np.random.rand(1, 3)\n",
    "    \n",
    "    #Perform a forward of our training data through this layer\n",
    "    \n",
    "    dense1.forward(X)\n",
    "    activation1.forward(dense1.output)\n",
    "    dense2.forward(activation1.output)\n",
    "    activation2.forward(dense2.output)\n",
    "    \n",
    "    # Perform a forward pass through activation function \n",
    "    # It take the output of second dense layer here return loss\n",
    "    loss = loss_function.calculate(activation2.output, y)\n",
    "    \n",
    "    predictions = np.argmax(activation2.output, axis=1)\n",
    "    accuracy = np.mean(predictions == y)\n",
    "    \n",
    "    if loss < lowest_loss:\n",
    "        print('New set of weights found, iteration:', i, 'loss:', loss, 'acc:', accuracy)\n",
    "        best_dense1_weights = dense1.weights.copy()\n",
    "        best_dense1_biases = dense1.biases.copy()\n",
    "        best_dense2_weights = dense2.weights.copy()\n",
    "        best_dense2_biases = dense2.biases.copy()\n",
    "        lowest_loss = loss\n",
    "    else:\n",
    "        dense1.weights = best_dense1_weights.copy() \n",
    "        dense1.biases = best_dense1_biases.copy() \n",
    "        dense2.weights = best_dense2_weights.copy() \n",
    "        dense2.biases = best_dense2_biases.copy()\n",
    "                   \n",
    "    "
   ],
   "metadata": {
    "collapsed": false,
    "ExecuteTime": {
     "end_time": "2023-08-30T07:25:43.207401300Z",
     "start_time": "2023-08-30T07:25:42.958493700Z"
    }
   },
   "id": "cbd7e937b5946449"
  },
  {
   "cell_type": "code",
   "execution_count": null,
   "outputs": [],
   "source": [],
   "metadata": {
    "collapsed": false
   },
   "id": "21866e1e231e24ad"
  }
 ],
 "metadata": {
  "kernelspec": {
   "display_name": "Python 3",
   "language": "python",
   "name": "python3"
  },
  "language_info": {
   "codemirror_mode": {
    "name": "ipython",
    "version": 2
   },
   "file_extension": ".py",
   "mimetype": "text/x-python",
   "name": "python",
   "nbconvert_exporter": "python",
   "pygments_lexer": "ipython2",
   "version": "2.7.6"
  }
 },
 "nbformat": 4,
 "nbformat_minor": 5
}
