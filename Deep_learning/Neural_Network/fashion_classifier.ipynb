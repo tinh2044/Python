{
 "cells": [
  {
   "cell_type": "code",
   "execution_count": null,
   "id": "initial_id",
   "metadata": {
    "collapsed": true,
    "is_executing": true,
    "ExecuteTime": {
     "start_time": "2023-10-13T08:16:31.883506800Z"
    }
   },
   "outputs": [],
   "source": [
    "import numpy as np\n",
    "from keras.models import Sequential\n",
    "from keras.datasets import fashion_mnist\n",
    "from keras.layers import Dense, Flatten\n",
    "import matplotlib.pyplot as plt\n",
    "from torch.ao.quantization.utils import activation_dtype"
   ]
  },
  {
   "cell_type": "markdown",
   "source": [
    "## Load data"
   ],
   "metadata": {
    "collapsed": false
   },
   "id": "44dee6c56e703b4d"
  },
  {
   "cell_type": "code",
   "execution_count": 2,
   "outputs": [
    {
     "name": "stdout",
     "output_type": "stream",
     "text": [
      "Downloading data from https://storage.googleapis.com/tensorflow/tf-keras-datasets/train-labels-idx1-ubyte.gz\n",
      "29515/29515 [==============================] - 0s 3us/step\n",
      "Downloading data from https://storage.googleapis.com/tensorflow/tf-keras-datasets/train-images-idx3-ubyte.gz\n",
      "26421880/26421880 [==============================] - 82s 3us/step\n",
      "Downloading data from https://storage.googleapis.com/tensorflow/tf-keras-datasets/t10k-labels-idx1-ubyte.gz\n",
      "5148/5148 [==============================] - 0s 0s/step\n",
      "Downloading data from https://storage.googleapis.com/tensorflow/tf-keras-datasets/t10k-images-idx3-ubyte.gz\n",
      "4422102/4422102 [==============================] - 9s 2us/step\n"
     ]
    }
   ],
   "source": [
    "(X_train, y_train) , (X_test, y_test)  = fashion_mnist.load_data()"
   ],
   "metadata": {
    "collapsed": false,
    "ExecuteTime": {
     "end_time": "2023-10-13T07:52:47.598343200Z",
     "start_time": "2023-10-13T07:51:14.424716800Z"
    }
   },
   "id": "bd34f7fca5664475"
  },
  {
   "cell_type": "code",
   "execution_count": 3,
   "outputs": [
    {
     "data": {
      "text/plain": "<matplotlib.image.AxesImage at 0x2192f0526d0>"
     },
     "execution_count": 3,
     "metadata": {},
     "output_type": "execute_result"
    },
    {
     "data": {
      "text/plain": "<Figure size 432x288 with 1 Axes>",
      "image/png": "[encoded data removed]"
     },
     "metadata": {
      "needs_background": "light"
     },
     "output_type": "display_data"
    }
   ],
   "source": [
    "plt.imshow(X_train[0])"
   ],
   "metadata": {
    "collapsed": false,
    "ExecuteTime": {
     "end_time": "2023-10-13T07:52:58.381002200Z",
     "start_time": "2023-10-13T07:52:58.233307500Z"
    }
   },
   "id": "9a932acbf1be6af6"
  },
  {
   "cell_type": "code",
   "execution_count": 4,
   "outputs": [
    {
     "name": "stdout",
     "output_type": "stream",
     "text": [
      "9\n"
     ]
    }
   ],
   "source": [
    "print(y_train[0])"
   ],
   "metadata": {
    "collapsed": false,
    "ExecuteTime": {
     "end_time": "2023-10-13T07:52:59.655146100Z",
     "start_time": "2023-10-13T07:52:59.645018Z"
    }
   },
   "id": "4bed23287268e819"
  },
  {
   "cell_type": "markdown",
   "source": [
    "| Label | Description |\n",
    "    |:-----:|-------------|\n",
    "    |   0   | T-shirt/top |\n",
    "    |   1   | Trouser     |\n",
    "    |   2   | Pullover    |\n",
    "    |   3   | Dress       |\n",
    "    |   4   | Coat        |\n",
    "    |   5   | Sandal      |\n",
    "    |   6   | Shirt       |\n",
    "    |   7   | Sneaker     |\n",
    "    |   8   | Bag         |\n",
    "    |   9   | Ankle boot  |"
   ],
   "metadata": {
    "collapsed": false
   },
   "id": "cc0932ee73e433dd"
  },
  {
   "cell_type": "code",
   "execution_count": 11,
   "outputs": [],
   "source": [
    "class_names = ['T-shirt/top', 'Trouser', 'Pullover', 'Dress', 'Coat', 'Sandal', 'Shirt', 'Sneaker', 'Bag', 'Ankle boot']"
   ],
   "metadata": {
    "collapsed": false,
    "ExecuteTime": {
     "end_time": "2023-10-13T08:10:10.209753300Z",
     "start_time": "2023-10-13T08:10:10.161675400Z"
    }
   },
   "id": "b68cf15e9f8fc415"
  },
  {
   "cell_type": "code",
   "execution_count": 6,
   "outputs": [],
   "source": [
    "model = Sequential([\n",
    "    Flatten(input_shape=(28, 28)), # Input layer 1\n",
    "    Dense(128, activation='relu'),   # Hidden layer 2\n",
    "    Dense(10, activation='softmax')  # Output layer 3\n",
    "])\n",
    "model.compile(optimizer='adam',\n",
    "              loss='sparse_categorical_crossentropy',\n",
    "              metrics=['accuracy'])"
   ],
   "metadata": {
    "collapsed": false,
    "ExecuteTime": {
     "end_time": "2023-10-13T07:53:01.650030600Z",
     "start_time": "2023-10-13T07:53:01.518176700Z"
    }
   },
   "id": "3a3763bb774f8cbc"
  },
  {
   "cell_type": "code",
   "execution_count": 7,
   "outputs": [],
   "source": [
    "# X_train = X_train.reshape(X_train.shape[0], -1)\n",
    "# X_test = X_test.reshape(X_test.shape[0], -1)"
   ],
   "metadata": {
    "collapsed": false,
    "ExecuteTime": {
     "end_time": "2023-10-13T07:53:02.611288800Z",
     "start_time": "2023-10-13T07:53:02.602961Z"
    }
   },
   "id": "516637ebb7bccd3b"
  },
  {
   "cell_type": "code",
   "execution_count": 8,
   "outputs": [
    {
     "name": "stdout",
     "output_type": "stream",
     "text": [
      "Epoch 1/100\n",
      "1875/1875 [==============================] - 4s 2ms/step - loss: 3.0269 - accuracy: 0.6817\n",
      "Epoch 2/100\n",
      "1875/1875 [==============================] - 4s 2ms/step - loss: 0.6467 - accuracy: 0.7686\n",
      "Epoch 3/100\n",
      "1875/1875 [==============================] - 4s 2ms/step - loss: 0.5856 - accuracy: 0.7955\n",
      "Epoch 4/100\n",
      "1875/1875 [==============================] - 4s 2ms/step - loss: 0.5603 - accuracy: 0.8060\n",
      "Epoch 5/100\n",
      "1875/1875 [==============================] - 4s 2ms/step - loss: 0.5396 - accuracy: 0.8131\n",
      "Epoch 6/100\n",
      "1875/1875 [==============================] - 4s 2ms/step - loss: 0.5215 - accuracy: 0.8193\n",
      "Epoch 7/100\n",
      "1875/1875 [==============================] - 4s 2ms/step - loss: 0.5074 - accuracy: 0.8254\n",
      "Epoch 8/100\n",
      "1875/1875 [==============================] - 4s 2ms/step - loss: 0.5005 - accuracy: 0.8275\n",
      "Epoch 9/100\n",
      "1875/1875 [==============================] - 4s 2ms/step - loss: 0.4875 - accuracy: 0.8334\n",
      "Epoch 10/100\n",
      "1875/1875 [==============================] - 4s 2ms/step - loss: 0.4801 - accuracy: 0.8350\n",
      "Epoch 11/100\n",
      "1875/1875 [==============================] - 4s 2ms/step - loss: 0.4764 - accuracy: 0.8374\n",
      "Epoch 12/100\n",
      "1875/1875 [==============================] - 5s 3ms/step - loss: 0.4932 - accuracy: 0.8329\n",
      "Epoch 13/100\n",
      "1875/1875 [==============================] - 9s 5ms/step - loss: 0.4786 - accuracy: 0.8375\n",
      "Epoch 14/100\n",
      "1875/1875 [==============================] - 11s 6ms/step - loss: 0.4687 - accuracy: 0.8407\n",
      "Epoch 15/100\n",
      "1875/1875 [==============================] - 6s 3ms/step - loss: 0.4668 - accuracy: 0.8422\n",
      "Epoch 16/100\n",
      "1875/1875 [==============================] - 12s 7ms/step - loss: 0.4678 - accuracy: 0.8419\n",
      "Epoch 17/100\n",
      "1875/1875 [==============================] - 12s 7ms/step - loss: 0.4573 - accuracy: 0.8436\n",
      "Epoch 18/100\n",
      "1875/1875 [==============================] - 12s 6ms/step - loss: 0.4607 - accuracy: 0.8436\n",
      "Epoch 19/100\n",
      "1875/1875 [==============================] - 12s 6ms/step - loss: 0.4563 - accuracy: 0.8429\n",
      "Epoch 20/100\n",
      "1875/1875 [==============================] - 8s 4ms/step - loss: 0.4481 - accuracy: 0.8470\n",
      "Epoch 21/100\n",
      "1875/1875 [==============================] - 6s 3ms/step - loss: 0.4617 - accuracy: 0.8428\n",
      "Epoch 22/100\n",
      "1875/1875 [==============================] - 6s 3ms/step - loss: 0.4538 - accuracy: 0.8461\n",
      "Epoch 23/100\n",
      "1875/1875 [==============================] - 6s 3ms/step - loss: 0.4619 - accuracy: 0.8433\n",
      "Epoch 24/100\n",
      "1875/1875 [==============================] - 6s 3ms/step - loss: 0.4611 - accuracy: 0.8450\n",
      "Epoch 25/100\n",
      "1875/1875 [==============================] - 9s 5ms/step - loss: 0.4570 - accuracy: 0.8443\n",
      "Epoch 26/100\n",
      "1875/1875 [==============================] - 10s 5ms/step - loss: 0.4563 - accuracy: 0.8466\n",
      "Epoch 27/100\n",
      "1875/1875 [==============================] - 5s 3ms/step - loss: 0.4462 - accuracy: 0.8486\n",
      "Epoch 28/100\n",
      "1875/1875 [==============================] - 7s 4ms/step - loss: 0.4511 - accuracy: 0.8479\n",
      "Epoch 29/100\n",
      "1875/1875 [==============================] - 9s 5ms/step - loss: 0.4520 - accuracy: 0.8472\n",
      "Epoch 30/100\n",
      "1875/1875 [==============================] - 11s 6ms/step - loss: 0.4366 - accuracy: 0.8510\n",
      "Epoch 31/100\n",
      "1875/1875 [==============================] - 9s 5ms/step - loss: 0.4343 - accuracy: 0.8512\n",
      "Epoch 32/100\n",
      "1875/1875 [==============================] - 10s 6ms/step - loss: 0.4494 - accuracy: 0.8482\n",
      "Epoch 33/100\n",
      "1875/1875 [==============================] - 8s 4ms/step - loss: 0.4596 - accuracy: 0.8431\n",
      "Epoch 34/100\n",
      "1875/1875 [==============================] - 8s 4ms/step - loss: 0.4468 - accuracy: 0.8482\n",
      "Epoch 35/100\n",
      "1875/1875 [==============================] - 8s 4ms/step - loss: 0.4363 - accuracy: 0.8500\n",
      "Epoch 36/100\n",
      "1875/1875 [==============================] - 7s 4ms/step - loss: 0.4606 - accuracy: 0.8461\n",
      "Epoch 37/100\n",
      "1875/1875 [==============================] - 8s 4ms/step - loss: 0.4325 - accuracy: 0.8511\n",
      "Epoch 38/100\n",
      "1875/1875 [==============================] - 9s 5ms/step - loss: 0.4399 - accuracy: 0.8508\n",
      "Epoch 39/100\n",
      "1875/1875 [==============================] - 10s 5ms/step - loss: 0.4436 - accuracy: 0.8484\n",
      "Epoch 40/100\n",
      "1875/1875 [==============================] - 8s 5ms/step - loss: 0.4360 - accuracy: 0.8512\n",
      "Epoch 41/100\n",
      "1875/1875 [==============================] - 10s 5ms/step - loss: 0.4363 - accuracy: 0.8510\n",
      "Epoch 42/100\n",
      "1875/1875 [==============================] - 8s 4ms/step - loss: 0.4347 - accuracy: 0.8532\n",
      "Epoch 43/100\n",
      "1875/1875 [==============================] - 11s 6ms/step - loss: 0.4416 - accuracy: 0.8508\n",
      "Epoch 44/100\n",
      "1875/1875 [==============================] - 12s 6ms/step - loss: 0.4386 - accuracy: 0.8492\n",
      "Epoch 45/100\n",
      "1875/1875 [==============================] - 12s 6ms/step - loss: 0.4352 - accuracy: 0.8499\n",
      "Epoch 46/100\n",
      "1875/1875 [==============================] - 9s 5ms/step - loss: 0.4382 - accuracy: 0.8517\n",
      "Epoch 47/100\n",
      "1875/1875 [==============================] - 10s 5ms/step - loss: 0.4526 - accuracy: 0.8434\n",
      "Epoch 48/100\n",
      "1875/1875 [==============================] - 11s 6ms/step - loss: 0.4375 - accuracy: 0.8504\n",
      "Epoch 49/100\n",
      "1875/1875 [==============================] - 11s 6ms/step - loss: 0.4392 - accuracy: 0.8524\n",
      "Epoch 50/100\n",
      "1875/1875 [==============================] - 10s 5ms/step - loss: 0.4273 - accuracy: 0.8541\n",
      "Epoch 51/100\n",
      "1875/1875 [==============================] - 10s 5ms/step - loss: 0.4306 - accuracy: 0.8516\n",
      "Epoch 52/100\n",
      "1875/1875 [==============================] - 11s 6ms/step - loss: 0.4337 - accuracy: 0.8517\n",
      "Epoch 53/100\n",
      "1875/1875 [==============================] - 10s 5ms/step - loss: 0.4314 - accuracy: 0.8520\n",
      "Epoch 54/100\n",
      "1875/1875 [==============================] - 10s 5ms/step - loss: 0.4370 - accuracy: 0.8526\n",
      "Epoch 55/100\n",
      "1875/1875 [==============================] - 9s 5ms/step - loss: 0.4326 - accuracy: 0.8529\n",
      "Epoch 56/100\n",
      "1875/1875 [==============================] - 9s 5ms/step - loss: 0.4362 - accuracy: 0.8503\n",
      "Epoch 57/100\n",
      "1875/1875 [==============================] - 8s 4ms/step - loss: 0.4347 - accuracy: 0.8526\n",
      "Epoch 58/100\n",
      "1875/1875 [==============================] - 9s 5ms/step - loss: 0.4371 - accuracy: 0.8504\n",
      "Epoch 59/100\n",
      "1875/1875 [==============================] - 9s 5ms/step - loss: 0.4481 - accuracy: 0.8513\n",
      "Epoch 60/100\n",
      "1875/1875 [==============================] - 9s 5ms/step - loss: 0.4319 - accuracy: 0.8533\n",
      "Epoch 61/100\n",
      "1875/1875 [==============================] - 9s 5ms/step - loss: 0.4317 - accuracy: 0.8528\n",
      "Epoch 62/100\n",
      "1875/1875 [==============================] - 9s 5ms/step - loss: 0.4435 - accuracy: 0.8480\n",
      "Epoch 63/100\n",
      "1875/1875 [==============================] - 8s 4ms/step - loss: 0.4295 - accuracy: 0.8540\n",
      "Epoch 64/100\n",
      "1875/1875 [==============================] - 9s 5ms/step - loss: 0.4278 - accuracy: 0.8543\n",
      "Epoch 65/100\n",
      "1875/1875 [==============================] - 8s 4ms/step - loss: 0.4245 - accuracy: 0.8541\n",
      "Epoch 66/100\n",
      "1875/1875 [==============================] - 8s 5ms/step - loss: 0.4436 - accuracy: 0.8518\n",
      "Epoch 67/100\n",
      "1875/1875 [==============================] - 9s 5ms/step - loss: 0.4281 - accuracy: 0.8526\n",
      "Epoch 68/100\n",
      "1875/1875 [==============================] - 8s 4ms/step - loss: 0.4249 - accuracy: 0.8539\n",
      "Epoch 69/100\n",
      "1875/1875 [==============================] - 8s 4ms/step - loss: 0.4376 - accuracy: 0.8488\n",
      "Epoch 70/100\n",
      "1875/1875 [==============================] - 8s 4ms/step - loss: 0.4303 - accuracy: 0.8539\n",
      "Epoch 71/100\n",
      "1875/1875 [==============================] - 8s 4ms/step - loss: 0.4308 - accuracy: 0.8539\n",
      "Epoch 72/100\n",
      "1875/1875 [==============================] - 8s 4ms/step - loss: 0.4287 - accuracy: 0.8545\n",
      "Epoch 73/100\n",
      "1875/1875 [==============================] - 8s 4ms/step - loss: 0.4329 - accuracy: 0.8530\n",
      "Epoch 74/100\n",
      "1875/1875 [==============================] - 8s 4ms/step - loss: 0.4204 - accuracy: 0.8551\n",
      "Epoch 75/100\n",
      "1875/1875 [==============================] - 7s 4ms/step - loss: 0.4305 - accuracy: 0.8535\n",
      "Epoch 76/100\n",
      "1875/1875 [==============================] - 7s 4ms/step - loss: 0.4187 - accuracy: 0.8564\n",
      "Epoch 77/100\n",
      "1875/1875 [==============================] - 7s 4ms/step - loss: 0.4397 - accuracy: 0.8526\n",
      "Epoch 78/100\n",
      "1875/1875 [==============================] - 7s 4ms/step - loss: 0.4320 - accuracy: 0.8547\n",
      "Epoch 79/100\n",
      "1875/1875 [==============================] - 8s 4ms/step - loss: 0.4216 - accuracy: 0.8554\n",
      "Epoch 80/100\n",
      "1875/1875 [==============================] - 7s 4ms/step - loss: 0.4236 - accuracy: 0.8540\n",
      "Epoch 81/100\n",
      "1875/1875 [==============================] - 8s 4ms/step - loss: 0.4192 - accuracy: 0.8556\n",
      "Epoch 82/100\n",
      "1875/1875 [==============================] - 7s 4ms/step - loss: 0.4337 - accuracy: 0.8528\n",
      "Epoch 83/100\n",
      "1875/1875 [==============================] - 7s 4ms/step - loss: 0.4214 - accuracy: 0.8569\n",
      "Epoch 84/100\n",
      "1875/1875 [==============================] - 8s 4ms/step - loss: 0.4288 - accuracy: 0.8544\n",
      "Epoch 85/100\n",
      "1875/1875 [==============================] - 8s 4ms/step - loss: 0.5365 - accuracy: 0.8251\n",
      "Epoch 86/100\n",
      "1875/1875 [==============================] - 8s 4ms/step - loss: 0.4497 - accuracy: 0.8411\n",
      "Epoch 87/100\n",
      "1875/1875 [==============================] - 8s 4ms/step - loss: 0.4199 - accuracy: 0.8568\n",
      "Epoch 88/100\n",
      "1875/1875 [==============================] - 10s 5ms/step - loss: 0.4195 - accuracy: 0.8567\n",
      "Epoch 89/100\n",
      "1875/1875 [==============================] - 9s 5ms/step - loss: 0.4369 - accuracy: 0.8531\n",
      "Epoch 90/100\n",
      "1875/1875 [==============================] - 7s 4ms/step - loss: 0.4247 - accuracy: 0.8557\n",
      "Epoch 91/100\n",
      "1875/1875 [==============================] - 9s 5ms/step - loss: 0.4253 - accuracy: 0.8548\n",
      "Epoch 92/100\n",
      "1875/1875 [==============================] - 9s 5ms/step - loss: 0.4304 - accuracy: 0.8554\n",
      "Epoch 93/100\n",
      "1875/1875 [==============================] - 8s 4ms/step - loss: 0.4322 - accuracy: 0.8559\n",
      "Epoch 94/100\n",
      "1875/1875 [==============================] - 8s 4ms/step - loss: 0.4187 - accuracy: 0.8555\n",
      "Epoch 95/100\n",
      "1875/1875 [==============================] - 8s 4ms/step - loss: 0.4434 - accuracy: 0.8489\n",
      "Epoch 96/100\n",
      "1875/1875 [==============================] - 8s 4ms/step - loss: 0.4338 - accuracy: 0.8525\n",
      "Epoch 97/100\n",
      "1875/1875 [==============================] - 8s 4ms/step - loss: 0.4226 - accuracy: 0.8554\n",
      "Epoch 98/100\n",
      "1875/1875 [==============================] - 8s 5ms/step - loss: 0.4272 - accuracy: 0.8558\n",
      "Epoch 99/100\n",
      "1875/1875 [==============================] - 7s 4ms/step - loss: 0.4418 - accuracy: 0.8525\n",
      "Epoch 100/100\n",
      "1875/1875 [==============================] - 8s 4ms/step - loss: 0.4222 - accuracy: 0.8555\n"
     ]
    },
    {
     "data": {
      "text/plain": "<keras.src.callbacks.History at 0x21933fb4430>"
     },
     "execution_count": 8,
     "metadata": {},
     "output_type": "execute_result"
    }
   ],
   "source": [
    "model.fit(X_train, y_train, epochs=100)"
   ],
   "metadata": {
    "collapsed": false,
    "ExecuteTime": {
     "end_time": "2023-10-13T08:06:36.109701500Z",
     "start_time": "2023-10-13T07:53:04.588498800Z"
    }
   },
   "id": "aacfe8672675ca83"
  },
  {
   "cell_type": "code",
   "execution_count": 9,
   "outputs": [
    {
     "name": "stderr",
     "output_type": "stream",
     "text": [
      "C:\\Users\\DELL\\AppData\\Roaming\\Python\\Python39\\site-packages\\keras\\src\\engine\\training.py:3000: UserWarning: You are saving your model as an HDF5 file via `model.save()`. This file format is considered legacy. We recommend using instead the native Keras format, e.g. `model.save('my_model.keras')`.\n",
      "  saving_api.save_model(\n"
     ]
    }
   ],
   "source": [
    "model.save('../Models/fashion_classifier.h5')"
   ],
   "metadata": {
    "collapsed": false,
    "ExecuteTime": {
     "end_time": "2023-10-13T08:08:50.305217300Z",
     "start_time": "2023-10-13T08:07:48.919089700Z"
    }
   },
   "id": "6da1ed5f317d99a4"
  },
  {
   "cell_type": "code",
   "execution_count": 13,
   "outputs": [
    {
     "data": {
      "text/plain": "<Figure size 1440x360 with 16 Axes>",
      "image/png": "[encoded data removed]"
     },
     "metadata": {},
     "output_type": "display_data"
    }
   ],
   "source": [
    "def show_img(X, y):\n",
    "    plt.figure(figsize=(20, 5))\n",
    "    for i in range(16):\n",
    "        plt.subplot(2, 8, i+1)\n",
    "        plt.xticks([])\n",
    "        plt.yticks([])\n",
    "        plt.grid(False)\n",
    "        plt.imshow(X[i])\n",
    "        plt.xlabel(class_names[y[i]], fontsize='18')\n",
    "    plt.show()\n",
    "show_img(X_train, y_train)"
   ],
   "metadata": {
    "collapsed": false,
    "ExecuteTime": {
     "end_time": "2023-10-13T08:13:03.249788600Z",
     "start_time": "2023-10-13T08:12:51.960684600Z"
    }
   },
   "id": "f2a9212df1743d55"
  },
  {
   "cell_type": "code",
   "execution_count": 39,
   "outputs": [
    {
     "name": "stdout",
     "output_type": "stream",
     "text": [
      "313/313 [==============================] - 1s 2ms/step\n"
     ]
    }
   ],
   "source": [
    "predict = model.predict(X_test)"
   ],
   "metadata": {
    "collapsed": false,
    "ExecuteTime": {
     "end_time": "2023-10-12T17:16:36.785663700Z",
     "start_time": "2023-10-12T17:16:36.002227200Z"
    }
   },
   "id": "cdf4f0dd4950eb81"
  },
  {
   "cell_type": "code",
   "execution_count": 40,
   "outputs": [],
   "source": [
    "predict = np.argmax(predict, axis=1)"
   ],
   "metadata": {
    "collapsed": false,
    "ExecuteTime": {
     "end_time": "2023-10-12T17:16:36.800663400Z",
     "start_time": "2023-10-12T17:16:36.786663200Z"
    }
   },
   "id": "699847bdb18aadf4"
  },
  {
   "cell_type": "code",
   "execution_count": 42,
   "outputs": [
    {
     "data": {
      "text/plain": "(10000,)"
     },
     "execution_count": 42,
     "metadata": {},
     "output_type": "execute_result"
    }
   ],
   "source": [],
   "metadata": {
    "collapsed": false,
    "ExecuteTime": {
     "end_time": "2023-10-12T17:16:43.720303400Z",
     "start_time": "2023-10-12T17:16:43.669145600Z"
    }
   },
   "id": "7d9f36fd3a38cebf"
  },
  {
   "cell_type": "code",
   "execution_count": 47,
   "outputs": [
    {
     "data": {
      "text/plain": "851"
     },
     "execution_count": 47,
     "metadata": {},
     "output_type": "execute_result"
    }
   ],
   "source": [],
   "metadata": {
    "collapsed": false,
    "ExecuteTime": {
     "end_time": "2023-10-12T17:17:43.633661400Z",
     "start_time": "2023-10-12T17:17:43.508484500Z"
    }
   },
   "id": "34cd95edb97a82a2"
  },
  {
   "cell_type": "code",
   "execution_count": null,
   "outputs": [],
   "source": [],
   "metadata": {
    "collapsed": false
   },
   "id": "22df3092c619600"
  }
 ],
 "metadata": {
  "kernelspec": {
   "display_name": "Python 3",
   "language": "python",
   "name": "python3"
  },
  "language_info": {
   "codemirror_mode": {
    "name": "ipython",
    "version": 2
   },
   "file_extension": ".py",
   "mimetype": "text/x-python",
   "name": "python",
   "nbconvert_exporter": "python",
   "pygments_lexer": "ipython2",
   "version": "2.7.6"
  }
 },
 "nbformat": 4,
 "nbformat_minor": 5
}
