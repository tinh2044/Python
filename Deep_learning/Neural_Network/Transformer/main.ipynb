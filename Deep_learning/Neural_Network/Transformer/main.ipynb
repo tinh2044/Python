{
 "cells": [
  {
   "cell_type": "markdown",
   "source": [
    "## Read file"
   ],
   "metadata": {
    "collapsed": false
   },
   "id": "759f50df42805b55"
  },
  {
   "cell_type": "code",
   "execution_count": 1,
   "id": "initial_id",
   "metadata": {
    "collapsed": true,
    "ExecuteTime": {
     "end_time": "2023-10-12T11:37:52.834460100Z",
     "start_time": "2023-10-12T11:37:52.827629300Z"
    }
   },
   "outputs": [],
   "source": [
    "with open('data.txt', 'r', encoding='utf-8') as file:\n",
    "    text = file.read()\n",
    "    "
   ]
  },
  {
   "cell_type": "code",
   "execution_count": 2,
   "outputs": [
    {
     "name": "stdout",
     "output_type": "stream",
     "text": [
      "Length of dataset of character : 1115394\n"
     ]
    }
   ],
   "source": [
    "print(f'Length of dataset of character : {len(text)}')"
   ],
   "metadata": {
    "collapsed": false,
    "ExecuteTime": {
     "end_time": "2023-10-12T11:38:16.079269400Z",
     "start_time": "2023-10-12T11:38:16.027600100Z"
    }
   },
   "id": "e7fa79fa48357cfd"
  },
  {
   "cell_type": "code",
   "execution_count": 4,
   "outputs": [
    {
     "name": "stdout",
     "output_type": "stream",
     "text": [
      "First Citizen:\n",
      "Before we proceed any further, hear me speak.\n",
      "\n",
      "All:\n",
      "Speak, speak.\n",
      "\n",
      "First Citizen:\n",
      "You are all resolved rather to die than to famish?\n",
      "\n",
      "All:\n",
      "Resolved. resolved.\n",
      "\n",
      "First Citizen:\n",
      "First, you know Caius Marcius is chief enemy to the people.\n",
      "\n",
      "All:\n",
      "We know't, we know't.\n",
      "\n",
      "First Citizen:\n",
      "Let us kill him, and we'll have corn at our own price.\n",
      "Is't a verdict?\n",
      "\n",
      "All:\n",
      "No more talking on't; let it be done: away, away!\n",
      "\n",
      "Second Citizen:\n",
      "One word, good citizens.\n",
      "\n",
      "First Citizen:\n",
      "We are accounted poor citizens, the patricians good.\n",
      "What authority surfeits on would relieve us: if they\n",
      "would yield us but the superfluity, while it were\n",
      "wholesome, we might guess they relieved us humanely;\n",
      "but they think we are too dear: the leanness that\n",
      "afflicts us, the object of our misery, is as an\n",
      "inventory to particularise their abundance; our\n",
      "sufferance is a gain to them Let us revenge this with\n",
      "our pikes, ere we become rakes: for the gods know I\n",
      "speak this in hunger for bread, not in thirst for revenge.\n"
     ]
    }
   ],
   "source": [
    "print(text[:1000])"
   ],
   "metadata": {
    "collapsed": false,
    "ExecuteTime": {
     "end_time": "2023-10-12T11:38:50.866440300Z",
     "start_time": "2023-10-12T11:38:50.850604300Z"
    }
   },
   "id": "51175bfdf8e5e75a"
  },
  {
   "cell_type": "code",
   "execution_count": 5,
   "outputs": [
    {
     "name": "stdout",
     "output_type": "stream",
     "text": [
      "Unique character in the text is : \n",
      " !$&',-.3:;?ABCDEFGHIJKLMNOPQRSTUVWXYZabcdefghijklmnopqrstuvwxyz\n",
      "Vocabulary size is : 65\n"
     ]
    }
   ],
   "source": [
    "# here are all the unique character that occur in the text\n",
    "chars = sorted(list(set(text)))\n",
    "vocab_size = len(chars)\n",
    "print(f'Unique character in the text is : {\"\".join(chars)}')\n",
    "print(f'Vocabulary size is : {vocab_size}')"
   ],
   "metadata": {
    "collapsed": false,
    "ExecuteTime": {
     "end_time": "2023-10-12T11:42:43.062321300Z",
     "start_time": "2023-10-12T11:42:43.038841200Z"
    }
   },
   "id": "30ba4d156133d697"
  },
  {
   "cell_type": "code",
   "execution_count": 13,
   "outputs": [
    {
     "name": "stdout",
     "output_type": "stream",
     "text": [
      "[35, 46, 39, 58, 1, 47, 57, 1, 63, 53, 59, 56, 1, 52, 39, 51, 43, 1, 12]\n",
      "What is your name ?\n"
     ]
    }
   ],
   "source": [
    "# create a mapping from character to integer\n",
    "s_toi = {ch:i for i, ch in enumerate(chars)}\n",
    "i_toi = {i:ch for i, ch in enumerate(chars)}\n",
    "encoded = lambda x: [s_toi[i] for i in x]\n",
    "decoded = lambda x: ''.join([i_toi[i] for i in x])\n",
    "encode = encoded('What is your name ?')\n",
    "print(encode)\n",
    "print(decode(encode))"
   ],
   "metadata": {
    "collapsed": false,
    "ExecuteTime": {
     "end_time": "2023-10-12T11:48:44.739730500Z",
     "start_time": "2023-10-12T11:48:44.713517700Z"
    }
   },
   "id": "4fd0213a222def2e"
  },
  {
   "cell_type": "code",
   "execution_count": 16,
   "outputs": [
    {
     "name": "stdout",
     "output_type": "stream",
     "text": [
      "[2061, 318, 534, 1438, 5633]\n",
      "What is your name ?\n"
     ]
    }
   ],
   "source": [
    "import tiktoken\n",
    "enc = tiktoken.get_encoding('gpt2')\n",
    "print(enc.encode('What is your name ?'))\n",
    "print(enc.decode(enc.encode('What is your name ?')))"
   ],
   "metadata": {
    "collapsed": false,
    "ExecuteTime": {
     "end_time": "2023-10-12T11:53:27.805236300Z",
     "start_time": "2023-10-12T11:53:27.783312100Z"
    }
   },
   "id": "7a96c316110d0ea"
  },
  {
   "cell_type": "markdown",
   "source": [
    "## Encoder by Pytorch"
   ],
   "metadata": {
    "collapsed": false
   },
   "id": "5de920c3a6a1de75"
  },
  {
   "cell_type": "code",
   "execution_count": 27,
   "outputs": [
    {
     "name": "stdout",
     "output_type": "stream",
     "text": [
      "torch.Size([1115394]) torch.int64\n"
     ]
    },
    {
     "ename": "KeyError",
     "evalue": "tensor(18)",
     "output_type": "error",
     "traceback": [
      "\u001B[1;31m---------------------------------------------------------------------------\u001B[0m",
      "\u001B[1;31mKeyError\u001B[0m                                  Traceback (most recent call last)",
      "Input \u001B[1;32mIn [27]\u001B[0m, in \u001B[0;36m<cell line: 4>\u001B[1;34m()\u001B[0m\n\u001B[0;32m      2\u001B[0m data \u001B[38;5;241m=\u001B[39m torch\u001B[38;5;241m.\u001B[39mtensor(encoded(text), dtype\u001B[38;5;241m=\u001B[39mtorch\u001B[38;5;241m.\u001B[39mlong)\n\u001B[0;32m      3\u001B[0m \u001B[38;5;28mprint\u001B[39m(data\u001B[38;5;241m.\u001B[39mshape, data\u001B[38;5;241m.\u001B[39mdtype)\n\u001B[1;32m----> 4\u001B[0m \u001B[38;5;28mprint\u001B[39m(\u001B[43mdecoded\u001B[49m\u001B[43m(\u001B[49m\u001B[43mdata\u001B[49m\u001B[43m[\u001B[49m\u001B[43m:\u001B[49m\u001B[38;5;241;43m1000\u001B[39;49m\u001B[43m]\u001B[49m\u001B[43m)\u001B[49m)\n",
      "Input \u001B[1;32mIn [13]\u001B[0m, in \u001B[0;36m<lambda>\u001B[1;34m(x)\u001B[0m\n\u001B[0;32m      3\u001B[0m i_toi \u001B[38;5;241m=\u001B[39m {i:ch \u001B[38;5;28;01mfor\u001B[39;00m i, ch \u001B[38;5;129;01min\u001B[39;00m \u001B[38;5;28menumerate\u001B[39m(chars)}\n\u001B[0;32m      4\u001B[0m encoded \u001B[38;5;241m=\u001B[39m \u001B[38;5;28;01mlambda\u001B[39;00m x: [s_toi[i] \u001B[38;5;28;01mfor\u001B[39;00m i \u001B[38;5;129;01min\u001B[39;00m x]\n\u001B[1;32m----> 5\u001B[0m decoded \u001B[38;5;241m=\u001B[39m \u001B[38;5;28;01mlambda\u001B[39;00m x: \u001B[38;5;124m'\u001B[39m\u001B[38;5;124m'\u001B[39m\u001B[38;5;241m.\u001B[39mjoin([i_toi[i] \u001B[38;5;28;01mfor\u001B[39;00m i \u001B[38;5;129;01min\u001B[39;00m x])\n\u001B[0;32m      6\u001B[0m encode \u001B[38;5;241m=\u001B[39m encoded(\u001B[38;5;124m'\u001B[39m\u001B[38;5;124mWhat is your name ?\u001B[39m\u001B[38;5;124m'\u001B[39m)\n\u001B[0;32m      7\u001B[0m \u001B[38;5;28mprint\u001B[39m(encode)\n",
      "Input \u001B[1;32mIn [13]\u001B[0m, in \u001B[0;36m<listcomp>\u001B[1;34m(.0)\u001B[0m\n\u001B[0;32m      3\u001B[0m i_toi \u001B[38;5;241m=\u001B[39m {i:ch \u001B[38;5;28;01mfor\u001B[39;00m i, ch \u001B[38;5;129;01min\u001B[39;00m \u001B[38;5;28menumerate\u001B[39m(chars)}\n\u001B[0;32m      4\u001B[0m encoded \u001B[38;5;241m=\u001B[39m \u001B[38;5;28;01mlambda\u001B[39;00m x: [s_toi[i] \u001B[38;5;28;01mfor\u001B[39;00m i \u001B[38;5;129;01min\u001B[39;00m x]\n\u001B[1;32m----> 5\u001B[0m decoded \u001B[38;5;241m=\u001B[39m \u001B[38;5;28;01mlambda\u001B[39;00m x: \u001B[38;5;124m'\u001B[39m\u001B[38;5;124m'\u001B[39m\u001B[38;5;241m.\u001B[39mjoin([\u001B[43mi_toi\u001B[49m\u001B[43m[\u001B[49m\u001B[43mi\u001B[49m\u001B[43m]\u001B[49m \u001B[38;5;28;01mfor\u001B[39;00m i \u001B[38;5;129;01min\u001B[39;00m x])\n\u001B[0;32m      6\u001B[0m encode \u001B[38;5;241m=\u001B[39m encoded(\u001B[38;5;124m'\u001B[39m\u001B[38;5;124mWhat is your name ?\u001B[39m\u001B[38;5;124m'\u001B[39m)\n\u001B[0;32m      7\u001B[0m \u001B[38;5;28mprint\u001B[39m(encode)\n",
      "\u001B[1;31mKeyError\u001B[0m: tensor(18)"
     ]
    }
   ],
   "source": [
    "import torch\n",
    "data = torch.tensor(encoded(text), dtype=torch.long)\n",
    "print(data.shape, data.dtype)\n",
    "print(decoded(data[:1000]))"
   ],
   "metadata": {
    "collapsed": false,
    "ExecuteTime": {
     "end_time": "2023-10-12T11:58:00.721806Z",
     "start_time": "2023-10-12T11:58:00.595657Z"
    }
   },
   "id": "92ad94b1c13a0fce"
  },
  {
   "cell_type": "markdown",
   "source": [
    "## Split up data into training and validation sets "
   ],
   "metadata": {
    "collapsed": false
   },
   "id": "de4e57bc0d7afed5"
  },
  {
   "cell_type": "code",
   "execution_count": 28,
   "outputs": [],
   "source": [
    "n = int(0.9*len(data))\n",
    "train_data = data[:n]\n",
    "val_data = data[n:]"
   ],
   "metadata": {
    "collapsed": false,
    "ExecuteTime": {
     "end_time": "2023-10-12T11:59:44.572476900Z",
     "start_time": "2023-10-12T11:59:44.550161200Z"
    }
   },
   "id": "50ea0779a90b6ca8"
  },
  {
   "cell_type": "code",
   "execution_count": 29,
   "outputs": [
    {
     "data": {
      "text/plain": "tensor([18, 47, 56, 57, 58,  1, 15, 47, 58])"
     },
     "execution_count": 29,
     "metadata": {},
     "output_type": "execute_result"
    }
   ],
   "source": [
    "block_size = 8\n",
    "train_data[:block_size+1]"
   ],
   "metadata": {
    "collapsed": false,
    "ExecuteTime": {
     "end_time": "2023-10-12T12:00:32.427678100Z",
     "start_time": "2023-10-12T12:00:32.397740Z"
    }
   },
   "id": "e989d088f5dc2784"
  },
  {
   "cell_type": "code",
   "execution_count": 32,
   "outputs": [
    {
     "name": "stdout",
     "output_type": "stream",
     "text": [
      "When input is tensor([18]) the target : 47\n",
      "When input is tensor([18, 47]) the target : 56\n",
      "When input is tensor([18, 47, 56]) the target : 57\n",
      "When input is tensor([18, 47, 56, 57]) the target : 58\n",
      "When input is tensor([18, 47, 56, 57, 58]) the target : 1\n",
      "When input is tensor([18, 47, 56, 57, 58,  1]) the target : 15\n",
      "When input is tensor([18, 47, 56, 57, 58,  1, 15]) the target : 47\n",
      "When input is tensor([18, 47, 56, 57, 58,  1, 15, 47]) the target : 58\n"
     ]
    }
   ],
   "source": [
    "x = train_data[:block_size]\n",
    "y = train_data[1:block_size+1]\n",
    "for i in range(block_size):\n",
    "    context = x[:i+1]\n",
    "    target = y[i]\n",
    "    print(f'When input is {context} the target : {target}')"
   ],
   "metadata": {
    "collapsed": false,
    "ExecuteTime": {
     "end_time": "2023-10-12T12:03:06.906064900Z",
     "start_time": "2023-10-12T12:03:06.883977300Z"
    }
   },
   "id": "98420532a01566c3"
  },
  {
   "cell_type": "code",
   "execution_count": null,
   "outputs": [],
   "source": [],
   "metadata": {
    "collapsed": false
   },
   "id": "d86e8629175070e9"
  }
 ],
 "metadata": {
  "kernelspec": {
   "display_name": "Python 3",
   "language": "python",
   "name": "python3"
  },
  "language_info": {
   "codemirror_mode": {
    "name": "ipython",
    "version": 2
   },
   "file_extension": ".py",
   "mimetype": "text/x-python",
   "name": "python",
   "nbconvert_exporter": "python",
   "pygments_lexer": "ipython2",
   "version": "2.7.6"
  }
 },
 "nbformat": 4,
 "nbformat_minor": 5
}
