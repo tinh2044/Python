{
 "cells": [
  {
   "cell_type": "code",
   "execution_count": 1,
   "outputs": [],
   "source": [
    "import torch\n",
    "import torch.nn as nn\n",
    "import numpy as np"
   ],
   "metadata": {
    "collapsed": false,
    "ExecuteTime": {
     "end_time": "2023-09-30T06:07:55.815025100Z",
     "start_time": "2023-09-30T06:07:52.077591100Z"
    }
   },
   "id": "14a18f76fa796267"
  },
  {
   "cell_type": "code",
   "execution_count": 7,
   "outputs": [
    {
     "name": "stdout",
     "output_type": "stream",
     "text": [
      "torch.Size([400, 100])\n",
      "torch.Size([400, 20])\n"
     ]
    }
   ],
   "source": [
    "model = nn.LSTMCell(20, 100)\n",
    "print(model.weight_hh.shape)\n",
    "print(model.weight_ih.shape)\n"
   ],
   "metadata": {
    "collapsed": false,
    "ExecuteTime": {
     "end_time": "2023-09-30T06:19:32.363315100Z",
     "start_time": "2023-09-30T06:19:32.343446600Z"
    }
   },
   "id": "3e33edf3b775d82f"
  },
  {
   "cell_type": "markdown",
   "source": [
    "## Single LSTM Cell"
   ],
   "metadata": {
    "collapsed": false
   },
   "id": "2b262e1758566cde"
  },
  {
   "cell_type": "code",
   "execution_count": 8,
   "outputs": [],
   "source": [
    "def sigmoid(x):\n",
    "    return 1/(1 + np.exp(-x))\n",
    "def d_sigmoid(x):\n",
    "    return x(1-x)"
   ],
   "metadata": {
    "collapsed": false,
    "ExecuteTime": {
     "end_time": "2023-09-30T06:21:00.335628100Z",
     "start_time": "2023-09-30T06:21:00.306030100Z"
    }
   },
   "id": "daaeba06b64c7421"
  },
  {
   "cell_type": "code",
   "execution_count": 9,
   "outputs": [],
   "source": [
    "def lstm_cell(x, h, c, W_hh, W_ih, b):\n",
    "    i, f, g, o = np.split(W_hh@h + W_ih@x +b, 4)\n",
    "    \n",
    "    i = sigmoid(i)\n",
    "    f = sigmoid(f)\n",
    "    g = np.tanh(g)\n",
    "    o = sigmoid(o)\n",
    "    \n",
    "    c_out = c*f + i*g\n",
    "    \n",
    "    h_out = o*np.tanh(c_out)\n",
    "    \n",
    "    return c_out, h_out"
   ],
   "metadata": {
    "collapsed": false,
    "ExecuteTime": {
     "end_time": "2023-09-30T06:25:37.607763500Z",
     "start_time": "2023-09-30T06:25:37.580784400Z"
    }
   },
   "id": "6ac4a1a74e42291c"
  },
  {
   "cell_type": "code",
   "execution_count": 10,
   "outputs": [],
   "source": [
    "x = np.random.rand(1, 20).astype(np.float32)\n",
    "h0 = np.random.rand(1, 100).astype(np.float32)\n",
    "c0 = np.random.rand(1, 100).astype(np.float32)\n",
    "h_, c_ = model(torch.tensor(x), (torch.tensor(h0), torch.tensor(c0)))"
   ],
   "metadata": {
    "collapsed": false,
    "ExecuteTime": {
     "end_time": "2023-09-30T06:29:36.513967500Z",
     "start_time": "2023-09-30T06:29:36.474498300Z"
    }
   },
   "id": "629d01352a5063ac"
  },
  {
   "cell_type": "code",
   "execution_count": 11,
   "outputs": [
    {
     "data": {
      "text/plain": "tensor([[ 0.1576, -0.0109,  0.1171,  0.0638,  0.1308,  0.2085,  0.3702,  0.0020,\n         -0.0698,  0.2960,  0.1900,  0.1479, -0.0194,  0.0731,  0.1043,  0.1071,\n         -0.1271,  0.2141,  0.1028,  0.0185,  0.2294,  0.2184,  0.3639,  0.0921,\n          0.2287,  0.1201,  0.0895,  0.1890,  0.1126,  0.0203,  0.1325,  0.0395,\n          0.2053,  0.0875,  0.1570,  0.0670,  0.1453,  0.3113,  0.1300,  0.1880,\n          0.0373,  0.1142,  0.0856,  0.1499,  0.0309,  0.3057,  0.0233,  0.3289,\n         -0.0351,  0.1259,  0.0449,  0.2045,  0.0639, -0.2273,  0.1091,  0.1424,\n          0.0020,  0.2393,  0.0215,  0.2840,  0.1802,  0.1193,  0.0864,  0.0991,\n          0.1599,  0.0118,  0.0568,  0.1122,  0.1571, -0.0366,  0.0255,  0.0812,\n          0.0690,  0.0397,  0.2775, -0.0086,  0.2862,  0.2812, -0.0237,  0.1018,\n          0.0895,  0.2997,  0.0964,  0.2079,  0.2130,  0.2223,  0.1098,  0.0741,\n          0.0147,  0.2978, -0.0133,  0.2398,  0.1449,  0.1129, -0.0280,  0.1447,\n          0.2700,  0.2616,  0.0230,  0.1530]], grad_fn=<MulBackward0>)"
     },
     "execution_count": 11,
     "metadata": {},
     "output_type": "execute_result"
    }
   ],
   "source": [
    "h_"
   ],
   "metadata": {
    "collapsed": false,
    "ExecuteTime": {
     "end_time": "2023-09-30T06:29:40.619506800Z",
     "start_time": "2023-09-30T06:29:40.557456700Z"
    }
   },
   "id": "ad6a6970e2d5d858"
  },
  {
   "cell_type": "code",
   "execution_count": 13,
   "outputs": [
    {
     "ename": "ValueError",
     "evalue": "matmul: Input operand 1 has a mismatch in its core dimension 0, with gufunc signature (n?,k),(k,m?)->(n?,m?) (size 1 is different from 100)",
     "output_type": "error",
     "traceback": [
      "\u001B[1;31m---------------------------------------------------------------------------\u001B[0m",
      "\u001B[1;31mValueError\u001B[0m                                Traceback (most recent call last)",
      "Input \u001B[1;32mIn [13]\u001B[0m, in \u001B[0;36m<cell line: 1>\u001B[1;34m()\u001B[0m\n\u001B[1;32m----> 1\u001B[0m h, c \u001B[38;5;241m=\u001B[39m \u001B[43mlstm_cell\u001B[49m\u001B[43m(\u001B[49m\u001B[43mx\u001B[49m\u001B[43m,\u001B[49m\u001B[43m \u001B[49m\u001B[43mh0\u001B[49m\u001B[43m,\u001B[49m\u001B[43m \u001B[49m\u001B[43mc0\u001B[49m\u001B[43m,\u001B[49m\u001B[43m \u001B[49m\u001B[43mmodel\u001B[49m\u001B[38;5;241;43m.\u001B[39;49m\u001B[43mweight_hh\u001B[49m\u001B[38;5;241;43m.\u001B[39;49m\u001B[43mdetach\u001B[49m\u001B[43m(\u001B[49m\u001B[43m)\u001B[49m\u001B[38;5;241;43m.\u001B[39;49m\u001B[43mnumpy\u001B[49m\u001B[43m(\u001B[49m\u001B[43m)\u001B[49m\u001B[43m,\u001B[49m\u001B[43m \u001B[49m\u001B[43mmodel\u001B[49m\u001B[38;5;241;43m.\u001B[39;49m\u001B[43mweight_ih\u001B[49m\u001B[38;5;241;43m.\u001B[39;49m\u001B[43mdetach\u001B[49m\u001B[43m(\u001B[49m\u001B[43m)\u001B[49m\u001B[38;5;241;43m.\u001B[39;49m\u001B[43mnumpy\u001B[49m\u001B[43m(\u001B[49m\u001B[43m)\u001B[49m\u001B[43m,\u001B[49m\u001B[43m \u001B[49m\u001B[43m(\u001B[49m\u001B[43mmodel\u001B[49m\u001B[38;5;241;43m.\u001B[39;49m\u001B[43mbias_hh\u001B[49m\u001B[38;5;241;43m+\u001B[39;49m\u001B[43mmodel\u001B[49m\u001B[38;5;241;43m.\u001B[39;49m\u001B[43mbias_ih\u001B[49m\u001B[43m)\u001B[49m\u001B[38;5;241;43m.\u001B[39;49m\u001B[43mdetach\u001B[49m\u001B[43m(\u001B[49m\u001B[43m)\u001B[49m\u001B[38;5;241;43m.\u001B[39;49m\u001B[43mnumpy\u001B[49m\u001B[43m(\u001B[49m\u001B[43m)\u001B[49m\u001B[43m)\u001B[49m\n",
      "Input \u001B[1;32mIn [9]\u001B[0m, in \u001B[0;36mlstm_cell\u001B[1;34m(x, h, c, W_hh, W_ih, b)\u001B[0m\n\u001B[0;32m      1\u001B[0m \u001B[38;5;28;01mdef\u001B[39;00m \u001B[38;5;21mlstm_cell\u001B[39m(x, h, c, W_hh, W_ih, b):\n\u001B[1;32m----> 2\u001B[0m     i, f, g, o \u001B[38;5;241m=\u001B[39m np\u001B[38;5;241m.\u001B[39msplit(\u001B[43mW_hh\u001B[49m\u001B[38;5;129;43m@h\u001B[39;49m \u001B[38;5;241m+\u001B[39m W_ih\u001B[38;5;129m@x\u001B[39m \u001B[38;5;241m+\u001B[39mb, \u001B[38;5;241m4\u001B[39m)\n\u001B[0;32m      4\u001B[0m     i \u001B[38;5;241m=\u001B[39m sigmoid(i)\n\u001B[0;32m      5\u001B[0m     f \u001B[38;5;241m=\u001B[39m sigmoid(f)\n",
      "\u001B[1;31mValueError\u001B[0m: matmul: Input operand 1 has a mismatch in its core dimension 0, with gufunc signature (n?,k),(k,m?)->(n?,m?) (size 1 is different from 100)"
     ]
    }
   ],
   "source": [
    "h, c = lstm_cell(x, h0, c0, model.weight_hh.detach().numpy(), model.weight_ih.detach().numpy(), (model.bias_hh+model.bias_ih).detach().numpy())"
   ],
   "metadata": {
    "collapsed": false,
    "ExecuteTime": {
     "end_time": "2023-09-30T06:31:41.928956Z",
     "start_time": "2023-09-30T06:31:41.873264500Z"
    }
   },
   "id": "68b296c58b097364"
  },
  {
   "cell_type": "code",
   "execution_count": null,
   "outputs": [],
   "source": [],
   "metadata": {
    "collapsed": false
   },
   "id": "dc862ac9eb76f83c"
  }
 ],
 "metadata": {
  "kernelspec": {
   "display_name": "Python 3",
   "language": "python",
   "name": "python3"
  },
  "language_info": {
   "codemirror_mode": {
    "name": "ipython",
    "version": 2
   },
   "file_extension": ".py",
   "mimetype": "text/x-python",
   "name": "python",
   "nbconvert_exporter": "python",
   "pygments_lexer": "ipython2",
   "version": "2.7.6"
  }
 },
 "nbformat": 4,
 "nbformat_minor": 5
}
