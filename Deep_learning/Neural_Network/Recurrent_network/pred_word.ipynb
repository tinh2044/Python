{
 "cells": [
  {
   "cell_type": "markdown",
   "source": [
    "# Using Recurrent Neural Network to Predict next word in Sequence"
   ],
   "metadata": {
    "collapsed": false
   },
   "id": "bd5776053ab5f889"
  },
  {
   "cell_type": "code",
   "execution_count": 195,
   "id": "initial_id",
   "metadata": {
    "collapsed": true,
    "ExecuteTime": {
     "end_time": "2023-09-29T17:23:54.315550100Z",
     "start_time": "2023-09-29T17:23:54.298259400Z"
    }
   },
   "outputs": [],
   "source": [
    "import numpy as np\n",
    "from keras.utils import to_categorical\n",
    "from keras.models import Sequential\n",
    "from keras.layers import Dense\n",
    "from keras.layers import LSTM\n",
    "from keras.layers import Embedding\n",
    "from keras.preprocessing.text import Tokenizer\n",
    "from keras.datasets import imdb"
   ]
  },
  {
   "cell_type": "code",
   "execution_count": 196,
   "outputs": [],
   "source": [
    "(X_train, y_train), (X_test, y_test) = imdb.load_data()"
   ],
   "metadata": {
    "collapsed": false,
    "ExecuteTime": {
     "end_time": "2023-09-29T17:23:59.152062500Z",
     "start_time": "2023-09-29T17:23:55.037631700Z"
    }
   },
   "id": "5752eece621b9657"
  },
  {
   "cell_type": "code",
   "execution_count": 197,
   "outputs": [],
   "source": [
    "word =imdb.get_word_index()\n",
    "word = dict(zip(word.values(), word.keys()))"
   ],
   "metadata": {
    "collapsed": false,
    "ExecuteTime": {
     "end_time": "2023-09-29T17:24:17.769605600Z",
     "start_time": "2023-09-29T17:24:17.687616300Z"
    }
   },
   "id": "5d2cf70a708cdd28"
  },
  {
   "cell_type": "code",
   "execution_count": 198,
   "outputs": [],
   "source": [
    "doc = []\n",
    "for x in X_train:\n",
    "    doc.extend(x)\n",
    "for x in X_test:\n",
    "    doc.extend(x)"
   ],
   "metadata": {
    "collapsed": false,
    "ExecuteTime": {
     "end_time": "2023-09-29T17:24:19.240618800Z",
     "start_time": "2023-09-29T17:24:18.446961600Z"
    }
   },
   "id": "c4114b755a5e76e7"
  },
  {
   "cell_type": "code",
   "execution_count": 199,
   "outputs": [],
   "source": [
    "seq = []\n",
    "for x in range(1,len(doc[:500])):\n",
    "    seq.append([doc[x-1:x+1]])"
   ],
   "metadata": {
    "collapsed": false,
    "ExecuteTime": {
     "end_time": "2023-09-29T17:24:23.553150200Z",
     "start_time": "2023-09-29T17:24:23.492683300Z"
    }
   },
   "id": "e15390c2b41fd9d0"
  },
  {
   "cell_type": "code",
   "execution_count": 200,
   "outputs": [],
   "source": [
    "seq = np.array(seq)\n",
    "seq = seq.reshape(-1, 2)\n",
    "X_t, y_t = seq.T"
   ],
   "metadata": {
    "collapsed": false,
    "ExecuteTime": {
     "end_time": "2023-09-29T17:24:24.478453100Z",
     "start_time": "2023-09-29T17:24:24.445097200Z"
    }
   },
   "id": "7bd57b22a151e818"
  },
  {
   "cell_type": "code",
   "execution_count": 191,
   "outputs": [
    {
     "data": {
      "text/plain": "46152"
     },
     "execution_count": 191,
     "metadata": {},
     "output_type": "execute_result"
    }
   ],
   "source": [
    "vocab_size = np.max(X_t) +1\n",
    "vocab_size"
   ],
   "metadata": {
    "collapsed": false,
    "ExecuteTime": {
     "end_time": "2023-09-29T17:23:20.274365800Z",
     "start_time": "2023-09-29T17:23:20.257476200Z"
    }
   },
   "id": "aedd5423f278558"
  },
  {
   "cell_type": "code",
   "execution_count": 201,
   "outputs": [
    {
     "data": {
      "text/plain": "(499, 499)"
     },
     "execution_count": 201,
     "metadata": {},
     "output_type": "execute_result"
    }
   ],
   "source": [
    "len(X_t), len(y_t)"
   ],
   "metadata": {
    "collapsed": false,
    "ExecuteTime": {
     "end_time": "2023-09-29T17:24:35.931262500Z",
     "start_time": "2023-09-29T17:24:35.884129800Z"
    }
   },
   "id": "6272995250d4f392"
  },
  {
   "cell_type": "code",
   "execution_count": 202,
   "outputs": [
    {
     "name": "stdout",
     "output_type": "stream",
     "text": [
      "as you with out themselves powerful lets loves their becomes reaching had journalist of lot from anyone to have after out atmosphere never more room titillate it so heart shows to years of every never going villaronga help moments or of every chest visual movie except her was several of enough more with is now current film as you of mine potentially unfortunately of you than him that with out themselves her get for was camp of you movie sometimes movie that with scary but pratfalls to story wonderful that in seeing in character to of 70s musicians with heart had shadows they of here that with her serious to have does when from why what have critics they is you that isn't one will very to as itself with other tricky in of seen over landed for anyone of gilmore's br show's to whether from than out themselves history he name half some br of 'n odd was two most of mean for 1 any an boat she he should is thought frog but of script you not while history he heart to real at barrel but when from one bit then have two of script their with her nobody most that with wasn't to with armed acting watch an for with heartfelt film want an the thought solid thought senator do making to is spot nomination assumed while he of jack in where picked as getting on was did hands fact characters to always life thrillers not as me can't in at are br of sure your way of little it strongly random to view of love it so principles of guy it used producer of where it of here icon film of outside to don't all unique some like of direction it if out her imagination below keep of queen he diverse to makes this stretch stefan of solid it thought begins br senator machinations budget worthwhile though ok brokedown awaiting for ever better were lugia diverse for budget look kicked any to of making it out bosworth's follows for effects show to show cast this family us scenes more it severe making senator to levant's finds tv tend to of emerged these thing wants but fuher an beckinsale cult as it is video do you david see scenery it in few those are of ship for with of wild to one is very work dark they don't do dvd with those them the as there in at by br of sure many br of proving no only women was than doesn't as you never of hat night that with ignored they bad out superman plays of how star so stories film comes defense date of wide they don't do that had with of hollywood br of my seeing fan this of pop out body shots in having because cause it's stick passing first were enjoys for from look seven sense from me superimposition die in character as cuban issues but is you that isn't one "
     ]
    }
   ],
   "source": [
    "for x in y_t:\n",
    "    print(word[x], end=' ')"
   ],
   "metadata": {
    "collapsed": false,
    "ExecuteTime": {
     "end_time": "2023-09-29T17:24:38.179271400Z",
     "start_time": "2023-09-29T17:24:38.151611900Z"
    }
   },
   "id": "8e831f65f60baa69"
  },
  {
   "cell_type": "code",
   "execution_count": 203,
   "outputs": [],
   "source": [
    "X_t = to_categorical(X_t, vocab_size)\n",
    "y_t = to_categorical(y_t, vocab_size)"
   ],
   "metadata": {
    "collapsed": false,
    "ExecuteTime": {
     "end_time": "2023-09-29T17:24:39.489668800Z",
     "start_time": "2023-09-29T17:24:39.476035100Z"
    }
   },
   "id": "b975a0142e29821a"
  },
  {
   "cell_type": "code",
   "execution_count": 204,
   "outputs": [],
   "source": [
    "model = Sequential()\n",
    "model.add(Embedding(vocab_size, 10,input_length=1))\n",
    "model.add(LSTM(50))\n",
    "model.add(Dense(vocab_size, activation='softmax'))"
   ],
   "metadata": {
    "collapsed": false,
    "ExecuteTime": {
     "end_time": "2023-09-29T17:24:59.272206300Z",
     "start_time": "2023-09-29T17:24:58.951463400Z"
    }
   },
   "id": "298ad9af5d95a956"
  },
  {
   "cell_type": "code",
   "execution_count": 205,
   "outputs": [
    {
     "name": "stdout",
     "output_type": "stream",
     "text": [
      "Model: \"sequential_15\"\n",
      "_________________________________________________________________\n",
      " Layer (type)                Output Shape              Param #   \n",
      "=================================================================\n",
      " embedding_11 (Embedding)    (None, 1, 10)             461520    \n",
      "                                                                 \n",
      " lstm_15 (LSTM)              (None, 50)                12200     \n",
      "                                                                 \n",
      " dense_15 (Dense)            (None, 46152)             2353752   \n",
      "                                                                 \n",
      "=================================================================\n",
      "Total params: 2827472 (10.79 MB)\n",
      "Trainable params: 2827472 (10.79 MB)\n",
      "Non-trainable params: 0 (0.00 Byte)\n",
      "_________________________________________________________________\n"
     ]
    }
   ],
   "source": [
    "model.summary()"
   ],
   "metadata": {
    "collapsed": false,
    "ExecuteTime": {
     "end_time": "2023-09-29T17:24:59.845332500Z",
     "start_time": "2023-09-29T17:24:59.810161500Z"
    }
   },
   "id": "e1641cac025cfee5"
  },
  {
   "cell_type": "code",
   "execution_count": 206,
   "outputs": [],
   "source": [
    "model.compile(loss='categorical_crossentropy',optimizer='adam', metrics=['accuracy'])"
   ],
   "metadata": {
    "collapsed": false,
    "ExecuteTime": {
     "end_time": "2023-09-29T17:25:02.576302500Z",
     "start_time": "2023-09-29T17:25:02.544190500Z"
    }
   },
   "id": "8f76ba229681bb7f"
  },
  {
   "cell_type": "code",
   "execution_count": null,
   "outputs": [
    {
     "name": "stdout",
     "output_type": "stream",
     "text": [
      "Epoch 1/100\n"
     ]
    }
   ],
   "source": [
    "model.fit(X_t, y_t, epochs=100)"
   ],
   "metadata": {
    "collapsed": false,
    "is_executing": true,
    "ExecuteTime": {
     "start_time": "2023-09-29T17:25:03.184688700Z"
    }
   },
   "id": "2a5cbc0a0dbec761"
  },
  {
   "cell_type": "code",
   "execution_count": 171,
   "outputs": [
    {
     "name": "stdout",
     "output_type": "stream",
     "text": [
      "1/1 [==============================] - 0s 406ms/step\n"
     ]
    },
    {
     "data": {
      "text/plain": "array([[nan]], dtype=float32)"
     },
     "execution_count": 171,
     "metadata": {},
     "output_type": "execute_result"
    }
   ],
   "source": [
    "model.predict([[12]])"
   ],
   "metadata": {
    "collapsed": false,
    "ExecuteTime": {
     "end_time": "2023-09-29T17:20:25.374850200Z",
     "start_time": "2023-09-29T17:20:24.871336100Z"
    }
   },
   "id": "9e653ee277c0247d"
  },
  {
   "cell_type": "code",
   "execution_count": 172,
   "outputs": [
    {
     "data": {
      "text/plain": "array([[  1],\n       [ 14],\n       [ 22],\n       ...,\n       [977],\n       [  8],\n       [ 30]])"
     },
     "execution_count": 172,
     "metadata": {},
     "output_type": "execute_result"
    }
   ],
   "source": [],
   "metadata": {
    "collapsed": false,
    "ExecuteTime": {
     "end_time": "2023-09-29T17:20:38.412364900Z",
     "start_time": "2023-09-29T17:20:38.374816800Z"
    }
   },
   "id": "3c5d8317c945a1e8"
  },
  {
   "cell_type": "code",
   "execution_count": null,
   "outputs": [],
   "source": [],
   "metadata": {
    "collapsed": false
   },
   "id": "5e7510c82e0735f7"
  }
 ],
 "metadata": {
  "kernelspec": {
   "display_name": "Python 3",
   "language": "python",
   "name": "python3"
  },
  "language_info": {
   "codemirror_mode": {
    "name": "ipython",
    "version": 2
   },
   "file_extension": ".py",
   "mimetype": "text/x-python",
   "name": "python",
   "nbconvert_exporter": "python",
   "pygments_lexer": "ipython2",
   "version": "2.7.6"
  }
 },
 "nbformat": 4,
 "nbformat_minor": 5
}
