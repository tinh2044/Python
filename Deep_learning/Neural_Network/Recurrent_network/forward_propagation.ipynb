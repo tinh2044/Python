{
 "cells": [
  {
   "cell_type": "code",
   "execution_count": 28,
   "id": "initial_id",
   "metadata": {
    "collapsed": true,
    "ExecuteTime": {
     "end_time": "2023-09-19T09:18:34.718507Z",
     "start_time": "2023-09-19T09:18:34.702557900Z"
    }
   },
   "outputs": [],
   "source": [
    "import numpy as np\n",
    "import pandas as pd"
   ]
  },
  {
   "cell_type": "code",
   "execution_count": 29,
   "outputs": [],
   "source": [
    "np.random.seed(0)"
   ],
   "metadata": {
    "collapsed": false,
    "ExecuteTime": {
     "end_time": "2023-09-19T09:18:35.103860Z",
     "start_time": "2023-09-19T09:18:35.085839900Z"
    }
   },
   "id": "c1f66670ca2be245"
  },
  {
   "cell_type": "code",
   "execution_count": 30,
   "outputs": [],
   "source": [
    "data = pd.read_csv('../data/clean_weather.csv')"
   ],
   "metadata": {
    "collapsed": false,
    "ExecuteTime": {
     "end_time": "2023-09-19T09:18:35.403384100Z",
     "start_time": "2023-09-19T09:18:35.366565400Z"
    }
   },
   "id": "eff0d82193db58c4"
  },
  {
   "cell_type": "code",
   "execution_count": 31,
   "outputs": [],
   "source": [
    "i_weight = np.random.rand(1,2)\n",
    "h_weight = np.random.rand(2,2)\n",
    "o_weight = np.random.rand(2,1)"
   ],
   "metadata": {
    "collapsed": false,
    "ExecuteTime": {
     "end_time": "2023-09-19T09:18:35.671484800Z",
     "start_time": "2023-09-19T09:18:35.646749200Z"
    }
   },
   "id": "a56647d65f24d75f"
  },
  {
   "cell_type": "code",
   "execution_count": 32,
   "outputs": [
    {
     "data": {
      "text/plain": "array([66., 70., 62.])"
     },
     "execution_count": 32,
     "metadata": {},
     "output_type": "execute_result"
    }
   ],
   "source": [
    "temps = data['tmax'].tail(3).to_numpy()\n",
    "temps"
   ],
   "metadata": {
    "collapsed": false,
    "ExecuteTime": {
     "end_time": "2023-09-19T09:18:36.325025400Z",
     "start_time": "2023-09-19T09:18:36.283548100Z"
    }
   },
   "id": "2c133330bc9ff45"
  },
  {
   "cell_type": "markdown",
   "source": [],
   "metadata": {
    "collapsed": false
   },
   "id": "1db8859effd6a416"
  },
  {
   "cell_type": "code",
   "execution_count": 33,
   "outputs": [],
   "source": [
    "x0 = temps[0].reshape(1,1)\n",
    "x1 = temps[1].reshape(1,1)\n",
    "x2 = temps[2].reshape(1,1)\n"
   ],
   "metadata": {
    "collapsed": false,
    "ExecuteTime": {
     "end_time": "2023-09-19T09:18:38.064649100Z",
     "start_time": "2023-09-19T09:18:38.053340Z"
    }
   },
   "id": "f341e066918c3051"
  },
  {
   "cell_type": "markdown",
   "source": [
    "## Forward at time 0"
   ],
   "metadata": {
    "collapsed": false
   },
   "id": "d795546549aec34f"
  },
  {
   "cell_type": "code",
   "execution_count": 34,
   "outputs": [
    {
     "data": {
      "text/plain": "array([[36.22169126, 47.20249818]])"
     },
     "execution_count": 34,
     "metadata": {},
     "output_type": "execute_result"
    }
   ],
   "source": [
    "xi_0 = x0 @ i_weight\n",
    "xi_0"
   ],
   "metadata": {
    "collapsed": false,
    "ExecuteTime": {
     "end_time": "2023-09-19T09:18:38.733111900Z",
     "start_time": "2023-09-19T09:18:38.719017500Z"
    }
   },
   "id": "f4a3041346438481"
  },
  {
   "cell_type": "code",
   "execution_count": 35,
   "outputs": [
    {
     "data": {
      "text/plain": "array([[36.22169126, 47.20249818]])"
     },
     "execution_count": 35,
     "metadata": {},
     "output_type": "execute_result"
    }
   ],
   "source": [
    "xh_0 = np.maximum(0, xi_0)\n",
    "xi_0"
   ],
   "metadata": {
    "collapsed": false,
    "ExecuteTime": {
     "end_time": "2023-09-19T09:18:39.091284800Z",
     "start_time": "2023-09-19T09:18:39.053512500Z"
    }
   },
   "id": "a9b493d454e931de"
  },
  {
   "cell_type": "code",
   "execution_count": 36,
   "outputs": [
    {
     "data": {
      "text/plain": "array([[57.94406231]])"
     },
     "execution_count": 36,
     "metadata": {},
     "output_type": "execute_result"
    }
   ],
   "source": [
    "xo_0 = xh_0 @ o_weight\n",
    "xo_0"
   ],
   "metadata": {
    "collapsed": false,
    "ExecuteTime": {
     "end_time": "2023-09-19T09:18:39.443866300Z",
     "start_time": "2023-09-19T09:18:39.417723600Z"
    }
   },
   "id": "dacabf4b94bfc71d"
  },
  {
   "cell_type": "markdown",
   "source": [
    "## Forward time 1"
   ],
   "metadata": {
    "collapsed": false
   },
   "id": "fce35d5c71519fd7"
  },
  {
   "cell_type": "code",
   "execution_count": 37,
   "outputs": [
    {
     "data": {
      "text/plain": "array([[128.37299954]])"
     },
     "execution_count": 37,
     "metadata": {},
     "output_type": "execute_result"
    }
   ],
   "source": [
    "xi_1 = x1 @ i_weight\n",
    "\n",
    "xh = xi_1 @ h_weight\n",
    "\n",
    "xh_1 = np.maximum(0, xh+xi_1)\n",
    "\n",
    "xo_1 = xh_1 @ o_weight\n",
    "xo_1"
   ],
   "metadata": {
    "collapsed": false,
    "ExecuteTime": {
     "end_time": "2023-09-19T09:18:40.151494900Z",
     "start_time": "2023-09-19T09:18:40.138539300Z"
    }
   },
   "id": "69e588dcf258a8bc"
  },
  {
   "cell_type": "markdown",
   "source": [
    "## Time step 2"
   ],
   "metadata": {
    "collapsed": false
   },
   "id": "b19ad7d4b1f2c7a5"
  },
  {
   "cell_type": "code",
   "execution_count": 38,
   "outputs": [
    {
     "data": {
      "text/plain": "array([[195.16665582]])"
     },
     "execution_count": 38,
     "metadata": {},
     "output_type": "execute_result"
    }
   ],
   "source": [
    "xi_2 = x2 @ i_weight\n",
    "xh = xh_1 @ h_weight\n",
    "xh_2 = np.maximum(xi_0, xh+xi_2)\n",
    "\n",
    "xo_2 = xh_2 @ o_weight\n",
    "xo_2"
   ],
   "metadata": {
    "collapsed": false,
    "ExecuteTime": {
     "end_time": "2023-09-19T09:18:41.006958800Z",
     "start_time": "2023-09-19T09:18:40.991905900Z"
    }
   },
   "id": "54d4f7a480018c1f"
  },
  {
   "cell_type": "markdown",
   "source": [
    "## Full Forward Step"
   ],
   "metadata": {
    "collapsed": false
   },
   "id": "537385be4ab228ac"
  },
  {
   "cell_type": "code",
   "execution_count": 46,
   "outputs": [],
   "source": [
    "np.random.seed(0)\n",
    "i_weight = np.random.rand(1, 5) / 5 - 0.1 \n",
    "h_weight = np.random.rand(5, 5) / 5 - 0.1 \n",
    "o_weight = np.random.rand(5, 1)  * 50\n",
    "\n",
    "h_bias = np.random.rand(1, 5) / 5 - 0.1\n",
    "o_bias = np.random.rand(1,1)"
   ],
   "metadata": {
    "collapsed": false,
    "ExecuteTime": {
     "end_time": "2023-09-19T09:20:52.181537200Z",
     "start_time": "2023-09-19T09:20:52.167695500Z"
    }
   },
   "id": "f7e790b4edc8ce71"
  },
  {
   "cell_type": "code",
   "execution_count": 47,
   "outputs": [
    {
     "data": {
      "text/plain": "array([66., 70., 62.])"
     },
     "execution_count": 47,
     "metadata": {},
     "output_type": "execute_result"
    }
   ],
   "source": [
    "outputs = np.zeros(3)\n",
    "hidden = np.zeros((3,5))\n",
    "sequence  = data['tmax'].tail(3).to_numpy()\n",
    "sequence"
   ],
   "metadata": {
    "collapsed": false,
    "ExecuteTime": {
     "end_time": "2023-09-19T09:20:52.473068500Z",
     "start_time": "2023-09-19T09:20:52.455119900Z"
    }
   },
   "id": "1eac8d3ea040d0a3"
  },
  {
   "cell_type": "code",
   "execution_count": 48,
   "outputs": [
    {
     "name": "stdout",
     "output_type": "stream",
     "text": [
      "[80.68122178 87.882189   85.74845223]\n"
     ]
    }
   ],
   "source": [
    "prev_hidden = None \n",
    "for i  in range(len(sequence)):\n",
    "    x = sequence[i].reshape(1, 1)\n",
    "    \n",
    "    xi = x @ i_weight\n",
    "    \n",
    "    if prev_hidden is None:\n",
    "        xh = xi\n",
    "    else :\n",
    "        xh = xi + prev_hidden @ h_weight + h_bias\n",
    "        \n",
    "    xh = np.tanh(xh)\n",
    "    prev_hidden = xh\n",
    "    hidden[i,] = xh\n",
    "    \n",
    "    xo = xh @ o_weight +o_bias\n",
    "    \n",
    "    outputs[i] = xo\n",
    "print(outputs)"
   ],
   "metadata": {
    "collapsed": false,
    "ExecuteTime": {
     "end_time": "2023-09-19T09:20:53.349688900Z",
     "start_time": "2023-09-19T09:20:53.325442100Z"
    }
   },
   "id": "e7954a83657229d7"
  },
  {
   "cell_type": "code",
   "execution_count": 49,
   "outputs": [
    {
     "data": {
      "text/plain": "array([[ 0.56784618,  0.99320288,  0.87557333,  0.53166114, -0.76483255],\n       [ 0.62831266,  0.99539815,  0.90626505,  0.73036504, -0.79820907],\n       [ 0.59019575,  0.99104942,  0.87265444,  0.70451068, -0.75540773]])"
     },
     "execution_count": 49,
     "metadata": {},
     "output_type": "execute_result"
    }
   ],
   "source": [
    "hidden"
   ],
   "metadata": {
    "collapsed": false,
    "ExecuteTime": {
     "end_time": "2023-09-19T09:20:55.327327100Z",
     "start_time": "2023-09-19T09:20:55.308841800Z"
    }
   },
   "id": "7414339a09731f4a"
  },
  {
   "cell_type": "markdown",
   "source": [
    "## Loss Function"
   ],
   "metadata": {
    "collapsed": false
   },
   "id": "59f893430d082ca0"
  },
  {
   "cell_type": "code",
   "execution_count": 16,
   "outputs": [],
   "source": [
    "# mean square error\n",
    "def mse(actual, predict):\n",
    "    return np.mean((predict - actual)**2)\n",
    "\n",
    "def mse_grad(actual, predict):\n",
    "    return predict - actual\n"
   ],
   "metadata": {
    "collapsed": false,
    "ExecuteTime": {
     "end_time": "2023-09-19T09:13:58.631761800Z",
     "start_time": "2023-09-19T09:13:58.576217200Z"
    }
   },
   "id": "7b29fd3ce25ff09"
  },
  {
   "cell_type": "code",
   "execution_count": 17,
   "outputs": [
    {
     "data": {
      "text/plain": "array([0.68122178, 0.882189  , 0.74845223])"
     },
     "execution_count": 17,
     "metadata": {},
     "output_type": "execute_result"
    }
   ],
   "source": [
    "actual = [80, 87, 85]\n",
    "loss = mse_grad(actual, outputs)\n",
    "loss"
   ],
   "metadata": {
    "collapsed": false,
    "ExecuteTime": {
     "end_time": "2023-09-19T09:13:58.635101600Z",
     "start_time": "2023-09-19T09:13:58.593210400Z"
    }
   },
   "id": "d002c510872de7ba"
  },
  {
   "cell_type": "markdown",
   "source": [
    "## Backward propagation"
   ],
   "metadata": {
    "collapsed": false
   },
   "id": "989602bafe1b581c"
  },
  {
   "cell_type": "code",
   "execution_count": 18,
   "outputs": [],
   "source": [
    "next_hidden = None\n",
    "loss_grad = mse_grad(actual, outputs)\n",
    "o_weight_grad, o_bias_grad, h_weight_grad, h_bias_grad, i_weight_grad = [0]*5\n",
    "\n",
    "for i in range(2, -1, -1):\n",
    "    l_grad = loss_grad[i].reshape(1, 1)\n",
    "    \n",
    "    o_weight_grad += hidden[i][:, np.newaxis ]@ l_grad\n",
    "    o_bias_grad += np.mean(l_grad)\n",
    "    \n",
    "    o_grad = l_grad @ o_weight.T\n",
    "    \n",
    "    if next_hidden is None:\n",
    "        h_grad = o_grad\n",
    "    else:\n",
    "        h_grad = o_grad +next_hidden @ h_weight.T\n",
    "        \n",
    "    tanh_dervi = 1 - hidden[i,:][np.newaxis, :]\n",
    "    \n",
    "    h_grad = np.multiply(h_grad, tanh_dervi)\n",
    "    \n",
    "    if i > 0 :\n",
    "        h_weight_grad += hidden[i-1, :][:, np.newaxis] @ h_grad\n",
    "        h_bias += np.mean(h_grad)\n",
    "    i_weight_grad += sequence[i].reshape(1, 1 ).T @ h_grad"
   ],
   "metadata": {
    "collapsed": false,
    "ExecuteTime": {
     "end_time": "2023-09-19T09:13:58.636169100Z",
     "start_time": "2023-09-19T09:13:58.612708500Z"
    }
   },
   "id": "33efdc2e15e32ef2"
  },
  {
   "cell_type": "code",
   "execution_count": 19,
   "outputs": [
    {
     "data": {
      "text/plain": "array([[ 812.17749263,   38.9100749 ,  394.38955612, 1461.43064731,\n         255.40151145]])"
     },
     "execution_count": 19,
     "metadata": {},
     "output_type": "execute_result"
    }
   ],
   "source": [
    "i_weight_grad"
   ],
   "metadata": {
    "collapsed": false,
    "ExecuteTime": {
     "end_time": "2023-09-19T09:13:58.661766200Z",
     "start_time": "2023-09-19T09:13:58.624912Z"
    }
   },
   "id": "b636bc8c5b40490"
  },
  {
   "cell_type": "code",
   "execution_count": 20,
   "outputs": [],
   "source": [
    "lr = 0.00001\n",
    "i_weight -= i_weight_grad*lr\n",
    "h_weight -= h_weight_grad*lr\n",
    "o_weight -= o_weight_grad*lr\n",
    "o_bias -= o_bias_grad*lr\n",
    "h_bias -= h_bias_grad*lr\n"
   ],
   "metadata": {
    "collapsed": false,
    "ExecuteTime": {
     "end_time": "2023-09-19T09:13:58.681567100Z",
     "start_time": "2023-09-19T09:13:58.644107300Z"
    }
   },
   "id": "21ace4c37e51016d"
  },
  {
   "cell_type": "code",
   "execution_count": 21,
   "outputs": [
    {
     "data": {
      "text/plain": "array([[ 0.00164093,  0.04264877,  0.01660878, -0.00563767, -0.01782306]])"
     },
     "execution_count": 21,
     "metadata": {},
     "output_type": "execute_result"
    }
   ],
   "source": [
    "i_weight"
   ],
   "metadata": {
    "collapsed": false,
    "ExecuteTime": {
     "end_time": "2023-09-19T09:13:58.682571100Z",
     "start_time": "2023-09-19T09:13:58.658837700Z"
    }
   },
   "id": "127523c91628b740"
  },
  {
   "cell_type": "code",
   "execution_count": 22,
   "outputs": [],
   "source": [
    "from sklearn.preprocessing import StandardScaler\n",
    "\n",
    "#Define predictors and target\n",
    "PREDICTORS = list(data.columns)[1:-1]\n",
    "TARGET = list(data.columns)[-1]\n",
    "\n",
    "#Scale data to have mean 0 \n",
    "scaler = StandardScaler()\n",
    "data[PREDICTORS] = scaler.fit_transform(data[PREDICTORS])"
   ],
   "metadata": {
    "collapsed": false,
    "ExecuteTime": {
     "end_time": "2023-09-19T09:13:59.462952600Z",
     "start_time": "2023-09-19T09:13:58.671078300Z"
    }
   },
   "id": "83524f9063a01132"
  },
  {
   "cell_type": "code",
   "execution_count": 22,
   "outputs": [],
   "source": [],
   "metadata": {
    "collapsed": false,
    "ExecuteTime": {
     "end_time": "2023-09-19T09:13:59.478619Z",
     "start_time": "2023-09-19T09:13:59.462952600Z"
    }
   },
   "id": "31e712951c8d193d"
  },
  {
   "cell_type": "code",
   "execution_count": 22,
   "outputs": [],
   "source": [],
   "metadata": {
    "collapsed": false,
    "ExecuteTime": {
     "end_time": "2023-09-19T09:13:59.499871300Z",
     "start_time": "2023-09-19T09:13:59.478619Z"
    }
   },
   "id": "3337d7dffb63f712"
  }
 ],
 "metadata": {
  "kernelspec": {
   "display_name": "Python 3",
   "language": "python",
   "name": "python3"
  },
  "language_info": {
   "codemirror_mode": {
    "name": "ipython",
    "version": 2
   },
   "file_extension": ".py",
   "mimetype": "text/x-python",
   "name": "python",
   "nbconvert_exporter": "python",
   "pygments_lexer": "ipython2",
   "version": "2.7.6"
  }
 },
 "nbformat": 4,
 "nbformat_minor": 5
}
